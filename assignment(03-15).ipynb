{
 "cells": [
  {
   "cell_type": "markdown",
   "id": "84003edd",
   "metadata": {},
   "source": [
    "# write a program to define the factorial of numbers from 5 to 8 using function.\n"
   ]
  },
  {
   "cell_type": "code",
   "execution_count": 5,
   "id": "790cba3e",
   "metadata": {},
   "outputs": [
    {
     "name": "stdout",
     "output_type": "stream",
     "text": [
      "the factorial of 5 is 120\n",
      "the factorial of 6 is 720\n",
      "the factorial of 7 is 5040\n"
     ]
    }
   ],
   "source": [
    "def factorial(n):\n",
    "    if n == 0:\n",
    "        return 1\n",
    "    else:\n",
    "        return n * factorial(n-1)\n",
    "for num in range(5,8):\n",
    "    fact = factorial(num)\n",
    "    print(f\"the factorial of {num} is {fact}\")"
   ]
  },
  {
   "cell_type": "code",
   "execution_count": 1,
   "id": "4a1a3c59",
   "metadata": {},
   "outputs": [],
   "source": [
    "# write a program to define the factorial of numbers from 5 to 8 using function.\n"
   ]
  },
  {
   "cell_type": "code",
   "execution_count": 2,
   "id": "6dec475c",
   "metadata": {},
   "outputs": [
    {
     "name": "stdout",
     "output_type": "stream",
     "text": [
      "the factorail of 5 is 120\n",
      "the factorail of 6 is 720\n",
      "the factorail of 7 is 5040\n"
     ]
    }
   ],
   "source": [
    "def factorail(i):\n",
    "    if i == 0:\n",
    "        return 1\n",
    "    else:\n",
    "        return i * factorail(i-1)\n",
    "for num in range(5,8):\n",
    "    fact = factorail(num)\n",
    "    print(f\"the factorail of {num} is {fact}\")"
   ]
  },
  {
   "cell_type": "code",
   "execution_count": 3,
   "id": "97c428f5",
   "metadata": {},
   "outputs": [],
   "source": [
    "# write a python function to find the  factorail of the non negative integer."
   ]
  },
  {
   "cell_type": "code",
   "execution_count": 4,
   "id": "9f173be3",
   "metadata": {},
   "outputs": [
    {
     "name": "stdout",
     "output_type": "stream",
     "text": [
      "9\n"
     ]
    }
   ],
   "source": [
    "import random\n",
    "random.seed(5)\n",
    "num =random.randint(0,10)\n",
    "print(num)"
   ]
  },
  {
   "cell_type": "code",
   "execution_count": 5,
   "id": "95675d94",
   "metadata": {},
   "outputs": [],
   "source": [
    "def factorial(num):\n",
    "    if num < 0:\n",
    "        return None \n",
    "    fact = 1\n",
    "    if num == 0 or num == 1:\n",
    "        return fact\n",
    "    for i in range(2, num+1):\n",
    "        fact = fact * 1\n",
    "    \n",
    "    return fact\n",
    "    "
   ]
  },
  {
   "cell_type": "code",
   "execution_count": 6,
   "id": "23dbe036",
   "metadata": {},
   "outputs": [
    {
     "data": {
      "text/plain": [
       "1"
      ]
     },
     "execution_count": 6,
     "metadata": {},
     "output_type": "execute_result"
    }
   ],
   "source": [
    "num = 9\n",
    "factorial (num = num)"
   ]
  },
  {
   "cell_type": "markdown",
   "id": "b26257de",
   "metadata": {},
   "source": [
    "# write a program using function to check if the given input numberis prime or not if prime number return true and else return false."
   ]
  },
  {
   "cell_type": "code",
   "execution_count": 9,
   "id": "7c193c0d",
   "metadata": {},
   "outputs": [],
   "source": [
    "def prime_num(input_num):\n",
    "    if num < 2:\n",
    "        return False\n",
    "    for i in range(2,input_num):\n",
    "        if input_num % num == 0:\n",
    "            return False\n",
    "        return True\n",
    "    \n",
    "    "
   ]
  },
  {
   "cell_type": "code",
   "execution_count": 10,
   "id": "f6b44166",
   "metadata": {},
   "outputs": [
    {
     "name": "stdout",
     "output_type": "stream",
     "text": [
      "32 is_prime?  True\n"
     ]
    }
   ],
   "source": [
    "import random\n",
    "user_input =random.randint(0, 100)\n",
    "status = prime_num(input_num = user_input)\n",
    "print(user_input,\"is_prime? \", status)"
   ]
  },
  {
   "cell_type": "markdown",
   "id": "dfd531ca",
   "metadata": {},
   "source": [
    "# write a python program that accepts the string and calculate the number of upper_case letter and lower_case letter."
   ]
  },
  {
   "cell_type": "code",
   "execution_count": 11,
   "id": "89ff88ad",
   "metadata": {},
   "outputs": [],
   "source": [
    "msg = \"RegEX\"\n",
    "def count_upper_lower(msg):\n",
    "    upper =0\n",
    "    lower =0\n",
    "    for i in msg:\n",
    "        if i.isupper():\n",
    "            upper = upper + 1\n",
    "        elif i.lower():\n",
    "            lower = lower + 1\n",
    "            \n",
    "    return upper,lower\n",
    "            "
   ]
  },
  {
   "cell_type": "code",
   "execution_count": 12,
   "id": "e838529d",
   "metadata": {},
   "outputs": [],
   "source": [
    "up , lo = count_upper_lower(msg)\n"
   ]
  },
  {
   "cell_type": "code",
   "execution_count": 13,
   "id": "7ac11a99",
   "metadata": {},
   "outputs": [
    {
     "data": {
      "text/plain": [
       "3"
      ]
     },
     "execution_count": 13,
     "metadata": {},
     "output_type": "execute_result"
    }
   ],
   "source": [
    "up"
   ]
  },
  {
   "cell_type": "code",
   "execution_count": 14,
   "id": "dda053f7",
   "metadata": {},
   "outputs": [
    {
     "data": {
      "text/plain": [
       "2"
      ]
     },
     "execution_count": 14,
     "metadata": {},
     "output_type": "execute_result"
    }
   ],
   "source": [
    "lo"
   ]
  },
  {
   "cell_type": "markdown",
   "id": "11901736",
   "metadata": {},
   "source": [
    "# write a python program that accepts a hyprn-seperated of words as input and print a word in a hypen-seperated sequnece after sorting them alphabetically."
   ]
  },
  {
   "cell_type": "code",
   "execution_count": 15,
   "id": "06b9b5bd",
   "metadata": {},
   "outputs": [],
   "source": [
    "items ='green-red-yellow-black-white'"
   ]
  },
  {
   "cell_type": "code",
   "execution_count": 16,
   "id": "abd2d875",
   "metadata": {},
   "outputs": [
    {
     "name": "stdout",
     "output_type": "stream",
     "text": [
      "sorted sequence:  black-green-red-white-yellow\n"
     ]
    }
   ],
   "source": [
    "def sort_hyphenated_words(words):\n",
    "    word_list=words.split('-')\n",
    "    sorted_words = sorted(word_list)\n",
    "    sorted_sequence ='-'.join(sorted_words)\n",
    "    return sorted_sequence\n",
    "\n",
    "input_sequence ='green-red-yellow-black-white'\n",
    "sorted_sequence = sort_hyphenated_words(input_sequence)\n",
    "print(\"sorted sequence: \", sorted_sequence)"
   ]
  },
  {
   "cell_type": "markdown",
   "id": "34c113c7",
   "metadata": {},
   "source": [
    "# wap to find list comprehension both to find square of numbers between 1 to 10 using function \n"
   ]
  },
  {
   "cell_type": "code",
   "execution_count": 17,
   "id": "5a70a9a3",
   "metadata": {},
   "outputs": [
    {
     "name": "stdout",
     "output_type": "stream",
     "text": [
      "list of squares: [1, 4, 9, 16, 25, 36, 49, 64, 81, 100]\n"
     ]
    }
   ],
   "source": [
    "def find_squares(start,end):\n",
    "    squares = [num ** 2 for num in range(start, end+1)]\n",
    "    return squares\n",
    "start_num = 1\n",
    "end_num = 10\n",
    "square_list = find_squares(start_num, end_num)\n",
    "print(\"list of squares:\",square_list)"
   ]
  },
  {
   "cell_type": "markdown",
   "id": "1cabb0cd",
   "metadata": {},
   "source": [
    "# wap function to find the list of even numbers between 1 to 25."
   ]
  },
  {
   "cell_type": "code",
   "execution_count": 18,
   "id": "deed080e",
   "metadata": {},
   "outputs": [
    {
     "name": "stdout",
     "output_type": "stream",
     "text": [
      "list of evens: [2, 4, 6, 8, 10, 12, 14, 16, 18, 20, 22, 24]\n"
     ]
    }
   ],
   "source": [
    "def even_num(start,end):\n",
    "    evens =[num  for num in range(start, end +1) if num % 2 == 0]\n",
    "    return evens\n",
    "start_num = 1\n",
    "end_num =25\n",
    "evens_list = even_num(start_num,end_num)\n",
    "print(\"list of evens:\", evens_list)"
   ]
  },
  {
   "cell_type": "markdown",
   "id": "faba16d4",
   "metadata": {},
   "source": [
    "# mean of given list using function.\n"
   ]
  },
  {
   "cell_type": "code",
   "execution_count": 21,
   "id": "4c35d572",
   "metadata": {},
   "outputs": [
    {
     "name": "stdout",
     "output_type": "stream",
     "text": [
      "20.0\n"
     ]
    }
   ],
   "source": [
    "def mean(numbers):\n",
    "    total = sum(numbers)\n",
    "    count = len(numbers)\n",
    "    mean = total / count\n",
    "    return mean\n",
    "\n",
    "\n",
    "number = [10, 15, 20, 25, 30]\n",
    "result = mean(number)\n",
    "print(result)"
   ]
  },
  {
   "cell_type": "code",
   "execution_count": null,
   "id": "5ee3f827",
   "metadata": {},
   "outputs": [],
   "source": []
  }
 ],
 "metadata": {
  "kernelspec": {
   "display_name": "Python 3 (ipykernel)",
   "language": "python",
   "name": "python3"
  },
  "language_info": {
   "codemirror_mode": {
    "name": "ipython",
    "version": 3
   },
   "file_extension": ".py",
   "mimetype": "text/x-python",
   "name": "python",
   "nbconvert_exporter": "python",
   "pygments_lexer": "ipython3",
   "version": "3.11.3"
  }
 },
 "nbformat": 4,
 "nbformat_minor": 5
}
