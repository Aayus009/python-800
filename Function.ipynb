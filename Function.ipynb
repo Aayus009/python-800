{
 "cells": [
  {
   "cell_type": "code",
   "execution_count": 1,
   "id": "ef79de49",
   "metadata": {},
   "outputs": [
    {
     "name": "stdout",
     "output_type": "stream",
     "text": [
      "14\n"
     ]
    }
   ],
   "source": [
    "a = 5 \n",
    "b = 9\n",
    "c = a + b\n",
    "print(c)"
   ]
  },
  {
   "cell_type": "code",
   "execution_count": 2,
   "id": "c67deb68",
   "metadata": {},
   "outputs": [],
   "source": [
    "def add_two_numbers():\n",
    "    a = 5\n",
    "    b = 9 \n",
    "    c = a + b\n",
    "    print(c)"
   ]
  },
  {
   "cell_type": "code",
   "execution_count": 3,
   "id": "ffb59233",
   "metadata": {},
   "outputs": [
    {
     "name": "stdout",
     "output_type": "stream",
     "text": [
      "14\n"
     ]
    }
   ],
   "source": [
    "add_two_numbers()"
   ]
  },
  {
   "cell_type": "code",
   "execution_count": 4,
   "id": "438a3673",
   "metadata": {},
   "outputs": [],
   "source": [
    "def add_two_numbers(a,b): # argumnents of a function \n",
    "    c = a + b\n",
    "    print(c)"
   ]
  },
  {
   "cell_type": "code",
   "execution_count": 5,
   "id": "4f899f00",
   "metadata": {},
   "outputs": [
    {
     "name": "stdout",
     "output_type": "stream",
     "text": [
      "16\n"
     ]
    }
   ],
   "source": [
    "add_two_numbers(a =9,b=7)"
   ]
  },
  {
   "cell_type": "code",
   "execution_count": 6,
   "id": "32dc877e",
   "metadata": {},
   "outputs": [
    {
     "name": "stdout",
     "output_type": "stream",
     "text": [
      "-86\n"
     ]
    }
   ],
   "source": [
    "add_two_numbers(a = 2, b = -88)"
   ]
  },
  {
   "cell_type": "code",
   "execution_count": 7,
   "id": "7115fbab",
   "metadata": {},
   "outputs": [],
   "source": [
    "#add_two_numbers(-88, 2)"
   ]
  },
  {
   "cell_type": "code",
   "execution_count": 8,
   "id": "24dad743",
   "metadata": {},
   "outputs": [],
   "source": [
    "def div(a ,b):\n",
    "    print(a/b)\n"
   ]
  },
  {
   "cell_type": "code",
   "execution_count": 9,
   "id": "36b2bdcd",
   "metadata": {},
   "outputs": [
    {
     "name": "stdout",
     "output_type": "stream",
     "text": [
      "4.0\n"
     ]
    }
   ],
   "source": [
    "div(8, 2)"
   ]
  },
  {
   "cell_type": "code",
   "execution_count": 10,
   "id": "b581299e",
   "metadata": {},
   "outputs": [
    {
     "name": "stdout",
     "output_type": "stream",
     "text": [
      "0.25\n"
     ]
    }
   ],
   "source": [
    "div(2 , 8)"
   ]
  },
  {
   "cell_type": "code",
   "execution_count": 11,
   "id": "cc9cb9ee",
   "metadata": {},
   "outputs": [
    {
     "name": "stdout",
     "output_type": "stream",
     "text": [
      "2.0\n"
     ]
    }
   ],
   "source": [
    "div(a =8, b =4)"
   ]
  },
  {
   "cell_type": "code",
   "execution_count": 12,
   "id": "b87aca8b",
   "metadata": {},
   "outputs": [],
   "source": [
    "def div(a,b):\n",
    "    print(a/b)"
   ]
  },
  {
   "cell_type": "code",
   "execution_count": 13,
   "id": "f6217042",
   "metadata": {},
   "outputs": [
    {
     "name": "stdout",
     "output_type": "stream",
     "text": [
      "2.0\n"
     ]
    }
   ],
   "source": [
    "x = 8\n",
    "y = 4\n",
    "output =div(a=x,b=y)"
   ]
  },
  {
   "cell_type": "code",
   "execution_count": 14,
   "id": "871f09af",
   "metadata": {},
   "outputs": [],
   "source": [
    "output"
   ]
  },
  {
   "cell_type": "code",
   "execution_count": 15,
   "id": "d647d8c4",
   "metadata": {},
   "outputs": [],
   "source": [
    "def div(a,b):\n",
    "    c = a/b\n",
    "    return c"
   ]
  },
  {
   "cell_type": "code",
   "execution_count": 16,
   "id": "ca5cc9a1",
   "metadata": {},
   "outputs": [
    {
     "data": {
      "text/plain": [
       "9.0"
      ]
     },
     "execution_count": 16,
     "metadata": {},
     "output_type": "execute_result"
    }
   ],
   "source": [
    "x = 8\n",
    "y = 4\n",
    "output =div(a =x , b=y)\n",
    "output + 7"
   ]
  },
  {
   "cell_type": "markdown",
   "id": "dfd3f2f6",
   "metadata": {},
   "source": [
    "# syntax\n",
    "``` python \n",
    "def function_name(arguments):\n",
    "    #function body\n",
    "        return expression\n",
    "```"
   ]
  },
  {
   "cell_type": "code",
   "execution_count": 23,
   "id": "3f4f73c7",
   "metadata": {},
   "outputs": [],
   "source": [
    "def greet(name,msg):\n",
    "    print(f\"Hi {name}, {msg}\")\n",
    "    "
   ]
  },
  {
   "cell_type": "code",
   "execution_count": 24,
   "id": "9f341eb8",
   "metadata": {},
   "outputs": [
    {
     "name": "stdout",
     "output_type": "stream",
     "text": [
      "Hi aayus, Good morning\n"
     ]
    }
   ],
   "source": [
    "greet(name=\"aayus\", msg =\"Good morning\")"
   ]
  },
  {
   "cell_type": "code",
   "execution_count": 25,
   "id": "97053b30",
   "metadata": {},
   "outputs": [
    {
     "name": "stdout",
     "output_type": "stream",
     "text": [
      "Hi champa, Good morning\n"
     ]
    }
   ],
   "source": [
    "greet(name =\"champa\", msg=\"Good morning\")"
   ]
  },
  {
   "cell_type": "markdown",
   "id": "768da7b5",
   "metadata": {},
   "source": [
    "# default argument"
   ]
  },
  {
   "cell_type": "code",
   "execution_count": 34,
   "id": "722f5179",
   "metadata": {},
   "outputs": [],
   "source": [
    "def greet(name,msg=\"good morning\"):\n",
    "    print(f\"hi {name},{msg}\")"
   ]
  },
  {
   "cell_type": "code",
   "execution_count": 35,
   "id": "ac2d6ea9",
   "metadata": {},
   "outputs": [
    {
     "name": "stdout",
     "output_type": "stream",
     "text": [
      "hi champa,good morning\n"
     ]
    }
   ],
   "source": [
    "greet(name=\"champa\")"
   ]
  },
  {
   "cell_type": "code",
   "execution_count": 36,
   "id": "20a8e1a4",
   "metadata": {},
   "outputs": [
    {
     "name": "stdout",
     "output_type": "stream",
     "text": [
      "hi Neta jeu,Good afternoon\n"
     ]
    }
   ],
   "source": [
    "greet(name=\"Neta jeu\", msg=\"Good afternoon\")"
   ]
  },
  {
   "cell_type": "markdown",
   "id": "580e27a3",
   "metadata": {},
   "source": [
    "# non default argument doesnot follows default argument \n",
    "* msg is a default argument.\n",
    "* name is non drfault argument."
   ]
  },
  {
   "cell_type": "code",
   "execution_count": 38,
   "id": "e53ce70c",
   "metadata": {},
   "outputs": [
    {
     "ename": "SyntaxError",
     "evalue": "non-default argument follows default argument (3429733501.py, line 1)",
     "output_type": "error",
     "traceback": [
      "\u001b[1;36m  Cell \u001b[1;32mIn[38], line 1\u001b[1;36m\u001b[0m\n\u001b[1;33m    def greet(msg=\"good morning\",name):# msg is a deafult argument.\u001b[0m\n\u001b[1;37m                                 ^\u001b[0m\n\u001b[1;31mSyntaxError\u001b[0m\u001b[1;31m:\u001b[0m non-default argument follows default argument\n"
     ]
    }
   ],
   "source": [
    "def greet(msg=\"good morning\",name):# msg is a deafult argument.\n",
    "    print(f\"hi {name},{msg}\")"
   ]
  },
  {
   "cell_type": "markdown",
   "id": "cc795e5d",
   "metadata": {},
   "source": [
    "# local and global variable "
   ]
  },
  {
   "cell_type": "code",
   "execution_count": 40,
   "id": "9ed8fb29",
   "metadata": {},
   "outputs": [],
   "source": [
    "x=\"yogesh\"\n",
    "def say():\n",
    "    x = \"baiguni-kto\"\n",
    "    print(f\"{x}\")"
   ]
  },
  {
   "cell_type": "code",
   "execution_count": 41,
   "id": "825bb7ef",
   "metadata": {},
   "outputs": [
    {
     "data": {
      "text/plain": [
       "'yogesh'"
      ]
     },
     "execution_count": 41,
     "metadata": {},
     "output_type": "execute_result"
    }
   ],
   "source": [
    "x"
   ]
  },
  {
   "cell_type": "code",
   "execution_count": 43,
   "id": "5c145d56",
   "metadata": {},
   "outputs": [
    {
     "name": "stdout",
     "output_type": "stream",
     "text": [
      "baiguni-kto\n"
     ]
    }
   ],
   "source": [
    "say()"
   ]
  },
  {
   "cell_type": "code",
   "execution_count": 46,
   "id": "a51cf944",
   "metadata": {},
   "outputs": [],
   "source": [
    "x=\"yogesh\"\n",
    "def say():\n",
    "    global x #converting local into global.\n",
    "    x = \"baiguni-kto\"\n",
    "    print(f\"{x}\")"
   ]
  },
  {
   "cell_type": "code",
   "execution_count": 47,
   "id": "90a41466",
   "metadata": {},
   "outputs": [
    {
     "data": {
      "text/plain": [
       "'yogesh'"
      ]
     },
     "execution_count": 47,
     "metadata": {},
     "output_type": "execute_result"
    }
   ],
   "source": [
    "x\n"
   ]
  },
  {
   "cell_type": "code",
   "execution_count": 48,
   "id": "89cbdd25",
   "metadata": {},
   "outputs": [
    {
     "name": "stdout",
     "output_type": "stream",
     "text": [
      "baiguni-kto\n"
     ]
    }
   ],
   "source": [
    "say()"
   ]
  },
  {
   "cell_type": "code",
   "execution_count": 49,
   "id": "257383ae",
   "metadata": {},
   "outputs": [
    {
     "data": {
      "text/plain": [
       "'baiguni-kto'"
      ]
     },
     "execution_count": 49,
     "metadata": {},
     "output_type": "execute_result"
    }
   ],
   "source": [
    "x"
   ]
  },
  {
   "cell_type": "code",
   "execution_count": 50,
   "id": "4fdd9f1c",
   "metadata": {},
   "outputs": [],
   "source": [
    "# write a program to define the factorial of numbers from 5 to 8 using function."
   ]
  },
  {
   "cell_type": "code",
   "execution_count": 51,
   "id": "dc83ac18",
   "metadata": {},
   "outputs": [],
   "source": [
    "# write a function to check if the given input number is prime or not if prime number return true and else return false."
   ]
  },
  {
   "cell_type": "code",
   "execution_count": null,
   "id": "89379e53",
   "metadata": {},
   "outputs": [],
   "source": []
  }
 ],
 "metadata": {
  "kernelspec": {
   "display_name": "Python 3 (ipykernel)",
   "language": "python",
   "name": "python3"
  },
  "language_info": {
   "codemirror_mode": {
    "name": "ipython",
    "version": 3
   },
   "file_extension": ".py",
   "mimetype": "text/x-python",
   "name": "python",
   "nbconvert_exporter": "python",
   "pygments_lexer": "ipython3",
   "version": "3.11.3"
  }
 },
 "nbformat": 4,
 "nbformat_minor": 5
}
