{
 "cells": [
  {
   "cell_type": "markdown",
   "id": "8aeb79b7",
   "metadata": {},
   "source": [
    "# *args\n",
    "* takes variable length input \n",
    "* if you do not lnow how many arguments that will be passed into your functiom,add a * before the paraneter name is the function defination.\n",
    "* the function will receive a tuple of the arguments and can access the items accordinglu usong variable."
   ]
  },
  {
   "cell_type": "code",
   "execution_count": 6,
   "id": "fe8d4b90",
   "metadata": {},
   "outputs": [],
   "source": [
    "def add(*args):\n",
    "    print(args, type(args))"
   ]
  },
  {
   "cell_type": "code",
   "execution_count": 7,
   "id": "9190d583",
   "metadata": {},
   "outputs": [
    {
     "name": "stdout",
     "output_type": "stream",
     "text": [
      "(1, 2, 3, 4, 5, 6, 7, 8, 9) <class 'tuple'>\n"
     ]
    }
   ],
   "source": [
    "add(1,2,3,4,5,6,7,8,9)"
   ]
  },
  {
   "cell_type": "code",
   "execution_count": 16,
   "id": "2bd94a5b",
   "metadata": {},
   "outputs": [],
   "source": [
    "def add(*args):\n",
    "    total = 0\n",
    "    for i in args:\n",
    "        total= total + i\n",
    "    return total"
   ]
  },
  {
   "cell_type": "code",
   "execution_count": 17,
   "id": "c7b8ee59",
   "metadata": {},
   "outputs": [
    {
     "data": {
      "text/plain": [
       "45"
      ]
     },
     "execution_count": 17,
     "metadata": {},
     "output_type": "execute_result"
    }
   ],
   "source": [
    "add(1,2,3,4,5,6,7,8,9)"
   ]
  },
  {
   "cell_type": "markdown",
   "id": "ffcdfd94",
   "metadata": {},
   "source": [
    "# **kwargs"
   ]
  },
  {
   "cell_type": "code",
   "execution_count": 18,
   "id": "398b3724",
   "metadata": {},
   "outputs": [],
   "source": [
    "def about(**kwargs):\n",
    "    print(kwargs,type(kwargs))"
   ]
  },
  {
   "cell_type": "code",
   "execution_count": 19,
   "id": "6659a298",
   "metadata": {},
   "outputs": [
    {
     "name": "stdout",
     "output_type": "stream",
     "text": [
      "{'first_name': 'aayus', 'last_name': 'gc', 'student': ['python', 'gjango']} <class 'dict'>\n"
     ]
    }
   ],
   "source": [
    "about(first_name=\"aayus\",last_name=\"gc\",student=['python','gjango'])"
   ]
  },
  {
   "cell_type": "markdown",
   "id": "45aa3116",
   "metadata": {},
   "source": [
    "# Return multiple values in function in tuples"
   ]
  },
  {
   "cell_type": "code",
   "execution_count": 24,
   "id": "726d6a7f",
   "metadata": {},
   "outputs": [],
   "source": [
    "import math"
   ]
  },
  {
   "cell_type": "code",
   "execution_count": 27,
   "id": "0f5e18e4",
   "metadata": {},
   "outputs": [],
   "source": [
    "def find_lcm_gcd(*args):\n",
    "    lcm = math.lcm(*args)\n",
    "    gcd= math.gcd(*args)\n",
    "    return lcm,gcd"
   ]
  },
  {
   "cell_type": "code",
   "execution_count": 28,
   "id": "00bbb4d5",
   "metadata": {},
   "outputs": [
    {
     "data": {
      "text/plain": [
       "(12, 2)"
      ]
     },
     "execution_count": 28,
     "metadata": {},
     "output_type": "execute_result"
    }
   ],
   "source": [
    "find_lcm_gcd(2,4,6)"
   ]
  },
  {
   "cell_type": "code",
   "execution_count": 29,
   "id": "7a2f3db9",
   "metadata": {},
   "outputs": [],
   "source": [
    "lcm, hcf = find_lcm_gcd(2,4,6)"
   ]
  },
  {
   "cell_type": "code",
   "execution_count": 32,
   "id": "7aee8d2c",
   "metadata": {},
   "outputs": [],
   "source": [
    "def find_lcm_hcf(num1, num2):\n",
    "    lcm = math.lcm(num1,num2)\n",
    "    hcf = math.gcd(num1,num2)\n",
    "    return lcm, hcf"
   ]
  },
  {
   "cell_type": "code",
   "execution_count": 33,
   "id": "6d5e0565",
   "metadata": {},
   "outputs": [
    {
     "data": {
      "text/plain": [
       "(15, 5)"
      ]
     },
     "execution_count": 33,
     "metadata": {},
     "output_type": "execute_result"
    }
   ],
   "source": [
    "find_lcm_hcf(5,15)"
   ]
  },
  {
   "cell_type": "code",
   "execution_count": 34,
   "id": "1270a55f",
   "metadata": {},
   "outputs": [
    {
     "data": {
      "text/plain": [
       "12"
      ]
     },
     "execution_count": 34,
     "metadata": {},
     "output_type": "execute_result"
    }
   ],
   "source": [
    "lcm\n"
   ]
  },
  {
   "cell_type": "code",
   "execution_count": 35,
   "id": "d32f4e18",
   "metadata": {},
   "outputs": [
    {
     "data": {
      "text/plain": [
       "2"
      ]
     },
     "execution_count": 35,
     "metadata": {},
     "output_type": "execute_result"
    }
   ],
   "source": [
    "hcf"
   ]
  },
  {
   "cell_type": "code",
   "execution_count": null,
   "id": "5bf6892e",
   "metadata": {},
   "outputs": [],
   "source": [
    "def febonacci(num):\n",
    "    list_feb=[]\n",
    "    for i in range(1,num)\n",
    "      if i ==1 or i==2:\n",
    "            list_feb.append()\n",
    "            \n",
    "            \n",
    "    "
   ]
  }
 ],
 "metadata": {
  "kernelspec": {
   "display_name": "Python 3 (ipykernel)",
   "language": "python",
   "name": "python3"
  },
  "language_info": {
   "codemirror_mode": {
    "name": "ipython",
    "version": 3
   },
   "file_extension": ".py",
   "mimetype": "text/x-python",
   "name": "python",
   "nbconvert_exporter": "python",
   "pygments_lexer": "ipython3",
   "version": "3.11.3"
  }
 },
 "nbformat": 4,
 "nbformat_minor": 5
}
