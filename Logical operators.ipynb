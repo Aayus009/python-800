{
 "cells": [
  {
   "cell_type": "code",
   "execution_count": 1,
   "id": "e0725368",
   "metadata": {},
   "outputs": [
    {
     "data": {
      "text/plain": [
       "True"
      ]
     },
     "execution_count": 1,
     "metadata": {},
     "output_type": "execute_result"
    }
   ],
   "source": [
    "True \n"
   ]
  },
  {
   "cell_type": "code",
   "execution_count": 2,
   "id": "bc306033",
   "metadata": {},
   "outputs": [
    {
     "data": {
      "text/plain": [
       "False"
      ]
     },
     "execution_count": 2,
     "metadata": {},
     "output_type": "execute_result"
    }
   ],
   "source": [
    "False"
   ]
  },
  {
   "cell_type": "markdown",
   "id": "5bda703b",
   "metadata": {},
   "source": [
    "# and, not, or are 3 logical operators in python."
   ]
  },
  {
   "cell_type": "code",
   "execution_count": 3,
   "id": "0a30a975",
   "metadata": {},
   "outputs": [
    {
     "data": {
      "text/plain": [
       "True"
      ]
     },
     "execution_count": 3,
     "metadata": {},
     "output_type": "execute_result"
    }
   ],
   "source": [
    "True and True"
   ]
  },
  {
   "cell_type": "code",
   "execution_count": 4,
   "id": "a92b4ff4",
   "metadata": {},
   "outputs": [
    {
     "data": {
      "text/plain": [
       "False"
      ]
     },
     "execution_count": 4,
     "metadata": {},
     "output_type": "execute_result"
    }
   ],
   "source": [
    "True and False"
   ]
  },
  {
   "cell_type": "code",
   "execution_count": 5,
   "id": "3b546980",
   "metadata": {},
   "outputs": [
    {
     "data": {
      "text/plain": [
       "False"
      ]
     },
     "execution_count": 5,
     "metadata": {},
     "output_type": "execute_result"
    }
   ],
   "source": [
    "False and False"
   ]
  },
  {
   "cell_type": "code",
   "execution_count": 6,
   "id": "fe8976da",
   "metadata": {},
   "outputs": [
    {
     "data": {
      "text/plain": [
       "False"
      ]
     },
     "execution_count": 6,
     "metadata": {},
     "output_type": "execute_result"
    }
   ],
   "source": [
    "False and True"
   ]
  },
  {
   "cell_type": "code",
   "execution_count": 7,
   "id": "e017f8a1",
   "metadata": {},
   "outputs": [],
   "source": [
    "# or operator"
   ]
  },
  {
   "cell_type": "code",
   "execution_count": 8,
   "id": "2fd4946b",
   "metadata": {},
   "outputs": [
    {
     "data": {
      "text/plain": [
       "True"
      ]
     },
     "execution_count": 8,
     "metadata": {},
     "output_type": "execute_result"
    }
   ],
   "source": [
    "True or True"
   ]
  },
  {
   "cell_type": "code",
   "execution_count": 9,
   "id": "34cf47ac",
   "metadata": {},
   "outputs": [
    {
     "data": {
      "text/plain": [
       "True"
      ]
     },
     "execution_count": 9,
     "metadata": {},
     "output_type": "execute_result"
    }
   ],
   "source": [
    "True or False#in or operator if there is any value true than it will be true."
   ]
  },
  {
   "cell_type": "code",
   "execution_count": 10,
   "id": "03beb2de",
   "metadata": {},
   "outputs": [
    {
     "data": {
      "text/plain": [
       "True"
      ]
     },
     "execution_count": 10,
     "metadata": {},
     "output_type": "execute_result"
    }
   ],
   "source": [
    "False or True "
   ]
  },
  {
   "cell_type": "code",
   "execution_count": 11,
   "id": "32160afb",
   "metadata": {},
   "outputs": [
    {
     "data": {
      "text/plain": [
       "False"
      ]
     },
     "execution_count": 11,
     "metadata": {},
     "output_type": "execute_result"
    }
   ],
   "source": [
    "False or False"
   ]
  },
  {
   "cell_type": "code",
   "execution_count": 12,
   "id": "93166561",
   "metadata": {},
   "outputs": [],
   "source": [
    "# not operator"
   ]
  },
  {
   "cell_type": "code",
   "execution_count": 13,
   "id": "7ec3080a",
   "metadata": {},
   "outputs": [
    {
     "data": {
      "text/plain": [
       "False"
      ]
     },
     "execution_count": 13,
     "metadata": {},
     "output_type": "execute_result"
    }
   ],
   "source": [
    "not True"
   ]
  },
  {
   "cell_type": "code",
   "execution_count": 14,
   "id": "7341a65a",
   "metadata": {},
   "outputs": [
    {
     "data": {
      "text/plain": [
       "True"
      ]
     },
     "execution_count": 14,
     "metadata": {},
     "output_type": "execute_result"
    }
   ],
   "source": [
    "not False"
   ]
  },
  {
   "cell_type": "code",
   "execution_count": 18,
   "id": "ed3ffaf1",
   "metadata": {},
   "outputs": [
    {
     "data": {
      "text/plain": [
       "False"
      ]
     },
     "execution_count": 18,
     "metadata": {},
     "output_type": "execute_result"
    }
   ],
   "source": [
    "5 % 2 == 0 and 3 % 3 == 0#False and True"
   ]
  },
  {
   "cell_type": "code",
   "execution_count": 20,
   "id": "7024ad22",
   "metadata": {},
   "outputs": [
    {
     "data": {
      "text/plain": [
       "True"
      ]
     },
     "execution_count": 20,
     "metadata": {},
     "output_type": "execute_result"
    }
   ],
   "source": [
    "10 % 10 == 0 and 10 % 2 == 0 #True and True."
   ]
  },
  {
   "cell_type": "markdown",
   "id": "284606c2",
   "metadata": {},
   "source": [
    "<img src=\"https://www.cdc.gov/healthyweight/images/assessing/bmi-adult-fb-600x315.jpg\">"
   ]
  },
  {
   "cell_type": "code",
   "execution_count": 27,
   "id": "b6cf1ebf",
   "metadata": {},
   "outputs": [
    {
     "name": "stdout",
     "output_type": "stream",
     "text": [
      "enter your weight: 58\n",
      "enter your height: 167\n",
      "Your BMI is: 20.796729893506402\n",
      "you are normal weight\n"
     ]
    }
   ],
   "source": [
    "weight_kg = float(input(\"enter your weight: \"))\n",
    "height_cm = float(input(\"enter your height: \"))\n",
    "height_m = height_cm/100\n",
    "BMI = weight_kg / height_m **2\n",
    "print(f\"Your BMI is: {BMI}\")\n",
    "if BMI < 18.5:\n",
    "    print(\"you are underweight\")\n",
    "elif BMI >=18.5 and BMI <=24.9:\n",
    "    print(\"you are normal weight\")\n",
    "elif BMI >=25 and BMI <=29.9:\n",
    "    print(\"you are over weight\")\n",
    "elif BMI == 30 or BMI > 30:\n",
    "    print(\"Your are obese\")"
   ]
  },
  {
   "cell_type": "code",
   "execution_count": null,
   "id": "e13d9dd2",
   "metadata": {},
   "outputs": [],
   "source": []
  }
 ],
 "metadata": {
  "kernelspec": {
   "display_name": "Python 3 (ipykernel)",
   "language": "python",
   "name": "python3"
  },
  "language_info": {
   "codemirror_mode": {
    "name": "ipython",
    "version": 3
   },
   "file_extension": ".py",
   "mimetype": "text/x-python",
   "name": "python",
   "nbconvert_exporter": "python",
   "pygments_lexer": "ipython3",
   "version": "3.11.3"
  }
 },
 "nbformat": 4,
 "nbformat_minor": 5
}
