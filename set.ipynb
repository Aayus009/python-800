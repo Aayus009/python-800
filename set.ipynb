{
 "cells": [
  {
   "cell_type": "markdown",
   "id": "a2aa90f3",
   "metadata": {},
   "source": [
    "# there are four bultin datatype in python :list,tuple,set,dictionary."
   ]
  },
  {
   "cell_type": "markdown",
   "id": "421e5c62",
   "metadata": {},
   "source": [
    "* colllection of item under one variable name \n",
    "* one of the 4 bult in datatype in python\n",
    "* written inside {} seperated by comma\n",
    "* dont allow multiple data type \n",
    "* dont allow duplicate \n",
    "* exactly like maths set"
   ]
  },
  {
   "cell_type": "code",
   "execution_count": 5,
   "id": "c2658573",
   "metadata": {},
   "outputs": [
    {
     "data": {
      "text/plain": [
       "{'Bhat', 'Dal', 'Ghue', 'Masu', 'Tarakari', 'kakro', 'saag'}"
      ]
     },
     "execution_count": 5,
     "metadata": {},
     "output_type": "execute_result"
    }
   ],
   "source": [
    "Thakali_set = {'Bhat', 'Masu','Tarakari','saag','kakro','Ghue','Dal'}\n",
    "Thakali_set"
   ]
  },
  {
   "cell_type": "code",
   "execution_count": 4,
   "id": "6b8c3a8a",
   "metadata": {},
   "outputs": [
    {
     "ename": "TypeError",
     "evalue": "'set' object is not subscriptable",
     "output_type": "error",
     "traceback": [
      "\u001b[1;31m---------------------------------------------------------------------------\u001b[0m",
      "\u001b[1;31mTypeError\u001b[0m                                 Traceback (most recent call last)",
      "Cell \u001b[1;32mIn[4], line 1\u001b[0m\n\u001b[1;32m----> 1\u001b[0m \u001b[43mThakali_set\u001b[49m\u001b[43m[\u001b[49m\u001b[38;5;241;43m0\u001b[39;49m\u001b[43m]\u001b[49m\u001b[38;5;66;03m#unindexed\u001b[39;00m\n",
      "\u001b[1;31mTypeError\u001b[0m: 'set' object is not subscriptable"
     ]
    }
   ],
   "source": [
    "Thakali_set[0]#unindexed"
   ]
  },
  {
   "cell_type": "markdown",
   "id": "b83e255c",
   "metadata": {},
   "source": [
    "# set is a mutable data type allows us to add and remove items"
   ]
  },
  {
   "cell_type": "code",
   "execution_count": 12,
   "id": "0de6c53f",
   "metadata": {},
   "outputs": [],
   "source": [
    "Thakali_set = {'Bhat', 'Masu','Tarakari','saag','kakro','Ghue','Dal'}\n",
    "Thakali_set.add('Dahi')"
   ]
  },
  {
   "cell_type": "code",
   "execution_count": 13,
   "id": "9ceed520",
   "metadata": {},
   "outputs": [
    {
     "data": {
      "text/plain": [
       "{'Bhat', 'Dahi', 'Dal', 'Ghue', 'Masu', 'Tarakari', 'kakro', 'saag'}"
      ]
     },
     "execution_count": 13,
     "metadata": {},
     "output_type": "execute_result"
    }
   ],
   "source": [
    "Thakali_set"
   ]
  },
  {
   "cell_type": "code",
   "execution_count": 15,
   "id": "716f558b",
   "metadata": {},
   "outputs": [
    {
     "data": {
      "text/plain": [
       "{'Bhat', 'Dahi', 'Dal', 'Ghue', 'Tarakari', 'kakro', 'saag'}"
      ]
     },
     "execution_count": 15,
     "metadata": {},
     "output_type": "execute_result"
    }
   ],
   "source": [
    "Thakali_set.remove('Masu')\n",
    "Thakali_set"
   ]
  },
  {
   "cell_type": "code",
   "execution_count": 16,
   "id": "d6b8477d",
   "metadata": {},
   "outputs": [
    {
     "ename": "KeyError",
     "evalue": "'paneer'",
     "output_type": "error",
     "traceback": [
      "\u001b[1;31m---------------------------------------------------------------------------\u001b[0m",
      "\u001b[1;31mKeyError\u001b[0m                                  Traceback (most recent call last)",
      "Cell \u001b[1;32mIn[16], line 1\u001b[0m\n\u001b[1;32m----> 1\u001b[0m \u001b[43mThakali_set\u001b[49m\u001b[38;5;241;43m.\u001b[39;49m\u001b[43mremove\u001b[49m\u001b[43m(\u001b[49m\u001b[38;5;124;43m'\u001b[39;49m\u001b[38;5;124;43mpaneer\u001b[39;49m\u001b[38;5;124;43m'\u001b[39;49m\u001b[43m)\u001b[49m\n\u001b[0;32m      2\u001b[0m Thakali_set\n",
      "\u001b[1;31mKeyError\u001b[0m: 'paneer'"
     ]
    }
   ],
   "source": [
    "Thakali_set.remove('paneer')\n",
    "Thakali_set"
   ]
  },
  {
   "cell_type": "code",
   "execution_count": 18,
   "id": "9346d9f5",
   "metadata": {},
   "outputs": [],
   "source": [
    "Thakali_set.discard('Paneer')"
   ]
  },
  {
   "cell_type": "code",
   "execution_count": 19,
   "id": "aa21368a",
   "metadata": {},
   "outputs": [],
   "source": [
    "# set operation: union(),intersection(),difference()"
   ]
  },
  {
   "cell_type": "code",
   "execution_count": 20,
   "id": "ca34712b",
   "metadata": {},
   "outputs": [],
   "source": [
    "A ={\"apple\",\"banana\",\"cherry\",}\n",
    "B ={\"google\",\"microsoft\",\"apple\"}"
   ]
  },
  {
   "cell_type": "code",
   "execution_count": 21,
   "id": "3570cfc9",
   "metadata": {},
   "outputs": [
    {
     "data": {
      "text/plain": [
       "{'apple', 'banana', 'cherry', 'google', 'microsoft'}"
      ]
     },
     "execution_count": 21,
     "metadata": {},
     "output_type": "execute_result"
    }
   ],
   "source": [
    "A.union(B)"
   ]
  },
  {
   "cell_type": "code",
   "execution_count": 22,
   "id": "becfabd9",
   "metadata": {},
   "outputs": [
    {
     "data": {
      "text/plain": [
       "{'apple'}"
      ]
     },
     "execution_count": 22,
     "metadata": {},
     "output_type": "execute_result"
    }
   ],
   "source": [
    "A.intersection(B)"
   ]
  },
  {
   "cell_type": "code",
   "execution_count": 23,
   "id": "ee1fb4f2",
   "metadata": {},
   "outputs": [
    {
     "data": {
      "text/plain": [
       "{'apple'}"
      ]
     },
     "execution_count": 23,
     "metadata": {},
     "output_type": "execute_result"
    }
   ],
   "source": [
    "B.intersection(A)"
   ]
  },
  {
   "cell_type": "code",
   "execution_count": 24,
   "id": "71c1c529",
   "metadata": {},
   "outputs": [
    {
     "data": {
      "text/plain": [
       "{'banana', 'cherry'}"
      ]
     },
     "execution_count": 24,
     "metadata": {},
     "output_type": "execute_result"
    }
   ],
   "source": [
    "A.difference(B)"
   ]
  },
  {
   "cell_type": "code",
   "execution_count": 25,
   "id": "7dbc523d",
   "metadata": {},
   "outputs": [
    {
     "data": {
      "text/plain": [
       "{'google', 'microsoft'}"
      ]
     },
     "execution_count": 25,
     "metadata": {},
     "output_type": "execute_result"
    }
   ],
   "source": [
    "B - A"
   ]
  },
  {
   "cell_type": "code",
   "execution_count": 26,
   "id": "f35c6afe",
   "metadata": {},
   "outputs": [
    {
     "data": {
      "text/plain": [
       "{'banana', 'cherry'}"
      ]
     },
     "execution_count": 26,
     "metadata": {},
     "output_type": "execute_result"
    }
   ],
   "source": [
    "A - B"
   ]
  },
  {
   "cell_type": "code",
   "execution_count": 27,
   "id": "fd223bfa",
   "metadata": {},
   "outputs": [
    {
     "name": "stdout",
     "output_type": "stream",
     "text": [
      "Ghue\n",
      "Bhat\n",
      "Dal\n",
      "saag\n",
      "Masu\n",
      "kakro\n",
      "Tarakari\n"
     ]
    }
   ],
   "source": [
    "Thakali_set = {'Bhat', 'Masu','Tarakari','saag','kakro','Ghue','Dal'}\n",
    "for item in Thakali_set:\n",
    "    print(item)"
   ]
  },
  {
   "cell_type": "markdown",
   "id": "9f231ce6",
   "metadata": {},
   "source": [
    "# Frozenset\n",
    "* imutable version of python set is frozenset"
   ]
  },
  {
   "cell_type": "code",
   "execution_count": 30,
   "id": "70c54466",
   "metadata": {},
   "outputs": [
    {
     "data": {
      "text/plain": [
       "frozenset"
      ]
     },
     "execution_count": 30,
     "metadata": {},
     "output_type": "execute_result"
    }
   ],
   "source": [
    "Thakali_set = {'Bhat', 'Masu','Tarakari','saag','kakro','Ghue','Dal'}\n",
    "Thakali_set =frozenset(Thakali_set)\n",
    "type(Thakali_set)"
   ]
  },
  {
   "cell_type": "code",
   "execution_count": 31,
   "id": "96fc9b91",
   "metadata": {},
   "outputs": [
    {
     "ename": "AttributeError",
     "evalue": "'frozenset' object has no attribute 'add'",
     "output_type": "error",
     "traceback": [
      "\u001b[1;31m---------------------------------------------------------------------------\u001b[0m",
      "\u001b[1;31mAttributeError\u001b[0m                            Traceback (most recent call last)",
      "Cell \u001b[1;32mIn[31], line 1\u001b[0m\n\u001b[1;32m----> 1\u001b[0m \u001b[43mThakali_set\u001b[49m\u001b[38;5;241;43m.\u001b[39;49m\u001b[43madd\u001b[49m(\u001b[38;5;124m'\u001b[39m\u001b[38;5;124mpaneer\u001b[39m\u001b[38;5;124m'\u001b[39m)\n",
      "\u001b[1;31mAttributeError\u001b[0m: 'frozenset' object has no attribute 'add'"
     ]
    }
   ],
   "source": [
    "Thakali_set.add('paneer')"
   ]
  },
  {
   "cell_type": "code",
   "execution_count": null,
   "id": "f68c56aa",
   "metadata": {},
   "outputs": [],
   "source": [
    "z"
   ]
  },
  {
   "cell_type": "code",
   "execution_count": null,
   "id": "e399017c",
   "metadata": {},
   "outputs": [],
   "source": []
  }
 ],
 "metadata": {
  "kernelspec": {
   "display_name": "Python 3 (ipykernel)",
   "language": "python",
   "name": "python3"
  },
  "language_info": {
   "codemirror_mode": {
    "name": "ipython",
    "version": 3
   },
   "file_extension": ".py",
   "mimetype": "text/x-python",
   "name": "python",
   "nbconvert_exporter": "python",
   "pygments_lexer": "ipython3",
   "version": "3.11.3"
  }
 },
 "nbformat": 4,
 "nbformat_minor": 5
}
