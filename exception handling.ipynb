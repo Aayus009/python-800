{
 "cells": [
  {
   "cell_type": "code",
   "execution_count": 1,
   "id": "152bc177",
   "metadata": {},
   "outputs": [
    {
     "name": "stdout",
     "output_type": "stream",
     "text": [
      "3.0\n"
     ]
    }
   ],
   "source": [
    "a = 15 \n",
    "b = 5\n",
    "c = a/b\n",
    "print(c)"
   ]
  },
  {
   "cell_type": "code",
   "execution_count": 2,
   "id": "37a99e32",
   "metadata": {},
   "outputs": [],
   "source": [
    "# when b =0\n"
   ]
  },
  {
   "cell_type": "code",
   "execution_count": 3,
   "id": "0de0bdfc",
   "metadata": {},
   "outputs": [
    {
     "ename": "ZeroDivisionError",
     "evalue": "division by zero",
     "output_type": "error",
     "traceback": [
      "\u001b[1;31m---------------------------------------------------------------------------\u001b[0m",
      "\u001b[1;31mZeroDivisionError\u001b[0m                         Traceback (most recent call last)",
      "Cell \u001b[1;32mIn[3], line 3\u001b[0m\n\u001b[0;32m      1\u001b[0m a \u001b[38;5;241m=\u001b[39m \u001b[38;5;241m15\u001b[39m \n\u001b[0;32m      2\u001b[0m b \u001b[38;5;241m=\u001b[39m \u001b[38;5;241m0\u001b[39m\n\u001b[1;32m----> 3\u001b[0m c \u001b[38;5;241m=\u001b[39m \u001b[43ma\u001b[49m\u001b[38;5;241;43m/\u001b[39;49m\u001b[43mb\u001b[49m\n\u001b[0;32m      4\u001b[0m \u001b[38;5;28mprint\u001b[39m(c)\n",
      "\u001b[1;31mZeroDivisionError\u001b[0m: division by zero"
     ]
    }
   ],
   "source": [
    "a = 15 \n",
    "b = 0\n",
    "c = a/b\n",
    "print(c)"
   ]
  },
  {
   "cell_type": "markdown",
   "id": "8c73741e",
   "metadata": {},
   "source": [
    "# Exception handling try: ...except: ..."
   ]
  },
  {
   "cell_type": "code",
   "execution_count": null,
   "id": "8fa81d77",
   "metadata": {},
   "outputs": [],
   "source": [
    "a = 15\n",
    "b = 0\n",
    "try:\n",
    "    c = a/b\n",
    "except ZeroDivisionError as e:\n",
    "    print(e)"
   ]
  },
  {
   "cell_type": "code",
   "execution_count": null,
   "id": "00376f91",
   "metadata": {},
   "outputs": [],
   "source": [
    "a = 15\n",
    "b = 0\n",
    "try:\n",
    "    c = a/b\n",
    "except ZeroDivisionError:\n",
    "    print(\"Divide by Zero\")"
   ]
  },
  {
   "cell_type": "code",
   "execution_count": null,
   "id": "1cd760d4",
   "metadata": {},
   "outputs": [],
   "source": [
    "a = 15\n",
    "b = 0\n",
    "try:\n",
    "    c = a/b\n",
    "except:\n",
    "    pass"
   ]
  },
  {
   "cell_type": "code",
   "execution_count": 4,
   "id": "a06cd07d",
   "metadata": {},
   "outputs": [
    {
     "name": "stdout",
     "output_type": "stream",
     "text": [
      "division by zero\n"
     ]
    }
   ],
   "source": [
    "a = 15\n",
    "b = 0\n",
    "try:\n",
    "    c = a/b\n",
    "except Exception as e:\n",
    "    print(e)"
   ]
  },
  {
   "cell_type": "code",
   "execution_count": 5,
   "id": "197266c5",
   "metadata": {},
   "outputs": [
    {
     "name": "stdout",
     "output_type": "stream",
     "text": [
      "enter a number: 5ajja\n",
      "invalid literal for int() with base 10: '5ajja'\n"
     ]
    }
   ],
   "source": [
    "try:\n",
    "    num =int(input(\"enter a number: \"))\n",
    "except ValueError as e:\n",
    "    print(e)\n"
   ]
  },
  {
   "cell_type": "code",
   "execution_count": 7,
   "id": "efd6a7e1",
   "metadata": {},
   "outputs": [
    {
     "name": "stdout",
     "output_type": "stream",
     "text": [
      "enter a number: 5\n",
      "enter a number: 0\n",
      "division by zero\n"
     ]
    }
   ],
   "source": [
    "try:\n",
    "    a =int(input(\"enter a number: \"))\n",
    "    b = int(input(\"enter a number: \"))\n",
    "    c = a/b\n",
    "except (ValueError, ZeroDivisionError) as e: # preferred way\n",
    "    print(e)"
   ]
  },
  {
   "cell_type": "code",
   "execution_count": 8,
   "id": "4e1c7c1b",
   "metadata": {},
   "outputs": [
    {
     "name": "stdout",
     "output_type": "stream",
     "text": [
      "enter a number: 5\n",
      "enter a number: 0\n",
      "division by zero\n"
     ]
    }
   ],
   "source": [
    "try:\n",
    "    a =int(input(\"enter a number: \"))\n",
    "    b = int(input(\"enter a number: \"))\n",
    "    c = a/b\n",
    "except Exception as e: # 2nd preferred way\n",
    "    print(e)"
   ]
  },
  {
   "cell_type": "code",
   "execution_count": 10,
   "id": "d53c2983",
   "metadata": {},
   "outputs": [
    {
     "name": "stdout",
     "output_type": "stream",
     "text": [
      "enter a number: 2 \n",
      "enter a number: 0\n"
     ]
    },
    {
     "ename": "ValueError",
     "evalue": "a ra b ko value number ma chainxa.",
     "output_type": "error",
     "traceback": [
      "\u001b[1;31m---------------------------------------------------------------------------\u001b[0m",
      "\u001b[1;31mZeroDivisionError\u001b[0m                         Traceback (most recent call last)",
      "Cell \u001b[1;32mIn[10], line 4\u001b[0m\n\u001b[0;32m      3\u001b[0m     b \u001b[38;5;241m=\u001b[39m \u001b[38;5;28mint\u001b[39m(\u001b[38;5;28minput\u001b[39m(\u001b[38;5;124m\"\u001b[39m\u001b[38;5;124menter a number: \u001b[39m\u001b[38;5;124m\"\u001b[39m))\n\u001b[1;32m----> 4\u001b[0m     c \u001b[38;5;241m=\u001b[39m \u001b[43ma\u001b[49m\u001b[38;5;241;43m/\u001b[39;49m\u001b[43mb\u001b[49m\n\u001b[0;32m      5\u001b[0m \u001b[38;5;28;01mexcept\u001b[39;00m (\u001b[38;5;167;01mValueError\u001b[39;00m, \u001b[38;5;167;01mZeroDivisionError\u001b[39;00m) \u001b[38;5;28;01mas\u001b[39;00m e: \u001b[38;5;66;03m# preferred way\u001b[39;00m\n",
      "\u001b[1;31mZeroDivisionError\u001b[0m: division by zero",
      "\nDuring handling of the above exception, another exception occurred:\n",
      "\u001b[1;31mValueError\u001b[0m                                Traceback (most recent call last)",
      "Cell \u001b[1;32mIn[10], line 6\u001b[0m\n\u001b[0;32m      4\u001b[0m     c \u001b[38;5;241m=\u001b[39m a\u001b[38;5;241m/\u001b[39mb\n\u001b[0;32m      5\u001b[0m \u001b[38;5;28;01mexcept\u001b[39;00m (\u001b[38;5;167;01mValueError\u001b[39;00m, \u001b[38;5;167;01mZeroDivisionError\u001b[39;00m) \u001b[38;5;28;01mas\u001b[39;00m e: \u001b[38;5;66;03m# preferred way\u001b[39;00m\n\u001b[1;32m----> 6\u001b[0m     \u001b[38;5;28;01mraise\u001b[39;00m \u001b[38;5;167;01mValueError\u001b[39;00m(\u001b[38;5;124m\"\u001b[39m\u001b[38;5;124ma ra b ko value number ma chainxa.\u001b[39m\u001b[38;5;124m\"\u001b[39m)\n\u001b[0;32m      8\u001b[0m \u001b[38;5;28;01mexcept\u001b[39;00m \u001b[38;5;167;01mZeroDivisionError\u001b[39;00m \u001b[38;5;28;01mas\u001b[39;00m e:    \n\u001b[0;32m      9\u001b[0m     \u001b[38;5;28;01mraise\u001b[39;00m \u001b[38;5;167;01mZeroDivisionError\u001b[39;00m(\u001b[38;5;124m\"\u001b[39m\u001b[38;5;124mb ko value zero hudaina.\u001b[39m\u001b[38;5;124m\"\u001b[39m)\n",
      "\u001b[1;31mValueError\u001b[0m: a ra b ko value number ma chainxa."
     ]
    }
   ],
   "source": [
    "try:\n",
    "    a =int(input(\"enter a number: \"))\n",
    "    b = int(input(\"enter a number: \"))\n",
    "    c = a/b\n",
    "except (ValueError, ZeroDivisionError) as e: # preferred way\n",
    "    raise ValueError(\"a ra b ko value number ma chainxa.\")\n",
    "    \n",
    "except ZeroDivisionError as e:    \n",
    "    raise ZeroDivisionError(\"b ko value zero hudaina.\")"
   ]
  },
  {
   "cell_type": "markdown",
   "id": "aa64cebf",
   "metadata": {},
   "source": [
    "# finally: always executed "
   ]
  },
  {
   "cell_type": "code",
   "execution_count": 12,
   "id": "384c4df0",
   "metadata": {},
   "outputs": [
    {
     "name": "stdout",
     "output_type": "stream",
     "text": [
      "division by zero\n",
      "This line is always executed no matter what. used to flush memory and close files\n"
     ]
    }
   ],
   "source": [
    "a = 5\n",
    "b = 0\n",
    "try:\n",
    "    c = a/b\n",
    "except Exception as e:\n",
    "    print(e) \n",
    "    \n",
    "finally:\n",
    "    print(\"This line is always executed no matter what. used to flush memory and close files\")"
   ]
  },
  {
   "cell_type": "code",
   "execution_count": null,
   "id": "3db4afa5",
   "metadata": {},
   "outputs": [],
   "source": []
  }
 ],
 "metadata": {
  "kernelspec": {
   "display_name": "Python 3 (ipykernel)",
   "language": "python",
   "name": "python3"
  },
  "language_info": {
   "codemirror_mode": {
    "name": "ipython",
    "version": 3
   },
   "file_extension": ".py",
   "mimetype": "text/x-python",
   "name": "python",
   "nbconvert_exporter": "python",
   "pygments_lexer": "ipython3",
   "version": "3.11.3"
  }
 },
 "nbformat": 4,
 "nbformat_minor": 5
}
