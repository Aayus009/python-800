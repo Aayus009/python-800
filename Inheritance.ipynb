{
 "cells": [
  {
   "cell_type": "markdown",
   "id": "02e39477",
   "metadata": {},
   "source": [
    "# Inheritance\n",
    "* single\n",
    "* Multiple\n",
    "* multilevel\n",
    "* hierarchial\n",
    "\n",
    "Note\n",
    "* subclass/parentclass/base class\n",
    "* sub class/child class/derrived class\n",
    "super() ko through parent class ko property and method child le tanxa."
   ]
  },
  {
   "cell_type": "markdown",
   "id": "ae040009",
   "metadata": {},
   "source": [
    "# single.\n",
    "* euta parent euta child"
   ]
  },
  {
   "cell_type": "code",
   "execution_count": 2,
   "id": "824d9a92",
   "metadata": {},
   "outputs": [],
   "source": [
    "class Computer:\n",
    "    def __init__ (self,model_name):\n",
    "        self.model_name= model_name\n",
    "        \n",
    "    def display_model_name(self):\n",
    "        print(f\"your model name is {self.model_name}\" )\n",
    "        "
   ]
  },
  {
   "cell_type": "code",
   "execution_count": 3,
   "id": "9f0cde30",
   "metadata": {},
   "outputs": [],
   "source": [
    "class Mobile:\n",
    "    def __init__ (self,has_flash):\n",
    "        self.has_flash=has_flash"
   ]
  },
  {
   "cell_type": "code",
   "execution_count": 4,
   "id": "4175bdce",
   "metadata": {},
   "outputs": [],
   "source": [
    "# lets do single inheritance mobile inherits property of computer"
   ]
  },
  {
   "cell_type": "code",
   "execution_count": 17,
   "id": "54925677",
   "metadata": {},
   "outputs": [],
   "source": [
    "class Computer:\n",
    "    def __init__ (self,model_name):\n",
    "        self.model_name= model_name\n",
    "        \n",
    "    def display_model_name(self):\n",
    "        print(f\"your model name is {self.model_name}\" )\n",
    "        \n",
    "        \n",
    "class Mobile(Computer):\n",
    "    def __init__ (self,has_flash,model_name):\n",
    "        self.has_flash=has_flash\n",
    "        super().__init__(model_name)\n",
    "        \n",
    "     # overriding the parent calss method : Pylomorphism   \n",
    "    def display_model_name(self):\n",
    "        print(f\"your mobile model name is {self.model_name}\")"
   ]
  },
  {
   "cell_type": "code",
   "execution_count": 18,
   "id": "aa86e495",
   "metadata": {},
   "outputs": [],
   "source": [
    "m1 = Mobile(has_flash =True, model_name =\"iPhone 14 pro-max\")"
   ]
  },
  {
   "cell_type": "code",
   "execution_count": 19,
   "id": "3a6939c6",
   "metadata": {},
   "outputs": [
    {
     "name": "stdout",
     "output_type": "stream",
     "text": [
      "your mobile model name is iPhone 14 pro-max\n"
     ]
    }
   ],
   "source": [
    "m1.display_model_name()"
   ]
  },
  {
   "cell_type": "markdown",
   "id": "27a73aa2",
   "metadata": {},
   "source": [
    "# Multiple\n",
    "* 2 - parent one child"
   ]
  },
  {
   "cell_type": "code",
   "execution_count": 28,
   "id": "5dfef05c",
   "metadata": {},
   "outputs": [],
   "source": [
    "class Father:\n",
    "    def __init__(self, fname):\n",
    "        self.fname = fname\n",
    "class Mother:\n",
    "    def __init__(self,mname):\n",
    "        self.mname = mname\n",
    "class child(Father, Mother):\n",
    "    def __init__(self, cname,fname,mname):\n",
    "        self.cname = cname\n",
    "        Father.__init__(self, fname)\n",
    "        Mother.__init__(self, mname)"
   ]
  },
  {
   "cell_type": "code",
   "execution_count": 29,
   "id": "1177cf55",
   "metadata": {},
   "outputs": [
    {
     "data": {
      "text/plain": [
       "'Ram'"
      ]
     },
     "execution_count": 29,
     "metadata": {},
     "output_type": "execute_result"
    }
   ],
   "source": [
    "c1 = child(cname =\"Love-Kush\", fname =\"Ram\", mname = \"Sita\")\n",
    "c1.fname\n"
   ]
  },
  {
   "cell_type": "code",
   "execution_count": 30,
   "id": "5c301312",
   "metadata": {},
   "outputs": [
    {
     "data": {
      "text/plain": [
       "'Sita'"
      ]
     },
     "execution_count": 30,
     "metadata": {},
     "output_type": "execute_result"
    }
   ],
   "source": [
    "c1.mname"
   ]
  },
  {
   "cell_type": "code",
   "execution_count": 31,
   "id": "8c46e036",
   "metadata": {},
   "outputs": [
    {
     "data": {
      "text/plain": [
       "'Love-Kush'"
      ]
     },
     "execution_count": 31,
     "metadata": {},
     "output_type": "execute_result"
    }
   ],
   "source": [
    "c1.cname"
   ]
  },
  {
   "cell_type": "markdown",
   "id": "83ccdaa0",
   "metadata": {},
   "source": [
    "# Multi-level inheritance"
   ]
  },
  {
   "cell_type": "code",
   "execution_count": 43,
   "id": "14a776de",
   "metadata": {},
   "outputs": [],
   "source": [
    "class Grandfather:\n",
    "    def __init__(self, gname):\n",
    "        self.gname=gname\n",
    "    \n",
    "    def g_say(self):\n",
    "        print(\"Nati or Natini\")\n",
    "        \n",
    "class Father(Grandfather):\n",
    "    def __init__(self, fname, gname):\n",
    "        self.fname=fname\n",
    "        Grandfather.__init__(self, gname)\n",
    "\n",
    "class Child(Father):\n",
    "    def __init__(self, cname, fname, gname):\n",
    "        self.cname=cname\n",
    "        Father.__init__(self, fname, gname)"
   ]
  },
  {
   "cell_type": "code",
   "execution_count": 44,
   "id": "aa3f7505",
   "metadata": {},
   "outputs": [
    {
     "name": "stdout",
     "output_type": "stream",
     "text": [
      "Nati or Natini\n"
     ]
    }
   ],
   "source": [
    "c1 = Child(cname =\"Love-Kush\", fname =\"Ram\", gname = \"Dasharath\")\n",
    "c1.g_say()\n"
   ]
  },
  {
   "cell_type": "code",
   "execution_count": null,
   "id": "1d945d23",
   "metadata": {},
   "outputs": [],
   "source": [
    "class Mammal:\n",
    "    def __init__(self,has_legs):\n",
    "        self.has_legs=\n",
    "        \n",
    "        \n",
    "    "
   ]
  }
 ],
 "metadata": {
  "kernelspec": {
   "display_name": "Python 3 (ipykernel)",
   "language": "python",
   "name": "python3"
  },
  "language_info": {
   "codemirror_mode": {
    "name": "ipython",
    "version": 3
   },
   "file_extension": ".py",
   "mimetype": "text/x-python",
   "name": "python",
   "nbconvert_exporter": "python",
   "pygments_lexer": "ipython3",
   "version": "3.11.3"
  }
 },
 "nbformat": 4,
 "nbformat_minor": 5
}
