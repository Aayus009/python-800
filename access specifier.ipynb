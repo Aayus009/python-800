{
 "cells": [
  {
   "cell_type": "markdown",
   "id": "30443b66",
   "metadata": {},
   "source": [
    "# Are access specifiers used in python? ---No but has concept of limiting behaviours if variables: private attribute are not inherited"
   ]
  },
  {
   "cell_type": "code",
   "execution_count": 5,
   "id": "8ba0d8a7",
   "metadata": {},
   "outputs": [],
   "source": [
    "class Instructor:\n",
    "     \n",
    "        #public\n",
    "        name ='Kshitiz'\n",
    "        \n",
    "        # single _ before variable name representes protected\n",
    "        _teaches = ['Python', 'Ai', 'Data science']\n",
    "        \n",
    "        #double underscore before variables name/ function is private\n",
    "        __age= 26"
   ]
  },
  {
   "cell_type": "code",
   "execution_count": 6,
   "id": "6b0cf175",
   "metadata": {},
   "outputs": [],
   "source": [
    "obj = Instructor()"
   ]
  },
  {
   "cell_type": "code",
   "execution_count": 7,
   "id": "774035d1",
   "metadata": {},
   "outputs": [
    {
     "data": {
      "text/plain": [
       "'Kshitiz'"
      ]
     },
     "execution_count": 7,
     "metadata": {},
     "output_type": "execute_result"
    }
   ],
   "source": [
    "obj.name"
   ]
  },
  {
   "cell_type": "code",
   "execution_count": 8,
   "id": "527315ed",
   "metadata": {},
   "outputs": [
    {
     "data": {
      "text/plain": [
       "['Python', 'Ai', 'Data science']"
      ]
     },
     "execution_count": 8,
     "metadata": {},
     "output_type": "execute_result"
    }
   ],
   "source": [
    "obj._teaches"
   ]
  },
  {
   "cell_type": "code",
   "execution_count": 10,
   "id": "20c53a15",
   "metadata": {},
   "outputs": [
    {
     "ename": "AttributeError",
     "evalue": "'Instructor' object has no attribute '__age'",
     "output_type": "error",
     "traceback": [
      "\u001b[1;31m---------------------------------------------------------------------------\u001b[0m",
      "\u001b[1;31mAttributeError\u001b[0m                            Traceback (most recent call last)",
      "Cell \u001b[1;32mIn[10], line 1\u001b[0m\n\u001b[1;32m----> 1\u001b[0m \u001b[43mobj\u001b[49m\u001b[38;5;241;43m.\u001b[39;49m\u001b[43m__age\u001b[49m\n",
      "\u001b[1;31mAttributeError\u001b[0m: 'Instructor' object has no attribute '__age'"
     ]
    }
   ],
   "source": [
    "obj.__age"
   ]
  },
  {
   "cell_type": "code",
   "execution_count": null,
   "id": "83d5da07",
   "metadata": {},
   "outputs": [],
   "source": []
  }
 ],
 "metadata": {
  "kernelspec": {
   "display_name": "Python 3 (ipykernel)",
   "language": "python",
   "name": "python3"
  },
  "language_info": {
   "codemirror_mode": {
    "name": "ipython",
    "version": 3
   },
   "file_extension": ".py",
   "mimetype": "text/x-python",
   "name": "python",
   "nbconvert_exporter": "python",
   "pygments_lexer": "ipython3",
   "version": "3.11.3"
  }
 },
 "nbformat": 4,
 "nbformat_minor": 5
}
