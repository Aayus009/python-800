{
 "cells": [
  {
   "cell_type": "markdown",
   "id": "1261a6c5",
   "metadata": {},
   "source": [
    "# Dictionary"
   ]
  },
  {
   "cell_type": "markdown",
   "id": "da78e7fa",
   "metadata": {},
   "source": [
    "* mapping data type\n",
    "* key: value pair\n",
    "* written in `{}` each `key : value` is  seperated by comma\n",
    "* key cannot be duplicated"
   ]
  },
  {
   "cell_type": "code",
   "execution_count": 2,
   "id": "45cee73a",
   "metadata": {},
   "outputs": [],
   "source": [
    "# eg. creating empty dictionary"
   ]
  },
  {
   "cell_type": "code",
   "execution_count": 3,
   "id": "fde017b8",
   "metadata": {},
   "outputs": [],
   "source": [
    "about = {}"
   ]
  },
  {
   "cell_type": "code",
   "execution_count": 4,
   "id": "1e93955b",
   "metadata": {},
   "outputs": [
    {
     "data": {
      "text/plain": [
       "dict"
      ]
     },
     "execution_count": 4,
     "metadata": {},
     "output_type": "execute_result"
    }
   ],
   "source": [
    "type(about)"
   ]
  },
  {
   "cell_type": "code",
   "execution_count": 6,
   "id": "daf929a5",
   "metadata": {},
   "outputs": [
    {
     "data": {
      "text/plain": [
       "dict"
      ]
     },
     "execution_count": 6,
     "metadata": {},
     "output_type": "execute_result"
    }
   ],
   "source": [
    "about =dict()\n",
    "type(about)"
   ]
  },
  {
   "cell_type": "markdown",
   "id": "ffdc5c23",
   "metadata": {},
   "source": [
    "# examples of dictionary "
   ]
  },
  {
   "cell_type": "code",
   "execution_count": 7,
   "id": "dd68fd4b",
   "metadata": {},
   "outputs": [],
   "source": [
    "a = {1: 'aayus', 2: 'bibek',3: 'champa'}\n"
   ]
  },
  {
   "cell_type": "code",
   "execution_count": 8,
   "id": "736af83d",
   "metadata": {},
   "outputs": [
    {
     "data": {
      "text/plain": [
       "{1: 'aayus', 2: 'bibek', 3: 'champa'}"
      ]
     },
     "execution_count": 8,
     "metadata": {},
     "output_type": "execute_result"
    }
   ],
   "source": [
    "a"
   ]
  },
  {
   "cell_type": "code",
   "execution_count": 9,
   "id": "56aa83bf",
   "metadata": {},
   "outputs": [],
   "source": [
    "students = {\n",
    "    \"name\": ['biksah','pranil','nabin']\n",
    "}"
   ]
  },
  {
   "cell_type": "code",
   "execution_count": 10,
   "id": "363ded52",
   "metadata": {},
   "outputs": [
    {
     "data": {
      "text/plain": [
       "{'name': ['biksah', 'pranil', 'nabin']}"
      ]
     },
     "execution_count": 10,
     "metadata": {},
     "output_type": "execute_result"
    }
   ],
   "source": [
    "students"
   ]
  },
  {
   "cell_type": "code",
   "execution_count": 11,
   "id": "1eccb9ce",
   "metadata": {},
   "outputs": [
    {
     "data": {
      "text/plain": [
       "{1.2: 88}"
      ]
     },
     "execution_count": 11,
     "metadata": {},
     "output_type": "execute_result"
    }
   ],
   "source": [
    "{1.2:88}#float can be key"
   ]
  },
  {
   "cell_type": "code",
   "execution_count": 12,
   "id": "471fc017",
   "metadata": {},
   "outputs": [],
   "source": [
    "#tuple,list cannot be key"
   ]
  },
  {
   "cell_type": "markdown",
   "id": "56d2e7d8",
   "metadata": {},
   "source": [
    "# adding key values pairs in dictionary"
   ]
  },
  {
   "cell_type": "code",
   "execution_count": 14,
   "id": "70ab88a7",
   "metadata": {},
   "outputs": [
    {
     "data": {
      "text/plain": [
       "{'name': 'kshitiz'}"
      ]
     },
     "execution_count": 14,
     "metadata": {},
     "output_type": "execute_result"
    }
   ],
   "source": [
    "about = { 'name': 'kshitiz'}\n",
    "about"
   ]
  },
  {
   "cell_type": "code",
   "execution_count": 15,
   "id": "a0d72477",
   "metadata": {},
   "outputs": [],
   "source": [
    "# first methond"
   ]
  },
  {
   "cell_type": "code",
   "execution_count": 16,
   "id": "d63b6bae",
   "metadata": {},
   "outputs": [],
   "source": [
    "about['teaches'] = ['Python','Ai','Datascience']"
   ]
  },
  {
   "cell_type": "code",
   "execution_count": 17,
   "id": "ad24801f",
   "metadata": {},
   "outputs": [
    {
     "data": {
      "text/plain": [
       "{'name': 'kshitiz', 'teaches': ['Python', 'Ai', 'Datascience']}"
      ]
     },
     "execution_count": 17,
     "metadata": {},
     "output_type": "execute_result"
    }
   ],
   "source": [
    "about"
   ]
  },
  {
   "cell_type": "code",
   "execution_count": 19,
   "id": "9d762a2b",
   "metadata": {},
   "outputs": [],
   "source": [
    "# second method : use .update()\n"
   ]
  },
  {
   "cell_type": "code",
   "execution_count": 20,
   "id": "131d0311",
   "metadata": {},
   "outputs": [
    {
     "data": {
      "text/plain": [
       "{'name': 'kshitiz', 'teaches': ['Python', 'Ai', 'Datascience']}"
      ]
     },
     "execution_count": 20,
     "metadata": {},
     "output_type": "execute_result"
    }
   ],
   "source": [
    "about"
   ]
  },
  {
   "cell_type": "code",
   "execution_count": 21,
   "id": "cd5eb681",
   "metadata": {},
   "outputs": [],
   "source": [
    "about.update({'workers_at': 'Brodway'})# update() bhitra dictionary pass hunxa hunxa"
   ]
  },
  {
   "cell_type": "code",
   "execution_count": 22,
   "id": "a62b8c3b",
   "metadata": {},
   "outputs": [
    {
     "data": {
      "text/plain": [
       "{'name': 'kshitiz',\n",
       " 'teaches': ['Python', 'Ai', 'Datascience'],\n",
       " 'workers_at': 'Brodway'}"
      ]
     },
     "execution_count": 22,
     "metadata": {},
     "output_type": "execute_result"
    }
   ],
   "source": [
    "about"
   ]
  },
  {
   "cell_type": "markdown",
   "id": "762e3c4b",
   "metadata": {},
   "source": [
    "# taking user update which takes user input and segregate country with capital."
   ]
  },
  {
   "cell_type": "code",
   "execution_count": 34,
   "id": "35e7ae13",
   "metadata": {},
   "outputs": [
    {
     "name": "stdout",
     "output_type": "stream",
     "text": [
      "enter the country namenepal\n",
      "enter the capital namekathmandu\n",
      "{'nepal': 'kathmandu'}\n",
      "enter the country namejapan\n",
      "enter the capital nametokyo\n",
      "{'japan': 'tokyo'}\n",
      "enter the country nameindia \n",
      "enter the capital namenew delhi\n",
      "{'india ': 'new delhi'}\n"
     ]
    }
   ],
   "source": [
    "for i in range(3):\n",
    "    country= input(\"enter the country name\")\n",
    "    capital= input(\"enter the capital name\")\n",
    "    dict_1 ={country:capital}\n",
    "    print(dict_1)\n",
    "\n"
   ]
  },
  {
   "cell_type": "code",
   "execution_count": 35,
   "id": "2f52b9c5",
   "metadata": {},
   "outputs": [],
   "source": [
    "# if key of dictionary already exists while \n",
    "d ={'netflix':50000}"
   ]
  },
  {
   "cell_type": "code",
   "execution_count": 36,
   "id": "51049533",
   "metadata": {},
   "outputs": [
    {
     "data": {
      "text/plain": [
       "{'netflix': 50000}"
      ]
     },
     "execution_count": 36,
     "metadata": {},
     "output_type": "execute_result"
    }
   ],
   "source": [
    "d"
   ]
  },
  {
   "cell_type": "code",
   "execution_count": 37,
   "id": "e5f6a50c",
   "metadata": {},
   "outputs": [],
   "source": [
    "d.update({'netflix':80000})"
   ]
  },
  {
   "cell_type": "code",
   "execution_count": 38,
   "id": "ff03860f",
   "metadata": {},
   "outputs": [
    {
     "data": {
      "text/plain": [
       "{'netflix': 80000}"
      ]
     },
     "execution_count": 38,
     "metadata": {},
     "output_type": "execute_result"
    }
   ],
   "source": [
    "d"
   ]
  },
  {
   "cell_type": "code",
   "execution_count": 39,
   "id": "78ceaa63",
   "metadata": {},
   "outputs": [],
   "source": [
    "#update le key value exist gardai na bhana naya key: vlaue pair halxa\n",
    "# if exist garxa vane value update garxa"
   ]
  },
  {
   "cell_type": "code",
   "execution_count": 40,
   "id": "1fa1079b",
   "metadata": {},
   "outputs": [],
   "source": [
    "d =({'netflix': 60000})"
   ]
  },
  {
   "cell_type": "code",
   "execution_count": 41,
   "id": "64c4c2a5",
   "metadata": {},
   "outputs": [
    {
     "data": {
      "text/plain": [
       "{'netflix': 600}"
      ]
     },
     "execution_count": 41,
     "metadata": {},
     "output_type": "execute_result"
    }
   ],
   "source": [
    "d['netflix'] =600 # key already exists garxa so value cahnge hunxa\n",
    "d"
   ]
  },
  {
   "cell_type": "markdown",
   "id": "76856079",
   "metadata": {},
   "source": [
    "# accessing value of a key in a dictionary"
   ]
  },
  {
   "cell_type": "code",
   "execution_count": 1,
   "id": "c50835fb",
   "metadata": {},
   "outputs": [],
   "source": [
    "about ={\n",
    "    'name':'kshitiz',\n",
    "    'works_at':\"brodway\",\n",
    "    'age':26,\n",
    "    'teaches':['python','AI','ML']\n",
    "}"
   ]
  },
  {
   "cell_type": "code",
   "execution_count": 2,
   "id": "587a9143",
   "metadata": {},
   "outputs": [
    {
     "data": {
      "text/plain": [
       "{'name': 'kshitiz',\n",
       " 'works_at': 'brodway',\n",
       " 'age': 26,\n",
       " 'teaches': ['python', 'AI', 'ML']}"
      ]
     },
     "execution_count": 2,
     "metadata": {},
     "output_type": "execute_result"
    }
   ],
   "source": [
    "about"
   ]
  },
  {
   "cell_type": "code",
   "execution_count": 3,
   "id": "05cf7005",
   "metadata": {},
   "outputs": [
    {
     "data": {
      "text/plain": [
       "'brodway'"
      ]
     },
     "execution_count": 3,
     "metadata": {},
     "output_type": "execute_result"
    }
   ],
   "source": [
    "about['works_at']# one mothod"
   ]
  },
  {
   "cell_type": "code",
   "execution_count": 45,
   "id": "420633c6",
   "metadata": {},
   "outputs": [
    {
     "data": {
      "text/plain": [
       "'brodway'"
      ]
     },
     "execution_count": 45,
     "metadata": {},
     "output_type": "execute_result"
    }
   ],
   "source": [
    "about.get('works_at') #other method"
   ]
  },
  {
   "cell_type": "code",
   "execution_count": 46,
   "id": "a7ce6844",
   "metadata": {},
   "outputs": [
    {
     "ename": "KeyError",
     "evalue": "'gender'",
     "output_type": "error",
     "traceback": [
      "\u001b[1;31m---------------------------------------------------------------------------\u001b[0m",
      "\u001b[1;31mKeyError\u001b[0m                                  Traceback (most recent call last)",
      "Cell \u001b[1;32mIn[46], line 1\u001b[0m\n\u001b[1;32m----> 1\u001b[0m \u001b[43mabout\u001b[49m\u001b[43m[\u001b[49m\u001b[38;5;124;43m'\u001b[39;49m\u001b[38;5;124;43mgender\u001b[39;49m\u001b[38;5;124;43m'\u001b[39;49m\u001b[43m]\u001b[49m \u001b[38;5;66;03m# navako key khojera paidaina\u001b[39;00m\n",
      "\u001b[1;31mKeyError\u001b[0m: 'gender'"
     ]
    }
   ],
   "source": [
    "about['gender'] # navako key khojera paidaina"
   ]
  },
  {
   "cell_type": "code",
   "execution_count": 51,
   "id": "f8d060a9",
   "metadata": {},
   "outputs": [
    {
     "data": {
      "text/plain": [
       "'not found'"
      ]
     },
     "execution_count": 51,
     "metadata": {},
     "output_type": "execute_result"
    }
   ],
   "source": [
    "about.get('date','not found')# if gender key exist gardina bhanan not found lakhna."
   ]
  },
  {
   "cell_type": "code",
   "execution_count": 52,
   "id": "93454480",
   "metadata": {},
   "outputs": [],
   "source": [
    "about.get('gender',None)#default ma none hunxa"
   ]
  },
  {
   "cell_type": "markdown",
   "id": "564c111a",
   "metadata": {},
   "source": [
    "# .keys() and.values()method"
   ]
  },
  {
   "cell_type": "code",
   "execution_count": 59,
   "id": "6149abff",
   "metadata": {},
   "outputs": [],
   "source": [
    "about ={\n",
    "    'name':'kshitiz',\n",
    "    'works_at':\"brodway\",\n",
    "    'age':26,\n",
    "    'teaches':['python','AI','ML']\n",
    "}"
   ]
  },
  {
   "cell_type": "code",
   "execution_count": 60,
   "id": "b26cd4d1",
   "metadata": {},
   "outputs": [
    {
     "data": {
      "text/plain": [
       "dict_keys(['name', 'works_at', 'age', 'teaches'])"
      ]
     },
     "execution_count": 60,
     "metadata": {},
     "output_type": "execute_result"
    }
   ],
   "source": [
    "about.keys()"
   ]
  },
  {
   "cell_type": "code",
   "execution_count": 61,
   "id": "aae5e9f8",
   "metadata": {},
   "outputs": [
    {
     "data": {
      "text/plain": [
       "dict_values(['kshitiz', 'brodway', 26, ['python', 'AI', 'ML']])"
      ]
     },
     "execution_count": 61,
     "metadata": {},
     "output_type": "execute_result"
    }
   ],
   "source": [
    "about.values()"
   ]
  },
  {
   "cell_type": "code",
   "execution_count": 62,
   "id": "927a9f44",
   "metadata": {},
   "outputs": [
    {
     "data": {
      "text/plain": [
       "dict_items([('name', 'kshitiz'), ('works_at', 'brodway'), ('age', 26), ('teaches', ['python', 'AI', 'ML'])])"
      ]
     },
     "execution_count": 62,
     "metadata": {},
     "output_type": "execute_result"
    }
   ],
   "source": [
    "about.items()"
   ]
  },
  {
   "cell_type": "code",
   "execution_count": 65,
   "id": "848cb892",
   "metadata": {},
   "outputs": [
    {
     "name": "stdout",
     "output_type": "stream",
     "text": [
      "('name', 'kshitiz')\n",
      "('works_at', 'brodway')\n",
      "('age', 26)\n",
      "('teaches', ['python', 'AI', 'ML'])\n"
     ]
    }
   ],
   "source": [
    "for item in about.items(A):\n",
    "    print(item)"
   ]
  },
  {
   "cell_type": "code",
   "execution_count": 66,
   "id": "c388e5e1",
   "metadata": {},
   "outputs": [
    {
     "name": "stdout",
     "output_type": "stream",
     "text": [
      "name\n",
      "works_at\n",
      "age\n",
      "teaches\n"
     ]
    }
   ],
   "source": [
    "for key,val in about.items():\n",
    "    print(key)"
   ]
  },
  {
   "cell_type": "code",
   "execution_count": 67,
   "id": "8dd2edce",
   "metadata": {},
   "outputs": [
    {
     "name": "stdout",
     "output_type": "stream",
     "text": [
      "kshitiz\n",
      "brodway\n",
      "26\n",
      "['python', 'AI', 'ML']\n"
     ]
    }
   ],
   "source": [
    "for key, val in about.items():\n",
    "    print(val)"
   ]
  },
  {
   "cell_type": "code",
   "execution_count": 72,
   "id": "a9cfa41c",
   "metadata": {},
   "outputs": [
    {
     "name": "stdout",
     "output_type": "stream",
     "text": [
      "the key is name and the value is kshitiz\n",
      "the key is works_at and the value is brodway\n",
      "the key is age and the value is 26\n",
      "the key is teaches and the value is ['python', 'AI', 'ML']\n"
     ]
    }
   ],
   "source": [
    "about ={\n",
    "    'name':'kshitiz',\n",
    "    'works_at':\"brodway\",\n",
    "    'age':26,\n",
    "    'teaches':['python','AI','ML']\n",
    "}\n",
    "for key, val in about.items():\n",
    "    print(f\"the key is {key} and the value is {val}\")"
   ]
  },
  {
   "cell_type": "markdown",
   "id": "831b94aa",
   "metadata": {},
   "source": [
    "# dictionary comprehension\n",
    "* sawp key value pair of dictionary"
   ]
  },
  {
   "cell_type": "code",
   "execution_count": 76,
   "id": "0bdc6bc0",
   "metadata": {},
   "outputs": [],
   "source": [
    "d = {1 : 'one',5: 'five',10: 'ten'}"
   ]
  },
  {
   "cell_type": "code",
   "execution_count": 77,
   "id": "8eef7617",
   "metadata": {},
   "outputs": [
    {
     "data": {
      "text/plain": [
       "{'one': 1, 'five': 5, 'ten': 10}"
      ]
     },
     "execution_count": 77,
     "metadata": {},
     "output_type": "execute_result"
    }
   ],
   "source": [
    "{val:key for key ,val in d.items()}"
   ]
  },
  {
   "cell_type": "markdown",
   "id": "74b0938f",
   "metadata": {},
   "source": [
    "# zip()"
   ]
  },
  {
   "cell_type": "code",
   "execution_count": 88,
   "id": "de8098f9",
   "metadata": {},
   "outputs": [],
   "source": [
    "country=('nepal','india','japan')\n",
    "capital=['kathmandu','new delhi','tokyo']"
   ]
  },
  {
   "cell_type": "code",
   "execution_count": 80,
   "id": "577f4ce4",
   "metadata": {},
   "outputs": [
    {
     "data": {
      "text/plain": [
       "<zip at 0x2827b23d940>"
      ]
     },
     "execution_count": 80,
     "metadata": {},
     "output_type": "execute_result"
    }
   ],
   "source": [
    "zip(country,capital)"
   ]
  },
  {
   "cell_type": "code",
   "execution_count": 82,
   "id": "68ded560",
   "metadata": {},
   "outputs": [
    {
     "data": {
      "text/plain": [
       "{'nepal': 'kathmandu', 'india': 'new delhi', 'japan': 'tokyo'}"
      ]
     },
     "execution_count": 82,
     "metadata": {},
     "output_type": "execute_result"
    }
   ],
   "source": [
    "dict(zip(country,capital))"
   ]
  },
  {
   "cell_type": "markdown",
   "id": "e0fe4d3e",
   "metadata": {},
   "source": [
    "# Nested dictionary"
   ]
  },
  {
   "cell_type": "code",
   "execution_count": 89,
   "id": "ebf91ad1",
   "metadata": {},
   "outputs": [],
   "source": [
    "child ={\n",
    "    'child1': {'Name': 'Roman', 'age': 20},\n",
    "    'child2': { 'Name': 'Champa', 'gender': 'F'},\n",
    "}"
   ]
  },
  {
   "cell_type": "code",
   "execution_count": 93,
   "id": "e1b2106d",
   "metadata": {},
   "outputs": [
    {
     "data": {
      "text/plain": [
       "{'Name': 'Champa', 'gender': 'F'}"
      ]
     },
     "execution_count": 93,
     "metadata": {},
     "output_type": "execute_result"
    }
   ],
   "source": [
    "child['child2']"
   ]
  },
  {
   "cell_type": "code",
   "execution_count": 95,
   "id": "2ae729ec",
   "metadata": {},
   "outputs": [
    {
     "data": {
      "text/plain": [
       "'Champa'"
      ]
     },
     "execution_count": 95,
     "metadata": {},
     "output_type": "execute_result"
    }
   ],
   "source": [
    "child['child2']['Name']"
   ]
  },
  {
   "cell_type": "code",
   "execution_count": 96,
   "id": "cc2af42d",
   "metadata": {},
   "outputs": [
    {
     "data": {
      "text/plain": [
       "20"
      ]
     },
     "execution_count": 96,
     "metadata": {},
     "output_type": "execute_result"
    }
   ],
   "source": [
    "child['child1']['age']"
   ]
  },
  {
   "cell_type": "markdown",
   "id": "abc784bc",
   "metadata": {},
   "source": [
    "# list of dictionary "
   ]
  },
  {
   "cell_type": "code",
   "execution_count": 104,
   "id": "c9d646c7",
   "metadata": {},
   "outputs": [
    {
     "data": {
      "text/plain": [
       "[{'name': 'ram', 'sem': 8}, {'name': 'shyam', 'sem': 4}]"
      ]
     },
     "execution_count": 104,
     "metadata": {},
     "output_type": "execute_result"
    }
   ],
   "source": [
    "data =[{'name': 'ram','sem':8}, {'name': 'shyam','sem':4}]\n",
    "data"
   ]
  },
  {
   "cell_type": "code",
   "execution_count": 105,
   "id": "5ea52466",
   "metadata": {},
   "outputs": [
    {
     "name": "stdout",
     "output_type": "stream",
     "text": [
      "ram\n",
      "shyam\n"
     ]
    }
   ],
   "source": [
    "for item in data:\n",
    "    print(item['name'])"
   ]
  },
  {
   "cell_type": "code",
   "execution_count": 106,
   "id": "435217cb",
   "metadata": {},
   "outputs": [
    {
     "name": "stdout",
     "output_type": "stream",
     "text": [
      "8\n",
      "4\n"
     ]
    }
   ],
   "source": [
    "for item in data: # item vanya dictionary ho\n",
    "    print(item['sem'])"
   ]
  },
  {
   "cell_type": "code",
   "execution_count": null,
   "id": "bf2f39b7",
   "metadata": {},
   "outputs": [],
   "source": []
  }
 ],
 "metadata": {
  "kernelspec": {
   "display_name": "Python 3 (ipykernel)",
   "language": "python",
   "name": "python3"
  },
  "language_info": {
   "codemirror_mode": {
    "name": "ipython",
    "version": 3
   },
   "file_extension": ".py",
   "mimetype": "text/x-python",
   "name": "python",
   "nbconvert_exporter": "python",
   "pygments_lexer": "ipython3",
   "version": "3.11.3"
  }
 },
 "nbformat": 4,
 "nbformat_minor": 5
}
