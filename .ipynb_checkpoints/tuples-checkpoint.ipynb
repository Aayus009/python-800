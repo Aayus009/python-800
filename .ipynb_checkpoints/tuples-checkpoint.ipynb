{
 "cells": [
  {
   "cell_type": "markdown",
   "id": "ea4292e4",
   "metadata": {},
   "source": [
    "# tuples"
   ]
  },
  {
   "cell_type": "markdown",
   "id": "0b13ceed",
   "metadata": {},
   "source": [
    "* collection of item under one variable name\n",
    "* items are placed inside round bracket() seperated by coma\n",
    "* allows duplicate\n",
    "* immutable"
   ]
  },
  {
   "cell_type": "code",
   "execution_count": 3,
   "id": "c3a8b1ec",
   "metadata": {},
   "outputs": [
    {
     "data": {
      "text/plain": [
       "tuple"
      ]
     },
     "execution_count": 3,
     "metadata": {},
     "output_type": "execute_result"
    }
   ],
   "source": [
    "# empty tuple\n",
    "fruits= tuple()\n",
    "type(fruits)"
   ]
  },
  {
   "cell_type": "code",
   "execution_count": 4,
   "id": "4fb03477",
   "metadata": {},
   "outputs": [
    {
     "data": {
      "text/plain": [
       "tuple"
      ]
     },
     "execution_count": 4,
     "metadata": {},
     "output_type": "execute_result"
    }
   ],
   "source": [
    "# empty tuple\n",
    "friends=()\n",
    "type(friends)"
   ]
  },
  {
   "cell_type": "markdown",
   "id": "2baad83e",
   "metadata": {},
   "source": [
    "# create a tuple of cities in nepal"
   ]
  },
  {
   "cell_type": "code",
   "execution_count": 5,
   "id": "7f939aeb",
   "metadata": {},
   "outputs": [
    {
     "data": {
      "text/plain": [
       "tuple"
      ]
     },
     "execution_count": 5,
     "metadata": {},
     "output_type": "execute_result"
    }
   ],
   "source": [
    "city = ('kathmandu','bhakatapur','lalitpur','dharan','bharatpur')\n",
    "type(city)\n"
   ]
  },
  {
   "cell_type": "markdown",
   "id": "25d4a149",
   "metadata": {},
   "source": [
    "# indexing"
   ]
  },
  {
   "cell_type": "code",
   "execution_count": 6,
   "id": "cfe83e3b",
   "metadata": {},
   "outputs": [
    {
     "data": {
      "text/plain": [
       "'dharan'"
      ]
     },
     "execution_count": 6,
     "metadata": {},
     "output_type": "execute_result"
    }
   ],
   "source": [
    "city[3]"
   ]
  },
  {
   "cell_type": "code",
   "execution_count": 7,
   "id": "63a985d0",
   "metadata": {},
   "outputs": [
    {
     "data": {
      "text/plain": [
       "'dharan'"
      ]
     },
     "execution_count": 7,
     "metadata": {},
     "output_type": "execute_result"
    }
   ],
   "source": [
    "city[-2]"
   ]
  },
  {
   "cell_type": "code",
   "execution_count": 8,
   "id": "0505452b",
   "metadata": {},
   "outputs": [
    {
     "data": {
      "text/plain": [
       "('lalitpur', 'dharan')"
      ]
     },
     "execution_count": 8,
     "metadata": {},
     "output_type": "execute_result"
    }
   ],
   "source": [
    "city[2:4]"
   ]
  },
  {
   "cell_type": "code",
   "execution_count": 9,
   "id": "46878c30",
   "metadata": {},
   "outputs": [
    {
     "data": {
      "text/plain": [
       "('dharan', 'bharatpur')"
      ]
     },
     "execution_count": 9,
     "metadata": {},
     "output_type": "execute_result"
    }
   ],
   "source": [
    "city[3:5]"
   ]
  },
  {
   "cell_type": "markdown",
   "id": "47300e3f",
   "metadata": {},
   "source": [
    "# calculate mean "
   ]
  },
  {
   "cell_type": "code",
   "execution_count": 10,
   "id": "58e492db",
   "metadata": {},
   "outputs": [],
   "source": [
    "data= (2,4,6,8,12)"
   ]
  },
  {
   "cell_type": "code",
   "execution_count": 14,
   "id": "e331758d",
   "metadata": {},
   "outputs": [
    {
     "name": "stdout",
     "output_type": "stream",
     "text": [
      "0.5\n",
      "1.5\n",
      "3.0\n",
      "6.0\n"
     ]
    }
   ],
   "source": [
    "total=0\n",
    "for item in data:\n",
    "    total =total+item\n",
    "    mean = total/len(data)\n",
    "    print(mean)"
   ]
  },
  {
   "cell_type": "markdown",
   "id": "3efd8c32",
   "metadata": {},
   "source": [
    "# tuple is immutable"
   ]
  },
  {
   "cell_type": "code",
   "execution_count": 24,
   "id": "b3d3ac2c",
   "metadata": {},
   "outputs": [],
   "source": [
    "cars =('bmw','tesla','mercedes')"
   ]
  },
  {
   "cell_type": "code",
   "execution_count": 25,
   "id": "fd3d93b5",
   "metadata": {},
   "outputs": [
    {
     "data": {
      "text/plain": [
       "'tesla'"
      ]
     },
     "execution_count": 25,
     "metadata": {},
     "output_type": "execute_result"
    }
   ],
   "source": [
    "cars[1]\n"
   ]
  },
  {
   "cell_type": "code",
   "execution_count": 26,
   "id": "3d9b4e76",
   "metadata": {},
   "outputs": [
    {
     "ename": "TypeError",
     "evalue": "'tuple' object does not support item assignment",
     "output_type": "error",
     "traceback": [
      "\u001b[1;31m---------------------------------------------------------------------------\u001b[0m",
      "\u001b[1;31mTypeError\u001b[0m                                 Traceback (most recent call last)",
      "Cell \u001b[1;32mIn[26], line 1\u001b[0m\n\u001b[1;32m----> 1\u001b[0m \u001b[43mcars\u001b[49m\u001b[43m[\u001b[49m\u001b[38;5;241;43m1\u001b[39;49m\u001b[43m]\u001b[49m \u001b[38;5;241m=\u001b[39m\u001b[38;5;124m'\u001b[39m\u001b[38;5;124mtata\u001b[39m\u001b[38;5;124m'\u001b[39m\n",
      "\u001b[1;31mTypeError\u001b[0m: 'tuple' object does not support item assignment"
     ]
    }
   ],
   "source": [
    "cars[1] ='tata'"
   ]
  },
  {
   "cell_type": "code",
   "execution_count": 30,
   "id": "fe0920aa",
   "metadata": {},
   "outputs": [],
   "source": [
    "cars=['tesla','bmw','mercedes']# list are muutable"
   ]
  },
  {
   "cell_type": "code",
   "execution_count": 31,
   "id": "3defa148",
   "metadata": {},
   "outputs": [
    {
     "data": {
      "text/plain": [
       "'bmw'"
      ]
     },
     "execution_count": 31,
     "metadata": {},
     "output_type": "execute_result"
    }
   ],
   "source": [
    "cars[1]"
   ]
  },
  {
   "cell_type": "code",
   "execution_count": 33,
   "id": "c458309a",
   "metadata": {},
   "outputs": [],
   "source": [
    "cars[1] ='tata'"
   ]
  },
  {
   "cell_type": "code",
   "execution_count": 34,
   "id": "0a420868",
   "metadata": {},
   "outputs": [
    {
     "data": {
      "text/plain": [
       "['tesla', 'tata', 'mercedes']"
      ]
     },
     "execution_count": 34,
     "metadata": {},
     "output_type": "execute_result"
    }
   ],
   "source": [
    "cars"
   ]
  },
  {
   "cell_type": "markdown",
   "id": "3b46d61f",
   "metadata": {},
   "source": [
    "# Type catsting"
   ]
  },
  {
   "cell_type": "code",
   "execution_count": 35,
   "id": "38198a79",
   "metadata": {},
   "outputs": [
    {
     "data": {
      "text/plain": [
       "list"
      ]
     },
     "execution_count": 35,
     "metadata": {},
     "output_type": "execute_result"
    }
   ],
   "source": [
    "cars=('tesla','bmw','mercedes')\n",
    "type(cars)"
   ]
  },
  {
   "cell_type": "code",
   "execution_count": 37,
   "id": "4e2fe702",
   "metadata": {},
   "outputs": [
    {
     "data": {
      "text/plain": [
       "list"
      ]
     },
     "execution_count": 37,
     "metadata": {},
     "output_type": "execute_result"
    }
   ],
   "source": [
    "cars =list(cars)\n",
    "type(cars)"
   ]
  },
  {
   "cell_type": "code",
   "execution_count": 38,
   "id": "557072c5",
   "metadata": {},
   "outputs": [],
   "source": [
    "cars.append(\"lamvo\")"
   ]
  },
  {
   "cell_type": "code",
   "execution_count": 39,
   "id": "6afa7123",
   "metadata": {},
   "outputs": [
    {
     "data": {
      "text/plain": [
       "['tesla', 'bmw', 'mercedes', 'lamvo']"
      ]
     },
     "execution_count": 39,
     "metadata": {},
     "output_type": "execute_result"
    }
   ],
   "source": [
    "cars"
   ]
  },
  {
   "cell_type": "code",
   "execution_count": 40,
   "id": "499587d8",
   "metadata": {},
   "outputs": [
    {
     "data": {
      "text/plain": [
       "['tesla', 'bmw', 'mercedes', 'lamvo']"
      ]
     },
     "execution_count": 40,
     "metadata": {},
     "output_type": "execute_result"
    }
   ],
   "source": [
    "cars"
   ]
  },
  {
   "cell_type": "code",
   "execution_count": 41,
   "id": "3dbde20f",
   "metadata": {},
   "outputs": [],
   "source": [
    "cars= tuple(cars)"
   ]
  },
  {
   "cell_type": "raw",
   "id": "4378b98d",
   "metadata": {},
   "source": []
  },
  {
   "cell_type": "code",
   "execution_count": null,
   "id": "5f6a7199",
   "metadata": {},
   "outputs": [],
   "source": []
  }
 ],
 "metadata": {
  "kernelspec": {
   "display_name": "Python 3 (ipykernel)",
   "language": "python",
   "name": "python3"
  },
  "language_info": {
   "codemirror_mode": {
    "name": "ipython",
    "version": 3
   },
   "file_extension": ".py",
   "mimetype": "text/x-python",
   "name": "python",
   "nbconvert_exporter": "python",
   "pygments_lexer": "ipython3",
   "version": "3.11.3"
  }
 },
 "nbformat": 4,
 "nbformat_minor": 5
}
