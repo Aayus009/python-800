{
 "cells": [
  {
   "cell_type": "markdown",
   "id": "d88792e0",
   "metadata": {},
   "source": [
    "# List\n",
    "* collection of items under one variable name\n",
    "* order and indexed\n",
    "* allows duplicate  values\n",
    "* mutable data type\n",
    "* one of 4-builitin data type in python\n"
   ]
  },
  {
   "cell_type": "code",
   "execution_count": 2,
   "id": "2f75068c",
   "metadata": {},
   "outputs": [
    {
     "data": {
      "text/plain": [
       "list"
      ]
     },
     "execution_count": 2,
     "metadata": {},
     "output_type": "execute_result"
    }
   ],
   "source": [
    "list1=[ ]\n",
    "type(list1)"
   ]
  },
  {
   "cell_type": "code",
   "execution_count": 3,
   "id": "c71f9291",
   "metadata": {},
   "outputs": [
    {
     "data": {
      "text/plain": [
       "list"
      ]
     },
     "execution_count": 3,
     "metadata": {},
     "output_type": "execute_result"
    }
   ],
   "source": [
    "list2= list( )#using list constructor\n",
    "type(list2)"
   ]
  },
  {
   "cell_type": "markdown",
   "id": "b334a269",
   "metadata": {},
   "source": [
    "# creating your own list"
   ]
  },
  {
   "cell_type": "code",
   "execution_count": 4,
   "id": "a73df5d2",
   "metadata": {},
   "outputs": [],
   "source": [
    "gift=('watch','shoes','shoes','pagini')"
   ]
  },
  {
   "cell_type": "code",
   "execution_count": 8,
   "id": "ed009d7a",
   "metadata": {},
   "outputs": [
    {
     "data": {
      "text/plain": [
       "('watch', 'shoes', 'shoes', 'pagani')"
      ]
     },
     "execution_count": 8,
     "metadata": {},
     "output_type": "execute_result"
    }
   ],
   "source": [
    "gift\n"
   ]
  },
  {
   "cell_type": "code",
   "execution_count": 9,
   "id": "a8147991",
   "metadata": {},
   "outputs": [
    {
     "data": {
      "text/plain": [
       "'watch'"
      ]
     },
     "execution_count": 9,
     "metadata": {},
     "output_type": "execute_result"
    }
   ],
   "source": [
    "gift[0]"
   ]
  },
  {
   "cell_type": "code",
   "execution_count": 7,
   "id": "6cf0e289",
   "metadata": {},
   "outputs": [
    {
     "data": {
      "text/plain": [
       "'pagani'"
      ]
     },
     "execution_count": 7,
     "metadata": {},
     "output_type": "execute_result"
    }
   ],
   "source": [
    "gift[3]"
   ]
  },
  {
   "cell_type": "code",
   "execution_count": 22,
   "id": "fb0941f4",
   "metadata": {},
   "outputs": [
    {
     "data": {
      "text/plain": [
       "('shoes', 'shoes')"
      ]
     },
     "execution_count": 22,
     "metadata": {},
     "output_type": "execute_result"
    }
   ],
   "source": [
    "gift[1:3]"
   ]
  },
  {
   "cell_type": "code",
   "execution_count": 11,
   "id": "798e3074",
   "metadata": {},
   "outputs": [],
   "source": [
    "present =('bike','shoes','bag','jet','books','airpods','macbook')"
   ]
  },
  {
   "cell_type": "code",
   "execution_count": 16,
   "id": "36759fc3",
   "metadata": {},
   "outputs": [
    {
     "data": {
      "text/plain": [
       "('bag', 'jet')"
      ]
     },
     "execution_count": 16,
     "metadata": {},
     "output_type": "execute_result"
    }
   ],
   "source": [
    "present[2:4]"
   ]
  },
  {
   "cell_type": "code",
   "execution_count": 17,
   "id": "c0f3575d",
   "metadata": {},
   "outputs": [
    {
     "data": {
      "text/plain": [
       "'macbook'"
      ]
     },
     "execution_count": 17,
     "metadata": {},
     "output_type": "execute_result"
    }
   ],
   "source": [
    "present[-1]"
   ]
  },
  {
   "cell_type": "code",
   "execution_count": 18,
   "id": "1cb85af9",
   "metadata": {},
   "outputs": [
    {
     "data": {
      "text/plain": [
       "'airpods'"
      ]
     },
     "execution_count": 18,
     "metadata": {},
     "output_type": "execute_result"
    }
   ],
   "source": [
    "present[-2]"
   ]
  },
  {
   "cell_type": "code",
   "execution_count": 19,
   "id": "425ec537",
   "metadata": {},
   "outputs": [
    {
     "data": {
      "text/plain": [
       "('bag',)"
      ]
     },
     "execution_count": 19,
     "metadata": {},
     "output_type": "execute_result"
    }
   ],
   "source": [
    "present[2:4:6]"
   ]
  },
  {
   "cell_type": "code",
   "execution_count": 23,
   "id": "c26a4d1d",
   "metadata": {},
   "outputs": [
    {
     "data": {
      "text/plain": [
       "('airpods', 'macbook')"
      ]
     },
     "execution_count": 23,
     "metadata": {},
     "output_type": "execute_result"
    }
   ],
   "source": [
    "present[-2:]# end default len(present)"
   ]
  },
  {
   "cell_type": "code",
   "execution_count": 24,
   "id": "1d23991b",
   "metadata": {},
   "outputs": [
    {
     "data": {
      "text/plain": [
       "('bike', 'shoes')"
      ]
     },
     "execution_count": 24,
     "metadata": {},
     "output_type": "execute_result"
    }
   ],
   "source": [
    "present[:2]#start default 0"
   ]
  },
  {
   "cell_type": "markdown",
   "id": "7d3829b7",
   "metadata": {},
   "source": [
    "# Find mean of given list using for loop\n"
   ]
  },
  {
   "cell_type": "code",
   "execution_count": 25,
   "id": "ba6a5adc",
   "metadata": {},
   "outputs": [],
   "source": [
    "nums=[9,2,45,0,11]"
   ]
  },
  {
   "cell_type": "code",
   "execution_count": null,
   "id": "58e9fce9",
   "metadata": {},
   "outputs": [],
   "source": [
    "nums="
   ]
  }
 ],
 "metadata": {
  "kernelspec": {
   "display_name": "Python 3 (ipykernel)",
   "language": "python",
   "name": "python3"
  },
  "language_info": {
   "codemirror_mode": {
    "name": "ipython",
    "version": 3
   },
   "file_extension": ".py",
   "mimetype": "text/x-python",
   "name": "python",
   "nbconvert_exporter": "python",
   "pygments_lexer": "ipython3",
   "version": "3.11.3"
  }
 },
 "nbformat": 4,
 "nbformat_minor": 5
}
