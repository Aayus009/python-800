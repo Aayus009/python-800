{
 "cells": [
  {
   "cell_type": "markdown",
   "id": "08e4bf40",
   "metadata": {},
   "source": [
    "# File handling in python includes:\n",
    "    * creating,\n",
    "    * opening, and\n",
    "    * closing files.\n",
    "    \n",
    "    \n",
    "# while files are open, Python additionally allows performing various file operations, such as:\n",
    "    * reading\n",
    "    * writing, and\n",
    "    * appending information."
   ]
  },
  {
   "cell_type": "markdown",
   "id": "b24b1195",
   "metadata": {},
   "source": [
    "# Opening a file"
   ]
  },
  {
   "cell_type": "code",
   "execution_count": 2,
   "id": "0517a3cb",
   "metadata": {},
   "outputs": [
    {
     "ename": "FileNotFoundError",
     "evalue": "[Errno 2] No such file or directory: 'student.txt'",
     "output_type": "error",
     "traceback": [
      "\u001b[1;31m---------------------------------------------------------------------------\u001b[0m",
      "\u001b[1;31mFileNotFoundError\u001b[0m                         Traceback (most recent call last)",
      "Cell \u001b[1;32mIn[2], line 1\u001b[0m\n\u001b[1;32m----> 1\u001b[0m file \u001b[38;5;241m=\u001b[39m\u001b[38;5;28;43mopen\u001b[39;49m\u001b[43m(\u001b[49m\u001b[38;5;124;43m\"\u001b[39;49m\u001b[38;5;124;43mstudent.txt\u001b[39;49m\u001b[38;5;124;43m\"\u001b[39;49m\u001b[43m)\u001b[49m\n",
      "File \u001b[1;32m~\\AppData\\Roaming\\Python\\Python311\\site-packages\\IPython\\core\\interactiveshell.py:284\u001b[0m, in \u001b[0;36m_modified_open\u001b[1;34m(file, *args, **kwargs)\u001b[0m\n\u001b[0;32m    277\u001b[0m \u001b[38;5;28;01mif\u001b[39;00m file \u001b[38;5;129;01min\u001b[39;00m {\u001b[38;5;241m0\u001b[39m, \u001b[38;5;241m1\u001b[39m, \u001b[38;5;241m2\u001b[39m}:\n\u001b[0;32m    278\u001b[0m     \u001b[38;5;28;01mraise\u001b[39;00m \u001b[38;5;167;01mValueError\u001b[39;00m(\n\u001b[0;32m    279\u001b[0m         \u001b[38;5;124mf\u001b[39m\u001b[38;5;124m\"\u001b[39m\u001b[38;5;124mIPython won\u001b[39m\u001b[38;5;124m'\u001b[39m\u001b[38;5;124mt let you open fd=\u001b[39m\u001b[38;5;132;01m{\u001b[39;00mfile\u001b[38;5;132;01m}\u001b[39;00m\u001b[38;5;124m by default \u001b[39m\u001b[38;5;124m\"\u001b[39m\n\u001b[0;32m    280\u001b[0m         \u001b[38;5;124m\"\u001b[39m\u001b[38;5;124mas it is likely to crash IPython. If you know what you are doing, \u001b[39m\u001b[38;5;124m\"\u001b[39m\n\u001b[0;32m    281\u001b[0m         \u001b[38;5;124m\"\u001b[39m\u001b[38;5;124myou can use builtins\u001b[39m\u001b[38;5;124m'\u001b[39m\u001b[38;5;124m open.\u001b[39m\u001b[38;5;124m\"\u001b[39m\n\u001b[0;32m    282\u001b[0m     )\n\u001b[1;32m--> 284\u001b[0m \u001b[38;5;28;01mreturn\u001b[39;00m \u001b[43mio_open\u001b[49m\u001b[43m(\u001b[49m\u001b[43mfile\u001b[49m\u001b[43m,\u001b[49m\u001b[43m \u001b[49m\u001b[38;5;241;43m*\u001b[39;49m\u001b[43margs\u001b[49m\u001b[43m,\u001b[49m\u001b[43m \u001b[49m\u001b[38;5;241;43m*\u001b[39;49m\u001b[38;5;241;43m*\u001b[39;49m\u001b[43mkwargs\u001b[49m\u001b[43m)\u001b[49m\n",
      "\u001b[1;31mFileNotFoundError\u001b[0m: [Errno 2] No such file or directory: 'student.txt'"
     ]
    }
   ],
   "source": [
    "file =open(\"student.txt\")"
   ]
  },
  {
   "cell_type": "code",
   "execution_count": 3,
   "id": "670d8408",
   "metadata": {},
   "outputs": [],
   "source": [
    "import os"
   ]
  },
  {
   "cell_type": "code",
   "execution_count": 4,
   "id": "9923c813",
   "metadata": {},
   "outputs": [
    {
     "data": {
      "text/plain": [
       "False"
      ]
     },
     "execution_count": 4,
     "metadata": {},
     "output_type": "execute_result"
    }
   ],
   "source": [
    "os.path.exists('student.txt')# yo path ma student.txt exist gardina."
   ]
  },
  {
   "cell_type": "markdown",
   "id": "66a9bad1",
   "metadata": {},
   "source": [
    "# modes of file handling.\n",
    " * read: `r`\n",
    " * write: 'w`\n",
    " * append: 'a'\n",
    " * create: 'x'\n",
    " \n",
    " ```Python \n",
    "open(filename_or_filepath, mode)\n",
    "```"
   ]
  },
  {
   "cell_type": "code",
   "execution_count": 7,
   "id": "7f3ae3bb",
   "metadata": {},
   "outputs": [],
   "source": [
    "try:\n",
    "    file = open(\"python800.txt\", 'r')\n",
    "    text = file.read()\n",
    "except FileNOtFoundError as e:\n",
    "    print(e)\n",
    "    "
   ]
  },
  {
   "cell_type": "code",
   "execution_count": 8,
   "id": "23cbb826",
   "metadata": {},
   "outputs": [
    {
     "name": "stdout",
     "output_type": "stream",
     "text": [
      "prakash\n",
      "sumit\n",
      "champa\n"
     ]
    }
   ],
   "source": [
    "print(text)"
   ]
  },
  {
   "cell_type": "code",
   "execution_count": 9,
   "id": "befc84cc",
   "metadata": {},
   "outputs": [],
   "source": [
    "try:\n",
    "    file = open(\"python800.txt\", 'r')\n",
    "    text = file.read()\n",
    "except FileNOtFoundError as e:\n",
    "    print(e)\n",
    "    \n",
    "    \n",
    "finally:\n",
    "    file.close()"
   ]
  },
  {
   "cell_type": "code",
   "execution_count": 10,
   "id": "e4a6f043",
   "metadata": {},
   "outputs": [
    {
     "name": "stdout",
     "output_type": "stream",
     "text": [
      "prakash\n",
      "sumit\n",
      "champa\n"
     ]
    }
   ],
   "source": [
    "print(text)"
   ]
  },
  {
   "cell_type": "code",
   "execution_count": 11,
   "id": "892c7ac1",
   "metadata": {},
   "outputs": [],
   "source": [
    "# alternative and prefered way:"
   ]
  },
  {
   "cell_type": "code",
   "execution_count": 12,
   "id": "a091fc27",
   "metadata": {},
   "outputs": [],
   "source": [
    "with open(\"python800.txt\",'r') as file:\n",
    "    text = file.read()\n",
    "    "
   ]
  },
  {
   "cell_type": "code",
   "execution_count": 14,
   "id": "d83c9a1e",
   "metadata": {},
   "outputs": [
    {
     "name": "stdout",
     "output_type": "stream",
     "text": [
      "prakash\n",
      "sumit\n",
      "champa\n"
     ]
    }
   ],
   "source": [
    "print(text)"
   ]
  },
  {
   "cell_type": "code",
   "execution_count": 20,
   "id": "eb17fdbb",
   "metadata": {},
   "outputs": [],
   "source": [
    "#  read first paragraph only\n",
    "with open('python800.txt','r') as file:\n",
    "    text = file.readline()"
   ]
  },
  {
   "cell_type": "code",
   "execution_count": 21,
   "id": "023c737f",
   "metadata": {},
   "outputs": [
    {
     "name": "stdout",
     "output_type": "stream",
     "text": [
      "prakash\n",
      "\n"
     ]
    }
   ],
   "source": [
    "print(text)"
   ]
  },
  {
   "cell_type": "code",
   "execution_count": 22,
   "id": "50167af4",
   "metadata": {},
   "outputs": [],
   "source": [
    "#  read first paragraph only\n",
    "with open('python800.txt','r') as file:\n",
    "    text = file.readlines()"
   ]
  },
  {
   "cell_type": "code",
   "execution_count": 23,
   "id": "c2c5aa75",
   "metadata": {},
   "outputs": [
    {
     "name": "stdout",
     "output_type": "stream",
     "text": [
      "['prakash\\n', 'sumit\\n', 'champa']\n"
     ]
    }
   ],
   "source": [
    "print(text)"
   ]
  },
  {
   "cell_type": "code",
   "execution_count": 24,
   "id": "a816fcbb",
   "metadata": {},
   "outputs": [
    {
     "data": {
      "text/plain": [
       "'prakash\\n'"
      ]
     },
     "execution_count": 24,
     "metadata": {},
     "output_type": "execute_result"
    }
   ],
   "source": [
    "text[0]"
   ]
  },
  {
   "cell_type": "markdown",
   "id": "3f275c54",
   "metadata": {},
   "source": [
    "# write mode.\n",
    "* write mode le file exist gardaina vane naya banauxa.\n",
    "* file exist garxa vane purano file hatayera naya file lekxha. purano data loss hunxa"
   ]
  },
  {
   "cell_type": "code",
   "execution_count": 26,
   "id": "cc073b1c",
   "metadata": {},
   "outputs": [],
   "source": [
    "with open('write.txt', 'w')as file:\n",
    "    file.write(\"yo file exist garthyena maile naya banaye using write mode\")"
   ]
  },
  {
   "cell_type": "code",
   "execution_count": 27,
   "id": "a7ff241f",
   "metadata": {},
   "outputs": [
    {
     "data": {
      "text/plain": [
       "True"
      ]
     },
     "execution_count": 27,
     "metadata": {},
     "output_type": "execute_result"
    }
   ],
   "source": [
    "os.path.exists('write.txt')"
   ]
  },
  {
   "cell_type": "code",
   "execution_count": 28,
   "id": "e5907363",
   "metadata": {},
   "outputs": [],
   "source": [
    "# whats inside write.txt?"
   ]
  },
  {
   "cell_type": "code",
   "execution_count": 30,
   "id": "af70fa4b",
   "metadata": {},
   "outputs": [
    {
     "data": {
      "text/plain": [
       "'yo file exist garthyena maile naya banaye using write mode'"
      ]
     },
     "execution_count": 30,
     "metadata": {},
     "output_type": "execute_result"
    }
   ],
   "source": [
    "with open(\"write.txt\",'r')as file:\n",
    "    text = file.read()\n",
    "text"
   ]
  },
  {
   "cell_type": "code",
   "execution_count": null,
   "id": "d01940d3",
   "metadata": {},
   "outputs": [],
   "source": [
    "# yo write.txt chha pailei maile feri naya banaye vane yo gayab hunxa"
   ]
  },
  {
   "cell_type": "code",
   "execution_count": 31,
   "id": "01ad0806",
   "metadata": {},
   "outputs": [],
   "source": [
    "with open('write.txt', 'w')as file:\n",
    "    file.write(\"yo file paiela exist garthyo data pani thiyo tara write maode le naya banayo\")"
   ]
  },
  {
   "cell_type": "code",
   "execution_count": 33,
   "id": "2cc706fb",
   "metadata": {},
   "outputs": [
    {
     "data": {
      "text/plain": [
       "'yo file paiela exist garthyo data pani thiyo tara write maode le naya banayo'"
      ]
     },
     "execution_count": 33,
     "metadata": {},
     "output_type": "execute_result"
    }
   ],
   "source": [
    "with open('write.txt','r')as file:\n",
    "    text = file.read()\n",
    "text"
   ]
  },
  {
   "cell_type": "markdown",
   "id": "65490241",
   "metadata": {},
   "source": [
    "# append mode\n",
    "* append mode le file exist gardina vaen naya banauxa\n",
    "* file exist garxa vane purano mai append gardai janxa. data loss hudaina"
   ]
  },
  {
   "cell_type": "code",
   "execution_count": 36,
   "id": "1de8e942",
   "metadata": {},
   "outputs": [],
   "source": [
    "with open(\"append.txt\",'a') as file:\n",
    "    file.write(\"1. yo append.txt ho, yo exist garthyena, maiela eslai naya banaye using a mode\")"
   ]
  },
  {
   "cell_type": "code",
   "execution_count": 37,
   "id": "715d9b3b",
   "metadata": {},
   "outputs": [
    {
     "data": {
      "text/plain": [
       "'l. yo append.txt ho, yo exist garthyena, maiela eslai naya banaye using a mode1. yo append.txt ho, yo exist garthyena, maiela eslai naya banaye using a mode'"
      ]
     },
     "execution_count": 37,
     "metadata": {},
     "output_type": "execute_result"
    }
   ],
   "source": [
    "with open ('append.txt','r') as file:\n",
    "    text = file.read()\n",
    "text"
   ]
  },
  {
   "cell_type": "code",
   "execution_count": 38,
   "id": "a0498227",
   "metadata": {},
   "outputs": [],
   "source": [
    "with open(\"append.txt\",'a') as file:\n",
    "    file.write(\"\\n2. yo append.txt ho, yo exist garthyena, maiela eslai naya banaye using a mode\")"
   ]
  },
  {
   "cell_type": "code",
   "execution_count": 39,
   "id": "18f8a043",
   "metadata": {},
   "outputs": [
    {
     "name": "stdout",
     "output_type": "stream",
     "text": [
      "l. yo append.txt ho, yo exist garthyena, maiela eslai naya banaye using a mode1. yo append.txt ho, yo exist garthyena, maiela eslai naya banaye using a mode\n",
      "2. yo append.txt ho, yo exist garthyena, maiela eslai naya banaye using a mode\n"
     ]
    }
   ],
   "source": [
    "with open ('append.txt','r') as file:\n",
    "    text = file.read()\n",
    "print(text)"
   ]
  },
  {
   "cell_type": "code",
   "execution_count": 40,
   "id": "b98a4776",
   "metadata": {},
   "outputs": [],
   "source": [
    "# list of python on this directory."
   ]
  },
  {
   "cell_type": "code",
   "execution_count": 41,
   "id": "89e3d748",
   "metadata": {},
   "outputs": [
    {
     "data": {
      "text/plain": [
       "'C:\\\\Users\\\\Asus\\\\OneDrive\\\\Desktop\\\\Python800'"
      ]
     },
     "execution_count": 41,
     "metadata": {},
     "output_type": "execute_result"
    }
   ],
   "source": [
    "os.getcwd()# yo mero current directory ho"
   ]
  },
  {
   "cell_type": "code",
   "execution_count": 42,
   "id": "1406229b",
   "metadata": {},
   "outputs": [
    {
     "data": {
      "text/plain": [
       "['.ipynb_checkpoints',\n",
       " 'access specifier.ipynb',\n",
       " 'append.txt',\n",
       " 'args vs kwargs.ipynb',\n",
       " 'assignment(03-15).ipynb',\n",
       " 'Conditionals.ipynb',\n",
       " 'Dictionary.ipynb',\n",
       " 'exception handling.ipynb',\n",
       " 'File handling.ipynb',\n",
       " 'Function.ipynb',\n",
       " 'Inheritance.ipynb',\n",
       " 'Introduction to python.ipynb',\n",
       " 'list comprehension.ipynb',\n",
       " 'List method.ipynb',\n",
       " 'Logical operators.ipynb',\n",
       " 'looping.ipynb',\n",
       " 'membership operator.ipynb',\n",
       " 'My Main Note.ipynb',\n",
       " 'My Note.ipynb',\n",
       " 'Nested and chaining.ipynb',\n",
       " 'oop.ipynb',\n",
       " 'pass keywords.ipynb',\n",
       " 'Pylomorphism.ipynb',\n",
       " 'python list.ipynb',\n",
       " 'python string.ipynb',\n",
       " 'Python800 - Shortcut.lnk',\n",
       " 'Python800.txt',\n",
       " 'Recursion.ipynb',\n",
       " 'set.ipynb',\n",
       " 'string method.ipynb',\n",
       " 'syntax of list comprehension.ipynb',\n",
       " 'Taking user input.ipynb',\n",
       " 'tuples.ipynb',\n",
       " 'Untitled.ipynb',\n",
       " 'Untitled1.ipynb',\n",
       " 'Variable naming convention.ipynb',\n",
       " 'write.txt']"
      ]
     },
     "execution_count": 42,
     "metadata": {},
     "output_type": "execute_result"
    }
   ],
   "source": [
    "os.listdir()# mero current directory ma yo file haru xa"
   ]
  },
  {
   "cell_type": "code",
   "execution_count": 3,
   "id": "1a7476fa",
   "metadata": {},
   "outputs": [
    {
     "data": {
      "text/plain": [
       "[\"Assassin's Creed III\",\n",
       " 'Custom Office Templates',\n",
       " 'desktop.ini',\n",
       " 'Source code.docx']"
      ]
     },
     "execution_count": 3,
     "metadata": {},
     "output_type": "execute_result"
    }
   ],
   "source": [
    "import os\n",
    "os.listdir(r'C:\\Users\\Asus\\OneDrive\\Documents')"
   ]
  },
  {
   "cell_type": "code",
   "execution_count": 4,
   "id": "0c952905",
   "metadata": {},
   "outputs": [],
   "source": [
    "#csv library--dictionary ko data rewrite garxa"
   ]
  },
  {
   "cell_type": "code",
   "execution_count": 5,
   "id": "d202fd2a",
   "metadata": {},
   "outputs": [],
   "source": [
    "import csv"
   ]
  },
  {
   "cell_type": "code",
   "execution_count": 11,
   "id": "bb843d7a",
   "metadata": {},
   "outputs": [],
   "source": [
    "with open('students.csv', 'w', newline = '')as file:\n",
    "    writer = csv.DictWriter(file, ['student_name','gender'])\n",
    "    writer.writeheader()\n",
    "    \n",
    "    writer.writerow({'student_name': 'Ram','gender': 'Male'})"
   ]
  },
  {
   "cell_type": "code",
   "execution_count": null,
   "id": "be55586c",
   "metadata": {},
   "outputs": [],
   "source": []
  }
 ],
 "metadata": {
  "kernelspec": {
   "display_name": "Python 3 (ipykernel)",
   "language": "python",
   "name": "python3"
  },
  "language_info": {
   "codemirror_mode": {
    "name": "ipython",
    "version": 3
   },
   "file_extension": ".py",
   "mimetype": "text/x-python",
   "name": "python",
   "nbconvert_exporter": "python",
   "pygments_lexer": "ipython3",
   "version": "3.11.3"
  }
 },
 "nbformat": 4,
 "nbformat_minor": 5
}
