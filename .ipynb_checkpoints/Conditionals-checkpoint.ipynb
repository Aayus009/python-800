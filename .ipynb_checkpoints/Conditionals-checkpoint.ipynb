{
 "cells": [
  {
   "cell_type": "code",
   "execution_count": null,
   "id": "e3519975",
   "metadata": {},
   "outputs": [],
   "source": [
    "number = int(input(\"enter any number: \"))\n",
    "rem = number % 2\n",
    "rem"
   ]
  },
  {
   "cell_type": "markdown",
   "id": "aca21618",
   "metadata": {},
   "source": [
    "# Comparison operator"
   ]
  },
  {
   "cell_type": "code",
   "execution_count": null,
   "id": "f1c4a348",
   "metadata": {},
   "outputs": [],
   "source": [
    "2 == 2 #equals to"
   ]
  },
  {
   "cell_type": "code",
   "execution_count": null,
   "id": "40cb8cb3",
   "metadata": {},
   "outputs": [],
   "source": [
    "2 < 1#less than \n"
   ]
  },
  {
   "cell_type": "code",
   "execution_count": null,
   "id": "9fe6662d",
   "metadata": {},
   "outputs": [],
   "source": [
    "2 > 1#greater than "
   ]
  },
  {
   "cell_type": "code",
   "execution_count": null,
   "id": "8387971b",
   "metadata": {},
   "outputs": [],
   "source": [
    "2 <= 6\n"
   ]
  },
  {
   "cell_type": "code",
   "execution_count": null,
   "id": "06ef9bbf",
   "metadata": {},
   "outputs": [],
   "source": [
    "5 >= 9"
   ]
  },
  {
   "cell_type": "code",
   "execution_count": null,
   "id": "9e533ed0",
   "metadata": {},
   "outputs": [],
   "source": [
    "5 != 9\n"
   ]
  },
  {
   "cell_type": "code",
   "execution_count": null,
   "id": "5eb8505f",
   "metadata": {},
   "outputs": [],
   "source": [
    "number = int(input(\"enter any number: \"))\n",
    "rem = number % 2\n",
    "if rem == 0:\n",
    "    print(\"The number is even\")\n",
    "else:\n",
    "    print(\"the number is odd\")\n",
    "    "
   ]
  },
  {
   "cell_type": "code",
   "execution_count": null,
   "id": "47801e4a",
   "metadata": {},
   "outputs": [],
   "source": []
  }
 ],
 "metadata": {
  "kernelspec": {
   "display_name": "Python 3 (ipykernel)",
   "language": "python",
   "name": "python3"
  },
  "language_info": {
   "codemirror_mode": {
    "name": "ipython",
    "version": 3
   },
   "file_extension": ".py",
   "mimetype": "text/x-python",
   "name": "python",
   "nbconvert_exporter": "python",
   "pygments_lexer": "ipython3",
   "version": "3.11.3"
  }
 },
 "nbformat": 4,
 "nbformat_minor": 5
}
