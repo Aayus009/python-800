{
 "cells": [
  {
   "cell_type": "code",
   "execution_count": 1,
   "id": "52818bf2",
   "metadata": {},
   "outputs": [
    {
     "data": {
      "text/plain": [
       "11"
      ]
     },
     "execution_count": 1,
     "metadata": {},
     "output_type": "execute_result"
    }
   ],
   "source": [
    "5 + 6"
   ]
  },
  {
   "cell_type": "code",
   "execution_count": 2,
   "id": "c6b72789",
   "metadata": {},
   "outputs": [
    {
     "data": {
      "text/plain": [
       "30"
      ]
     },
     "execution_count": 2,
     "metadata": {},
     "output_type": "execute_result"
    }
   ],
   "source": [
    "5 * 6"
   ]
  },
  {
   "cell_type": "code",
   "execution_count": 3,
   "id": "bf046218",
   "metadata": {},
   "outputs": [
    {
     "name": "stdout",
     "output_type": "stream",
     "text": [
      "40\n",
      "40\n"
     ]
    }
   ],
   "source": [
    "X = 5\n",
    "Y = 8\n",
    "TOTAL = X * Y\n",
    "print(TOTAL) \n",
    "mul =X * Y\n",
    "print(mul)"
   ]
  },
  {
   "cell_type": "code",
   "execution_count": 4,
   "id": "8689aac6",
   "metadata": {},
   "outputs": [
    {
     "name": "stdout",
     "output_type": "stream",
     "text": [
      "hello world\n"
     ]
    }
   ],
   "source": [
    "print(\"hello world\") #print statement"
   ]
  },
  {
   "cell_type": "markdown",
   "id": "d8afa2f0",
   "metadata": {},
   "source": [
    "#This is a comment and it is not executed\n"
   ]
  },
  {
   "cell_type": "markdown",
   "id": "8f635e7c",
   "metadata": {},
   "source": [
    "Hello guys\n"
   ]
  },
  {
   "cell_type": "markdown",
   "id": "a0ae8097",
   "metadata": {},
   "source": [
    "#Arthematic Operators\n",
    "Arthematic operator are used with numeric values to perform common mathematicla operations:\n",
    "  * Addition (+)\n",
    "  * Subtraction (-)\n",
    "  * Multiplication (*)\n",
    "  * Division (/)\n",
    "  * Modulus (%)\n",
    "  * Exponentiation (**)\n",
    "  * Floor division (//)"
   ]
  },
  {
   "cell_type": "code",
   "execution_count": 5,
   "id": "81e9396d",
   "metadata": {
    "scrolled": true
   },
   "outputs": [
    {
     "data": {
      "text/plain": [
       "1"
      ]
     },
     "execution_count": 5,
     "metadata": {},
     "output_type": "execute_result"
    }
   ],
   "source": [
    "15 % 2 #modulus le remainder dinxa"
   ]
  },
  {
   "cell_type": "code",
   "execution_count": 6,
   "id": "916f3c75",
   "metadata": {},
   "outputs": [
    {
     "data": {
      "text/plain": [
       "6"
      ]
     },
     "execution_count": 6,
     "metadata": {},
     "output_type": "execute_result"
    }
   ],
   "source": [
    "2 * 3"
   ]
  },
  {
   "cell_type": "code",
   "execution_count": 7,
   "id": "36c37a03",
   "metadata": {},
   "outputs": [
    {
     "data": {
      "text/plain": [
       "8"
      ]
     },
     "execution_count": 7,
     "metadata": {},
     "output_type": "execute_result"
    }
   ],
   "source": [
    "2 ** 3 #2 ko power 3 or cube\n"
   ]
  },
  {
   "cell_type": "code",
   "execution_count": 8,
   "id": "3e826876",
   "metadata": {},
   "outputs": [
    {
     "data": {
      "text/plain": [
       "7.5"
      ]
     },
     "execution_count": 8,
     "metadata": {},
     "output_type": "execute_result"
    }
   ],
   "source": [
    "15/2"
   ]
  },
  {
   "cell_type": "code",
   "execution_count": 9,
   "id": "6d058bed",
   "metadata": {},
   "outputs": [
    {
     "data": {
      "text/plain": [
       "7"
      ]
     },
     "execution_count": 9,
     "metadata": {},
     "output_type": "execute_result"
    }
   ],
   "source": [
    "15//2 # divide and select floor value"
   ]
  },
  {
   "cell_type": "markdown",
   "id": "3ada920f",
   "metadata": {},
   "source": [
    "assignment in alzebra bata garna"
   ]
  },
  {
   "cell_type": "code",
   "execution_count": 10,
   "id": "3c6b0bb5",
   "metadata": {},
   "outputs": [
    {
     "name": "stdout",
     "output_type": "stream",
     "text": [
      "34\n",
      "6\n"
     ]
    }
   ],
   "source": [
    "x = 20\n",
    "y = 14 \n",
    "sum = x + y\n",
    "print(sum)#print statement\n",
    "sub = x - y\n",
    "print(sub)\n"
   ]
  },
  {
   "cell_type": "code",
   "execution_count": 11,
   "id": "362b7ca8",
   "metadata": {},
   "outputs": [
    {
     "name": "stdout",
     "output_type": "stream",
     "text": [
      "160\n",
      "2.0\n"
     ]
    }
   ],
   "source": [
    "x = 8\n",
    "y = 4\n",
    "z = 5\n",
    "mul = x * y * z#Multiplication\n",
    "print(mul)#print statement\n",
    "div = x / y#division \n",
    "print(div)"
   ]
  },
  {
   "cell_type": "code",
   "execution_count": 12,
   "id": "1bafaa38",
   "metadata": {},
   "outputs": [
    {
     "name": "stdout",
     "output_type": "stream",
     "text": [
      "1\n"
     ]
    }
   ],
   "source": [
    "x = 15\n",
    "y = 2\n",
    "mod = x % y#modulus\n",
    "print(mod)\n"
   ]
  },
  {
   "cell_type": "code",
   "execution_count": 13,
   "id": "d561cd79",
   "metadata": {},
   "outputs": [
    {
     "name": "stdout",
     "output_type": "stream",
     "text": [
      "64\n",
      "25\n"
     ]
    }
   ],
   "source": [
    "#Exponentation \n",
    "x = 4 ** 3\n",
    "y = 5 ** 2\n",
    "print(x) \n",
    "print(y)"
   ]
  },
  {
   "cell_type": "code",
   "execution_count": 14,
   "id": "2fe2f3e6",
   "metadata": {},
   "outputs": [
    {
     "ename": "IndentationError",
     "evalue": "unexpected indent (4009149456.py, line 3)",
     "output_type": "error",
     "traceback": [
      "\u001b[1;36m  Cell \u001b[1;32mIn[14], line 3\u001b[1;36m\u001b[0m\n\u001b[1;33m    y = 21 // 2\u001b[0m\n\u001b[1;37m    ^\u001b[0m\n\u001b[1;31mIndentationError\u001b[0m\u001b[1;31m:\u001b[0m unexpected indent\n"
     ]
    }
   ],
   "source": [
    "#Floor division\n",
    "X = 15 // 2\n",
    "   y = 21 // 2 \n",
    "print(x)\n",
    "print(y)\n"
   ]
  },
  {
   "cell_type": "code",
   "execution_count": null,
   "id": "1f8f2446",
   "metadata": {},
   "outputs": [],
   "source": [
    "x = 16\n",
    "y = 28 \n",
    "z = 46\n",
    "sum = x + y + z\n",
    "print(sum)\n",
    "average = sum / 100 \n",
    "print(average)\n",
    "floor = sum // 4\n",
    "print(floor)"
   ]
  },
  {
   "cell_type": "markdown",
   "id": "c5337b96",
   "metadata": {},
   "source": [
    "Second day of python training."
   ]
  },
  {
   "cell_type": "code",
   "execution_count": 17,
   "id": "f89f2bf4",
   "metadata": {},
   "outputs": [],
   "source": [
    "#package manager[pip,conda,Anoconda].\n"
   ]
  },
  {
   "cell_type": "code",
   "execution_count": 20,
   "id": "3e6017be",
   "metadata": {},
   "outputs": [
    {
     "data": {
      "text/plain": [
       "'aayusgc'"
      ]
     },
     "execution_count": 20,
     "metadata": {},
     "output_type": "execute_result"
    }
   ],
   "source": [
    "\"aayus\" + \"gc\""
   ]
  },
  {
   "cell_type": "code",
   "execution_count": null,
   "id": "e9cfdc77",
   "metadata": {},
   "outputs": [],
   "source": []
  }
 ],
 "metadata": {
  "kernelspec": {
   "display_name": "Python 3 (ipykernel)",
   "language": "python",
   "name": "python3"
  },
  "language_info": {
   "codemirror_mode": {
    "name": "ipython",
    "version": 3
   },
   "file_extension": ".py",
   "mimetype": "text/x-python",
   "name": "python",
   "nbconvert_exporter": "python",
   "pygments_lexer": "ipython3",
   "version": "3.11.3"
  }
 },
 "nbformat": 4,
 "nbformat_minor": 5
}
