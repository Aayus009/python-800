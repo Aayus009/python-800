{
 "cells": [
  {
   "cell_type": "code",
   "execution_count": null,
   "id": "4c5d6cf9",
   "metadata": {},
   "outputs": [],
   "source": [
    "print(\"Hello world!\")#print statement"
   ]
  },
  {
   "cell_type": "markdown",
   "id": "379ed5f5",
   "metadata": {},
   "source": [
    "# Words followed by hastag is a comment."
   ]
  },
  {
   "cell_type": "code",
   "execution_count": null,
   "id": "6a78e5b5",
   "metadata": {},
   "outputs": [],
   "source": [
    "x = 4\n",
    "y = 5\n",
    "z = 8\n",
    "sum = x + y \n",
    "sub = sum - z\n",
    "mul = x * y * z\n",
    "div = sum / 3 \n",
    "print(sum)\n",
    "print(sub)\n",
    "print(mul)\n",
    "print(div)\n",
    "modul = z % x\n",
    "print(modul)\n",
    "expo = 8 ** 2\n",
    "print(expo)\n",
    "floor = 15//2\n",
    "print(floor)\n",
    "\n"
   ]
  },
  {
   "cell_type": "markdown",
   "id": "cbe2815f",
   "metadata": {},
   "source": [
    "# Python is a interprated high level programming language which is case sensitive."
   ]
  },
  {
   "cell_type": "code",
   "execution_count": null,
   "id": "52e9514f",
   "metadata": {},
   "outputs": [],
   "source": [
    "#case sensitive "
   ]
  },
  {
   "cell_type": "code",
   "execution_count": null,
   "id": "8d87955b",
   "metadata": {},
   "outputs": [],
   "source": [
    "False = 0 "
   ]
  },
  {
   "cell_type": "markdown",
   "id": "0605b483",
   "metadata": {},
   "source": [
    "# Assigning strings to the variables and to print them."
   ]
  },
  {
   "cell_type": "code",
   "execution_count": null,
   "id": "ad66d45f",
   "metadata": {},
   "outputs": [],
   "source": [
    "A = \"Apple\"\n",
    "a = \"ace\"\n",
    "print(f\"the value of A is {A}\")\n",
    "print(f\"the value of a is {a}\")"
   ]
  },
  {
   "cell_type": "code",
   "execution_count": null,
   "id": "6d9ce95b",
   "metadata": {},
   "outputs": [],
   "source": [
    "A = \"Apple\"\n",
    "B = \"Ball\"\n",
    "print(\"the value of A is {}\".format(A))\n",
    "print(\"the value of B is {}\".format(B))"
   ]
  },
  {
   "cell_type": "code",
   "execution_count": null,
   "id": "7805d85c",
   "metadata": {},
   "outputs": [],
   "source": [
    "First_person = \"Hari\"\n",
    "Second_person = \"Sita\"\n",
    "print(\"The Name of First_person is {}\".format(First_person))\n",
    "print(\"The Name of Second_person is {}\".format(Second_person))"
   ]
  },
  {
   "cell_type": "code",
   "execution_count": null,
   "id": "fd85b96b",
   "metadata": {},
   "outputs": [],
   "source": [
    "min1 = 42    #WAP TO FIND HOW MANY SECONDS ARE IN 42 MINUTES AND 42 SECONDS.\n",
    "sec1 = 42\n",
    "sec2 = (42 * 60)\n",
    "Total_sec = sec1 + sec2\n",
    "print(Total_sec)\n"
   ]
  },
  {
   "cell_type": "markdown",
   "id": "7a02ebcf",
   "metadata": {},
   "source": [
    "# Swaping values if two variables."
   ]
  },
  {
   "cell_type": "code",
   "execution_count": null,
   "id": "5b7704f3",
   "metadata": {},
   "outputs": [],
   "source": [
    "X = 56\n",
    "Y = 24 \n",
    "Z = X\n",
    "X = Y\n",
    "Y = Z\n",
    "print(X)\n",
    "print(Y)\n"
   ]
  },
  {
   "cell_type": "markdown",
   "id": "b4221f77",
   "metadata": {},
   "source": [
    "# UPDATING VALUES OF A VARIABLE"
   ]
  },
  {
   "cell_type": "code",
   "execution_count": null,
   "id": "34ebd860",
   "metadata": {},
   "outputs": [],
   "source": [
    "a = 25\n",
    "print(f\"Before a = {a}\")\n",
    "a = 999\n",
    "print(f\"After a = {a}\")"
   ]
  },
  {
   "cell_type": "markdown",
   "id": "c7d13cb3",
   "metadata": {},
   "source": [
    "# WAP HOW MANY MILES ARE THERE IN 10 KILOMETERS."
   ]
  },
  {
   "cell_type": "code",
   "execution_count": null,
   "id": "7682c3a0",
   "metadata": {},
   "outputs": [],
   "source": [
    "km_1 = 10 #if value is fixed \n",
    "miles_1 = 10/1.609\n",
    "print(miles_1)\n"
   ]
  },
  {
   "cell_type": "code",
   "execution_count": null,
   "id": "98090476",
   "metadata": {},
   "outputs": [],
   "source": [
    "km = float(input(\"enter the values in kms: \"))#asking value with user.\n",
    "miles = km / 1.609\n",
    "print(km, \"kms in miles will be \", miles, \"miles\")\n",
    "\n",
    "\n"
   ]
  },
  {
   "cell_type": "code",
   "execution_count": null,
   "id": "cdf25db6",
   "metadata": {},
   "outputs": [],
   "source": [
    "min_1 = 42\n",
    "sec_1 = 42\n",
    "sec_2 = min_1*60\n",
    "total_sec = sec_1 + sec_2\n",
    "print(total_sec)"
   ]
  },
  {
   "cell_type": "code",
   "execution_count": null,
   "id": "35353a6d",
   "metadata": {},
   "outputs": [],
   "source": [
    "min = int(input(\"enter the values in min: \"))#asking value with the user.\n",
    "sec1 = 2\n",
    "sec = (min*60) + sec1\n",
    "total = sec1 + sec\n",
    "print(min, \"min in sec will be \",total, \"sec\" )\n"
   ]
  },
  {
   "cell_type": "code",
   "execution_count": null,
   "id": "222380ef",
   "metadata": {},
   "outputs": [],
   "source": [
    "hours= int(input(\"enter the values in hours: \")) \n",
    "minute = hours * 60\n",
    "sec= hours * 60**2\n",
    "print(hours, \"hours in minute will be \", minute, \"minutes\")\n",
    "print(hours, \"hours in sec will be \", sec, \"seconds\")\n",
    "min = int(input(\"enter the values in min:\"))\n",
    "hours = min//60\n",
    "sec = min*60\n",
    "print(min,\"min in hours will be \",hours, \"hours\")\n",
    "print(min,\"min in sec will be \", sec, \"seconds\")"
   ]
  },
  {
   "cell_type": "code",
   "execution_count": null,
   "id": "7ea73e27",
   "metadata": {},
   "outputs": [],
   "source": [
    "km =int(input(\"enter the values in km:\"))\n",
    "meter = km*1000\n",
    "cm = (km*1000)*100\n",
    "mm = (km*1000)*100**2\n",
    "print(km,\"km in meter will be\", meter, \"meters\")\n",
    "print(km, \"km in cm will be\",cm , \"centimeters\")\n",
    "print(km, \"km in mm will be\", mm, \"millimeter\")"
   ]
  },
  {
   "cell_type": "markdown",
   "id": "dbbbe0c9",
   "metadata": {},
   "source": [
    "# if you run 10 kilometers in 42 minutes 42 seconds, what is your average pace.\n"
   ]
  },
  {
   "cell_type": "code",
   "execution_count": null,
   "id": "f0c4b685",
   "metadata": {},
   "outputs": [],
   "source": [
    "km = 10\n",
    "miles = 10/1.609\n",
    "min1 = 42\n",
    "sec1 = 42\n",
    "min2 = sec1/60\n",
    "total_min = min1 +  min2\n",
    "average_pace = miles / total_min\n",
    "print(average_pace)"
   ]
  },
  {
   "cell_type": "code",
   "execution_count": null,
   "id": "eb2d96c4",
   "metadata": {},
   "outputs": [],
   "source": [
    "hour = int(input(\"enter the value in hour: \"))\n",
    "miles = hour/1.609\n",
    "min = int(input(\"enter the value in min: \"))\n",
    "sec =min*60\n",
    "sec2 = 42\n",
    "total = sec + sec2\n",
    "avg_pace = miles/total\n",
    "print(avg_pace)"
   ]
  },
  {
   "cell_type": "markdown",
   "id": "1f89af8c",
   "metadata": {},
   "source": [
    "# Assignment:\n",
    "* The volume of a sphere with radius r is 4/3 pie r**3. What is the volume of a sphere with radius 5?"
   ]
  },
  {
   "cell_type": "code",
   "execution_count": null,
   "id": "8fd05080",
   "metadata": {},
   "outputs": [],
   "source": [
    "r1 = 5\n",
    "vol = (4/3) * (22/7) * (r1**3)\n",
    "print(f\"the volume of the sphere having radius {r1} is\",vol,\"cc\")"
   ]
  },
  {
   "cell_type": "code",
   "execution_count": null,
   "id": "c33df3f5",
   "metadata": {},
   "outputs": [],
   "source": [
    "x = 20\n",
    "y = 30 \n",
    "temp = x\n",
    "y = temp \n",
    "print(x)\n",
    "print(y)"
   ]
  },
  {
   "cell_type": "code",
   "execution_count": null,
   "id": "151669f5",
   "metadata": {},
   "outputs": [],
   "source": [
    "age = int(input(\"enter the age: \"))\n",
    "if (age>=18):\n",
    "    print(\"the person is alligible for voting \")\n",
    "else:\n",
    "    print(\"the person is not alligible for voting\")\n",
    "        "
   ]
  },
  {
   "cell_type": "markdown",
   "id": "c4307d6f",
   "metadata": {},
   "source": [
    "# Wap a program to display 'Hello' if a number entered by user is a multiple of five , otherwise print \"Bye\"."
   ]
  },
  {
   "cell_type": "code",
   "execution_count": null,
   "id": "bb64ead1",
   "metadata": {},
   "outputs": [],
   "source": [
    "num = int(input(\"enter any number: \"))\n",
    "if(num%5==0):\n",
    "    print(\"Hello\")\n",
    "else:\n",
    "    print(\"Bye\")"
   ]
  },
  {
   "cell_type": "markdown",
   "id": "69243cdc",
   "metadata": {},
   "source": [
    "# Wap to check whether last digit entered by a user is divisible by 3 or not."
   ]
  },
  {
   "cell_type": "code",
   "execution_count": null,
   "id": "c529c396",
   "metadata": {},
   "outputs": [],
   "source": [
    "num = int(input(\"enter any number: \"))\n",
    "last_num =num % 10\n",
    "if(last_num % 3 == 0):\n",
    "    print(\"the entered number is divisible by 3\")\n",
    "else:\n",
    "    print(\"the entered number is not divisible by 3\")"
   ]
  },
  {
   "cell_type": "code",
   "execution_count": null,
   "id": "dcaf3861",
   "metadata": {},
   "outputs": [],
   "source": [
    "for letter in s:\n",
    "    if letter == \"a\" or letter == \"e\" or letter == \"i\" or letter== \"o\" or letter == \"u\":\n",
    "        print(f\"the letter {letter} is vowel\")\n",
    "    else:\n",
    "        print(f\"the letter {letter} is consonant\")"
   ]
  },
  {
   "cell_type": "code",
   "execution_count": null,
   "id": "ce0393f2",
   "metadata": {},
   "outputs": [],
   "source": [
    "for letter in s:\n",
    "    if letter == \"a\" and letter == \"e\" and letter == \"i\" and letter== \"o\" and letter == \"u\":\n",
    "        print(f\"the letter {letter} is vowel\")\n",
    "    else:\n",
    "        print(f\"the letter {letter} is consonant\")"
   ]
  },
  {
   "cell_type": "code",
   "execution_count": null,
   "id": "30458afc",
   "metadata": {},
   "outputs": [],
   "source": [
    "s = \"Hamro nepal ma\""
   ]
  },
  {
   "cell_type": "code",
   "execution_count": null,
   "id": "91189a7c",
   "metadata": {},
   "outputs": [],
   "source": [
    "for index in range(0,len(s), 1):\n",
    "    print(s[index])\n"
   ]
  },
  {
   "cell_type": "code",
   "execution_count": null,
   "id": "6f96fe09",
   "metadata": {},
   "outputs": [],
   "source": [
    "s = \"Hamro nepal ma \""
   ]
  },
  {
   "cell_type": "code",
   "execution_count": null,
   "id": "0cfd1900",
   "metadata": {},
   "outputs": [],
   "source": [
    "for index in range(0,len(s), 1):\n",
    "    print(index,s[index])\n"
   ]
  },
  {
   "cell_type": "code",
   "execution_count": null,
   "id": "d01db156",
   "metadata": {},
   "outputs": [],
   "source": [
    "s[7:10]#slicing\n"
   ]
  },
  {
   "cell_type": "code",
   "execution_count": null,
   "id": "7afacd5c",
   "metadata": {},
   "outputs": [],
   "source": [
    "s = \"Hamro nepal ma\"\n",
    "start = len(s)-1\n",
    "step = -1\n",
    "stop = -1\n",
    "for index in range(start, step,stop):\n",
    "    if s[index]==\" \":\n",
    "        continue\n",
    "    print(index, s[index])"
   ]
  },
  {
   "cell_type": "code",
   "execution_count": null,
   "id": "ea4501c9",
   "metadata": {},
   "outputs": [],
   "source": [
    "s =\"sunny day\"\n",
    "for index in range(len(s)-1, -1, -1):\n",
    "    print(index, s[index])"
   ]
  },
  {
   "cell_type": "code",
   "execution_count": null,
   "id": "e3ee28bb",
   "metadata": {},
   "outputs": [],
   "source": [
    "for item in s:\n",
    "    print(item)"
   ]
  },
  {
   "cell_type": "code",
   "execution_count": null,
   "id": "24e6bc1b",
   "metadata": {},
   "outputs": [],
   "source": [
    "s =\"hello world\"\n",
    "for index, letter in enumerate (s):\n",
    "    if letter==\" \":\n",
    "        continue\n",
    "    print(index, letter)"
   ]
  },
  {
   "cell_type": "markdown",
   "id": "49d84661",
   "metadata": {},
   "source": [
    "# Wap that asks user to enter a string and prints the string in reverse order."
   ]
  },
  {
   "cell_type": "code",
   "execution_count": null,
   "id": "0ca6ccec",
   "metadata": {},
   "outputs": [],
   "source": [
    "s=str(input(\"enter a string: \"))\n",
    "for index in range(len(s)-1,-1 , -1):\n",
    "    print(index, s[index])\n"
   ]
  },
  {
   "cell_type": "markdown",
   "id": "fc1dff56",
   "metadata": {},
   "source": [
    "# wap that asks the user to enter a string and prints the number of vowels in the string."
   ]
  },
  {
   "cell_type": "code",
   "execution_count": null,
   "id": "f42c9ce4",
   "metadata": {},
   "outputs": [],
   "source": [
    "letter=str(input(\"enter the string: \" ))\n",
    "for letter in s: \n",
    "      if letter == \"a\" or letter == \"e\" or letter ==\"i\" or letter ==\"o\" or letter ==\"u\":\n",
    "        print(f\"the letter {letter} is a vowel.\")"
   ]
  },
  {
   "cell_type": "markdown",
   "id": "b05eb3c9",
   "metadata": {},
   "source": [
    "# Each world capatilized"
   ]
  },
  {
   "cell_type": "code",
   "execution_count": null,
   "id": "3c2033b7",
   "metadata": {},
   "outputs": [],
   "source": [
    "speech =str(input(\"enter a sentence: \"))\n",
    "speech.upper()\n"
   ]
  },
  {
   "cell_type": "markdown",
   "id": "a8f6fd76",
   "metadata": {},
   "source": [
    "# vowels replaced by the characters \"o\""
   ]
  },
  {
   "cell_type": "code",
   "execution_count": null,
   "id": "884e6f22",
   "metadata": {},
   "outputs": [],
   "source": [
    "string=str(input(\"enter a string: \"))\n",
    "for i in string:\n",
    "    if i in 'aeiou':\n",
    "        print('o',end=' ')\n",
    "    else:\n",
    "        print(i,end=' ')"
   ]
  },
  {
   "cell_type": "code",
   "execution_count": null,
   "id": "bce90bb1",
   "metadata": {},
   "outputs": [],
   "source": [
    "txt =\"I Like orange Apple Banana and Kiwi.\"\n",
    "txt[6:35]\n",
    "if txt==\"and\":\n",
    "    print(txt)\n"
   ]
  },
  {
   "cell_type": "code",
   "execution_count": null,
   "id": "4429986f",
   "metadata": {},
   "outputs": [],
   "source": [
    "str=input(\"enter a string: \")\n",
    "vowels=0\n",
    "consonant=0\n",
    "for i in str:\n",
    "    if(i =='a' or i=='e' or i=='i' or i=='o' or i=='u' or i=='A' or i=='E' or i=='I' or i=='O' or i=='U'):\n",
    "        vowels=vowels+1;\n",
    "    else:\n",
    "        consonant=consonant+1;\n",
    "print(\"The number of vowels:\",vowels);\n",
    "print(\"\\nthe number of consonant:\",consonant);"
   ]
  },
  {
   "cell_type": "code",
   "execution_count": null,
   "id": "8d70c945",
   "metadata": {},
   "outputs": [],
   "source": [
    "s = input(\"enter a string: \")\n",
    "t = input(\"enter a string: \")\n",
    "print(s+\" \"+t)"
   ]
  },
  {
   "cell_type": "code",
   "execution_count": null,
   "id": "92a94876",
   "metadata": {},
   "outputs": [],
   "source": [
    "text=(\"I like orange apple banana and kiwi\")\n",
    "text=text.lower()\n",
    "text=text[7:]\n",
    "text=text.replace(\" and \",' ')\n",
    "text=text.split(\" \")\n",
    "print(text)"
   ]
  },
  {
   "cell_type": "code",
   "execution_count": null,
   "id": "428dcce7",
   "metadata": {},
   "outputs": [],
   "source": [
    "for item in range(3):\n",
    "    mayor = input(\"enter the mayors name: \" )\n",
    "    city = input(\"enter the city name: \" )\n",
    "    dict ={mayor:city}\n",
    "print(dict)"
   ]
  },
  {
   "cell_type": "code",
   "execution_count": null,
   "id": "e38832d4",
   "metadata": {},
   "outputs": [],
   "source": [
    "data_lists=[]\n",
    "d = {}\n",
    "for item in range(3):\n",
    "    d[\"name\"] = input(\"name: \")\n",
    "    d[\"mayor_of\"] = input(\"mayor_of: \")\n",
    "    d[\"age\"] = input(\"age: \")\n",
    "    d[\"gender\"] = input(\"gender: \")\n",
    "    data_lists.append(d)\n",
    "    print(data_lists)"
   ]
  },
  {
   "cell_type": "code",
   "execution_count": null,
   "id": "8015c688",
   "metadata": {},
   "outputs": [],
   "source": [
    "string=input(\"enter a string: \")\n",
    "upper_case =0\n",
    "lower_case =0\n",
    "for i in string:\n",
    "    if \n"
   ]
  },
  {
   "cell_type": "code",
   "execution_count": null,
   "id": "f7f4c56c",
   "metadata": {},
   "outputs": [],
   "source": [
    "def string_test(s):\n",
    "    d={\"UPPER_CASE\":0, \"LOWER_CASE\":0}\n",
    "    for c in s:\n",
    "        if c.isupper():\n",
    "           d[\"UPPER_CASE\"]+=1\n",
    "        elif c.islower():\n",
    "           d[\"LOWER_CASE\"]+=1\n",
    "        else:\n",
    "           pass\n",
    "    print (\"Original String : \", s)\n",
    "    print (\"No. of Upper case characters : \", d[\"UPPER_CASE\"])\n",
    "    print (\"No. of Lower case Characters : \", d[\"LOWER_CASE\"])\n",
    "\n",
    "string_test('The quick Brown Fox')\n"
   ]
  },
  {
   "cell_type": "code",
   "execution_count": null,
   "id": "22cc26cd",
   "metadata": {},
   "outputs": [],
   "source": []
  },
  {
   "cell_type": "markdown",
   "id": "850ae3d3",
   "metadata": {},
   "source": [
    "# write a program to define the factorial of numbers from 5 to 8 using function.\n"
   ]
  },
  {
   "cell_type": "code",
   "execution_count": 1,
   "id": "e4e48f2f",
   "metadata": {},
   "outputs": [
    {
     "name": "stdout",
     "output_type": "stream",
     "text": [
      "the factorail of 5 is 120\n",
      "the factorail of 6 is 720\n",
      "the factorail of 7 is 5040\n"
     ]
    }
   ],
   "source": [
    "def factorail(i):\n",
    "    if i == 0:\n",
    "        return 1\n",
    "    else:\n",
    "        return i * factorail(i-1)\n",
    "for num in range(5,8):\n",
    "    fact = factorail(num)\n",
    "    print(f\"the factorail of {num} is {fact}\")"
   ]
  },
  {
   "cell_type": "markdown",
   "id": "7b275150",
   "metadata": {},
   "source": [
    "# write a python function to find the  factorail of the non negative integer."
   ]
  },
  {
   "cell_type": "code",
   "execution_count": 6,
   "id": "177b1695",
   "metadata": {},
   "outputs": [
    {
     "name": "stdout",
     "output_type": "stream",
     "text": [
      "9\n"
     ]
    }
   ],
   "source": [
    "import random\n",
    "random.seed(5)\n",
    "num =random.randint(0,10)\n",
    "print(num)"
   ]
  },
  {
   "cell_type": "code",
   "execution_count": 7,
   "id": "b0fc15f0",
   "metadata": {},
   "outputs": [],
   "source": [
    "def factorial(num):\n",
    "    if num < 0:\n",
    "        return None \n",
    "    fact = 1\n",
    "    if num == 0 or num == 1:\n",
    "        return fact\n",
    "    for i in range(2, num+1):\n",
    "        fact = fact * 1\n",
    "    \n",
    "    return fact\n",
    "    "
   ]
  },
  {
   "cell_type": "code",
   "execution_count": 13,
   "id": "cf51e799",
   "metadata": {},
   "outputs": [
    {
     "data": {
      "text/plain": [
       "1"
      ]
     },
     "execution_count": 13,
     "metadata": {},
     "output_type": "execute_result"
    }
   ],
   "source": [
    "num = 9\n",
    "factorial (num = num)"
   ]
  },
  {
   "cell_type": "markdown",
   "id": "62379373",
   "metadata": {},
   "source": [
    "# write a program using function to check if the given input number is prime or not if prime number return true and else return false."
   ]
  },
  {
   "cell_type": "code",
   "execution_count": 26,
   "id": "f53b2a71",
   "metadata": {},
   "outputs": [],
   "source": [
    "def prime_num(input_num):\n",
    "    if num < 2:\n",
    "        return False\n",
    "    for i in range(2,input_num):\n",
    "        if input_num % num == 0:\n",
    "            return False\n",
    "        return True\n",
    "    \n",
    "    "
   ]
  },
  {
   "cell_type": "code",
   "execution_count": 27,
   "id": "e6dea281",
   "metadata": {},
   "outputs": [
    {
     "name": "stdout",
     "output_type": "stream",
     "text": [
      "3 is_prime?  True\n"
     ]
    }
   ],
   "source": [
    "import random\n",
    "user_input =random.randint(0, 100)\n",
    "status = prime_num(input_num = user_input)\n",
    "print(user_input,\"is_prime? \", status)"
   ]
  },
  {
   "cell_type": "markdown",
   "id": "4d597b56",
   "metadata": {},
   "source": [
    "# write a python program that accepts the string and calculate the number of upper_case letter and lower_case letter."
   ]
  },
  {
   "cell_type": "code",
   "execution_count": 30,
   "id": "a4bad78d",
   "metadata": {},
   "outputs": [],
   "source": [
    "msg = \"RegEX\"\n",
    "def count_upper_lower(msg):\n",
    "    upper =0\n",
    "    lower =0\n",
    "    for i in msg:\n",
    "        if i.isupper():\n",
    "            upper = upper + 1\n",
    "        elif i.lower():\n",
    "            lower = lower + 1\n",
    "            \n",
    "    return upper,lower\n",
    "            "
   ]
  },
  {
   "cell_type": "code",
   "execution_count": 33,
   "id": "9d0fcac3",
   "metadata": {},
   "outputs": [],
   "source": [
    "up , lo = count_upper_lower(msg)\n"
   ]
  },
  {
   "cell_type": "code",
   "execution_count": 34,
   "id": "5f96f028",
   "metadata": {},
   "outputs": [
    {
     "data": {
      "text/plain": [
       "3"
      ]
     },
     "execution_count": 34,
     "metadata": {},
     "output_type": "execute_result"
    }
   ],
   "source": [
    "up"
   ]
  },
  {
   "cell_type": "code",
   "execution_count": 35,
   "id": "dab62deb",
   "metadata": {},
   "outputs": [
    {
     "data": {
      "text/plain": [
       "2"
      ]
     },
     "execution_count": 35,
     "metadata": {},
     "output_type": "execute_result"
    }
   ],
   "source": [
    "lo"
   ]
  },
  {
   "cell_type": "markdown",
   "id": "95419db3",
   "metadata": {},
   "source": [
    "# write a python program that accepts a hyprn-seperated of words as input and print a word in a hypen-seperated sequnece after sorting them alphabetically."
   ]
  },
  {
   "cell_type": "code",
   "execution_count": 48,
   "id": "3d894e0a",
   "metadata": {},
   "outputs": [],
   "source": [
    "items ='green-red-yellow-black-white'"
   ]
  },
  {
   "cell_type": "code",
   "execution_count": 51,
   "id": "b1f61eba",
   "metadata": {},
   "outputs": [
    {
     "ename": "NameError",
     "evalue": "name 'words_list' is not defined",
     "output_type": "error",
     "traceback": [
      "\u001b[1;31m---------------------------------------------------------------------------\u001b[0m",
      "\u001b[1;31mNameError\u001b[0m                                 Traceback (most recent call last)",
      "Cell \u001b[1;32mIn[51], line 7\u001b[0m\n\u001b[0;32m      5\u001b[0m     \u001b[38;5;28;01mreturn\u001b[39;00m sorted_sequence\n\u001b[0;32m      6\u001b[0m input_sequence \u001b[38;5;241m=\u001b[39m\u001b[38;5;124m'\u001b[39m\u001b[38;5;124mgreen-red-yellow-black-white\u001b[39m\u001b[38;5;124m'\u001b[39m\n\u001b[1;32m----> 7\u001b[0m sorted_sequence \u001b[38;5;241m=\u001b[39m \u001b[43msort_hyphenated_words\u001b[49m\u001b[43m(\u001b[49m\u001b[43minput_sequence\u001b[49m\u001b[43m)\u001b[49m\n\u001b[0;32m      8\u001b[0m \u001b[38;5;28mprint\u001b[39m(\u001b[38;5;124m\"\u001b[39m\u001b[38;5;124mSorted sequence: \u001b[39m\u001b[38;5;124m\"\u001b[39m, sorted_sequence)\n",
      "Cell \u001b[1;32mIn[51], line 3\u001b[0m, in \u001b[0;36msort_hyphenated_words\u001b[1;34m(words)\u001b[0m\n\u001b[0;32m      1\u001b[0m \u001b[38;5;28;01mdef\u001b[39;00m \u001b[38;5;21msort_hyphenated_words\u001b[39m(words):\n\u001b[0;32m      2\u001b[0m     word_list\u001b[38;5;241m=\u001b[39mwords\u001b[38;5;241m.\u001b[39msplit(\u001b[38;5;124m'\u001b[39m\u001b[38;5;124m-\u001b[39m\u001b[38;5;124m'\u001b[39m)\n\u001b[1;32m----> 3\u001b[0m     sorted_words \u001b[38;5;241m=\u001b[39m \u001b[38;5;28msorted\u001b[39m(\u001b[43mwords_list\u001b[49m)\n\u001b[0;32m      4\u001b[0m     sorted_sequence \u001b[38;5;241m=\u001b[39m\u001b[38;5;124m'\u001b[39m\u001b[38;5;124m-\u001b[39m\u001b[38;5;124m'\u001b[39m\u001b[38;5;241m.\u001b[39mjoin(sorted_words)\n\u001b[0;32m      5\u001b[0m     \u001b[38;5;28;01mreturn\u001b[39;00m sorted_sequence\n",
      "\u001b[1;31mNameError\u001b[0m: name 'words_list' is not defined"
     ]
    }
   ],
   "source": [
    "def sort_hyphenated_words(words):\n",
    "    word_list=words.split('-')\n",
    "    sorted_words = sorted(words_list)\n",
    "    sorted_sequence ='-'.join(sorted_words)\n",
    "    return sorted_sequence\n",
    "input_sequence ='green-red-yellow-black-white'\n",
    "sorted_sequence = sort_hyphenated_words(input_sequence)\n",
    "print(\"sorted sequence: \", sorted_sequence)"
   ]
  },
  {
   "cell_type": "code",
   "execution_count": null,
   "id": "9fb01c15",
   "metadata": {},
   "outputs": [],
   "source": []
  },
  {
   "cell_type": "code",
   "execution_count": null,
   "id": "c1d8bd62",
   "metadata": {},
   "outputs": [],
   "source": []
  }
 ],
 "metadata": {
  "kernelspec": {
   "display_name": "Python 3 (ipykernel)",
   "language": "python",
   "name": "python3"
  },
  "language_info": {
   "codemirror_mode": {
    "name": "ipython",
    "version": 3
   },
   "file_extension": ".py",
   "mimetype": "text/x-python",
   "name": "python",
   "nbconvert_exporter": "python",
   "pygments_lexer": "ipython3",
   "version": "3.11.3"
  }
 },
 "nbformat": 4,
 "nbformat_minor": 5
}
