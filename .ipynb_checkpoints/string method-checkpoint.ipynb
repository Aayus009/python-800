{
 "cells": [
  {
   "cell_type": "code",
   "execution_count": 3,
   "id": "29a1f4f7",
   "metadata": {},
   "outputs": [],
   "source": [
    "name = \"k$hitiz\""
   ]
  },
  {
   "cell_type": "code",
   "execution_count": 4,
   "id": "e2f01d1a",
   "metadata": {},
   "outputs": [
    {
     "data": {
      "text/plain": [
       "'$'"
      ]
     },
     "execution_count": 4,
     "metadata": {},
     "output_type": "execute_result"
    }
   ],
   "source": [
    "name[1]"
   ]
  },
  {
   "cell_type": "code",
   "execution_count": 5,
   "id": "e4e28955",
   "metadata": {},
   "outputs": [
    {
     "ename": "TypeError",
     "evalue": "'str' object does not support item assignment",
     "output_type": "error",
     "traceback": [
      "\u001b[1;31m---------------------------------------------------------------------------\u001b[0m",
      "\u001b[1;31mTypeError\u001b[0m                                 Traceback (most recent call last)",
      "Cell \u001b[1;32mIn[5], line 1\u001b[0m\n\u001b[1;32m----> 1\u001b[0m \u001b[43mname\u001b[49m\u001b[43m[\u001b[49m\u001b[38;5;241;43m1\u001b[39;49m\u001b[43m]\u001b[49m \u001b[38;5;241m=\u001b[39m \u001b[38;5;124m\"\u001b[39m\u001b[38;5;124ms\u001b[39m\u001b[38;5;124m\"\u001b[39m \u001b[38;5;66;03m#string is immutable\u001b[39;00m\n",
      "\u001b[1;31mTypeError\u001b[0m: 'str' object does not support item assignment"
     ]
    }
   ],
   "source": [
    "name[1] = \"s\" #string is immutable\n"
   ]
  },
  {
   "cell_type": "code",
   "execution_count": 6,
   "id": "932a8675",
   "metadata": {},
   "outputs": [],
   "source": [
    "# immutable ma same memory locatiom ma gayara variable ka value \n",
    "# update garna mildaina"
   ]
  },
  {
   "cell_type": "code",
   "execution_count": 7,
   "id": "73e0a069",
   "metadata": {},
   "outputs": [
    {
     "data": {
      "text/plain": [
       "1812756787376"
      ]
     },
     "execution_count": 7,
     "metadata": {},
     "output_type": "execute_result"
    }
   ],
   "source": [
    "#memory location id() method le dinxa\n",
    "id(name)\n"
   ]
  },
  {
   "cell_type": "markdown",
   "id": "37f25be5",
   "metadata": {},
   "source": [
    "# String has replaced() method that replace character or substring"
   ]
  },
  {
   "cell_type": "code",
   "execution_count": 8,
   "id": "68a86737",
   "metadata": {},
   "outputs": [
    {
     "data": {
      "text/plain": [
       "1812756964464"
      ]
     },
     "execution_count": 8,
     "metadata": {},
     "output_type": "execute_result"
    }
   ],
   "source": [
    "name = \"k$hitiz\"\n",
    "id(name)\n"
   ]
  },
  {
   "cell_type": "code",
   "execution_count": 12,
   "id": "98d7f5e6",
   "metadata": {},
   "outputs": [
    {
     "data": {
      "text/plain": [
       "'kshitiz'"
      ]
     },
     "execution_count": 12,
     "metadata": {},
     "output_type": "execute_result"
    }
   ],
   "source": [
    "name.replace(\"$\", \"s\") #new memory location"
   ]
  },
  {
   "cell_type": "code",
   "execution_count": 13,
   "id": "b2e5ea45",
   "metadata": {},
   "outputs": [
    {
     "data": {
      "text/plain": [
       "'k$hitiz'"
      ]
     },
     "execution_count": 13,
     "metadata": {},
     "output_type": "execute_result"
    }
   ],
   "source": [
    "name"
   ]
  },
  {
   "cell_type": "code",
   "execution_count": 15,
   "id": "a76e84d4",
   "metadata": {},
   "outputs": [
    {
     "data": {
      "text/plain": [
       "1812756958064"
      ]
     },
     "execution_count": 15,
     "metadata": {},
     "output_type": "execute_result"
    }
   ],
   "source": [
    "name = name.replace(\"$\", 's')\n",
    "id(name)"
   ]
  },
  {
   "cell_type": "code",
   "execution_count": 18,
   "id": "13716f42",
   "metadata": {},
   "outputs": [
    {
     "data": {
      "text/plain": [
       "'fantastic new year.'"
      ]
     },
     "execution_count": 18,
     "metadata": {},
     "output_type": "execute_result"
    }
   ],
   "source": [
    "\"happy new year.\".replace(\"happy\", \"fantastic\")"
   ]
  },
  {
   "cell_type": "markdown",
   "id": "b01e5384",
   "metadata": {},
   "source": [
    "# .lower and upper()"
   ]
  },
  {
   "cell_type": "code",
   "execution_count": 19,
   "id": "dc358106",
   "metadata": {},
   "outputs": [],
   "source": [
    "msg =\"hi\""
   ]
  },
  {
   "cell_type": "code",
   "execution_count": 20,
   "id": "5a11523c",
   "metadata": {},
   "outputs": [
    {
     "data": {
      "text/plain": [
       "'HI'"
      ]
     },
     "execution_count": 20,
     "metadata": {},
     "output_type": "execute_result"
    }
   ],
   "source": [
    "msg.upper()"
   ]
  },
  {
   "cell_type": "code",
   "execution_count": 21,
   "id": "2ca33df6",
   "metadata": {},
   "outputs": [
    {
     "data": {
      "text/plain": [
       "'hi'"
      ]
     },
     "execution_count": 21,
     "metadata": {},
     "output_type": "execute_result"
    }
   ],
   "source": [
    "msg.lower()"
   ]
  },
  {
   "cell_type": "code",
   "execution_count": 22,
   "id": "e6f9e710",
   "metadata": {},
   "outputs": [
    {
     "data": {
      "text/plain": [
       "'hi'"
      ]
     },
     "execution_count": 22,
     "metadata": {},
     "output_type": "execute_result"
    }
   ],
   "source": [
    "msg"
   ]
  },
  {
   "cell_type": "code",
   "execution_count": 23,
   "id": "5284db2c",
   "metadata": {},
   "outputs": [],
   "source": [
    "msg =\"hehe ma timro hari bahadur\""
   ]
  },
  {
   "cell_type": "code",
   "execution_count": 24,
   "id": "34b70153",
   "metadata": {},
   "outputs": [
    {
     "data": {
      "text/plain": [
       "'Hehe Ma Timro Hari Bahadur'"
      ]
     },
     "execution_count": 24,
     "metadata": {},
     "output_type": "execute_result"
    }
   ],
   "source": [
    "msg.title()"
   ]
  },
  {
   "cell_type": "code",
   "execution_count": 25,
   "id": "e0e93f2a",
   "metadata": {},
   "outputs": [],
   "source": [
    "# strip(),istrip(),rstrip()"
   ]
  },
  {
   "cell_type": "code",
   "execution_count": 30,
   "id": "28acbb95",
   "metadata": {},
   "outputs": [],
   "source": [
    "msg = \"    shankar ho mero nam shankar   \""
   ]
  },
  {
   "cell_type": "code",
   "execution_count": 31,
   "id": "f7f7ceb4",
   "metadata": {},
   "outputs": [
    {
     "data": {
      "text/plain": [
       "'shankar ho mero nam shankar'"
      ]
     },
     "execution_count": 31,
     "metadata": {},
     "output_type": "execute_result"
    }
   ],
   "source": [
    "msg.strip()"
   ]
  },
  {
   "cell_type": "code",
   "execution_count": 32,
   "id": "7aa1b502",
   "metadata": {},
   "outputs": [
    {
     "data": {
      "text/plain": [
       "'shankar ho mero nam shankar   '"
      ]
     },
     "execution_count": 32,
     "metadata": {},
     "output_type": "execute_result"
    }
   ],
   "source": [
    "msg.lstrip()"
   ]
  },
  {
   "cell_type": "code",
   "execution_count": 33,
   "id": "8ab0cb2f",
   "metadata": {},
   "outputs": [
    {
     "data": {
      "text/plain": [
       "'    shankar ho mero nam shankar'"
      ]
     },
     "execution_count": 33,
     "metadata": {},
     "output_type": "execute_result"
    }
   ],
   "source": [
    "msg.rstrip()"
   ]
  },
  {
   "cell_type": "markdown",
   "id": "3b3f316a",
   "metadata": {},
   "source": [
    "# .split()"
   ]
  },
  {
   "cell_type": "code",
   "execution_count": 34,
   "id": "123e9dfb",
   "metadata": {},
   "outputs": [],
   "source": [
    "note = \"Abishek ra bishwo dheri halla garxan class ma.\""
   ]
  },
  {
   "cell_type": "code",
   "execution_count": 38,
   "id": "9cba1e30",
   "metadata": {},
   "outputs": [],
   "source": [
    "words = note.split(\" \")"
   ]
  },
  {
   "cell_type": "code",
   "execution_count": 39,
   "id": "73b2fb85",
   "metadata": {},
   "outputs": [
    {
     "data": {
      "text/plain": [
       "['Abishek', 'ra', 'bishwo', 'dheri', 'halla', 'garxan', 'class', 'ma.']"
      ]
     },
     "execution_count": 39,
     "metadata": {},
     "output_type": "execute_result"
    }
   ],
   "source": [
    "words"
   ]
  },
  {
   "cell_type": "code",
   "execution_count": 40,
   "id": "fdf89089",
   "metadata": {},
   "outputs": [
    {
     "data": {
      "text/plain": [
       "list"
      ]
     },
     "execution_count": 40,
     "metadata": {},
     "output_type": "execute_result"
    }
   ],
   "source": [
    "type(words)"
   ]
  },
  {
   "cell_type": "code",
   "execution_count": 42,
   "id": "69631fdb",
   "metadata": {},
   "outputs": [
    {
     "data": {
      "text/plain": [
       "['Abishek ra bishwo', ' dheri halla garxan class ma.']"
      ]
     },
     "execution_count": 42,
     "metadata": {},
     "output_type": "execute_result"
    }
   ],
   "source": [
    "note = \"Abishek ra bishwo, dheri halla garxan class ma.\"\n",
    "note.split(\",\")"
   ]
  },
  {
   "cell_type": "code",
   "execution_count": 48,
   "id": "dd69d3ec",
   "metadata": {},
   "outputs": [
    {
     "data": {
      "text/plain": [
       "['red', 'green', 'blue']"
      ]
     },
     "execution_count": 48,
     "metadata": {},
     "output_type": "execute_result"
    }
   ],
   "source": [
    "colour=\"red-green-blue\"\n",
    "color.split(\"-\")"
   ]
  },
  {
   "cell_type": "code",
   "execution_count": 47,
   "id": "ee77cef3",
   "metadata": {},
   "outputs": [],
   "source": [
    "string1=\"Nepalindiachina\"\n",
    "string2=\"indiachinanepal\" #assignment"
   ]
  },
  {
   "cell_type": "code",
   "execution_count": 49,
   "id": "d4cbb572",
   "metadata": {},
   "outputs": [],
   "source": [
    "color = \"red-green-blue\""
   ]
  },
  {
   "cell_type": "code",
   "execution_count": 51,
   "id": "60d7af20",
   "metadata": {},
   "outputs": [],
   "source": [
    "colors=color.split(\"-\")"
   ]
  },
  {
   "cell_type": "code",
   "execution_count": 52,
   "id": "b384b719",
   "metadata": {},
   "outputs": [
    {
     "data": {
      "text/plain": [
       "['red', 'green', 'blue']"
      ]
     },
     "execution_count": 52,
     "metadata": {},
     "output_type": "execute_result"
    }
   ],
   "source": [
    "colors"
   ]
  },
  {
   "cell_type": "code",
   "execution_count": 53,
   "id": "e0fb2459",
   "metadata": {},
   "outputs": [
    {
     "data": {
      "text/plain": [
       "'red,green,blue'"
      ]
     },
     "execution_count": 53,
     "metadata": {},
     "output_type": "execute_result"
    }
   ],
   "source": [
    "\",\".join(colors)"
   ]
  },
  {
   "cell_type": "code",
   "execution_count": 55,
   "id": "07f2fd3b",
   "metadata": {},
   "outputs": [
    {
     "data": {
      "text/plain": [
       "'red-green-blue'"
      ]
     },
     "execution_count": 55,
     "metadata": {},
     "output_type": "execute_result"
    }
   ],
   "source": [
    "\"-\".join(colors)"
   ]
  },
  {
   "cell_type": "code",
   "execution_count": 56,
   "id": "b3c3864c",
   "metadata": {},
   "outputs": [],
   "source": [
    "test = (\"hi\",\"hello\")"
   ]
  },
  {
   "cell_type": "code",
   "execution_count": 57,
   "id": "c522d5f0",
   "metadata": {},
   "outputs": [
    {
     "data": {
      "text/plain": [
       "'hi hello'"
      ]
     },
     "execution_count": 57,
     "metadata": {},
     "output_type": "execute_result"
    }
   ],
   "source": [
    "\" \".join(test)"
   ]
  },
  {
   "cell_type": "code",
   "execution_count": null,
   "id": "ee0e4063",
   "metadata": {},
   "outputs": [],
   "source": []
  }
 ],
 "metadata": {
  "kernelspec": {
   "display_name": "Python 3 (ipykernel)",
   "language": "python",
   "name": "python3"
  },
  "language_info": {
   "codemirror_mode": {
    "name": "ipython",
    "version": 3
   },
   "file_extension": ".py",
   "mimetype": "text/x-python",
   "name": "python",
   "nbconvert_exporter": "python",
   "pygments_lexer": "ipython3",
   "version": "3.11.3"
  }
 },
 "nbformat": 4,
 "nbformat_minor": 5
}
