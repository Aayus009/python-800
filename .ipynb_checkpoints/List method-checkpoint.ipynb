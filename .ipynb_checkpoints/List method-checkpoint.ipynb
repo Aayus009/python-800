{
 "cells": [
  {
   "cell_type": "code",
   "execution_count": 5,
   "id": "14210b97",
   "metadata": {},
   "outputs": [
    {
     "data": {
      "text/plain": [
       "2000633850880"
      ]
     },
     "execution_count": 5,
     "metadata": {},
     "output_type": "execute_result"
    }
   ],
   "source": [
    "cars=['Mercedes','Tesla','BMW','pagini','Ferrari']\n",
    "id(cars)"
   ]
  },
  {
   "cell_type": "code",
   "execution_count": 6,
   "id": "c7a3d0b9",
   "metadata": {},
   "outputs": [
    {
     "data": {
      "text/plain": [
       "'Mercedes'"
      ]
     },
     "execution_count": 6,
     "metadata": {},
     "output_type": "execute_result"
    }
   ],
   "source": [
    "cars[0]"
   ]
  },
  {
   "cell_type": "code",
   "execution_count": 8,
   "id": "74dc70fa",
   "metadata": {},
   "outputs": [],
   "source": [
    "cars[1]='lambo'"
   ]
  },
  {
   "cell_type": "code",
   "execution_count": 9,
   "id": "05ae719e",
   "metadata": {},
   "outputs": [
    {
     "data": {
      "text/plain": [
       "['Mercedes', 'lambo', 'BMW', 'pagini', 'Ferrari']"
      ]
     },
     "execution_count": 9,
     "metadata": {},
     "output_type": "execute_result"
    }
   ],
   "source": [
    "cars"
   ]
  },
  {
   "cell_type": "code",
   "execution_count": 10,
   "id": "8b139be8",
   "metadata": {},
   "outputs": [
    {
     "data": {
      "text/plain": [
       "1665418448064"
      ]
     },
     "execution_count": 10,
     "metadata": {},
     "output_type": "execute_result"
    }
   ],
   "source": [
    "id(cars)"
   ]
  },
  {
   "cell_type": "code",
   "execution_count": 12,
   "id": "2f7850d1",
   "metadata": {},
   "outputs": [
    {
     "name": "stdout",
     "output_type": "stream",
     "text": [
      "['apple', 'balckcurrent', 'watermelon', 'kiwi', 'orange']\n"
     ]
    }
   ],
   "source": [
    "fruits= ['apple','mango','banana','kiwi','orange']\n",
    "fruits[1:3]=[\"balckcurrent\",\"watermelon\"]\n",
    "print(fruits)"
   ]
  },
  {
   "cell_type": "markdown",
   "id": "24b3c03a",
   "metadata": {},
   "source": [
    "# .insert()"
   ]
  },
  {
   "cell_type": "code",
   "execution_count": 2,
   "id": "b2c6f972",
   "metadata": {},
   "outputs": [
    {
     "name": "stdout",
     "output_type": "stream",
     "text": [
      "['apple', 'mango', 'banana', 'garpes', 'kiwi', 'orange']\n"
     ]
    }
   ],
   "source": [
    "fruits= ['apple','mango','banana','kiwi','orange']\n",
    "fruits[3]\n",
    "fruits.insert(3, 'garpes')\n",
    "print(fruits)"
   ]
  },
  {
   "cell_type": "code",
   "execution_count": 16,
   "id": "6219119b",
   "metadata": {},
   "outputs": [
    {
     "data": {
      "text/plain": [
       "'mango'"
      ]
     },
     "execution_count": 16,
     "metadata": {},
     "output_type": "execute_result"
    }
   ],
   "source": [
    "fruits[2]"
   ]
  },
  {
   "cell_type": "markdown",
   "id": "891a1f40",
   "metadata": {},
   "source": [
    "# .append()"
   ]
  },
  {
   "cell_type": "code",
   "execution_count": 13,
   "id": "3bce81a6",
   "metadata": {},
   "outputs": [
    {
     "data": {
      "text/plain": [
       "[]"
      ]
     },
     "execution_count": 13,
     "metadata": {},
     "output_type": "execute_result"
    }
   ],
   "source": [
    "student = []\n",
    "student"
   ]
  },
  {
   "cell_type": "code",
   "execution_count": 14,
   "id": "edd9ce1b",
   "metadata": {},
   "outputs": [],
   "source": [
    "student.append('susan')"
   ]
  },
  {
   "cell_type": "code",
   "execution_count": 9,
   "id": "606de215",
   "metadata": {},
   "outputs": [
    {
     "data": {
      "text/plain": [
       "['Susan', 'susan']"
      ]
     },
     "execution_count": 9,
     "metadata": {},
     "output_type": "execute_result"
    }
   ],
   "source": [
    "student"
   ]
  },
  {
   "cell_type": "code",
   "execution_count": 10,
   "id": "d9e83a55",
   "metadata": {},
   "outputs": [],
   "source": [
    "student.append('punam')"
   ]
  },
  {
   "cell_type": "code",
   "execution_count": 11,
   "id": "65106f30",
   "metadata": {},
   "outputs": [
    {
     "data": {
      "text/plain": [
       "['Susan', 'susan', 'punam']"
      ]
     },
     "execution_count": 11,
     "metadata": {},
     "output_type": "execute_result"
    }
   ],
   "source": [
    "student"
   ]
  },
  {
   "cell_type": "code",
   "execution_count": 15,
   "id": "ab8c8513",
   "metadata": {},
   "outputs": [
    {
     "data": {
      "text/plain": [
       "'susan'"
      ]
     },
     "execution_count": 15,
     "metadata": {},
     "output_type": "execute_result"
    }
   ],
   "source": [
    "student[-1]"
   ]
  },
  {
   "cell_type": "code",
   "execution_count": 16,
   "id": "9a011e53",
   "metadata": {},
   "outputs": [],
   "source": [
    "student.append('thati')"
   ]
  },
  {
   "cell_type": "code",
   "execution_count": 17,
   "id": "9aee682d",
   "metadata": {},
   "outputs": [
    {
     "data": {
      "text/plain": [
       "['susan', 'thati']"
      ]
     },
     "execution_count": 17,
     "metadata": {},
     "output_type": "execute_result"
    }
   ],
   "source": [
    "student"
   ]
  },
  {
   "cell_type": "markdown",
   "id": "d0076df1",
   "metadata": {},
   "source": [
    "# WAP using append to find even number from 1 to 25"
   ]
  },
  {
   "cell_type": "code",
   "execution_count": 4,
   "id": "1ffb1b8f",
   "metadata": {},
   "outputs": [
    {
     "name": "stdout",
     "output_type": "stream",
     "text": [
      "[]\n",
      "[2]\n",
      "[2, 4]\n",
      "[2, 4, 6]\n",
      "[2, 4, 6, 8]\n",
      "[2, 4, 6, 8, 10]\n",
      "[2, 4, 6, 8, 10, 12]\n",
      "[2, 4, 6, 8, 10, 12, 14]\n",
      "[2, 4, 6, 8, 10, 12, 14, 16]\n",
      "[2, 4, 6, 8, 10, 12, 14, 16, 18]\n",
      "[2, 4, 6, 8, 10, 12, 14, 16, 18, 20]\n",
      "[2, 4, 6, 8, 10, 12, 14, 16, 18, 20, 22]\n"
     ]
    }
   ],
   "source": [
    "even = list()\n",
    "for index in range(2,25,2):\n",
    "    print(even)\n",
    "    even.append(index)\n"
   ]
  },
  {
   "cell_type": "code",
   "execution_count": 5,
   "id": "a58f1747",
   "metadata": {},
   "outputs": [
    {
     "data": {
      "text/plain": [
       "[2, 4, 6, 8, 10, 12, 14, 16, 18, 20, 22, 24]"
      ]
     },
     "execution_count": 5,
     "metadata": {},
     "output_type": "execute_result"
    }
   ],
   "source": [
    "even"
   ]
  },
  {
   "cell_type": "code",
   "execution_count": 8,
   "id": "875e95cf",
   "metadata": {},
   "outputs": [
    {
     "name": "stdout",
     "output_type": "stream",
     "text": [
      "[]\n",
      "[24]\n",
      "[24, 24]\n",
      "[24, 24, 24]\n",
      "[24, 24, 24, 24]\n",
      "[24, 24, 24, 24, 24]\n",
      "[24, 24, 24, 24, 24, 24]\n",
      "[24, 24, 24, 24, 24, 24, 24]\n",
      "[24, 24, 24, 24, 24, 24, 24, 24]\n",
      "[24, 24, 24, 24, 24, 24, 24, 24, 24]\n",
      "[24, 24, 24, 24, 24, 24, 24, 24, 24, 24]\n",
      "[24, 24, 24, 24, 24, 24, 24, 24, 24, 24, 24]\n",
      "[24, 24, 24, 24, 24, 24, 24, 24, 24, 24, 24, 24]\n",
      "[24, 24, 24, 24, 24, 24, 24, 24, 24, 24, 24, 24, 24]\n",
      "[24, 24, 24, 24, 24, 24, 24, 24, 24, 24, 24, 24, 24, 24]\n",
      "[24, 24, 24, 24, 24, 24, 24, 24, 24, 24, 24, 24, 24, 24, 24]\n",
      "[24, 24, 24, 24, 24, 24, 24, 24, 24, 24, 24, 24, 24, 24, 24, 24]\n",
      "[24, 24, 24, 24, 24, 24, 24, 24, 24, 24, 24, 24, 24, 24, 24, 24, 24]\n",
      "[24, 24, 24, 24, 24, 24, 24, 24, 24, 24, 24, 24, 24, 24, 24, 24, 24, 24]\n",
      "[24, 24, 24, 24, 24, 24, 24, 24, 24, 24, 24, 24, 24, 24, 24, 24, 24, 24, 24]\n",
      "[24, 24, 24, 24, 24, 24, 24, 24, 24, 24, 24, 24, 24, 24, 24, 24, 24, 24, 24, 24]\n",
      "[24, 24, 24, 24, 24, 24, 24, 24, 24, 24, 24, 24, 24, 24, 24, 24, 24, 24, 24, 24, 24]\n",
      "[24, 24, 24, 24, 24, 24, 24, 24, 24, 24, 24, 24, 24, 24, 24, 24, 24, 24, 24, 24, 24, 24]\n",
      "[24, 24, 24, 24, 24, 24, 24, 24, 24, 24, 24, 24, 24, 24, 24, 24, 24, 24, 24, 24, 24, 24, 24]\n"
     ]
    }
   ],
   "source": [
    "even=[]\n",
    "for i  in range(1,25,1): \n",
    "    print(even)\n",
    "    even.append(index)"
   ]
  },
  {
   "cell_type": "code",
   "execution_count": 9,
   "id": "efcb6ad0",
   "metadata": {},
   "outputs": [
    {
     "ename": "SyntaxError",
     "evalue": "invalid syntax (167827403.py, line 1)",
     "output_type": "error",
     "traceback": [
      "\u001b[1;36m  Cell \u001b[1;32mIn[9], line 1\u001b[1;36m\u001b[0m\n\u001b[1;33m    .extend()\u001b[0m\n\u001b[1;37m    ^\u001b[0m\n\u001b[1;31mSyntaxError\u001b[0m\u001b[1;31m:\u001b[0m invalid syntax\n"
     ]
    }
   ],
   "source": [
    ".extend()"
   ]
  },
  {
   "cell_type": "code",
   "execution_count": 10,
   "id": "a52905d8",
   "metadata": {},
   "outputs": [],
   "source": [
    "l1=[2,4,6]\n",
    "l2=[1,3]"
   ]
  },
  {
   "cell_type": "code",
   "execution_count": 11,
   "id": "cba9ea9f",
   "metadata": {},
   "outputs": [
    {
     "data": {
      "text/plain": [
       "[2, 4, 6, 1, 3]"
      ]
     },
     "execution_count": 11,
     "metadata": {},
     "output_type": "execute_result"
    }
   ],
   "source": [
    "l1 + l2#list concat"
   ]
  },
  {
   "cell_type": "code",
   "execution_count": 12,
   "id": "573cc47d",
   "metadata": {},
   "outputs": [],
   "source": [
    "l1.extend(l2)"
   ]
  },
  {
   "cell_type": "code",
   "execution_count": 13,
   "id": "4bc43a2f",
   "metadata": {},
   "outputs": [
    {
     "data": {
      "text/plain": [
       "[2, 4, 6, 1, 3]"
      ]
     },
     "execution_count": 13,
     "metadata": {},
     "output_type": "execute_result"
    }
   ],
   "source": [
    "l1"
   ]
  },
  {
   "cell_type": "code",
   "execution_count": 16,
   "id": "23adc9c8",
   "metadata": {},
   "outputs": [
    {
     "data": {
      "text/plain": [
       "[1, 3, 2, 4, 6]"
      ]
     },
     "execution_count": 16,
     "metadata": {},
     "output_type": "execute_result"
    }
   ],
   "source": [
    "l2"
   ]
  },
  {
   "cell_type": "code",
   "execution_count": 17,
   "id": "21c7c4b5",
   "metadata": {},
   "outputs": [],
   "source": [
    "l1=[2,4,6]\n",
    "l2=[1,3]\n",
    "l2.extend(l1)"
   ]
  },
  {
   "cell_type": "code",
   "execution_count": 19,
   "id": "475b25c3",
   "metadata": {},
   "outputs": [
    {
     "data": {
      "text/plain": [
       "[2, 4, 6]"
      ]
     },
     "execution_count": 19,
     "metadata": {},
     "output_type": "execute_result"
    }
   ],
   "source": [
    "l1"
   ]
  },
  {
   "cell_type": "code",
   "execution_count": 20,
   "id": "cc8bdb71",
   "metadata": {},
   "outputs": [
    {
     "data": {
      "text/plain": [
       "[1, 3, 2, 4, 6]"
      ]
     },
     "execution_count": 20,
     "metadata": {},
     "output_type": "execute_result"
    }
   ],
   "source": [
    "l2\n"
   ]
  },
  {
   "cell_type": "markdown",
   "id": "23d7bf5c",
   "metadata": {},
   "source": [
    "# .REMOVE()"
   ]
  },
  {
   "cell_type": "code",
   "execution_count": 22,
   "id": "2515b787",
   "metadata": {},
   "outputs": [
    {
     "name": "stdout",
     "output_type": "stream",
     "text": [
      "['mango', 'apple', 'mango']\n"
     ]
    }
   ],
   "source": [
    "fruits=['apple','mango','apple','mango']\n",
    "fruits.remove(\"apple\")#first occuramce item is removed\n",
    "print(fruits)"
   ]
  },
  {
   "cell_type": "markdown",
   "id": "8778cece",
   "metadata": {},
   "source": [
    "# .pop()"
   ]
  },
  {
   "cell_type": "code",
   "execution_count": 23,
   "id": "6a4148fd",
   "metadata": {},
   "outputs": [
    {
     "name": "stdout",
     "output_type": "stream",
     "text": [
      "['apple', 'mango', 'apple']\n"
     ]
    }
   ],
   "source": [
    "fruits=['apple','mango','apple','mango']\n",
    "fruits.pop()#removes last item\n",
    "print(fruits)"
   ]
  },
  {
   "cell_type": "code",
   "execution_count": 24,
   "id": "e8b7ebde",
   "metadata": {},
   "outputs": [
    {
     "name": "stdout",
     "output_type": "stream",
     "text": [
      "['apple', 'mango', 'Guava', 'kiwi']\n"
     ]
    }
   ],
   "source": [
    "fruits=['apple','mango','Guava','kiwi','dragonfruit']\n",
    "fruits.pop(4)\n",
    "print(fruits)"
   ]
  },
  {
   "cell_type": "markdown",
   "id": "5266a19e",
   "metadata": {},
   "source": [
    "# .sort()"
   ]
  },
  {
   "cell_type": "code",
   "execution_count": 27,
   "id": "315a2a09",
   "metadata": {},
   "outputs": [],
   "source": [
    "fruits=['Apple','Mango','Guava','Kiwi','Dragonfruit']\n",
    "fruits.sort()#ascending order"
   ]
  },
  {
   "cell_type": "code",
   "execution_count": 28,
   "id": "0e718704",
   "metadata": {},
   "outputs": [
    {
     "data": {
      "text/plain": [
       "['Apple', 'Dragonfruit', 'Guava', 'Kiwi', 'Mango']"
      ]
     },
     "execution_count": 28,
     "metadata": {},
     "output_type": "execute_result"
    }
   ],
   "source": [
    "fruits"
   ]
  },
  {
   "cell_type": "code",
   "execution_count": 29,
   "id": "c8cbb63d",
   "metadata": {},
   "outputs": [
    {
     "data": {
      "text/plain": [
       "['Mango', 'Kiwi', 'Guava', 'Dragonfruit', 'Apple']"
      ]
     },
     "execution_count": 29,
     "metadata": {},
     "output_type": "execute_result"
    }
   ],
   "source": [
    "fruits=['Apple','Mango','Guava','Kiwi','Dragonfruit']\n",
    "fruits.sort(reverse=True) #descending\n",
    "fruits"
   ]
  },
  {
   "cell_type": "code",
   "execution_count": 30,
   "id": "d945a37d",
   "metadata": {},
   "outputs": [
    {
     "data": {
      "text/plain": [
       "['Apple', 'Dragonfruit', 'Guava', 'Kiwi', 'Mango']"
      ]
     },
     "execution_count": 30,
     "metadata": {},
     "output_type": "execute_result"
    }
   ],
   "source": [
    "fruits=['Apple','Mango','Guava','Kiwi','Dragonfruit']\n",
    "sorted_fruits=sorted(fruits)\n",
    "sorted_fruits"
   ]
  },
  {
   "cell_type": "code",
   "execution_count": 31,
   "id": "802fd4c0",
   "metadata": {},
   "outputs": [
    {
     "ename": "TypeError",
     "evalue": "'list' object is not callable",
     "output_type": "error",
     "traceback": [
      "\u001b[1;31m---------------------------------------------------------------------------\u001b[0m",
      "\u001b[1;31mTypeError\u001b[0m                                 Traceback (most recent call last)",
      "Cell \u001b[1;32mIn[31], line 2\u001b[0m\n\u001b[0;32m      1\u001b[0m fruits\u001b[38;5;241m=\u001b[39m[\u001b[38;5;124m'\u001b[39m\u001b[38;5;124mApple\u001b[39m\u001b[38;5;124m'\u001b[39m,\u001b[38;5;124m'\u001b[39m\u001b[38;5;124mMango\u001b[39m\u001b[38;5;124m'\u001b[39m,\u001b[38;5;124m'\u001b[39m\u001b[38;5;124mGuava\u001b[39m\u001b[38;5;124m'\u001b[39m,\u001b[38;5;124m'\u001b[39m\u001b[38;5;124mKiwi\u001b[39m\u001b[38;5;124m'\u001b[39m,\u001b[38;5;124m'\u001b[39m\u001b[38;5;124mDragonfruit\u001b[39m\u001b[38;5;124m'\u001b[39m]\n\u001b[1;32m----> 2\u001b[0m \u001b[43msorted_fruits\u001b[49m\u001b[43m(\u001b[49m\u001b[43mreverse\u001b[49m\u001b[38;5;241;43m=\u001b[39;49m\u001b[38;5;28;43;01mTrue\u001b[39;49;00m\u001b[43m)\u001b[49m\n\u001b[0;32m      3\u001b[0m sorted_fruits\n",
      "\u001b[1;31mTypeError\u001b[0m: 'list' object is not callable"
     ]
    }
   ],
   "source": [
    "fruits=['Apple','Mango','Guava','Kiwi','Dragonfruit']\n",
    "sorted_fruits(fruits,reverse=True)#descending\n",
    "sorted_fruits"
   ]
  },
  {
   "cell_type": "code",
   "execution_count": null,
   "id": "5d87943e",
   "metadata": {},
   "outputs": [],
   "source": []
  }
 ],
 "metadata": {
  "kernelspec": {
   "display_name": "Python 3 (ipykernel)",
   "language": "python",
   "name": "python3"
  },
  "language_info": {
   "codemirror_mode": {
    "name": "ipython",
    "version": 3
   },
   "file_extension": ".py",
   "mimetype": "text/x-python",
   "name": "python",
   "nbconvert_exporter": "python",
   "pygments_lexer": "ipython3",
   "version": "3.11.3"
  }
 },
 "nbformat": 4,
 "nbformat_minor": 5
}
