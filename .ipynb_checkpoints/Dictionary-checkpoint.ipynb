{
 "cells": [
  {
   "cell_type": "markdown",
   "id": "8634ff4d",
   "metadata": {},
   "source": [
    "# Dictionary"
   ]
  },
  {
   "cell_type": "markdown",
   "id": "9f3268f5",
   "metadata": {},
   "source": [
    "* mapping data type\n",
    "* key: value pair\n",
    "* written in `{}` each `key : value` is  seperated by comma\n",
    "* key cannot be duplicated"
   ]
  },
  {
   "cell_type": "code",
   "execution_count": 2,
   "id": "25424546",
   "metadata": {},
   "outputs": [],
   "source": [
    "# eg. creating empty dictionary"
   ]
  },
  {
   "cell_type": "code",
   "execution_count": 3,
   "id": "ffd6df23",
   "metadata": {},
   "outputs": [],
   "source": [
    "about = {}"
   ]
  },
  {
   "cell_type": "code",
   "execution_count": 4,
   "id": "00e6d97f",
   "metadata": {},
   "outputs": [
    {
     "data": {
      "text/plain": [
       "dict"
      ]
     },
     "execution_count": 4,
     "metadata": {},
     "output_type": "execute_result"
    }
   ],
   "source": [
    "type(about)"
   ]
  },
  {
   "cell_type": "code",
   "execution_count": 6,
   "id": "ae670f18",
   "metadata": {},
   "outputs": [
    {
     "data": {
      "text/plain": [
       "dict"
      ]
     },
     "execution_count": 6,
     "metadata": {},
     "output_type": "execute_result"
    }
   ],
   "source": [
    "about =dict()\n",
    "type(about)"
   ]
  },
  {
   "cell_type": "markdown",
   "id": "251d8729",
   "metadata": {},
   "source": [
    "# examples of dictionary "
   ]
  },
  {
   "cell_type": "code",
   "execution_count": 7,
   "id": "0826fa29",
   "metadata": {},
   "outputs": [],
   "source": [
    "a = {1: 'aayus', 2: 'bibek',3: 'champa'}\n"
   ]
  },
  {
   "cell_type": "code",
   "execution_count": 8,
   "id": "2dd5e9da",
   "metadata": {},
   "outputs": [
    {
     "data": {
      "text/plain": [
       "{1: 'aayus', 2: 'bibek', 3: 'champa'}"
      ]
     },
     "execution_count": 8,
     "metadata": {},
     "output_type": "execute_result"
    }
   ],
   "source": [
    "a"
   ]
  },
  {
   "cell_type": "code",
   "execution_count": 9,
   "id": "9ec185c3",
   "metadata": {},
   "outputs": [],
   "source": [
    "students = {\n",
    "    \"name\": ['biksah','pranil','nabin']\n",
    "}"
   ]
  },
  {
   "cell_type": "code",
   "execution_count": 10,
   "id": "98d313bf",
   "metadata": {},
   "outputs": [
    {
     "data": {
      "text/plain": [
       "{'name': ['biksah', 'pranil', 'nabin']}"
      ]
     },
     "execution_count": 10,
     "metadata": {},
     "output_type": "execute_result"
    }
   ],
   "source": [
    "students"
   ]
  },
  {
   "cell_type": "code",
   "execution_count": 11,
   "id": "dadd1a8e",
   "metadata": {},
   "outputs": [
    {
     "data": {
      "text/plain": [
       "{1.2: 88}"
      ]
     },
     "execution_count": 11,
     "metadata": {},
     "output_type": "execute_result"
    }
   ],
   "source": [
    "{1.2:88}#float can be key"
   ]
  },
  {
   "cell_type": "code",
   "execution_count": 12,
   "id": "41ef2ec5",
   "metadata": {},
   "outputs": [],
   "source": [
    "#tuple,list cannot be key"
   ]
  },
  {
   "cell_type": "markdown",
   "id": "e57c5bd9",
   "metadata": {},
   "source": [
    "# adding key values pairs in dictionary"
   ]
  },
  {
   "cell_type": "code",
   "execution_count": 14,
   "id": "eda05288",
   "metadata": {},
   "outputs": [
    {
     "data": {
      "text/plain": [
       "{'name': 'kshitiz'}"
      ]
     },
     "execution_count": 14,
     "metadata": {},
     "output_type": "execute_result"
    }
   ],
   "source": [
    "about = { 'name': 'kshitiz'}\n",
    "about"
   ]
  },
  {
   "cell_type": "code",
   "execution_count": 15,
   "id": "8e8c8a00",
   "metadata": {},
   "outputs": [],
   "source": [
    "# first methond"
   ]
  },
  {
   "cell_type": "code",
   "execution_count": 16,
   "id": "c38bfac1",
   "metadata": {},
   "outputs": [],
   "source": [
    "about['teaches'] = ['Python','Ai','Datascience']"
   ]
  },
  {
   "cell_type": "code",
   "execution_count": 17,
   "id": "30c86354",
   "metadata": {},
   "outputs": [
    {
     "data": {
      "text/plain": [
       "{'name': 'kshitiz', 'teaches': ['Python', 'Ai', 'Datascience']}"
      ]
     },
     "execution_count": 17,
     "metadata": {},
     "output_type": "execute_result"
    }
   ],
   "source": [
    "about"
   ]
  },
  {
   "cell_type": "code",
   "execution_count": 19,
   "id": "72fe5fba",
   "metadata": {},
   "outputs": [],
   "source": [
    "# second method : use .update()\n"
   ]
  },
  {
   "cell_type": "code",
   "execution_count": 20,
   "id": "ebd7ece2",
   "metadata": {},
   "outputs": [
    {
     "data": {
      "text/plain": [
       "{'name': 'kshitiz', 'teaches': ['Python', 'Ai', 'Datascience']}"
      ]
     },
     "execution_count": 20,
     "metadata": {},
     "output_type": "execute_result"
    }
   ],
   "source": [
    "about"
   ]
  },
  {
   "cell_type": "code",
   "execution_count": 21,
   "id": "1720eab7",
   "metadata": {},
   "outputs": [],
   "source": [
    "about.update({'workers_at': 'Brodway'})# update() bhitra dictionary pass hunxa hunxa"
   ]
  },
  {
   "cell_type": "code",
   "execution_count": 22,
   "id": "9b279687",
   "metadata": {},
   "outputs": [
    {
     "data": {
      "text/plain": [
       "{'name': 'kshitiz',\n",
       " 'teaches': ['Python', 'Ai', 'Datascience'],\n",
       " 'workers_at': 'Brodway'}"
      ]
     },
     "execution_count": 22,
     "metadata": {},
     "output_type": "execute_result"
    }
   ],
   "source": [
    "about"
   ]
  },
  {
   "cell_type": "markdown",
   "id": "4540f5bb",
   "metadata": {},
   "source": [
    "# taking user update which takes user input and segregate country with capital."
   ]
  },
  {
   "cell_type": "code",
   "execution_count": 34,
   "id": "2457500a",
   "metadata": {},
   "outputs": [
    {
     "name": "stdout",
     "output_type": "stream",
     "text": [
      "enter the country namenepal\n",
      "enter the capital namekathmandu\n",
      "{'nepal': 'kathmandu'}\n",
      "enter the country namejapan\n",
      "enter the capital nametokyo\n",
      "{'japan': 'tokyo'}\n",
      "enter the country nameindia \n",
      "enter the capital namenew delhi\n",
      "{'india ': 'new delhi'}\n"
     ]
    }
   ],
   "source": [
    "for i in range(3):\n",
    "    country= input(\"enter the country name\")\n",
    "    capital= input(\"enter the capital name\")\n",
    "    dict_1 ={country:capital}\n",
    "    print(dict_1)\n",
    "\n"
   ]
  },
  {
   "cell_type": "code",
   "execution_count": 35,
   "id": "d4d19d84",
   "metadata": {},
   "outputs": [],
   "source": [
    "# if key of dictionary already exists while \n",
    "d ={'netflix':50000}"
   ]
  },
  {
   "cell_type": "code",
   "execution_count": 36,
   "id": "8b585cbb",
   "metadata": {},
   "outputs": [
    {
     "data": {
      "text/plain": [
       "{'netflix': 50000}"
      ]
     },
     "execution_count": 36,
     "metadata": {},
     "output_type": "execute_result"
    }
   ],
   "source": [
    "d"
   ]
  },
  {
   "cell_type": "code",
   "execution_count": 37,
   "id": "d3aaa964",
   "metadata": {},
   "outputs": [],
   "source": [
    "d.update({'netflix':80000})"
   ]
  },
  {
   "cell_type": "code",
   "execution_count": 38,
   "id": "1cd2f74f",
   "metadata": {},
   "outputs": [
    {
     "data": {
      "text/plain": [
       "{'netflix': 80000}"
      ]
     },
     "execution_count": 38,
     "metadata": {},
     "output_type": "execute_result"
    }
   ],
   "source": [
    "d"
   ]
  },
  {
   "cell_type": "code",
   "execution_count": 39,
   "id": "9ca0bfbc",
   "metadata": {},
   "outputs": [],
   "source": [
    "#update le key value exist gardai na bhana naya key: vlaue pair halxa\n",
    "# if exist garxa vane value update garxa"
   ]
  },
  {
   "cell_type": "code",
   "execution_count": 40,
   "id": "8daeaa49",
   "metadata": {},
   "outputs": [],
   "source": [
    "d =({'netflix': 60000})"
   ]
  },
  {
   "cell_type": "code",
   "execution_count": 41,
   "id": "39cb6a79",
   "metadata": {},
   "outputs": [
    {
     "data": {
      "text/plain": [
       "{'netflix': 600}"
      ]
     },
     "execution_count": 41,
     "metadata": {},
     "output_type": "execute_result"
    }
   ],
   "source": [
    "d['netflix'] =600 # key already exists garxa so value cahnge hunxa\n",
    "d"
   ]
  },
  {
   "cell_type": "markdown",
   "id": "4fafbcf0",
   "metadata": {},
   "source": [
    "# accessing value of a key in a dictionary"
   ]
  },
  {
   "cell_type": "code",
   "execution_count": 42,
   "id": "9eae9a11",
   "metadata": {},
   "outputs": [],
   "source": [
    "about ={\n",
    "    'name':'kshitiz',\n",
    "    'works_at':\"brodway\",\n",
    "    'age':26,A\n",
    "    'teaches':['python','AI','ML']\n",
    "}"
   ]
  },
  {
   "cell_type": "code",
   "execution_count": 43,
   "id": "c6a12ab4",
   "metadata": {},
   "outputs": [
    {
     "data": {
      "text/plain": [
       "{'name': 'kshitiz',\n",
       " 'works_at': 'brodway',\n",
       " 'age': 26,\n",
       " 'teaches': ['python', 'AI', 'ML']}"
      ]
     },
     "execution_count": 43,
     "metadata": {},
     "output_type": "execute_result"
    }
   ],
   "source": [
    "about"
   ]
  },
  {
   "cell_type": "code",
   "execution_count": 44,
   "id": "72b4fabc",
   "metadata": {},
   "outputs": [
    {
     "data": {
      "text/plain": [
       "'brodway'"
      ]
     },
     "execution_count": 44,
     "metadata": {},
     "output_type": "execute_result"
    }
   ],
   "source": [
    "about['works_at']# one mothod"
   ]
  },
  {
   "cell_type": "code",
   "execution_count": 45,
   "id": "43ed5a59",
   "metadata": {},
   "outputs": [
    {
     "data": {
      "text/plain": [
       "'brodway'"
      ]
     },
     "execution_count": 45,
     "metadata": {},
     "output_type": "execute_result"
    }
   ],
   "source": [
    "about.get('works_at') #other method"
   ]
  },
  {
   "cell_type": "code",
   "execution_count": 46,
   "id": "d388fd0c",
   "metadata": {},
   "outputs": [
    {
     "ename": "KeyError",
     "evalue": "'gender'",
     "output_type": "error",
     "traceback": [
      "\u001b[1;31m---------------------------------------------------------------------------\u001b[0m",
      "\u001b[1;31mKeyError\u001b[0m                                  Traceback (most recent call last)",
      "Cell \u001b[1;32mIn[46], line 1\u001b[0m\n\u001b[1;32m----> 1\u001b[0m \u001b[43mabout\u001b[49m\u001b[43m[\u001b[49m\u001b[38;5;124;43m'\u001b[39;49m\u001b[38;5;124;43mgender\u001b[39;49m\u001b[38;5;124;43m'\u001b[39;49m\u001b[43m]\u001b[49m \u001b[38;5;66;03m# navako key khojera paidaina\u001b[39;00m\n",
      "\u001b[1;31mKeyError\u001b[0m: 'gender'"
     ]
    }
   ],
   "source": [
    "about['gender'] # navako key khojera paidaina"
   ]
  },
  {
   "cell_type": "code",
   "execution_count": 51,
   "id": "10f838f1",
   "metadata": {},
   "outputs": [
    {
     "data": {
      "text/plain": [
       "'not found'"
      ]
     },
     "execution_count": 51,
     "metadata": {},
     "output_type": "execute_result"
    }
   ],
   "source": [
    "about.get('date','not found')# if gender key exist gardina bhanan not found lakhna."
   ]
  },
  {
   "cell_type": "code",
   "execution_count": 52,
   "id": "ec43318d",
   "metadata": {},
   "outputs": [],
   "source": [
    "about.get('gender',None)#default ma none hunxa"
   ]
  },
  {
   "cell_type": "markdown",
   "id": "6f1e1462",
   "metadata": {},
   "source": [
    "# .keys() and.values()method"
   ]
  },
  {
   "cell_type": "code",
   "execution_count": 59,
   "id": "3f4b15e5",
   "metadata": {},
   "outputs": [],
   "source": [
    "about ={\n",
    "    'name':'kshitiz',\n",
    "    'works_at':\"brodway\",\n",
    "    'age':26,\n",
    "    'teaches':['python','AI','ML']\n",
    "}"
   ]
  },
  {
   "cell_type": "code",
   "execution_count": 60,
   "id": "fb8203fc",
   "metadata": {},
   "outputs": [
    {
     "data": {
      "text/plain": [
       "dict_keys(['name', 'works_at', 'age', 'teaches'])"
      ]
     },
     "execution_count": 60,
     "metadata": {},
     "output_type": "execute_result"
    }
   ],
   "source": [
    "about.keys()"
   ]
  },
  {
   "cell_type": "code",
   "execution_count": 61,
   "id": "d963486f",
   "metadata": {},
   "outputs": [
    {
     "data": {
      "text/plain": [
       "dict_values(['kshitiz', 'brodway', 26, ['python', 'AI', 'ML']])"
      ]
     },
     "execution_count": 61,
     "metadata": {},
     "output_type": "execute_result"
    }
   ],
   "source": [
    "about.values()"
   ]
  },
  {
   "cell_type": "code",
   "execution_count": 62,
   "id": "4df5f8bc",
   "metadata": {},
   "outputs": [
    {
     "data": {
      "text/plain": [
       "dict_items([('name', 'kshitiz'), ('works_at', 'brodway'), ('age', 26), ('teaches', ['python', 'AI', 'ML'])])"
      ]
     },
     "execution_count": 62,
     "metadata": {},
     "output_type": "execute_result"
    }
   ],
   "source": [
    "about.items()"
   ]
  },
  {
   "cell_type": "code",
   "execution_count": 65,
   "id": "084b9c43",
   "metadata": {},
   "outputs": [
    {
     "name": "stdout",
     "output_type": "stream",
     "text": [
      "('name', 'kshitiz')\n",
      "('works_at', 'brodway')\n",
      "('age', 26)\n",
      "('teaches', ['python', 'AI', 'ML'])\n"
     ]
    }
   ],
   "source": [
    "for item in about.items(A):\n",
    "    print(item)"
   ]
  },
  {
   "cell_type": "code",
   "execution_count": 66,
   "id": "9f7af265",
   "metadata": {},
   "outputs": [
    {
     "name": "stdout",
     "output_type": "stream",
     "text": [
      "name\n",
      "works_at\n",
      "age\n",
      "teaches\n"
     ]
    }
   ],
   "source": [
    "for key,val in about.items():\n",
    "    print(key)"
   ]
  },
  {
   "cell_type": "code",
   "execution_count": 67,
   "id": "e7855e7a",
   "metadata": {},
   "outputs": [
    {
     "name": "stdout",
     "output_type": "stream",
     "text": [
      "kshitiz\n",
      "brodway\n",
      "26\n",
      "['python', 'AI', 'ML']\n"
     ]
    }
   ],
   "source": [
    "for key, val in about.items():\n",
    "    print(val)"
   ]
  },
  {
   "cell_type": "code",
   "execution_count": 72,
   "id": "7e67ad51",
   "metadata": {},
   "outputs": [
    {
     "name": "stdout",
     "output_type": "stream",
     "text": [
      "the key is name and the value is kshitiz\n",
      "the key is works_at and the value is brodway\n",
      "the key is age and the value is 26\n",
      "the key is teaches and the value is ['python', 'AI', 'ML']\n"
     ]
    }
   ],
   "source": [
    "about ={\n",
    "    'name':'kshitiz',\n",
    "    'works_at':\"brodway\",\n",
    "    'age':26,\n",
    "    'teaches':['python','AI','ML']\n",
    "}\n",
    "for key, val in about.items():\n",
    "    print(f\"the key is {key} and the value is {val}\")"
   ]
  },
  {
   "cell_type": "markdown",
   "id": "97d18c53",
   "metadata": {},
   "source": [
    "# dictionary comprehension\n",
    "* sawp key value pair of dictionary"
   ]
  },
  {
   "cell_type": "code",
   "execution_count": 76,
   "id": "6d075262",
   "metadata": {},
   "outputs": [],
   "source": [
    "d = {1 : 'one',5: 'five',10: 'ten'}"
   ]
  },
  {
   "cell_type": "code",
   "execution_count": 77,
   "id": "adbe52fb",
   "metadata": {},
   "outputs": [
    {
     "data": {
      "text/plain": [
       "{'one': 1, 'five': 5, 'ten': 10}"
      ]
     },
     "execution_count": 77,
     "metadata": {},
     "output_type": "execute_result"
    }
   ],
   "source": [
    "{val:key for key ,val in d.items()}"
   ]
  },
  {
   "cell_type": "markdown",
   "id": "03fa6fd5",
   "metadata": {},
   "source": [
    "# zip()"
   ]
  },
  {
   "cell_type": "code",
   "execution_count": 79,
   "id": "bf5e5c97",
   "metadata": {},
   "outputs": [],
   "source": [
    "country=['nepal','india','japan']\n",
    "capital=['kathmandu','new delhi','tokyo']"
   ]
  },
  {
   "cell_type": "code",
   "execution_count": 80,
   "id": "eeaced4e",
   "metadata": {},
   "outputs": [
    {
     "data": {
      "text/plain": [
       "<zip at 0x2827b23d940>"
      ]
     },
     "execution_count": 80,
     "metadata": {},
     "output_type": "execute_result"
    }
   ],
   "source": [
    "zip(country,capital)"
   ]
  },
  {
   "cell_type": "code",
   "execution_count": 82,
   "id": "73ca1a78",
   "metadata": {},
   "outputs": [
    {
     "data": {
      "text/plain": [
       "{'nepal': 'kathmandu', 'india': 'new delhi', 'japan': 'tokyo'}"
      ]
     },
     "execution_count": 82,
     "metadata": {},
     "output_type": "execute_result"
    }
   ],
   "source": [
    "dict(zip(country,capital))"
   ]
  },
  {
   "cell_type": "code",
   "execution_count": null,
   "id": "4b565995",
   "metadata": {},
   "outputs": [],
   "source": []
  }
 ],
 "metadata": {
  "kernelspec": {
   "display_name": "Python 3 (ipykernel)",
   "language": "python",
   "name": "python3"
  },
  "language_info": {
   "codemirror_mode": {
    "name": "ipython",
    "version": 3
   },
   "file_extension": ".py",
   "mimetype": "text/x-python",
   "name": "python",
   "nbconvert_exporter": "python",
   "pygments_lexer": "ipython3",
   "version": "3.11.3"
  }
 },
 "nbformat": 4,
 "nbformat_minor": 5
}
