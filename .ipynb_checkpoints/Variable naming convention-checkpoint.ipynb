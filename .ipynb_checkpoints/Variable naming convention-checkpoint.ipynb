{
 "cells": [
  {
   "cell_type": "markdown",
   "id": "d39935b0",
   "metadata": {},
   "source": [
    "Hello!"
   ]
  },
  {
   "cell_type": "markdown",
   "id": "871688ae",
   "metadata": {},
   "source": [
    "#variable naming convention"
   ]
  },
  {
   "cell_type": "markdown",
   "id": "3fd23989",
   "metadata": {},
   "source": [
    "Python keywords cannot be variable name\n",
    "* Keywords are used the reserved words in Python.\n",
    "* We cannot use a keywords as a variable name, function name or any other identifier.\n",
    "* They are used to define the syntax and structure of the Python language.\n",
    "* In Python, keywords are case sensitive. "
   ]
  },
  {
   "cell_type": "code",
   "execution_count": 2,
   "id": "271bc2b6",
   "metadata": {},
   "outputs": [
    {
     "name": "stdout",
     "output_type": "stream",
     "text": [
      "\n",
      "Here is a list of the Python keywords.  Enter any keyword to get more help.\n",
      "\n",
      "False               class               from                or\n",
      "None                continue            global              pass\n",
      "True                def                 if                  raise\n",
      "and                 del                 import              return\n",
      "as                  elif                in                  try\n",
      "assert              else                is                  while\n",
      "async               except              lambda              with\n",
      "await               finally             nonlocal            yield\n",
      "break               for                 not                 \n",
      "\n"
     ]
    }
   ],
   "source": [
    "help('keywords')"
   ]
  },
  {
   "cell_type": "code",
   "execution_count": 3,
   "id": "ab9aa4c6",
   "metadata": {},
   "outputs": [],
   "source": [
    "#keywords cannot be variable names."
   ]
  },
  {
   "cell_type": "markdown",
   "id": "6cd491e7",
   "metadata": {},
   "source": [
    "#Python keywords are case sensitive.\n",
    "* uppercase re lowercase farak manxa programming language le vane tyo case sensative language ho."
   ]
  },
  {
   "cell_type": "code",
   "execution_count": 4,
   "id": "1e4f70d5",
   "metadata": {},
   "outputs": [
    {
     "ename": "SyntaxError",
     "evalue": "cannot assign to False (1672357174.py, line 1)",
     "output_type": "error",
     "traceback": [
      "\u001b[1;36m  Cell \u001b[1;32mIn[4], line 1\u001b[1;36m\u001b[0m\n\u001b[1;33m    False = 0 #False is a keyword\u001b[0m\n\u001b[1;37m    ^\u001b[0m\n\u001b[1;31mSyntaxError\u001b[0m\u001b[1;31m:\u001b[0m cannot assign to False\n"
     ]
    }
   ],
   "source": [
    "False = 0 #False is a keyword"
   ]
  },
  {
   "cell_type": "code",
   "execution_count": 5,
   "id": "c80ad561",
   "metadata": {},
   "outputs": [],
   "source": [
    "false = 0 #false is a variable name"
   ]
  },
  {
   "cell_type": "markdown",
   "id": "b5396b9f",
   "metadata": {},
   "source": [
    "##Python is a case sensitive language while SQL is case insensative language."
   ]
  },
  {
   "cell_type": "code",
   "execution_count": 8,
   "id": "8575f62c",
   "metadata": {},
   "outputs": [
    {
     "name": "stdout",
     "output_type": "stream",
     "text": [
      "The value of A is apple\n",
      "The value of a is ace\n"
     ]
    }
   ],
   "source": [
    "A = \"apple\"\n",
    "a = 'ace'\n",
    "print(f\"The value of A is {A}\")\n",
    "print(f'The value of a is {a}')"
   ]
  },
  {
   "cell_type": "code",
   "execution_count": 9,
   "id": "7e928c56",
   "metadata": {
    "scrolled": true
   },
   "outputs": [
    {
     "name": "stdout",
     "output_type": "stream",
     "text": [
      "The value of A is Apple\n",
      "The value of a is ace\n"
     ]
    }
   ],
   "source": [
    "A = 'Apple'\n",
    "a = 'ace'\n",
    "print(\"The value of A is {}\".format(A))\n",
    "print(\"The value of a is {}\".format(a))\n"
   ]
  },
  {
   "cell_type": "markdown",
   "id": "370f6a69",
   "metadata": {},
   "source": [
    "#We cannot use special symbols like `!,@,#,$,%`etc.in our identifier.\n"
   ]
  },
  {
   "cell_type": "code",
   "execution_count": 10,
   "id": "1e239b8d",
   "metadata": {},
   "outputs": [
    {
     "ename": "SyntaxError",
     "evalue": "invalid syntax. Maybe you meant '==' or ':=' instead of '='? (1491856118.py, line 1)",
     "output_type": "error",
     "traceback": [
      "\u001b[1;36m  Cell \u001b[1;32mIn[10], line 1\u001b[1;36m\u001b[0m\n\u001b[1;33m    @name = \"Aayus\"\u001b[0m\n\u001b[1;37m     ^\u001b[0m\n\u001b[1;31mSyntaxError\u001b[0m\u001b[1;31m:\u001b[0m invalid syntax. Maybe you meant '==' or ':=' instead of '='?\n"
     ]
    }
   ],
   "source": [
    "@name = \"Aayus\""
   ]
  },
  {
   "cell_type": "code",
   "execution_count": 11,
   "id": "3720129b",
   "metadata": {},
   "outputs": [],
   "source": [
    "name = 'Aayus gc'"
   ]
  },
  {
   "cell_type": "code",
   "execution_count": 12,
   "id": "541335df",
   "metadata": {},
   "outputs": [
    {
     "ename": "SyntaxError",
     "evalue": "invalid syntax (2417998255.py, line 1)",
     "output_type": "error",
     "traceback": [
      "\u001b[1;36m  Cell \u001b[1;32mIn[12], line 1\u001b[1;36m\u001b[0m\n\u001b[1;33m    $Name = \"Ram sharma\"\u001b[0m\n\u001b[1;37m    ^\u001b[0m\n\u001b[1;31mSyntaxError\u001b[0m\u001b[1;31m:\u001b[0m invalid syntax\n"
     ]
    }
   ],
   "source": [
    "$Name = \"Ram sharma\""
   ]
  },
  {
   "cell_type": "markdown",
   "id": "b395157b",
   "metadata": {},
   "source": [
    "# You cannot use space bar on variable name "
   ]
  },
  {
   "cell_type": "code",
   "execution_count": 14,
   "id": "9a822604",
   "metadata": {},
   "outputs": [
    {
     "ename": "SyntaxError",
     "evalue": "invalid syntax (4265613684.py, line 1)",
     "output_type": "error",
     "traceback": [
      "\u001b[1;36m  Cell \u001b[1;32mIn[14], line 1\u001b[1;36m\u001b[0m\n\u001b[1;33m    first name = \"Ram\"\u001b[0m\n\u001b[1;37m          ^\u001b[0m\n\u001b[1;31mSyntaxError\u001b[0m\u001b[1;31m:\u001b[0m invalid syntax\n"
     ]
    }
   ],
   "source": [
    "first name = \"Ram\""
   ]
  },
  {
   "cell_type": "code",
   "execution_count": 15,
   "id": "8d8952c6",
   "metadata": {},
   "outputs": [],
   "source": [
    "firstname = \"Ram\""
   ]
  },
  {
   "cell_type": "markdown",
   "id": "32e3ad66",
   "metadata": {},
   "source": [
    "# You cannot use - in variable name\n"
   ]
  },
  {
   "cell_type": "code",
   "execution_count": 16,
   "id": "84a66962",
   "metadata": {},
   "outputs": [
    {
     "ename": "SyntaxError",
     "evalue": "cannot assign to expression here. Maybe you meant '==' instead of '='? (2809317443.py, line 1)",
     "output_type": "error",
     "traceback": [
      "\u001b[1;36m  Cell \u001b[1;32mIn[16], line 1\u001b[1;36m\u001b[0m\n\u001b[1;33m    first-name = \"Aayus\"\u001b[0m\n\u001b[1;37m    ^\u001b[0m\n\u001b[1;31mSyntaxError\u001b[0m\u001b[1;31m:\u001b[0m cannot assign to expression here. Maybe you meant '==' instead of '='?\n"
     ]
    }
   ],
   "source": [
    "first-name = \"Aayus\""
   ]
  },
  {
   "cell_type": "markdown",
   "id": "3a24a036",
   "metadata": {},
   "source": [
    "# Numbers cannot br first letter in variable name but numbers can appear after letters"
   ]
  },
  {
   "cell_type": "code",
   "execution_count": 17,
   "id": "99bebae6",
   "metadata": {},
   "outputs": [
    {
     "ename": "SyntaxError",
     "evalue": "invalid decimal literal (1181516469.py, line 1)",
     "output_type": "error",
     "traceback": [
      "\u001b[1;36m  Cell \u001b[1;32mIn[17], line 1\u001b[1;36m\u001b[0m\n\u001b[1;33m    1animal = \"Dog\"\u001b[0m\n\u001b[1;37m    ^\u001b[0m\n\u001b[1;31mSyntaxError\u001b[0m\u001b[1;31m:\u001b[0m invalid decimal literal\n"
     ]
    }
   ],
   "source": [
    "1animal = \"Dog\""
   ]
  },
  {
   "cell_type": "code",
   "execution_count": 31,
   "id": "edd6c667",
   "metadata": {},
   "outputs": [],
   "source": [
    "animal1 =\"cow\""
   ]
  },
  {
   "cell_type": "markdown",
   "id": "4dbf4c0e",
   "metadata": {},
   "source": [
    "# Use underscore_to join to words in variable name."
   ]
  },
  {
   "cell_type": "code",
   "execution_count": 19,
   "id": "253469e9",
   "metadata": {},
   "outputs": [],
   "source": [
    "first_name = \"Aayus\"#snake_case"
   ]
  },
  {
   "cell_type": "code",
   "execution_count": 20,
   "id": "fb48b61e",
   "metadata": {},
   "outputs": [],
   "source": [
    "first_number = 60.5"
   ]
  },
  {
   "cell_type": "code",
   "execution_count": 21,
   "id": "c9cada45",
   "metadata": {},
   "outputs": [],
   "source": [
    "Myobj = 88 #PascalCase"
   ]
  },
  {
   "cell_type": "markdown",
   "id": "280b9c62",
   "metadata": {},
   "source": [
    "# A good variable name must be given.\n"
   ]
  },
  {
   "cell_type": "markdown",
   "id": "822e226d",
   "metadata": {},
   "source": [
    "# Python is a Dynamic type language"
   ]
  },
  {
   "cell_type": "code",
   "execution_count": 23,
   "id": "6868b74e",
   "metadata": {},
   "outputs": [
    {
     "data": {
      "text/plain": [
       "3"
      ]
     },
     "execution_count": 23,
     "metadata": {},
     "output_type": "execute_result"
    }
   ],
   "source": [
    "1 + 2 "
   ]
  },
  {
   "cell_type": "code",
   "execution_count": 24,
   "id": "b1064162",
   "metadata": {},
   "outputs": [
    {
     "data": {
      "text/plain": [
       "'12'"
      ]
     },
     "execution_count": 24,
     "metadata": {},
     "output_type": "execute_result"
    }
   ],
   "source": [
    "\"1\" + \"2\""
   ]
  },
  {
   "cell_type": "code",
   "execution_count": 25,
   "id": "412aef0e",
   "metadata": {},
   "outputs": [
    {
     "ename": "TypeError",
     "evalue": "can only concatenate str (not \"int\") to str",
     "output_type": "error",
     "traceback": [
      "\u001b[1;31m---------------------------------------------------------------------------\u001b[0m",
      "\u001b[1;31mTypeError\u001b[0m                                 Traceback (most recent call last)",
      "Cell \u001b[1;32mIn[25], line 1\u001b[0m\n\u001b[1;32m----> 1\u001b[0m \u001b[38;5;124;43m\"\u001b[39;49m\u001b[38;5;124;43m1\u001b[39;49m\u001b[38;5;124;43m\"\u001b[39;49m\u001b[43m \u001b[49m\u001b[38;5;241;43m+\u001b[39;49m\u001b[43m \u001b[49m\u001b[38;5;241;43m2\u001b[39;49m\n",
      "\u001b[1;31mTypeError\u001b[0m: can only concatenate str (not \"int\") to str"
     ]
    }
   ],
   "source": [
    "\"1\" + 2"
   ]
  },
  {
   "cell_type": "markdown",
   "id": "92ee138a",
   "metadata": {},
   "source": [
    "# updating variable values"
   ]
  },
  {
   "cell_type": "code",
   "execution_count": 3,
   "id": "2d8bbc05",
   "metadata": {},
   "outputs": [
    {
     "name": "stdout",
     "output_type": "stream",
     "text": [
      "Before a = 5\n",
      "After a = 66\n"
     ]
    }
   ],
   "source": [
    "a = 5\n",
    "print(f'Before a = {a}')\n",
    "a = 66\n",
    "print(f'After a = {a}')"
   ]
  },
  {
   "cell_type": "code",
   "execution_count": 4,
   "id": "e7e4ff45",
   "metadata": {},
   "outputs": [
    {
     "name": "stdout",
     "output_type": "stream",
     "text": [
      "Before a = 60.5\n",
      "After a = 61.0\n"
     ]
    }
   ],
   "source": [
    "a = 60.5\n",
    "print(f'Before a = {a}')\n",
    "a = a + 0.5\n",
    "print(f'After a = {a}')\n"
   ]
  },
  {
   "cell_type": "markdown",
   "id": "637d61ef",
   "metadata": {},
   "source": [
    "# Assigning multiple values to multiple variable"
   ]
  },
  {
   "cell_type": "code",
   "execution_count": 33,
   "id": "9fd0126f",
   "metadata": {},
   "outputs": [],
   "source": [
    "a = 2\n",
    "b = 0.2\n",
    "c = 0.6 + 0.3j"
   ]
  },
  {
   "cell_type": "code",
   "execution_count": 30,
   "id": "1ae880b9",
   "metadata": {},
   "outputs": [
    {
     "data": {
      "text/plain": [
       "2"
      ]
     },
     "execution_count": 30,
     "metadata": {},
     "output_type": "execute_result"
    }
   ],
   "source": [
    "a "
   ]
  },
  {
   "cell_type": "code",
   "execution_count": 31,
   "id": "71f0c91d",
   "metadata": {},
   "outputs": [
    {
     "data": {
      "text/plain": [
       "0.2"
      ]
     },
     "execution_count": 31,
     "metadata": {},
     "output_type": "execute_result"
    }
   ],
   "source": [
    "b"
   ]
  },
  {
   "cell_type": "code",
   "execution_count": 34,
   "id": "62f7589e",
   "metadata": {},
   "outputs": [
    {
     "data": {
      "text/plain": [
       "(0.6+0.3j)"
      ]
     },
     "execution_count": 34,
     "metadata": {},
     "output_type": "execute_result"
    }
   ],
   "source": [
    "c"
   ]
  },
  {
   "cell_type": "code",
   "execution_count": 35,
   "id": "c6a5dfdb",
   "metadata": {},
   "outputs": [],
   "source": [
    "a, b, c = 2, 0.2, 0.6 + 0.3j"
   ]
  },
  {
   "cell_type": "code",
   "execution_count": 38,
   "id": "b884d7c0",
   "metadata": {},
   "outputs": [
    {
     "ename": "ValueError",
     "evalue": "not enough values to unpack (expected 3, got 2)",
     "output_type": "error",
     "traceback": [
      "\u001b[1;31m---------------------------------------------------------------------------\u001b[0m",
      "\u001b[1;31mValueError\u001b[0m                                Traceback (most recent call last)",
      "Cell \u001b[1;32mIn[38], line 1\u001b[0m\n\u001b[1;32m----> 1\u001b[0m a, b, c \u001b[38;5;241m=\u001b[39m \u001b[38;5;241m2\u001b[39m, \u001b[38;5;241m0.2\u001b[39m\n",
      "\u001b[1;31mValueError\u001b[0m: not enough values to unpack (expected 3, got 2)"
     ]
    }
   ],
   "source": [
    "a, b, c = 2, 0.2"
   ]
  },
  {
   "cell_type": "markdown",
   "id": "5616240b",
   "metadata": {},
   "source": [
    "#WAP TO SWAP VALUES IF TWO VARIABLES.\n"
   ]
  },
  {
   "cell_type": "code",
   "execution_count": 1,
   "id": "d390b14e",
   "metadata": {},
   "outputs": [
    {
     "name": "stdout",
     "output_type": "stream",
     "text": [
      "0.36\n",
      "2.5\n"
     ]
    }
   ],
   "source": [
    "num1 = 2.5\n",
    "num2 = 0.36\n",
    "float= num1\n",
    "num1 = num2 \n",
    "num2 = float\n",
    "print(num1)\n",
    "print(num2)"
   ]
  },
  {
   "cell_type": "code",
   "execution_count": 3,
   "id": "ec79e300",
   "metadata": {},
   "outputs": [
    {
     "name": "stdout",
     "output_type": "stream",
     "text": [
      "6\n"
     ]
    }
   ],
   "source": [
    "num1 = 2\n",
    "num2 = 6\n",
    "num1 = num2\n",
    "print(num1)"
   ]
  },
  {
   "cell_type": "code",
   "execution_count": 9,
   "id": "d5c1f334",
   "metadata": {},
   "outputs": [
    {
     "name": "stdout",
     "output_type": "stream",
     "text": [
      "26\n",
      "20\n"
     ]
    }
   ],
   "source": [
    "rajan = 20\n",
    "nitik = 26\n",
    "shyam = rajan#assigning a third variable to exchange values.(shyam)\n",
    "rajan = nitik\n",
    "nitik = shyam\n",
    "print(rajan)\n",
    "print(nitik)\n"
   ]
  },
  {
   "cell_type": "code",
   "execution_count": 8,
   "id": "83ab16be",
   "metadata": {},
   "outputs": [
    {
     "name": "stdout",
     "output_type": "stream",
     "text": [
      "8\n",
      "5\n"
     ]
    }
   ],
   "source": [
    "a = 5\n",
    "b = 8 \n",
    "a = a + b#13\n",
    "b = a - b#13-8=5\n",
    "a = a - b#13-5=8\n",
    "print(a)\n",
    "print(b)"
   ]
  },
  {
   "cell_type": "code",
   "execution_count": 2,
   "id": "232671a1",
   "metadata": {},
   "outputs": [
    {
     "name": "stdout",
     "output_type": "stream",
     "text": [
      "15\n",
      "12\n"
     ]
    }
   ],
   "source": [
    "no1 = 12\n",
    "no2 = 15\n",
    "number = no1\n",
    "no1 = no2\n",
    "no2 = number \n",
    "print(no1)\n",
    "print(no2)\n"
   ]
  },
  {
   "cell_type": "code",
   "execution_count": null,
   "id": "9f7b8e84",
   "metadata": {},
   "outputs": [],
   "source": []
  },
  {
   "cell_type": "code",
   "execution_count": 3,
   "id": "18fa3b8e",
   "metadata": {},
   "outputs": [
    {
     "name": "stdout",
     "output_type": "stream",
     "text": [
      "60\n"
     ]
    }
   ],
   "source": [
    "a = 20\n",
    "b = 40\n",
    "sum = a + b\n",
    "print(sum)"
   ]
  },
  {
   "cell_type": "code",
   "execution_count": 1,
   "id": "48749297",
   "metadata": {},
   "outputs": [
    {
     "name": "stdout",
     "output_type": "stream",
     "text": [
      "hello\n"
     ]
    }
   ],
   "source": [
    "print(\"hello\")"
   ]
  },
  {
   "cell_type": "code",
   "execution_count": 6,
   "id": "b91e351a",
   "metadata": {},
   "outputs": [
    {
     "name": "stdout",
     "output_type": "stream",
     "text": [
      "5922\n"
     ]
    }
   ],
   "source": [
    "min = 42\n",
    "sec1 = 42\n",
    "sec2 = min *60\n",
    "total_sec = sec1 + sec2\n",
    "print(total_sec)"
   ]
  },
  {
   "cell_type": "code",
   "execution_count": null,
   "id": "d02f17a1",
   "metadata": {},
   "outputs": [],
   "source": [
    " "
   ]
  }
 ],
 "metadata": {
  "kernelspec": {
   "display_name": "Python 3 (ipykernel)",
   "language": "python",
   "name": "python3"
  },
  "language_info": {
   "codemirror_mode": {
    "name": "ipython",
    "version": 3
   },
   "file_extension": ".py",
   "mimetype": "text/x-python",
   "name": "python",
   "nbconvert_exporter": "python",
   "pygments_lexer": "ipython3",
   "version": "3.11.3"
  }
 },
 "nbformat": 4,
 "nbformat_minor": 5
}
