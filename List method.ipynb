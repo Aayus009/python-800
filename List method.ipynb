{
 "cells": [
  {
   "cell_type": "code",
   "execution_count": 5,
   "id": "14210b97",
   "metadata": {},
   "outputs": [
    {
     "data": {
      "text/plain": [
       "2000633850880"
      ]
     },
     "execution_count": 5,
     "metadata": {},
     "output_type": "execute_result"
    }
   ],
   "source": [
    "cars=['Mercedes','Tesla','BMW','pagini','Ferrari']\n",
    "id(cars)"
   ]
  },
  {
   "cell_type": "code",
   "execution_count": 6,
   "id": "c7a3d0b9",
   "metadata": {},
   "outputs": [
    {
     "data": {
      "text/plain": [
       "'Mercedes'"
      ]
     },
     "execution_count": 6,
     "metadata": {},
     "output_type": "execute_result"
    }
   ],
   "source": [
    "cars[0]"
   ]
  },
  {
   "cell_type": "code",
   "execution_count": 8,
   "id": "74dc70fa",
   "metadata": {},
   "outputs": [],
   "source": [
    "cars[1]='lambo'"
   ]
  },
  {
   "cell_type": "code",
   "execution_count": 9,
   "id": "05ae719e",
   "metadata": {},
   "outputs": [
    {
     "data": {
      "text/plain": [
       "['Mercedes', 'lambo', 'BMW', 'pagini', 'Ferrari']"
      ]
     },
     "execution_count": 9,
     "metadata": {},
     "output_type": "execute_result"
    }
   ],
   "source": [
    "cars"
   ]
  },
  {
   "cell_type": "code",
   "execution_count": 10,
   "id": "8b139be8",
   "metadata": {},
   "outputs": [
    {
     "data": {
      "text/plain": [
       "1665418448064"
      ]
     },
     "execution_count": 10,
     "metadata": {},
     "output_type": "execute_result"
    }
   ],
   "source": [
    "id(cars)"
   ]
  },
  {
   "cell_type": "code",
   "execution_count": 12,
   "id": "2f7850d1",
   "metadata": {},
   "outputs": [
    {
     "name": "stdout",
     "output_type": "stream",
     "text": [
      "['apple', 'balckcurrent', 'watermelon', 'kiwi', 'orange']\n"
     ]
    }
   ],
   "source": [
    "fruits= ['apple','mango','banana','kiwi','orange']\n",
    "fruits[1:3]=[\"balckcurrent\",\"watermelon\"]\n",
    "print(fruits)"
   ]
  },
  {
   "cell_type": "markdown",
   "id": "24b3c03a",
   "metadata": {},
   "source": [
    "# .insert()"
   ]
  },
  {
   "cell_type": "code",
   "execution_count": 2,
   "id": "b2c6f972",
   "metadata": {},
   "outputs": [
    {
     "name": "stdout",
     "output_type": "stream",
     "text": [
      "['apple', 'mango', 'banana', 'garpes', 'kiwi', 'orange']\n"
     ]
    }
   ],
   "source": [
    "fruits= ['apple','mango','banana','kiwi','orange']\n",
    "fruits[3]\n",
    "fruits.insert(3, 'garpes')\n",
    "print(fruits)"
   ]
  },
  {
   "cell_type": "code",
   "execution_count": 3,
   "id": "6219119b",
   "metadata": {},
   "outputs": [
    {
     "data": {
      "text/plain": [
       "'banana'"
      ]
     },
     "execution_count": 3,
     "metadata": {},
     "output_type": "execute_result"
    }
   ],
   "source": [
    "fruits[2]"
   ]
  },
  {
   "cell_type": "markdown",
   "id": "891a1f40",
   "metadata": {},
   "source": [
    "# .append()"
   ]
  },
  {
   "cell_type": "code",
   "execution_count": 6,
   "id": "3bce81a6",
   "metadata": {},
   "outputs": [
    {
     "data": {
      "text/plain": [
       "[]"
      ]
     },
     "execution_count": 6,
     "metadata": {},
     "output_type": "execute_result"
    }
   ],
   "source": [
    "student = []\n",
    "student"
   ]
  },
  {
   "cell_type": "code",
   "execution_count": 7,
   "id": "edd9ce1b",
   "metadata": {},
   "outputs": [],
   "source": [
    "student.append('susan')"
   ]
  },
  {
   "cell_type": "code",
   "execution_count": 8,
   "id": "606de215",
   "metadata": {},
   "outputs": [
    {
     "data": {
      "text/plain": [
       "['susan']"
      ]
     },
     "execution_count": 8,
     "metadata": {},
     "output_type": "execute_result"
    }
   ],
   "source": [
    "student"
   ]
  },
  {
   "cell_type": "code",
   "execution_count": 9,
   "id": "d9e83a55",
   "metadata": {},
   "outputs": [],
   "source": [
    "student.append('punam')"
   ]
  },
  {
   "cell_type": "code",
   "execution_count": 13,
   "id": "65106f30",
   "metadata": {},
   "outputs": [
    {
     "data": {
      "text/plain": [
       "['susan', 'punam']"
      ]
     },
     "execution_count": 13,
     "metadata": {},
     "output_type": "execute_result"
    }
   ],
   "source": [
    "student"
   ]
  },
  {
   "cell_type": "code",
   "execution_count": 16,
   "id": "ab8c8513",
   "metadata": {},
   "outputs": [
    {
     "data": {
      "text/plain": [
       "'susan'"
      ]
     },
     "execution_count": 16,
     "metadata": {},
     "output_type": "execute_result"
    }
   ],
   "source": [
    "student[-2]"
   ]
  },
  {
   "cell_type": "code",
   "execution_count": 16,
   "id": "9a011e53",
   "metadata": {},
   "outputs": [],
   "source": [
    "student.append('thati')"
   ]
  },
  {
   "cell_type": "code",
   "execution_count": 17,
   "id": "9aee682d",
   "metadata": {},
   "outputs": [
    {
     "data": {
      "text/plain": [
       "['susan', 'thati']"
      ]
     },
     "execution_count": 17,
     "metadata": {},
     "output_type": "execute_result"
    }
   ],
   "source": [
    "student"
   ]
  },
  {
   "cell_type": "markdown",
   "id": "d0076df1",
   "metadata": {},
   "source": [
    "# WAP using append to find even number from 1 to 25"
   ]
  },
  {
   "cell_type": "code",
   "execution_count": 4,
   "id": "1ffb1b8f",
   "metadata": {},
   "outputs": [
    {
     "name": "stdout",
     "output_type": "stream",
     "text": [
      "[]\n",
      "[2]\n",
      "[2, 4]\n",
      "[2, 4, 6]\n",
      "[2, 4, 6, 8]\n",
      "[2, 4, 6, 8, 10]\n",
      "[2, 4, 6, 8, 10, 12]\n",
      "[2, 4, 6, 8, 10, 12, 14]\n",
      "[2, 4, 6, 8, 10, 12, 14, 16]\n",
      "[2, 4, 6, 8, 10, 12, 14, 16, 18]\n",
      "[2, 4, 6, 8, 10, 12, 14, 16, 18, 20]\n",
      "[2, 4, 6, 8, 10, 12, 14, 16, 18, 20, 22]\n"
     ]
    }
   ],
   "source": [
    "even = list()\n",
    "for index in range(2,25,2):\n",
    "    print(even)\n",
    "    even.append(index)\n"
   ]
  },
  {
   "cell_type": "code",
   "execution_count": 5,
   "id": "0b418f08",
   "metadata": {},
   "outputs": [
    {
     "data": {
      "text/plain": [
       "[2, 4, 6, 8, 10, 12, 14, 16, 18, 20, 22, 24]"
      ]
     },
     "execution_count": 5,
     "metadata": {},
     "output_type": "execute_result"
    }
   ],
   "source": [
    "even"
   ]
  },
  {
   "cell_type": "code",
   "execution_count": 8,
   "id": "9c49a2d9",
   "metadata": {},
   "outputs": [
    {
     "name": "stdout",
     "output_type": "stream",
     "text": [
      "[]\n",
      "[24]\n",
      "[24, 24]\n",
      "[24, 24, 24]\n",
      "[24, 24, 24, 24]\n",
      "[24, 24, 24, 24, 24]\n",
      "[24, 24, 24, 24, 24, 24]\n",
      "[24, 24, 24, 24, 24, 24, 24]\n",
      "[24, 24, 24, 24, 24, 24, 24, 24]\n",
      "[24, 24, 24, 24, 24, 24, 24, 24, 24]\n",
      "[24, 24, 24, 24, 24, 24, 24, 24, 24, 24]\n",
      "[24, 24, 24, 24, 24, 24, 24, 24, 24, 24, 24]\n",
      "[24, 24, 24, 24, 24, 24, 24, 24, 24, 24, 24, 24]\n",
      "[24, 24, 24, 24, 24, 24, 24, 24, 24, 24, 24, 24, 24]\n",
      "[24, 24, 24, 24, 24, 24, 24, 24, 24, 24, 24, 24, 24, 24]\n",
      "[24, 24, 24, 24, 24, 24, 24, 24, 24, 24, 24, 24, 24, 24, 24]\n",
      "[24, 24, 24, 24, 24, 24, 24, 24, 24, 24, 24, 24, 24, 24, 24, 24]\n",
      "[24, 24, 24, 24, 24, 24, 24, 24, 24, 24, 24, 24, 24, 24, 24, 24, 24]\n",
      "[24, 24, 24, 24, 24, 24, 24, 24, 24, 24, 24, 24, 24, 24, 24, 24, 24, 24]\n",
      "[24, 24, 24, 24, 24, 24, 24, 24, 24, 24, 24, 24, 24, 24, 24, 24, 24, 24, 24]\n",
      "[24, 24, 24, 24, 24, 24, 24, 24, 24, 24, 24, 24, 24, 24, 24, 24, 24, 24, 24, 24]\n",
      "[24, 24, 24, 24, 24, 24, 24, 24, 24, 24, 24, 24, 24, 24, 24, 24, 24, 24, 24, 24, 24]\n",
      "[24, 24, 24, 24, 24, 24, 24, 24, 24, 24, 24, 24, 24, 24, 24, 24, 24, 24, 24, 24, 24, 24]\n",
      "[24, 24, 24, 24, 24, 24, 24, 24, 24, 24, 24, 24, 24, 24, 24, 24, 24, 24, 24, 24, 24, 24, 24]\n"
     ]
    }
   ],
   "source": [
    "even=[]\n",
    "for i  in range(1,25,1): \n",
    "    print(even)\n",
    "    even.append(index)"
   ]
  },
  {
   "cell_type": "markdown",
   "id": "57975a9c",
   "metadata": {},
   "source": [
    "# .extend()"
   ]
  },
  {
   "cell_type": "code",
   "execution_count": 18,
   "id": "f36c6dc8",
   "metadata": {},
   "outputs": [],
   "source": [
    "l1=[2,4,6]\n",
    "l2=[1,3]"
   ]
  },
  {
   "cell_type": "code",
   "execution_count": 19,
   "id": "c0d38455",
   "metadata": {},
   "outputs": [
    {
     "data": {
      "text/plain": [
       "[2, 4, 6, 1, 3]"
      ]
     },
     "execution_count": 19,
     "metadata": {},
     "output_type": "execute_result"
    }
   ],
   "source": [
    "l1 + l2#list concat"
   ]
  },
  {
   "cell_type": "code",
   "execution_count": 20,
   "id": "020d3b62",
   "metadata": {},
   "outputs": [],
   "source": [
    "l1.extend(l2)"
   ]
  },
  {
   "cell_type": "code",
   "execution_count": 21,
   "id": "c0650fba",
   "metadata": {},
   "outputs": [
    {
     "data": {
      "text/plain": [
       "[2, 4, 6, 1, 3]"
      ]
     },
     "execution_count": 21,
     "metadata": {},
     "output_type": "execute_result"
    }
   ],
   "source": [
    "l1"
   ]
  },
  {
   "cell_type": "code",
   "execution_count": 22,
   "id": "136cb5ed",
   "metadata": {},
   "outputs": [
    {
     "data": {
      "text/plain": [
       "[1, 3]"
      ]
     },
     "execution_count": 22,
     "metadata": {},
     "output_type": "execute_result"
    }
   ],
   "source": [
    "l2"
   ]
  },
  {
   "cell_type": "code",
   "execution_count": 17,
   "id": "74046f49",
   "metadata": {},
   "outputs": [],
   "source": [
    "l1=[2,4,6]\n",
    "l2=[1,3]\n",
    "l2.extend(l1)"
   ]
  },
  {
   "cell_type": "code",
   "execution_count": 19,
   "id": "cf759e95",
   "metadata": {},
   "outputs": [
    {
     "data": {
      "text/plain": [
       "[2, 4, 6]"
      ]
     },
     "execution_count": 19,
     "metadata": {},
     "output_type": "execute_result"
    }
   ],
   "source": [
    "l1"
   ]
  },
  {
   "cell_type": "code",
   "execution_count": 20,
   "id": "50f41a65",
   "metadata": {},
   "outputs": [
    {
     "data": {
      "text/plain": [
       "[1, 3, 2, 4, 6]"
      ]
     },
     "execution_count": 20,
     "metadata": {},
     "output_type": "execute_result"
    }
   ],
   "source": [
    "l2\n"
   ]
  },
  {
   "cell_type": "markdown",
   "id": "68577931",
   "metadata": {},
   "source": [
    "# .REMOVE()"
   ]
  },
  {
   "cell_type": "code",
   "execution_count": 22,
   "id": "7ba2043a",
   "metadata": {},
   "outputs": [
    {
     "name": "stdout",
     "output_type": "stream",
     "text": [
      "['mango', 'apple', 'mango']\n"
     ]
    }
   ],
   "source": [
    "fruits=['apple','mango','apple','mango']\n",
    "fruits.remove(\"apple\")#first occuramce item is removed\n",
    "print(fruits)"
   ]
  },
  {
   "cell_type": "markdown",
   "id": "baa5f46f",
   "metadata": {},
   "source": [
    "# .pop()"
   ]
  },
  {
   "cell_type": "code",
   "execution_count": 23,
   "id": "087ce6f0",
   "metadata": {},
   "outputs": [
    {
     "name": "stdout",
     "output_type": "stream",
     "text": [
      "['apple', 'mango', 'apple']\n"
     ]
    }
   ],
   "source": [
    "fruits=['apple','mango','apple','mango']\n",
    "fruits.pop()#removes last item\n",
    "print(fruits)"
   ]
  },
  {
   "cell_type": "code",
   "execution_count": 24,
   "id": "de13b83b",
   "metadata": {},
   "outputs": [
    {
     "name": "stdout",
     "output_type": "stream",
     "text": [
      "['apple', 'mango', 'Guava', 'kiwi']\n"
     ]
    }
   ],
   "source": [
    "fruits=['apple','mango','Guava','kiwi','dragonfruit']\n",
    "fruits.pop(4)\n",
    "print(fruits)"
   ]
  },
  {
   "cell_type": "markdown",
   "id": "03f7775f",
   "metadata": {},
   "source": [
    "# .sort()"
   ]
  },
  {
   "cell_type": "code",
   "execution_count": 27,
   "id": "c0f3b77a",
   "metadata": {},
   "outputs": [],
   "source": [
    "fruits=['Apple','Mango','Guava','Kiwi','Dragonfruit']\n",
    "fruits.sort()#ascending order"
   ]
  },
  {
   "cell_type": "code",
   "execution_count": 28,
   "id": "a5f45ca3",
   "metadata": {},
   "outputs": [
    {
     "data": {
      "text/plain": [
       "['Apple', 'Dragonfruit', 'Guava', 'Kiwi', 'Mango']"
      ]
     },
     "execution_count": 28,
     "metadata": {},
     "output_type": "execute_result"
    }
   ],
   "source": [
    "fruits"
   ]
  },
  {
   "cell_type": "code",
   "execution_count": 29,
   "id": "471ae52a",
   "metadata": {},
   "outputs": [
    {
     "data": {
      "text/plain": [
       "['Mango', 'Kiwi', 'Guava', 'Dragonfruit', 'Apple']"
      ]
     },
     "execution_count": 29,
     "metadata": {},
     "output_type": "execute_result"
    }
   ],
   "source": [
    "fruits=['Apple','Mango','Guava','Kiwi','Dragonfruit']\n",
    "fruits.sort(reverse=True) #descending\n",
    "fruits"
   ]
  },
  {
   "cell_type": "code",
   "execution_count": 30,
   "id": "a43775e6",
   "metadata": {},
   "outputs": [
    {
     "data": {
      "text/plain": [
       "['Apple', 'Dragonfruit', 'Guava', 'Kiwi', 'Mango']"
      ]
     },
     "execution_count": 30,
     "metadata": {},
     "output_type": "execute_result"
    }
   ],
   "source": [
    "fruits=['Apple','Mango','Guava','Kiwi','Dragonfruit']\n",
    "sorted_fruits=sorted(fruits)\n",
    "sorted_fruits"
   ]
  },
  {
   "cell_type": "code",
   "execution_count": 33,
   "id": "9a510989",
   "metadata": {},
   "outputs": [
    {
     "data": {
      "text/plain": [
       "['Mango', 'Kiwi', 'Guava', 'Dragonfruit', 'Apple']"
      ]
     },
     "execution_count": 33,
     "metadata": {},
     "output_type": "execute_result"
    }
   ],
   "source": [
    "fruits=['Apple','Mango','Guava','Kiwi','Dragonfruit']\n",
    "sorted_fruits= sorted(fruits,reverse=True)#descending\n",
    "sorted_fruits"
   ]
  },
  {
   "cell_type": "code",
   "execution_count": null,
   "id": "a6fa8654",
   "metadata": {},
   "outputs": [],
   "source": []
  }
 ],
 "metadata": {
  "kernelspec": {
   "display_name": "Python 3 (ipykernel)",
   "language": "python",
   "name": "python3"
  },
  "language_info": {
   "codemirror_mode": {
    "name": "ipython",
    "version": 3
   },
   "file_extension": ".py",
   "mimetype": "text/x-python",
   "name": "python",
   "nbconvert_exporter": "python",
   "pygments_lexer": "ipython3",
   "version": "3.11.3"
  }
 },
 "nbformat": 4,
 "nbformat_minor": 5
}
