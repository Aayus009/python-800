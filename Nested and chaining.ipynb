{
 "cells": [
  {
   "cell_type": "code",
   "execution_count": 1,
   "id": "fc77a8b3",
   "metadata": {},
   "outputs": [],
   "source": [
    "# What if i want to check multiple Expression? _Nesting and chaning conditionals"
   ]
  },
  {
   "cell_type": "code",
   "execution_count": 3,
   "id": "4a97e8bc",
   "metadata": {},
   "outputs": [
    {
     "name": "stdout",
     "output_type": "stream",
     "text": [
      "positive\n"
     ]
    }
   ],
   "source": [
    "number = 5 \n",
    "if number < 0:\n",
    "    print(\"Negative\")\n",
    "if number == 0:\n",
    "    print(\"neutral\")\n",
    "if number > 0:\n",
    "    print(\"positive\")"
   ]
  },
  {
   "cell_type": "code",
   "execution_count": 6,
   "id": "581eff6b",
   "metadata": {},
   "outputs": [
    {
     "name": "stdout",
     "output_type": "stream",
     "text": [
      "positive\n"
     ]
    }
   ],
   "source": [
    "#nestung of conditionals: if else vitra if else lekhna ni ppauxa \n",
    "number = 5 \n",
    "if number < 0:\n",
    "    print(\"negative\")\n",
    "elif number == 0:\n",
    "    print(\"neutral\")\n",
    "elif number > 0:\n",
    "    print(\"positive\")       "
   ]
  },
  {
   "cell_type": "code",
   "execution_count": 1,
   "id": "e9d532d2",
   "metadata": {},
   "outputs": [
    {
     "name": "stdout",
     "output_type": "stream",
     "text": [
      "positive\n"
     ]
    }
   ],
   "source": [
    "#chaining\n",
    "num = 5 \n",
    "if num < 0:\n",
    "    print(\"negative\")\n",
    "elif num == 0:\n",
    "    print(\"neutral\")\n",
    "elif num > 0:\n",
    "    print(\"positive\")"
   ]
  },
  {
   "cell_type": "code",
   "execution_count": null,
   "id": "4b25c5d4",
   "metadata": {},
   "outputs": [],
   "source": []
  }
 ],
 "metadata": {
  "kernelspec": {
   "display_name": "Python 3 (ipykernel)",
   "language": "python",
   "name": "python3"
  },
  "language_info": {
   "codemirror_mode": {
    "name": "ipython",
    "version": 3
   },
   "file_extension": ".py",
   "mimetype": "text/x-python",
   "name": "python",
   "nbconvert_exporter": "python",
   "pygments_lexer": "ipython3",
   "version": "3.11.3"
  }
 },
 "nbformat": 4,
 "nbformat_minor": 5
}
