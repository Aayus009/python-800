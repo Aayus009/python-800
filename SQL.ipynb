{
 "cells": [
  {
   "cell_type": "markdown",
   "id": "776228dc",
   "metadata": {},
   "source": [
    "# SQL\n",
    "\n",
    "RDBMS: Relational database management system \n",
    "\n",
    "\n",
    "Case Insensative\n",
    "\n",
    "\n",
    "Tabular data\n",
    "* Creating a database\n",
    "* creating a table\n",
    "* insert data into table\n",
    "* Read data from the table\n",
    "* UPdate data in  the table\n",
    "* Delete data tuple from the table\n",
    "* filtering data using where clause"
   ]
  },
  {
   "cell_type": "code",
   "execution_count": 1,
   "id": "bbe2411f",
   "metadata": {},
   "outputs": [],
   "source": [
    "import sqlite3"
   ]
  },
  {
   "cell_type": "code",
   "execution_count": 2,
   "id": "0af76fe5",
   "metadata": {},
   "outputs": [],
   "source": [
    "con = sqlite3.connect('broadway.db')# broadway.db is database"
   ]
  },
  {
   "cell_type": "raw",
   "id": "227a9429",
   "metadata": {},
   "source": [
    "# creating table in sql.\n",
    "\n",
    "```sql\n",
    "Create table table_name\n",
    "(column_name_1 datatype , column_name_2 datatype, ... , column_name datatype)\n",
    "```\n"
   ]
  },
  {
   "cell_type": "code",
   "execution_count": 8,
   "id": "fc8a4ab4",
   "metadata": {},
   "outputs": [],
   "source": [
    "query =\"\"\"\n",
    "create table student\n",
    "(roll_no int not null, name varchar(50), address varchar(100) )\n",
    "\"\"\""
   ]
  },
  {
   "cell_type": "code",
   "execution_count": 9,
   "id": "a5e74c0d",
   "metadata": {},
   "outputs": [],
   "source": [
    "# cursor is used to execute sql query\n",
    "cur = con.cursor()"
   ]
  },
  {
   "cell_type": "code",
   "execution_count": 10,
   "id": "8c1707a1",
   "metadata": {},
   "outputs": [
    {
     "data": {
      "text/plain": [
       "<sqlite3.Cursor at 0x28c72087040>"
      ]
     },
     "execution_count": 10,
     "metadata": {},
     "output_type": "execute_result"
    }
   ],
   "source": [
    "cur.execute(query)"
   ]
  },
  {
   "cell_type": "code",
   "execution_count": 11,
   "id": "38b3a384",
   "metadata": {},
   "outputs": [
    {
     "name": "stdout",
     "output_type": "stream",
     "text": [
      "table student already exists\n"
     ]
    }
   ],
   "source": [
    "try: \n",
    "    cur.execute(query)\n",
    "except Exception as e:\n",
    "    print(e)"
   ]
  },
  {
   "cell_type": "markdown",
   "id": "801d323c",
   "metadata": {},
   "source": [
    "# Insert stetement in sql\n",
    "\n",
    "```sql\n",
    "Insert into table_name (column_name_1, column_name_2,... ,column_name_n)\n",
    "Values\n",
    "(value_1, value_2, ... , value_n)\n",
    "```"
   ]
  },
  {
   "cell_type": "code",
   "execution_count": 12,
   "id": "c1bb568d",
   "metadata": {},
   "outputs": [],
   "source": [
    "query ='''\n",
    "Insert into student (roll_no,name,address)\n",
    "values\n",
    "(1, 'kshitiz', 'lalitpur'),\n",
    "(2, 'Abhishek', 'Bhaktapur'),\n",
    "(3, 'Susan', 'Kathmandu'),\n",
    "(4, 'Bikash', 'Banepa')\n",
    "'''"
   ]
  },
  {
   "cell_type": "code",
   "execution_count": 13,
   "id": "8f8f30a5",
   "metadata": {},
   "outputs": [
    {
     "data": {
      "text/plain": [
       "<sqlite3.Cursor at 0x28c72087040>"
      ]
     },
     "execution_count": 13,
     "metadata": {},
     "output_type": "execute_result"
    }
   ],
   "source": [
    "cur.execute(query)"
   ]
  },
  {
   "cell_type": "markdown",
   "id": "abb2d744",
   "metadata": {},
   "source": [
    "# Read data in sql using select statement\n",
    "\n",
    "```sql\n",
    "select * from table_name\n",
    "```\n",
    "\n",
    "'*' vaneko sabai column ho"
   ]
  },
  {
   "cell_type": "code",
   "execution_count": 14,
   "id": "bd038b0b",
   "metadata": {},
   "outputs": [],
   "source": [
    "query ='select * from student'"
   ]
  },
  {
   "cell_type": "code",
   "execution_count": 15,
   "id": "e161c413",
   "metadata": {},
   "outputs": [
    {
     "data": {
      "text/plain": [
       "<sqlite3.Cursor at 0x28c72087040>"
      ]
     },
     "execution_count": 15,
     "metadata": {},
     "output_type": "execute_result"
    }
   ],
   "source": [
    "cur.execute(query)"
   ]
  },
  {
   "cell_type": "code",
   "execution_count": 16,
   "id": "b1e61af4",
   "metadata": {},
   "outputs": [
    {
     "data": {
      "text/plain": [
       "[(1, 'kshitiz', 'lalitpur'),\n",
       " (2, 'Abhishek', 'Bhaktapur'),\n",
       " (3, 'Susan', 'Kathmandu'),\n",
       " (4, 'Bikash', 'Banepa')]"
      ]
     },
     "execution_count": 16,
     "metadata": {},
     "output_type": "execute_result"
    }
   ],
   "source": [
    "cur.execute (query).fetchall() #db ma table read garda . fetchall() garne"
   ]
  },
  {
   "cell_type": "code",
   "execution_count": 17,
   "id": "96eb3c6b",
   "metadata": {},
   "outputs": [
    {
     "data": {
      "text/plain": [
       "[('kshitiz',), ('Abhishek',), ('Susan',), ('Bikash',)]"
      ]
     },
     "execution_count": 17,
     "metadata": {},
     "output_type": "execute_result"
    }
   ],
   "source": [
    "# select only name column\n",
    "cur.execute(\"select name from student\").fetchall()"
   ]
  },
  {
   "cell_type": "code",
   "execution_count": 18,
   "id": "e8b18856",
   "metadata": {},
   "outputs": [
    {
     "data": {
      "text/plain": [
       "[(1,), (2,), (3,), (4,)]"
      ]
     },
     "execution_count": 18,
     "metadata": {},
     "output_type": "execute_result"
    }
   ],
   "source": [
    "cur.execute(\"select roll_no from student\").fetchall()"
   ]
  },
  {
   "cell_type": "code",
   "execution_count": 19,
   "id": "85a07910",
   "metadata": {},
   "outputs": [
    {
     "data": {
      "text/plain": [
       "[('lalitpur',), ('Bhaktapur',), ('Kathmandu',), ('Banepa',)]"
      ]
     },
     "execution_count": 19,
     "metadata": {},
     "output_type": "execute_result"
    }
   ],
   "source": [
    "cur.execute(\"select address from student\").fetchall()"
   ]
  },
  {
   "cell_type": "code",
   "execution_count": 20,
   "id": "d18c8d44",
   "metadata": {},
   "outputs": [
    {
     "data": {
      "text/plain": [
       "[(1, 'lalitpur'), (2, 'Bhaktapur'), (3, 'Kathmandu'), (4, 'Banepa')]"
      ]
     },
     "execution_count": 20,
     "metadata": {},
     "output_type": "execute_result"
    }
   ],
   "source": [
    "cur.execute(\"select roll_no,address from student\").fetchall()"
   ]
  },
  {
   "cell_type": "code",
   "execution_count": 21,
   "id": "c4ca29c1",
   "metadata": {},
   "outputs": [],
   "source": [
    "# find name of all student who lives in Bhakatapur"
   ]
  },
  {
   "cell_type": "code",
   "execution_count": 22,
   "id": "35f60bb7",
   "metadata": {},
   "outputs": [],
   "source": [
    "query=\"\"\"\n",
    "select name from student\n",
    "where\n",
    "address ='Bhaktapur'\n",
    "\"\"\""
   ]
  },
  {
   "cell_type": "code",
   "execution_count": 23,
   "id": "f370c8a8",
   "metadata": {},
   "outputs": [
    {
     "data": {
      "text/plain": [
       "[('Abhishek',)]"
      ]
     },
     "execution_count": 23,
     "metadata": {},
     "output_type": "execute_result"
    }
   ],
   "source": [
    "cur.execute(query).fetchall()"
   ]
  },
  {
   "cell_type": "code",
   "execution_count": 24,
   "id": "f52c9711",
   "metadata": {},
   "outputs": [],
   "source": [
    "# address of student where roll_No 4."
   ]
  },
  {
   "cell_type": "code",
   "execution_count": 25,
   "id": "250640e9",
   "metadata": {},
   "outputs": [
    {
     "data": {
      "text/plain": [
       "[('Banepa',)]"
      ]
     },
     "execution_count": 25,
     "metadata": {},
     "output_type": "execute_result"
    }
   ],
   "source": [
    "cur.execute(\"select address from student where roll_no = 4\").fetchall()"
   ]
  },
  {
   "cell_type": "code",
   "execution_count": 31,
   "id": "cc28af6e",
   "metadata": {},
   "outputs": [
    {
     "data": {
      "text/plain": [
       "[(1,)]"
      ]
     },
     "execution_count": 31,
     "metadata": {},
     "output_type": "execute_result"
    }
   ],
   "source": [
    "cur.execute(\"select roll_no from student where name='kshitiz'\").fetchall()"
   ]
  },
  {
   "cell_type": "code",
   "execution_count": 32,
   "id": "c112a79f",
   "metadata": {},
   "outputs": [
    {
     "data": {
      "text/plain": [
       "[('lalitpur',)]"
      ]
     },
     "execution_count": 32,
     "metadata": {},
     "output_type": "execute_result"
    }
   ],
   "source": [
    "cur.execute(\"select address from student where name='kshitiz'\").fetchall()"
   ]
  },
  {
   "cell_type": "markdown",
   "id": "619cf11c",
   "metadata": {},
   "source": [
    "# Update statement in sql\n",
    "```sql\n",
    "update table_name\n",
    "set value _n= new_value_n\n",
    "where \n",
    "condition \n",
    "```"
   ]
  },
  {
   "cell_type": "code",
   "execution_count": 36,
   "id": "be70ee88",
   "metadata": {},
   "outputs": [],
   "source": [
    "query = \"\"\"\n",
    "update student\n",
    "set name = 'Kshitiz Regmi'\n",
    "where\n",
    "roll_no = 1\n",
    "\"\"\""
   ]
  },
  {
   "cell_type": "code",
   "execution_count": 37,
   "id": "61b47b3e",
   "metadata": {},
   "outputs": [
    {
     "data": {
      "text/plain": [
       "<sqlite3.Cursor at 0x28c72087040>"
      ]
     },
     "execution_count": 37,
     "metadata": {},
     "output_type": "execute_result"
    }
   ],
   "source": [
    "cur.execute(query)"
   ]
  },
  {
   "cell_type": "code",
   "execution_count": 38,
   "id": "78f6ae91",
   "metadata": {},
   "outputs": [
    {
     "data": {
      "text/plain": [
       "[(1, 'Kshitiz Regmi', 'lalitpur'),\n",
       " (2, 'Abhishek', 'Bhaktapur'),\n",
       " (3, 'Susan', 'Kathmandu'),\n",
       " (4, 'Bikash', 'Banepa')]"
      ]
     },
     "execution_count": 38,
     "metadata": {},
     "output_type": "execute_result"
    }
   ],
   "source": [
    "cur.execute(\"select * from student\").fetchall()"
   ]
  },
  {
   "cell_type": "code",
   "execution_count": 39,
   "id": "88b2b807",
   "metadata": {},
   "outputs": [],
   "source": [
    "query =\"\"\"\n",
    "update student\n",
    "set address =\"patan\"\n",
    "where \n",
    "roll_no =1 \n",
    "\"\"\""
   ]
  },
  {
   "cell_type": "code",
   "execution_count": 41,
   "id": "7311c9bf",
   "metadata": {},
   "outputs": [
    {
     "data": {
      "text/plain": [
       "<sqlite3.Cursor at 0x28c72087040>"
      ]
     },
     "execution_count": 41,
     "metadata": {},
     "output_type": "execute_result"
    }
   ],
   "source": [
    "cur.execute(query)"
   ]
  },
  {
   "cell_type": "code",
   "execution_count": 43,
   "id": "e5255198",
   "metadata": {},
   "outputs": [
    {
     "data": {
      "text/plain": [
       "[(1, 'Kshitiz Regmi', 'patan'),\n",
       " (2, 'Abhishek', 'Bhaktapur'),\n",
       " (3, 'Susan', 'Kathmandu'),\n",
       " (4, 'Bikash', 'Banepa')]"
      ]
     },
     "execution_count": 43,
     "metadata": {},
     "output_type": "execute_result"
    }
   ],
   "source": [
    "cur.execute(\"select * from student\").fetchall()"
   ]
  },
  {
   "cell_type": "code",
   "execution_count": 44,
   "id": "5583ead6",
   "metadata": {},
   "outputs": [
    {
     "data": {
      "text/plain": [
       "<sqlite3.Cursor at 0x28c72087040>"
      ]
     },
     "execution_count": 44,
     "metadata": {},
     "output_type": "execute_result"
    }
   ],
   "source": [
    "# roll_no 1 ko address patan banunu parkyo\n",
    "cur.execute(\"update student set address ='patan' where roll_no = 1\")"
   ]
  },
  {
   "cell_type": "code",
   "execution_count": 49,
   "id": "9f45ece1",
   "metadata": {},
   "outputs": [
    {
     "data": {
      "text/plain": [
       "[(2, 'Abhishek', 'Bhaktapur'),\n",
       " (3, 'Susan', 'Kathmandu'),\n",
       " (4, 'Bikash', 'Banepa')]"
      ]
     },
     "execution_count": 49,
     "metadata": {},
     "output_type": "execute_result"
    }
   ],
   "source": [
    "cur.execute(\"select * from student \").fetchall()"
   ]
  },
  {
   "cell_type": "markdown",
   "id": "4c564c77",
   "metadata": {},
   "source": [
    "# delet row in sql\n",
    "```sql\n",
    "delete from table_name\n",
    "where \n",
    "condition\n",
    "```"
   ]
  },
  {
   "cell_type": "code",
   "execution_count": 47,
   "id": "23e547bb",
   "metadata": {},
   "outputs": [
    {
     "data": {
      "text/plain": [
       "<sqlite3.Cursor at 0x28c72087040>"
      ]
     },
     "execution_count": 47,
     "metadata": {},
     "output_type": "execute_result"
    }
   ],
   "source": [
    "cur.execute(\"delete from student where roll_no = 1\")"
   ]
  },
  {
   "cell_type": "code",
   "execution_count": 48,
   "id": "83e70169",
   "metadata": {},
   "outputs": [
    {
     "data": {
      "text/plain": [
       "[(2, 'Abhishek', 'Bhaktapur'),\n",
       " (3, 'Susan', 'Kathmandu'),\n",
       " (4, 'Bikash', 'Banepa')]"
      ]
     },
     "execution_count": 48,
     "metadata": {},
     "output_type": "execute_result"
    }
   ],
   "source": [
    "cur.execute(\"select *from student\").fetchall()"
   ]
  },
  {
   "cell_type": "code",
   "execution_count": null,
   "id": "b7c40b60",
   "metadata": {},
   "outputs": [],
   "source": []
  }
 ],
 "metadata": {
  "kernelspec": {
   "display_name": "Python 3 (ipykernel)",
   "language": "python",
   "name": "python3"
  },
  "language_info": {
   "codemirror_mode": {
    "name": "ipython",
    "version": 3
   },
   "file_extension": ".py",
   "mimetype": "text/x-python",
   "name": "python",
   "nbconvert_exporter": "python",
   "pygments_lexer": "ipython3",
   "version": "3.11.3"
  }
 },
 "nbformat": 4,
 "nbformat_minor": 5
}
