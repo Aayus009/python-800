{
 "cells": [
  {
   "cell_type": "code",
   "execution_count": 1,
   "id": "d5e67fe4",
   "metadata": {},
   "outputs": [],
   "source": [
    "fruits=['Apple','Mango','Guava','Kiwi','Dragonfruit']"
   ]
  },
  {
   "cell_type": "code",
   "execution_count": 2,
   "id": "107b05fc",
   "metadata": {},
   "outputs": [],
   "source": [
    "new_fruits = list()\n",
    "for item in fruits:\n",
    "    new_fruits.append(item.lower())"
   ]
  },
  {
   "cell_type": "code",
   "execution_count": 3,
   "id": "e07b16c0",
   "metadata": {},
   "outputs": [
    {
     "data": {
      "text/plain": [
       "['apple', 'mango', 'guava', 'kiwi', 'dragonfruit']"
      ]
     },
     "execution_count": 3,
     "metadata": {},
     "output_type": "execute_result"
    }
   ],
   "source": [
    "new_fruits"
   ]
  },
  {
   "cell_type": "code",
   "execution_count": 4,
   "id": "31774890",
   "metadata": {},
   "outputs": [],
   "source": [
    "fruits=['apple','mango','guava','kiwi','dragonfruit']"
   ]
  },
  {
   "cell_type": "code",
   "execution_count": 5,
   "id": "4586b9c5",
   "metadata": {},
   "outputs": [],
   "source": [
    "new_fruits = list()\n",
    "for item in fruits:\n",
    "    new_fruits.append(item.upper())"
   ]
  },
  {
   "cell_type": "code",
   "execution_count": 6,
   "id": "6f6f4f07",
   "metadata": {},
   "outputs": [
    {
     "data": {
      "text/plain": [
       "['APPLE', 'MANGO', 'GUAVA', 'KIWI', 'DRAGONFRUIT']"
      ]
     },
     "execution_count": 6,
     "metadata": {},
     "output_type": "execute_result"
    }
   ],
   "source": [
    "new_fruits"
   ]
  },
  {
   "cell_type": "markdown",
   "id": "6ea1a200",
   "metadata": {},
   "source": [
    "# using list comperhension"
   ]
  },
  {
   "cell_type": "code",
   "execution_count": 1,
   "id": "1180ddf6",
   "metadata": {},
   "outputs": [
    {
     "data": {
      "text/plain": [
       "['apple', 'mango', 'guava', 'kiwi', 'dragonfruit']"
      ]
     },
     "execution_count": 1,
     "metadata": {},
     "output_type": "execute_result"
    }
   ],
   "source": [
    "fruits=['apple','mango','guava','kiwi','dragonfruit']\n",
    "[item.lower() for item in fruits]"
   ]
  },
  {
   "cell_type": "code",
   "execution_count": 2,
   "id": "3fa867b9",
   "metadata": {},
   "outputs": [],
   "source": [
    "#use for loop and list compherinsion both to find the square of number between 1 to 10?\n"
   ]
  },
  {
   "cell_type": "code",
   "execution_count": 9,
   "id": "2230afdb",
   "metadata": {},
   "outputs": [
    {
     "name": "stdout",
     "output_type": "stream",
     "text": [
      "[1]\n",
      "[1, 4]\n",
      "[1, 4, 9]\n",
      "[1, 4, 9, 16]\n",
      "[1, 4, 9, 16, 25]\n",
      "[1, 4, 9, 16, 25, 36]\n",
      "[1, 4, 9, 16, 25, 36, 49]\n",
      "[1, 4, 9, 16, 25, 36, 49, 64]\n",
      "[1, 4, 9, 16, 25, 36, 49, 64, 81]\n"
     ]
    }
   ],
   "source": [
    "sq= [ ]\n",
    "for index in range(1,10):\n",
    "    sq.append( index ** 2)\n",
    "    print(sq)\n",
    "  "
   ]
  },
  {
   "cell_type": "code",
   "execution_count": 7,
   "id": "73bfa392",
   "metadata": {},
   "outputs": [
    {
     "data": {
      "text/plain": [
       "[1, 4, 9, 16, 25, 36, 49, 64, 81]"
      ]
     },
     "execution_count": 7,
     "metadata": {},
     "output_type": "execute_result"
    }
   ],
   "source": [
    "[index **2 for index in  range (1,10)]"
   ]
  },
  {
   "cell_type": "markdown",
   "id": "d95bf322",
   "metadata": {},
   "source": [
    "# syntax"
   ]
  },
  {
   "cell_type": "markdown",
   "id": "be73c11c",
   "metadata": {},
   "source": [
    "# find the even number between 1 to 25 using list append"
   ]
  },
  {
   "cell_type": "code",
   "execution_count": 12,
   "id": "f639e759",
   "metadata": {},
   "outputs": [
    {
     "data": {
      "text/plain": [
       "[2, 4, 6, 8, 10, 12, 14, 16, 18, 20, 22, 24]"
      ]
     },
     "execution_count": 12,
     "metadata": {},
     "output_type": "execute_result"
    }
   ],
   "source": [
    "\n",
    "[index for index in range(2,25,2)]"
   ]
  },
  {
   "cell_type": "code",
   "execution_count": null,
   "id": "85d4369f",
   "metadata": {},
   "outputs": [],
   "source": [
    "list compherhension with if"
   ]
  },
  {
   "cell_type": "code",
   "execution_count": 10,
   "id": "1e4b87ac",
   "metadata": {},
   "outputs": [],
   "source": [
    "# i want all negative number from given list."
   ]
  },
  {
   "cell_type": "code",
   "execution_count": 18,
   "id": "dc0b998d",
   "metadata": {},
   "outputs": [],
   "source": [
    "numbers =[0,-2,3,-11,5,-1,8]"
   ]
  },
  {
   "cell_type": "markdown",
   "id": "7adfb13a",
   "metadata": {},
   "source": [
    "# syntax\n",
    "```python \n",
    "[expression for item in iterable if True]\n",
    "```\n",
    "\n",
    "if ko condition true then only expression value will run or comes out otherwise its skips."
   ]
  },
  {
   "cell_type": "code",
   "execution_count": 19,
   "id": "e5080096",
   "metadata": {},
   "outputs": [
    {
     "data": {
      "text/plain": [
       "[-2, -11, -1]"
      ]
     },
     "execution_count": 19,
     "metadata": {},
     "output_type": "execute_result"
    }
   ],
   "source": [
    "[item for item in numbers if item < 0]"
   ]
  },
  {
   "cell_type": "markdown",
   "id": "e4dcbf2c",
   "metadata": {},
   "source": [
    "# List compherension with if and else "
   ]
  },
  {
   "cell_type": "code",
   "execution_count": 18,
   "id": "cd5f3199",
   "metadata": {},
   "outputs": [
    {
     "ename": "SyntaxError",
     "evalue": "invalid syntax (3396118826.py, line 1)",
     "output_type": "error",
     "traceback": [
      "\u001b[1;36m  Cell \u001b[1;32mIn[18], line 1\u001b[1;36m\u001b[0m\n\u001b[1;33m    ```\u001b[0m\n\u001b[1;37m    ^\u001b[0m\n\u001b[1;31mSyntaxError\u001b[0m\u001b[1;31m:\u001b[0m invalid syntax\n"
     ]
    }
   ],
   "source": [
    "``` python\n",
    "[expression if true else expression for item in iterables]\n",
    "```"
   ]
  },
  {
   "cell_type": "markdown",
   "id": "fb31c2e0",
   "metadata": {},
   "source": [
    "# Relu activition function"
   ]
  },
  {
   "cell_type": "markdown",
   "id": "7e443389",
   "metadata": {},
   "source": [
    "<img src=\"https://miro.medium.com/v2/resize:fit:754/1*3JUMOqugWKB2SDra6x6v0A.png\">"
   ]
  },
  {
   "cell_type": "code",
   "execution_count": 20,
   "id": "5e23f932",
   "metadata": {},
   "outputs": [
    {
     "data": {
      "text/plain": [
       "[0, 0, 0, 0, 0, 0, 0, 0, 0, 0, 0, 1, 2, 3, 4, 5, 6, 7, 8, 9]"
      ]
     },
     "execution_count": 20,
     "metadata": {},
     "output_type": "execute_result"
    }
   ],
   "source": [
    "[0 if z<=0 else z for z in range(-10, 10)]"
   ]
  },
  {
   "cell_type": "code",
   "execution_count": 27,
   "id": "6e4f4b8f",
   "metadata": {},
   "outputs": [
    {
     "data": {
      "text/plain": [
       "['banana', 'mango']"
      ]
     },
     "execution_count": 27,
     "metadata": {},
     "output_type": "execute_result"
    }
   ],
   "source": [
    "# only accept the item that are not apple from fruits list\n",
    "fruits=['apple','banana','apple','mango']\n",
    "[fruit for fruit in fruits if fruit != 'apple']"
   ]
  },
  {
   "cell_type": "code",
   "execution_count": null,
   "id": "f592f232",
   "metadata": {},
   "outputs": [],
   "source": []
  }
 ],
 "metadata": {
  "kernelspec": {
   "display_name": "Python 3 (ipykernel)",
   "language": "python",
   "name": "python3"
  },
  "language_info": {
   "codemirror_mode": {
    "name": "ipython",
    "version": 3
   },
   "file_extension": ".py",
   "mimetype": "text/x-python",
   "name": "python",
   "nbconvert_exporter": "python",
   "pygments_lexer": "ipython3",
   "version": "3.11.3"
  }
 },
 "nbformat": 4,
 "nbformat_minor": 5
}
