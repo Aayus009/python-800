{
 "cells": [
  {
   "cell_type": "code",
   "execution_count": 1,
   "id": "274bcfeb",
   "metadata": {},
   "outputs": [
    {
     "data": {
      "text/plain": [
       "5"
      ]
     },
     "execution_count": 1,
     "metadata": {},
     "output_type": "execute_result"
    }
   ],
   "source": [
    "2 + 3# add"
   ]
  },
  {
   "cell_type": "code",
   "execution_count": 1,
   "id": "5bc9a295",
   "metadata": {},
   "outputs": [
    {
     "data": {
      "text/plain": [
       "'RadheRadhe'"
      ]
     },
     "execution_count": 1,
     "metadata": {},
     "output_type": "execute_result"
    }
   ],
   "source": [
    "\"Radhe\" + 'Radhe'# concat"
   ]
  },
  {
   "cell_type": "code",
   "execution_count": 4,
   "id": "52e36e54",
   "metadata": {},
   "outputs": [
    {
     "data": {
      "text/plain": [
       "[5, 6, 1, 8, 0]"
      ]
     },
     "execution_count": 4,
     "metadata": {},
     "output_type": "execute_result"
    }
   ],
   "source": [
    "[5 , 6] + [1 , 8, 0]# conact"
   ]
  },
  {
   "cell_type": "code",
   "execution_count": 5,
   "id": "5193ce34",
   "metadata": {},
   "outputs": [
    {
     "data": {
      "text/plain": [
       "5"
      ]
     },
     "execution_count": 5,
     "metadata": {},
     "output_type": "execute_result"
    }
   ],
   "source": [
    "len(\"hello\")"
   ]
  },
  {
   "cell_type": "code",
   "execution_count": 7,
   "id": "9be0c3be",
   "metadata": {},
   "outputs": [
    {
     "data": {
      "text/plain": [
       "2"
      ]
     },
     "execution_count": 7,
     "metadata": {},
     "output_type": "execute_result"
    }
   ],
   "source": [
    "len([8,9])"
   ]
  },
  {
   "cell_type": "markdown",
   "id": "98771301",
   "metadata": {},
   "source": [
    "# Polymorphism means having many forms"
   ]
  },
  {
   "cell_type": "code",
   "execution_count": 9,
   "id": "04a9ac5b",
   "metadata": {},
   "outputs": [],
   "source": [
    "class Point:\n",
    "    def __init__(self,p):\n",
    "        self.p=p"
   ]
  },
  {
   "cell_type": "code",
   "execution_count": 10,
   "id": "7a0eb44f",
   "metadata": {},
   "outputs": [
    {
     "ename": "TypeError",
     "evalue": "unsupported operand type(s) for +: 'Point' and 'Point'",
     "output_type": "error",
     "traceback": [
      "\u001b[1;31m---------------------------------------------------------------------------\u001b[0m",
      "\u001b[1;31mTypeError\u001b[0m                                 Traceback (most recent call last)",
      "Cell \u001b[1;32mIn[10], line 3\u001b[0m\n\u001b[0;32m      1\u001b[0m p1 \u001b[38;5;241m=\u001b[39m Point(\u001b[38;5;241m5\u001b[39m)\n\u001b[0;32m      2\u001b[0m p2 \u001b[38;5;241m=\u001b[39m Point(\u001b[38;5;241m9\u001b[39m)\n\u001b[1;32m----> 3\u001b[0m \u001b[43mp1\u001b[49m\u001b[43m \u001b[49m\u001b[38;5;241;43m+\u001b[39;49m\u001b[43m \u001b[49m\u001b[43mp1\u001b[49m\n",
      "\u001b[1;31mTypeError\u001b[0m: unsupported operand type(s) for +: 'Point' and 'Point'"
     ]
    }
   ],
   "source": [
    "p1 = Point(5)\n",
    "p2 = Point(9)\n",
    "p1 + p1"
   ]
  },
  {
   "cell_type": "markdown",
   "id": "1731b759",
   "metadata": {},
   "source": [
    "# operator overloading (+) using dunders__add__"
   ]
  },
  {
   "cell_type": "code",
   "execution_count": 16,
   "id": "715e996a",
   "metadata": {},
   "outputs": [
    {
     "data": {
      "text/plain": [
       "14"
      ]
     },
     "execution_count": 16,
     "metadata": {},
     "output_type": "execute_result"
    }
   ],
   "source": [
    "class point:\n",
    "    def __init__(self,p):\n",
    "        self.p = p\n",
    "    def __add__(self, obj):\n",
    "        return self.p + obj.p\n",
    "    \n",
    "p1 = point(5)\n",
    "p2 = point(9)\n",
    "p1 + p2"
   ]
  },
  {
   "cell_type": "code",
   "execution_count": 22,
   "id": "44e7afad",
   "metadata": {},
   "outputs": [
    {
     "name": "stdout",
     "output_type": "stream",
     "text": [
      "p2: 9 > p1: 5\n"
     ]
    }
   ],
   "source": [
    "class point:\n",
    "    def __init__(self,p):\n",
    "        self.p = p\n",
    "    def __add__(self, obj):\n",
    "        return self.p + obj.p\n",
    "    \n",
    "    def __gt__(self, obj):\n",
    "        if self.p>obj.p:\n",
    "            print(f\"point 1: {self.p}> point 2: {obj.p}\")\n",
    "        else:\n",
    "            print(f\"p2: {obj.p} > p1: {self.p}\")\n",
    "    \n",
    "p1 = point(5)\n",
    "p2 = point(9)\n",
    "p1 > p2"
   ]
  },
  {
   "cell_type": "code",
   "execution_count": null,
   "id": "00312454",
   "metadata": {},
   "outputs": [],
   "source": []
  }
 ],
 "metadata": {
  "kernelspec": {
   "display_name": "Python 3 (ipykernel)",
   "language": "python",
   "name": "python3"
  },
  "language_info": {
   "codemirror_mode": {
    "name": "ipython",
    "version": 3
   },
   "file_extension": ".py",
   "mimetype": "text/x-python",
   "name": "python",
   "nbconvert_exporter": "python",
   "pygments_lexer": "ipython3",
   "version": "3.11.3"
  }
 },
 "nbformat": 4,
 "nbformat_minor": 5
}
