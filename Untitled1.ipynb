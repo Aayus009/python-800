{
 "cells": [
  {
   "cell_type": "code",
   "execution_count": 1,
   "id": "8b37c24c",
   "metadata": {},
   "outputs": [
    {
     "name": "stdout",
     "output_type": "stream",
     "text": [
      "hello world\n"
     ]
    }
   ],
   "source": [
    "print(\"hello world\")"
   ]
  },
  {
   "cell_type": "code",
   "execution_count": 12,
   "id": "8aaf0ca2",
   "metadata": {},
   "outputs": [
    {
     "data": {
      "text/plain": [
       "15"
      ]
     },
     "execution_count": 12,
     "metadata": {},
     "output_type": "execute_result"
    }
   ],
   "source": [
    "x = 7\n",
    "y = 8\n",
    "sum = x + y\n",
    "total = sum\n",
    "total"
   ]
  },
  {
   "cell_type": "code",
   "execution_count": 13,
   "id": "7d788529",
   "metadata": {},
   "outputs": [
    {
     "name": "stdout",
     "output_type": "stream",
     "text": [
      "tne value of A is Ants\n",
      "the value of a is apple\n"
     ]
    }
   ],
   "source": [
    "A = 'Ants'\n",
    "a = 'apple'\n",
    "print(f\"tne value of A is {A}\")\n",
    "print(f\"the value of a is {a}\")"
   ]
  },
  {
   "cell_type": "code",
   "execution_count": 22,
   "id": "d0c5f465",
   "metadata": {},
   "outputs": [
    {
     "name": "stdout",
     "output_type": "stream",
     "text": [
      "the value of A is apple\n",
      "the value of a is Ants\n"
     ]
    }
   ],
   "source": [
    "A = 'Ants'\n",
    "a = 'apple'\n",
    "swap = A\n",
    "A = a\n",
    "a = swap\n",
    "print(\"the value of A is {}\".format(A))\n",
    "print(\"the value of a is {}\".format(a))"
   ]
  },
  {
   "cell_type": "code",
   "execution_count": 23,
   "id": "178a80c2",
   "metadata": {},
   "outputs": [],
   "source": [
    "# cannot use special symboles like`!@#$` etc."
   ]
  },
  {
   "cell_type": "code",
   "execution_count": null,
   "id": "0ca27fff",
   "metadata": {},
   "outputs": [],
   "source": []
  }
 ],
 "metadata": {
  "kernelspec": {
   "display_name": "Python 3 (ipykernel)",
   "language": "python",
   "name": "python3"
  },
  "language_info": {
   "codemirror_mode": {
    "name": "ipython",
    "version": 3
   },
   "file_extension": ".py",
   "mimetype": "text/x-python",
   "name": "python",
   "nbconvert_exporter": "python",
   "pygments_lexer": "ipython3",
   "version": "3.11.3"
  }
 },
 "nbformat": 4,
 "nbformat_minor": 5
}
