{
 "cells": [
  {
   "cell_type": "code",
   "execution_count": 1,
   "id": "4c5d6cf9",
   "metadata": {},
   "outputs": [
    {
     "name": "stdout",
     "output_type": "stream",
     "text": [
      "Hello world!\n"
     ]
    }
   ],
   "source": [
    "print(\"Hello world!\")#print statement"
   ]
  },
  {
   "cell_type": "markdown",
   "id": "379ed5f5",
   "metadata": {},
   "source": [
    "# Words followed by hastag is a comment."
   ]
  },
  {
   "cell_type": "code",
   "execution_count": 2,
   "id": "6a78e5b5",
   "metadata": {},
   "outputs": [
    {
     "name": "stdout",
     "output_type": "stream",
     "text": [
      "9\n",
      "1\n",
      "160\n",
      "3.0\n",
      "0\n",
      "64\n",
      "7\n"
     ]
    }
   ],
   "source": [
    "x = 4\n",
    "y = 5\n",
    "z = 8\n",
    "sum = x + y \n",
    "sub = sum - z\n",
    "mul = x * y * z\n",
    "div = sum / 3 \n",
    "print(sum)\n",
    "print(sub)\n",
    "print(mul)\n",
    "print(div)\n",
    "modul = z % x\n",
    "print(modul)\n",
    "expo = 8 ** 2\n",
    "print(expo)\n",
    "floor = 15//2\n",
    "print(floor)\n",
    "\n"
   ]
  },
  {
   "cell_type": "markdown",
   "id": "cbe2815f",
   "metadata": {},
   "source": [
    "# Python is a interprated high level programming language which is case sensitive."
   ]
  },
  {
   "cell_type": "code",
   "execution_count": 3,
   "id": "52e9514f",
   "metadata": {},
   "outputs": [],
   "source": [
    "#case sensitive "
   ]
  },
  {
   "cell_type": "code",
   "execution_count": 4,
   "id": "8d87955b",
   "metadata": {},
   "outputs": [
    {
     "ename": "SyntaxError",
     "evalue": "cannot assign to False (1372912897.py, line 1)",
     "output_type": "error",
     "traceback": [
      "\u001b[1;36m  Cell \u001b[1;32mIn[4], line 1\u001b[1;36m\u001b[0m\n\u001b[1;33m    False = 0\u001b[0m\n\u001b[1;37m    ^\u001b[0m\n\u001b[1;31mSyntaxError\u001b[0m\u001b[1;31m:\u001b[0m cannot assign to False\n"
     ]
    }
   ],
   "source": [
    "False = 0 "
   ]
  },
  {
   "cell_type": "markdown",
   "id": "0605b483",
   "metadata": {},
   "source": [
    "# Assigning strings to the variables and to print them."
   ]
  },
  {
   "cell_type": "code",
   "execution_count": null,
   "id": "ad66d45f",
   "metadata": {},
   "outputs": [],
   "source": [
    "A = \"Apple\"\n",
    "a = \"ace\"\n",
    "print(f\"the value of A is {A}\")\n",
    "print(f\"the value of a is {a}\")"
   ]
  },
  {
   "cell_type": "code",
   "execution_count": null,
   "id": "6d9ce95b",
   "metadata": {},
   "outputs": [],
   "source": [
    "A = \"Apple\"\n",
    "B = \"Ball\"\n",
    "print(\"the value of A is {}\".format(A))\n",
    "print(\"the value of B is {}\".format(B))"
   ]
  },
  {
   "cell_type": "code",
   "execution_count": null,
   "id": "7805d85c",
   "metadata": {},
   "outputs": [],
   "source": [
    "First_person = \"Hari\"\n",
    "Second_person = \"Sita\"\n",
    "print(\"The Name of First_person is {}\".format(First_person))\n",
    "print(\"The Name of Second_person is {}\".format(Second_person))"
   ]
  },
  {
   "cell_type": "code",
   "execution_count": null,
   "id": "fd85b96b",
   "metadata": {},
   "outputs": [],
   "source": [
    "min1 = 42    #WAP TO FIND HOW MANY SECONDS ARE IN 42 MINUTES AND 42 SECONDS.\n",
    "sec1 = 42\n",
    "sec2 = (42 * 60)\n",
    "Total_sec = sec1 + sec2\n",
    "print(Total_sec)\n"
   ]
  },
  {
   "cell_type": "markdown",
   "id": "7a02ebcf",
   "metadata": {},
   "source": [
    "# Swaping values if two variables."
   ]
  },
  {
   "cell_type": "code",
   "execution_count": null,
   "id": "5b7704f3",
   "metadata": {},
   "outputs": [],
   "source": [
    "X = 56\n",
    "Y = 24 \n",
    "Z = X\n",
    "X = Y\n",
    "Y = Z\n",
    "print(X)\n",
    "print(Y)\n"
   ]
  },
  {
   "cell_type": "markdown",
   "id": "b4221f77",
   "metadata": {},
   "source": [
    "# UPDATING VALUES OF A VARIABLE"
   ]
  },
  {
   "cell_type": "code",
   "execution_count": null,
   "id": "34ebd860",
   "metadata": {},
   "outputs": [],
   "source": [
    "a = 25\n",
    "print(f\"Before a = {a}\")\n",
    "a = 999\n",
    "print(f\"After a = {a}\")"
   ]
  },
  {
   "cell_type": "markdown",
   "id": "c7d13cb3",
   "metadata": {},
   "source": [
    "# WAP HOW MANY MILES ARE THERE IN 10 KILOMETERS."
   ]
  },
  {
   "cell_type": "code",
   "execution_count": null,
   "id": "7682c3a0",
   "metadata": {},
   "outputs": [],
   "source": [
    "km_1 = 10 #if value is fixed \n",
    "miles_1 = 10/1.609\n",
    "print(miles_1)\n"
   ]
  },
  {
   "cell_type": "code",
   "execution_count": null,
   "id": "98090476",
   "metadata": {},
   "outputs": [],
   "source": [
    "km = float(input(\"enter the values in kms: \"))#asking value with user.\n",
    "miles = km / 1.609\n",
    "print(km, \"kms in miles will be \", miles, \"miles\")\n",
    "\n",
    "\n"
   ]
  },
  {
   "cell_type": "code",
   "execution_count": null,
   "id": "cdf25db6",
   "metadata": {},
   "outputs": [],
   "source": [
    "min_1 = 42\n",
    "sec_1 = 42\n",
    "sec_2 = min_1*60\n",
    "total_sec = sec_1 + sec_2\n",
    "print(total_sec)"
   ]
  },
  {
   "cell_type": "code",
   "execution_count": null,
   "id": "35353a6d",
   "metadata": {},
   "outputs": [],
   "source": [
    "min = int(input(\"enter the values in min: \"))#asking value with the user.\n",
    "sec1 = 2\n",
    "sec = (min*60) + sec1\n",
    "total = sec1 + sec\n",
    "print(min, \"min in sec will be \",total, \"sec\" )\n"
   ]
  },
  {
   "cell_type": "code",
   "execution_count": null,
   "id": "222380ef",
   "metadata": {},
   "outputs": [],
   "source": [
    "hours= int(input(\"enter the values in hours: \")) \n",
    "minute = hours * 60\n",
    "sec= hours * 60**2\n",
    "print(hours, \"hours in minute will be \", minute, \"minutes\")\n",
    "print(hours, \"hours in sec will be \", sec, \"seconds\")\n",
    "min = int(input(\"enter the values in min:\"))\n",
    "hours = min//60\n",
    "sec = min*60\n",
    "print(min,\"min in hours will be \",hours, \"hours\")\n",
    "print(min,\"min in sec will be \", sec, \"seconds\")"
   ]
  },
  {
   "cell_type": "code",
   "execution_count": null,
   "id": "7ea73e27",
   "metadata": {},
   "outputs": [],
   "source": [
    "km =int(input(\"enter the values in km:\"))\n",
    "meter = km*1000\n",
    "cm = (km*1000)*100\n",
    "mm = (km*1000)*100**2\n",
    "print(km,\"km in meter will be\", meter, \"meters\")\n",
    "print(km, \"km in cm will be\",cm , \"centimeters\")\n",
    "print(km, \"km in mm will be\", mm, \"millimeter\")"
   ]
  },
  {
   "cell_type": "markdown",
   "id": "dbbbe0c9",
   "metadata": {},
   "source": [
    "# if you run 10 kilometers in 42 minutes 42 seconds, what is your average pace.\n"
   ]
  },
  {
   "cell_type": "code",
   "execution_count": null,
   "id": "f0c4b685",
   "metadata": {},
   "outputs": [],
   "source": [
    "km = 10\n",
    "miles = 10/1.609\n",
    "min1 = 42\n",
    "sec1 = 42\n",
    "min2 = sec1/60\n",
    "total_min = min1 +  min2\n",
    "average_pace = miles / total_min\n",
    "print(average_pace)"
   ]
  },
  {
   "cell_type": "code",
   "execution_count": null,
   "id": "eb2d96c4",
   "metadata": {},
   "outputs": [],
   "source": [
    "hour = int(input(\"enter the value in hour: \"))\n",
    "miles = hour/1.609\n",
    "min = int(input(\"enter the value in min: \"))\n",
    "sec =min*60\n",
    "sec2 = 42\n",
    "total = sec + sec2\n",
    "avg_pace = miles/total\n",
    "print(avg_pace)"
   ]
  },
  {
   "cell_type": "markdown",
   "id": "1f89af8c",
   "metadata": {},
   "source": [
    "# Assignment:\n",
    "* The volume of a sphere with radius r is 4/3 pie r**3. What is the volume of a sphere with radius 5?"
   ]
  },
  {
   "cell_type": "code",
   "execution_count": null,
   "id": "8fd05080",
   "metadata": {},
   "outputs": [],
   "source": [
    "r1 = 5\n",
    "vol = (4/3) * (22/7) * (r1**3)\n",
    "print(f\"the volume of the sphere having radius {r1} is\",vol,\"cc\")"
   ]
  },
  {
   "cell_type": "code",
   "execution_count": null,
   "id": "c33df3f5",
   "metadata": {},
   "outputs": [],
   "source": [
    "x = 20\n",
    "y = 30 \n",
    "temp = x\n",
    "y = temp \n",
    "print(x)\n",
    "print(y)"
   ]
  },
  {
   "cell_type": "code",
   "execution_count": null,
   "id": "151669f5",
   "metadata": {},
   "outputs": [],
   "source": [
    "age = int(input(\"enter the age: \"))\n",
    "if (age>=18):\n",
    "    print(\"the person is alligible for voting \")\n",
    "else:\n",
    "    print(\"the person is not alligible for voting\")\n",
    "        "
   ]
  },
  {
   "cell_type": "markdown",
   "id": "c4307d6f",
   "metadata": {},
   "source": [
    "# Wap a program to display 'Hello' if a number entered by user is a multiple of five , otherwise print \"Bye\"."
   ]
  },
  {
   "cell_type": "code",
   "execution_count": null,
   "id": "bb64ead1",
   "metadata": {},
   "outputs": [],
   "source": [
    "num = int(input(\"enter any number: \"))\n",
    "if(num%5==0):\n",
    "    print(\"Hello\")\n",
    "else:\n",
    "    print(\"Bye\")"
   ]
  },
  {
   "cell_type": "markdown",
   "id": "69243cdc",
   "metadata": {},
   "source": [
    "# Wap to check whether last digit entered by a user is divisible by 3 or not."
   ]
  },
  {
   "cell_type": "code",
   "execution_count": null,
   "id": "c529c396",
   "metadata": {},
   "outputs": [],
   "source": [
    "num = int(input(\"enter any number: \"))\n",
    "last_num =num % 10\n",
    "if(last_num % 3 == 0):\n",
    "    print(\"the entered number is divisible by 3\")\n",
    "else:\n",
    "    print(\"the entered number is not divisible by 3\")"
   ]
  },
  {
   "cell_type": "code",
   "execution_count": null,
   "id": "dcaf3861",
   "metadata": {},
   "outputs": [],
   "source": [
    "for letter in s:\n",
    "    if letter == \"a\" or letter == \"e\" or letter == \"i\" or letter== \"o\" or letter == \"u\":\n",
    "        print(f\"the letter {letter} is vowel\")\n",
    "    else:\n",
    "        print(f\"the letter {letter} is consonant\")"
   ]
  },
  {
   "cell_type": "code",
   "execution_count": null,
   "id": "ce0393f2",
   "metadata": {},
   "outputs": [],
   "source": [
    "for letter in s:\n",
    "    if letter == \"a\" and letter == \"e\" and letter == \"i\" and letter== \"o\" and letter == \"u\":\n",
    "        print(f\"the letter {letter} is vowel\")\n",
    "    else:\n",
    "        print(f\"the letter {letter} is consonant\")"
   ]
  },
  {
   "cell_type": "code",
   "execution_count": null,
   "id": "30458afc",
   "metadata": {},
   "outputs": [],
   "source": [
    "s = \"Hamro nepal ma\""
   ]
  },
  {
   "cell_type": "code",
   "execution_count": null,
   "id": "91189a7c",
   "metadata": {},
   "outputs": [],
   "source": [
    "for index in range(0,len(s), 1):\n",
    "    print(s[index])\n"
   ]
  },
  {
   "cell_type": "code",
   "execution_count": null,
   "id": "6f96fe09",
   "metadata": {},
   "outputs": [],
   "source": [
    "s = \"Hamro nepal ma \""
   ]
  },
  {
   "cell_type": "code",
   "execution_count": null,
   "id": "0cfd1900",
   "metadata": {},
   "outputs": [],
   "source": [
    "for index in range(0,len(s), 1):\n",
    "    print(index,s[index])\n"
   ]
  },
  {
   "cell_type": "code",
   "execution_count": null,
   "id": "d01db156",
   "metadata": {},
   "outputs": [],
   "source": [
    "s[7:10]#slicing\n"
   ]
  },
  {
   "cell_type": "code",
   "execution_count": null,
   "id": "7afacd5c",
   "metadata": {},
   "outputs": [],
   "source": [
    "s = \"Hamro nepal ma\"\n",
    "start = len(s)-1\n",
    "step = -1\n",
    "stop = -1\n",
    "for index in range(start, step,stop):\n",
    "    if s[index]==\" \":\n",
    "        continue\n",
    "    print(index, s[index])"
   ]
  },
  {
   "cell_type": "code",
   "execution_count": null,
   "id": "ea4501c9",
   "metadata": {},
   "outputs": [],
   "source": [
    "s =\"sunny day\"\n",
    "for index in range(len(s)-1, -1, -1):\n",
    "    print(index, s[index])"
   ]
  },
  {
   "cell_type": "code",
   "execution_count": null,
   "id": "e3ee28bb",
   "metadata": {},
   "outputs": [],
   "source": [
    "for item in s:\n",
    "    print(item)"
   ]
  },
  {
   "cell_type": "code",
   "execution_count": null,
   "id": "24e6bc1b",
   "metadata": {},
   "outputs": [],
   "source": [
    "s =\"hello world\"\n",
    "for index, letter in enumerate (s):\n",
    "    if letter==\" \":\n",
    "        continue\n",
    "    print(index, letter)"
   ]
  },
  {
   "cell_type": "markdown",
   "id": "49d84661",
   "metadata": {},
   "source": [
    "# Wap that asks user to enter a string and prints the string in reverse order."
   ]
  },
  {
   "cell_type": "code",
   "execution_count": null,
   "id": "0ca6ccec",
   "metadata": {},
   "outputs": [],
   "source": [
    "s=str(input(\"enter a string: \"))\n",
    "for index in range(len(s)-1,-1 , -1):\n",
    "    print(index, s[index])\n"
   ]
  },
  {
   "cell_type": "markdown",
   "id": "fc1dff56",
   "metadata": {},
   "source": [
    "# wap that asks the user to enter a string and prints the number of vowels in the string."
   ]
  },
  {
   "cell_type": "code",
   "execution_count": null,
   "id": "f42c9ce4",
   "metadata": {},
   "outputs": [],
   "source": [
    "letter=str(input(\"enter the string: \" ))\n",
    "for letter in s: \n",
    "      if letter == \"a\" or letter == \"e\" or letter ==\"i\" or letter ==\"o\" or letter ==\"u\":\n",
    "        print(f\"the letter {letter} is a vowel.\")"
   ]
  },
  {
   "cell_type": "markdown",
   "id": "b05eb3c9",
   "metadata": {},
   "source": [
    "# Each world capatilized"
   ]
  },
  {
   "cell_type": "code",
   "execution_count": null,
   "id": "3c2033b7",
   "metadata": {},
   "outputs": [],
   "source": [
    "speech =str(input(\"enter a sentence: \"))\n",
    "speech.upper()\n"
   ]
  },
  {
   "cell_type": "markdown",
   "id": "a8f6fd76",
   "metadata": {},
   "source": [
    "# vowels replaced by the characters \"o\""
   ]
  },
  {
   "cell_type": "code",
   "execution_count": null,
   "id": "884e6f22",
   "metadata": {},
   "outputs": [],
   "source": [
    "string=str(input(\"enter a string: \"))\n",
    "for i in string:\n",
    "    if i in 'aeiou':\n",
    "        print('o',end=' ')\n",
    "    else:\n",
    "        print(i,end=' ')"
   ]
  },
  {
   "cell_type": "code",
   "execution_count": null,
   "id": "bce90bb1",
   "metadata": {},
   "outputs": [],
   "source": [
    "txt =\"I Like orange Apple Banana and Kiwi.\"\n",
    "txt[6:35]\n",
    "if txt==\"and\":\n",
    "    print(txt)\n"
   ]
  },
  {
   "cell_type": "code",
   "execution_count": null,
   "id": "4429986f",
   "metadata": {},
   "outputs": [],
   "source": [
    "str=input(\"enter a string: \")\n",
    "vowels=0\n",
    "consonant=0\n",
    "for i in str:\n",
    "    if(i =='a' or i=='e' or i=='i' or i=='o' or i=='u' or i=='A' or i=='E' or i=='I' or i=='O' or i=='U'):\n",
    "        vowels=vowels+1;\n",
    "    else:\n",
    "        consonant=consonant+1;\n",
    "print(\"The number of vowels:\",vowels);\n",
    "print(\"\\nthe number of consonant:\",consonant);"
   ]
  },
  {
   "cell_type": "code",
   "execution_count": null,
   "id": "8d70c945",
   "metadata": {},
   "outputs": [],
   "source": [
    "s = input(\"enter a string: \")\n",
    "t = input(\"enter a string: \")\n",
    "print(s+\" \"+t)"
   ]
  },
  {
   "cell_type": "code",
   "execution_count": null,
   "id": "92a94876",
   "metadata": {},
   "outputs": [],
   "source": [
    "text=(\"I like orange apple banana and kiwi\")\n",
    "text=text.lower()\n",
    "text=text[7:]\n",
    "text=text.replace(\" and \",' ')\n",
    "text=text.split(\" \")\n",
    "print(text)"
   ]
  },
  {
   "cell_type": "code",
   "execution_count": null,
   "id": "428dcce7",
   "metadata": {},
   "outputs": [],
   "source": [
    "for item in range(3):\n",
    "    mayor = input(\"enter the mayors name: \" )\n",
    "    city = input(\"enter the city name: \" )\n",
    "    dict ={mayor:city}\n",
    "print(dict)"
   ]
  },
  {
   "cell_type": "code",
   "execution_count": null,
   "id": "e38832d4",
   "metadata": {},
   "outputs": [],
   "source": [
    "data_lists=[]\n",
    "d = {}\n",
    "for item in range(3):\n",
    "    d[\"name\"] = input(\"name: \")\n",
    "    d[\"mayor_of\"] = input(\"mayor_of: \")\n",
    "    d[\"age\"] = input(\"age: \")\n",
    "    d[\"gender\"] = input(\"gender: \")\n",
    "    data_lists.append(d)\n",
    "    print(data_lists)"
   ]
  },
  {
   "cell_type": "code",
   "execution_count": null,
   "id": "8015c688",
   "metadata": {},
   "outputs": [],
   "source": [
    "string=input(\"enter a string: \")\n",
    "upper_case =0\n",
    "lower_case =0\n",
    "for i in string:\n",
    "    if \n"
   ]
  },
  {
   "cell_type": "code",
   "execution_count": null,
   "id": "f7f4c56c",
   "metadata": {},
   "outputs": [],
   "source": [
    "def string_test(s):\n",
    "    d={\"UPPER_CASE\":0, \"LOWER_CASE\":0}\n",
    "    for c in s:\n",
    "        if c.isupper():\n",
    "           d[\"UPPER_CASE\"]+=1\n",
    "        elif c.islower():\n",
    "           d[\"LOWER_CASE\"]+=1\n",
    "        else:\n",
    "           pass\n",
    "    print (\"Original String : \", s)\n",
    "    print (\"No. of Upper case characters : \", d[\"UPPER_CASE\"])\n",
    "    print (\"No. of Lower case Characters : \", d[\"LOWER_CASE\"])\n",
    "\n",
    "string_test('The quick Brown Fox')\n"
   ]
  },
  {
   "cell_type": "code",
   "execution_count": null,
   "id": "22cc26cd",
   "metadata": {},
   "outputs": [],
   "source": []
  },
  {
   "cell_type": "markdown",
   "id": "850ae3d3",
   "metadata": {},
   "source": [
    "# write a program to define the factorial of numbers from 5 to 8 using function.\n"
   ]
  },
  {
   "cell_type": "code",
   "execution_count": null,
   "id": "e4e48f2f",
   "metadata": {},
   "outputs": [],
   "source": [
    "def factorail(i):\n",
    "    if i == 0:\n",
    "        return 1\n",
    "    else:\n",
    "        return i * factorail(i-1)\n",
    "for num in range(5,8):\n",
    "    fact = factorail(num)\n",
    "    print(f\"the factorail of {num} is {fact}\")"
   ]
  },
  {
   "cell_type": "markdown",
   "id": "7b275150",
   "metadata": {},
   "source": [
    "# write a python function to find the  factorail of the non negative integer."
   ]
  },
  {
   "cell_type": "code",
   "execution_count": 34,
   "id": "177b1695",
   "metadata": {},
   "outputs": [
    {
     "name": "stdout",
     "output_type": "stream",
     "text": [
      "9\n"
     ]
    }
   ],
   "source": [
    "import random\n",
    "random.seed(5)\n",
    "num =random.randint(0,10)\n",
    "print(num)"
   ]
  },
  {
   "cell_type": "code",
   "execution_count": 35,
   "id": "b0fc15f0",
   "metadata": {},
   "outputs": [],
   "source": [
    "def factorial(num):\n",
    "    if num < 0:\n",
    "        return None \n",
    "    fact = 1\n",
    "    if num == 0 or num == 1:\n",
    "        return fact\n",
    "    for i in range(2, num+1):\n",
    "        fact = fact * 1\n",
    "    \n",
    "    return fact\n",
    "    "
   ]
  },
  {
   "cell_type": "code",
   "execution_count": 36,
   "id": "ca6d8ba6",
   "metadata": {},
   "outputs": [
    {
     "data": {
      "text/plain": [
       "1"
      ]
     },
     "execution_count": 36,
     "metadata": {},
     "output_type": "execute_result"
    }
   ],
   "source": [
    "num = 9\n",
    "factorial (num = num)"
   ]
  },
  {
   "cell_type": "markdown",
   "id": "1c28cfb9",
   "metadata": {},
   "source": [
    "# write a program using function to check if the given input number is prime or not if prime number return true and else return false."
   ]
  },
  {
   "cell_type": "code",
   "execution_count": null,
   "id": "ff00cb53",
   "metadata": {},
   "outputs": [],
   "source": [
    "def prime_num(input_num):\n",
    "    if num < 2:\n",
    "        return False\n",
    "    for i in range(2,input_num):\n",
    "        if input_num % num == 0:\n",
    "            return False\n",
    "        return True\n",
    "    \n",
    "    "
   ]
  },
  {
   "cell_type": "code",
   "execution_count": null,
   "id": "f2795843",
   "metadata": {},
   "outputs": [],
   "source": [
    "import random\n",
    "user_input =random.randint(0, 100)\n",
    "status = prime_num(input_num = user_input)\n",
    "print(user_input,\"is_prime? \", status)"
   ]
  },
  {
   "cell_type": "markdown",
   "id": "424436c3",
   "metadata": {},
   "source": [
    "# write a python program that accepts the string and calculate the number of upper_case letter and lower_case letter."
   ]
  },
  {
   "cell_type": "code",
   "execution_count": 42,
   "id": "56518bfc",
   "metadata": {},
   "outputs": [],
   "source": [
    "msg = \"RegEX\"\n",
    "def count_upper_lower(msg):\n",
    "    upper =0\n",
    "    lower =0\n",
    "    for i in msg:\n",
    "        if i.isupper():\n",
    "            upper = upper + 1\n",
    "        elif i.lower():\n",
    "            lower = lower + 1\n",
    "            \n",
    "    return upper,lower\n",
    "            "
   ]
  },
  {
   "cell_type": "code",
   "execution_count": 43,
   "id": "a3bf829e",
   "metadata": {},
   "outputs": [],
   "source": [
    "up , lo = count_upper_lower(msg)\n"
   ]
  },
  {
   "cell_type": "code",
   "execution_count": 44,
   "id": "4c058652",
   "metadata": {},
   "outputs": [
    {
     "data": {
      "text/plain": [
       "3"
      ]
     },
     "execution_count": 44,
     "metadata": {},
     "output_type": "execute_result"
    }
   ],
   "source": [
    "up\n"
   ]
  },
  {
   "cell_type": "code",
   "execution_count": 45,
   "id": "9d1b7f21",
   "metadata": {},
   "outputs": [
    {
     "data": {
      "text/plain": [
       "2"
      ]
     },
     "execution_count": 45,
     "metadata": {},
     "output_type": "execute_result"
    }
   ],
   "source": [
    "lo"
   ]
  },
  {
   "cell_type": "markdown",
   "id": "465b5f54",
   "metadata": {},
   "source": [
    "# write a python program that accepts a hyprn-seperated of words as input and print a word in a hypen-seperated sequnece after sorting them alphabetically."
   ]
  },
  {
   "cell_type": "code",
   "execution_count": 6,
   "id": "a0538872",
   "metadata": {},
   "outputs": [],
   "source": [
    "items ='green-red-yellow-black-white'"
   ]
  },
  {
   "cell_type": "code",
   "execution_count": 8,
   "id": "3dac68a7",
   "metadata": {},
   "outputs": [
    {
     "name": "stdout",
     "output_type": "stream",
     "text": [
      "sorted sequence:  black-green-red-white-yellow\n"
     ]
    }
   ],
   "source": [
    "def sort_hyphenated_words(words):\n",
    "    word_list=words.split('-')\n",
    "    sorted_words = sorted(word_list)\n",
    "    sorted_sequence ='-'.join(sorted_words)\n",
    "    return sorted_sequence\n",
    "\n",
    "input_sequence ='green-red-yellow-black-white'\n",
    "sorted_sequence = sort_hyphenated_words(input_sequence)\n",
    "print(\"sorted sequence: \", sorted_sequence)"
   ]
  },
  {
   "cell_type": "markdown",
   "id": "9e5db89b",
   "metadata": {},
   "source": [
    "# wap to find list comprehension both to find square of numbers between 1 to 10 using function \n"
   ]
  },
  {
   "cell_type": "code",
   "execution_count": 11,
   "id": "780c14f3",
   "metadata": {},
   "outputs": [
    {
     "name": "stdout",
     "output_type": "stream",
     "text": [
      "list of squares: [1, 4, 9, 16, 25, 36, 49, 64, 81, 100]\n"
     ]
    }
   ],
   "source": [
    "def find_squares(start,end):\n",
    "    squares = [num ** 2 for num in range(start, end+1)]\n",
    "    return squares\n",
    "start_num = 1\n",
    "end_num = 10\n",
    "square_list = find_squares(start_num, end_num)\n",
    "print(\"list of squares:\",square_list)"
   ]
  },
  {
   "cell_type": "markdown",
   "id": "8be75987",
   "metadata": {},
   "source": [
    "# wap function to find the list of even numbers between 1 to 25."
   ]
  },
  {
   "cell_type": "code",
   "execution_count": 21,
   "id": "b569da19",
   "metadata": {},
   "outputs": [
    {
     "name": "stdout",
     "output_type": "stream",
     "text": [
      "list of evens: [2, 4, 6, 8, 10, 12, 14, 16, 18, 20, 22, 24]\n"
     ]
    }
   ],
   "source": [
    "def even_num(start,end):\n",
    "    evens =[num  for num in range(start, end +1) if num % 2 == 0]\n",
    "    return evens\n",
    "start_num = 1\n",
    "end_num =25\n",
    "evens_list = even_num(start_num,end_num)\n",
    "print(\"list of evens:\", evens_list)"
   ]
  },
  {
   "cell_type": "markdown",
   "id": "cd670c18",
   "metadata": {},
   "source": [
    "# mean of given list using function.\n"
   ]
  },
  {
   "cell_type": "code",
   "execution_count": 49,
   "id": "1cc9c2b3",
   "metadata": {},
   "outputs": [
    {
     "ename": "TypeError",
     "evalue": "'int' object is not callable",
     "output_type": "error",
     "traceback": [
      "\u001b[1;31m---------------------------------------------------------------------------\u001b[0m",
      "\u001b[1;31mTypeError\u001b[0m                                 Traceback (most recent call last)",
      "Cell \u001b[1;32mIn[49], line 9\u001b[0m\n\u001b[0;32m      5\u001b[0m     \u001b[38;5;28;01mreturn\u001b[39;00m mean\n\u001b[0;32m      8\u001b[0m number \u001b[38;5;241m=\u001b[39m [\u001b[38;5;241m10\u001b[39m, \u001b[38;5;241m15\u001b[39m, \u001b[38;5;241m20\u001b[39m, \u001b[38;5;241m25\u001b[39m, \u001b[38;5;241m30\u001b[39m]\n\u001b[1;32m----> 9\u001b[0m result \u001b[38;5;241m=\u001b[39m \u001b[43mmean\u001b[49m\u001b[43m(\u001b[49m\u001b[43mnumber\u001b[49m\u001b[43m)\u001b[49m\n\u001b[0;32m     10\u001b[0m \u001b[38;5;28mprint\u001b[39m(result)\n",
      "Cell \u001b[1;32mIn[49], line 2\u001b[0m, in \u001b[0;36mmean\u001b[1;34m(numbers)\u001b[0m\n\u001b[0;32m      1\u001b[0m \u001b[38;5;28;01mdef\u001b[39;00m \u001b[38;5;21mmean\u001b[39m(numbers):\n\u001b[1;32m----> 2\u001b[0m     total \u001b[38;5;241m=\u001b[39m \u001b[38;5;28;43msum\u001b[39;49m\u001b[43m(\u001b[49m\u001b[43mnumbers\u001b[49m\u001b[43m)\u001b[49m\n\u001b[0;32m      3\u001b[0m     count \u001b[38;5;241m=\u001b[39m \u001b[38;5;28mlen\u001b[39m(numbers)\n\u001b[0;32m      4\u001b[0m     mean \u001b[38;5;241m=\u001b[39m total \u001b[38;5;241m/\u001b[39m count\n",
      "\u001b[1;31mTypeError\u001b[0m: 'int' object is not callable"
     ]
    }
   ],
   "source": [
    "def mean(numbers):\n",
    "    total = sum(numbers)\n",
    "    count = len(numbers)\n",
    "    mean = total / count\n",
    "    return mean\n",
    "number = [10, 15, 20, 25, 30]\n",
    "result = mean(number)\n",
    "print(result)"
   ]
  },
  {
   "cell_type": "code",
   "execution_count": null,
   "id": "0cee0f16",
   "metadata": {},
   "outputs": [],
   "source": []
  },
  {
   "cell_type": "code",
   "execution_count": null,
   "id": "1d29374c",
   "metadata": {},
   "outputs": [],
   "source": []
  },
  {
   "cell_type": "code",
   "execution_count": null,
   "id": "47e92a71",
   "metadata": {},
   "outputs": [],
   "source": []
  },
  {
   "cell_type": "code",
   "execution_count": null,
   "id": "d7cac786",
   "metadata": {},
   "outputs": [],
   "source": []
  }
 ],
 "metadata": {
  "kernelspec": {
   "display_name": "Python 3 (ipykernel)",
   "language": "python",
   "name": "python3"
  },
  "language_info": {
   "codemirror_mode": {
    "name": "ipython",
    "version": 3
   },
   "file_extension": ".py",
   "mimetype": "text/x-python",
   "name": "python",
   "nbconvert_exporter": "python",
   "pygments_lexer": "ipython3",
   "version": "3.11.3"
  }
 },
 "nbformat": 4,
 "nbformat_minor": 5
}
