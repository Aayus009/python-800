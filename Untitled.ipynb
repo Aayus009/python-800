{
 "cells": [
  {
   "cell_type": "markdown",
   "id": "4bd5c462",
   "metadata": {},
   "source": [
    "# The None keywords is used to define a null value, or no value at all.\n",
    "* None is not the same as 0,False,or an empty string.\n",
    "* None is a datatype of its own (Nonetype) and only None can be None"
   ]
  },
  {
   "cell_type": "code",
   "execution_count": 3,
   "id": "b5da6e82",
   "metadata": {},
   "outputs": [],
   "source": [
    "x = None"
   ]
  },
  {
   "cell_type": "code",
   "execution_count": 4,
   "id": "7caba335",
   "metadata": {},
   "outputs": [
    {
     "data": {
      "text/plain": [
       "NoneType"
      ]
     },
     "execution_count": 4,
     "metadata": {},
     "output_type": "execute_result"
    }
   ],
   "source": [
    "type(x)"
   ]
  },
  {
   "cell_type": "code",
   "execution_count": 5,
   "id": "04f0a2ef",
   "metadata": {},
   "outputs": [
    {
     "data": {
      "text/plain": [
       "False"
      ]
     },
     "execution_count": 5,
     "metadata": {},
     "output_type": "execute_result"
    }
   ],
   "source": [
    "x==0"
   ]
  },
  {
   "cell_type": "code",
   "execution_count": 6,
   "id": "52009016",
   "metadata": {},
   "outputs": [
    {
     "data": {
      "text/plain": [
       "False"
      ]
     },
     "execution_count": 6,
     "metadata": {},
     "output_type": "execute_result"
    }
   ],
   "source": [
    "x==\" \""
   ]
  },
  {
   "cell_type": "code",
   "execution_count": 7,
   "id": "8063c5a7",
   "metadata": {},
   "outputs": [
    {
     "data": {
      "text/plain": [
       "False"
      ]
     },
     "execution_count": 7,
     "metadata": {},
     "output_type": "execute_result"
    }
   ],
   "source": [
    "x==False"
   ]
  },
  {
   "cell_type": "code",
   "execution_count": 8,
   "id": "1b3e6c99",
   "metadata": {},
   "outputs": [
    {
     "data": {
      "text/plain": [
       "True"
      ]
     },
     "execution_count": 8,
     "metadata": {},
     "output_type": "execute_result"
    }
   ],
   "source": [
    "x == None#NOT A PREFERED WAY OF COMPERASION\n"
   ]
  },
  {
   "cell_type": "markdown",
   "id": "eebd3c03",
   "metadata": {},
   "source": [
    "# identity operator"
   ]
  },
  {
   "cell_type": "code",
   "execution_count": 9,
   "id": "0a99cac3",
   "metadata": {},
   "outputs": [],
   "source": [
    "x = None"
   ]
  },
  {
   "cell_type": "code",
   "execution_count": 10,
   "id": "5198c61a",
   "metadata": {},
   "outputs": [
    {
     "data": {
      "text/plain": [
       "True"
      ]
     },
     "execution_count": 10,
     "metadata": {},
     "output_type": "execute_result"
    }
   ],
   "source": [
    "x is None #prefered way"
   ]
  },
  {
   "cell_type": "code",
   "execution_count": 11,
   "id": "1f86415e",
   "metadata": {},
   "outputs": [
    {
     "data": {
      "text/plain": [
       "False"
      ]
     },
     "execution_count": 11,
     "metadata": {},
     "output_type": "execute_result"
    }
   ],
   "source": [
    "x is not None"
   ]
  },
  {
   "cell_type": "markdown",
   "id": "dd33620a",
   "metadata": {},
   "source": [
    "# Identity operator\n"
   ]
  },
  {
   "cell_type": "markdown",
   "id": "0845a05f",
   "metadata": {},
   "source": [
    "#Identity operators are used to comapare objects,not if they are equal, but if they ae actually tha same\n",
    "object, with the same memory location:\n",
    "* is -Return True if both the operands or variables are referring to the same memory location, otherwise , it will return False example:a is b\n",
    "\n",
    "* is not- Return True if both the operands or variables are not refeering to the same memory location."
   ]
  },
  {
   "cell_type": "code",
   "execution_count": 12,
   "id": "837f1cb6",
   "metadata": {},
   "outputs": [
    {
     "name": "stdout",
     "output_type": "stream",
     "text": [
      "True\n",
      "False\n",
      "False\n"
     ]
    }
   ],
   "source": [
    "x = None\n",
    "print(x is None)\n",
    "print(x is not None)\n",
    "print(x is float)"
   ]
  },
  {
   "cell_type": "markdown",
   "id": "3d82bdd9",
   "metadata": {},
   "source": [
    "# for learning purposes."
   ]
  },
  {
   "cell_type": "code",
   "execution_count": 17,
   "id": "f71c29b4",
   "metadata": {},
   "outputs": [
    {
     "name": "stdout",
     "output_type": "stream",
     "text": [
      "enter the age: 56\n",
      "the person is eligibile for driving.\n"
     ]
    }
   ],
   "source": [
    "age = int(input(\"enter the age: \"))\n",
    "if(age<= 18):\n",
    "    print(f\"the person is not eligibile for driving.\")\n",
    "else:\n",
    "    print(f\"the person is eligibile for driving.\")"
   ]
  },
  {
   "cell_type": "code",
   "execution_count": 8,
   "id": "df48b05a",
   "metadata": {},
   "outputs": [],
   "source": [
    "s = \"Geeks for Geeks\"\n",
    "for index in range(0,len(s),-1):\n",
    "    print(index)\n",
    "    "
   ]
  },
  {
   "cell_type": "code",
   "execution_count": null,
   "id": "1cfbd6df",
   "metadata": {},
   "outputs": [],
   "source": []
  }
 ],
 "metadata": {
  "kernelspec": {
   "display_name": "Python 3 (ipykernel)",
   "language": "python",
   "name": "python3"
  },
  "language_info": {
   "codemirror_mode": {
    "name": "ipython",
    "version": 3
   },
   "file_extension": ".py",
   "mimetype": "text/x-python",
   "name": "python",
   "nbconvert_exporter": "python",
   "pygments_lexer": "ipython3",
   "version": "3.11.3"
  }
 },
 "nbformat": 4,
 "nbformat_minor": 5
}
