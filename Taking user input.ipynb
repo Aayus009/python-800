{
 "cells": [
  {
   "cell_type": "markdown",
   "id": "99519fb4",
   "metadata": {},
   "source": [
    "# Taking `input()` methods take input  from user"
   ]
  },
  {
   "cell_type": "code",
   "execution_count": null,
   "id": "313dea5a",
   "metadata": {},
   "outputs": [],
   "source": [
    "input()\n"
   ]
  },
  {
   "cell_type": "code",
   "execution_count": null,
   "id": "f9c6141b",
   "metadata": {},
   "outputs": [],
   "source": [
    "number = input(\"enter a number : \")\n",
    "print(number)\n"
   ]
  },
  {
   "cell_type": "code",
   "execution_count": 5,
   "id": "f472dd58",
   "metadata": {},
   "outputs": [
    {
     "name": "stdout",
     "output_type": "stream",
     "text": [
      "enter a number : 6\n",
      "enter a second number : 9\n",
      "the total sum is 15\n"
     ]
    }
   ],
   "source": [
    "num1 = int(input(\"enter a number : \"))\n",
    "num2 = int(input(\"enter a second number : \"))\n",
    "total = num1 + num2\n",
    "print (f\"the total sum is {total}\")"
   ]
  },
  {
   "cell_type": "code",
   "execution_count": 2,
   "id": "b216a0d5",
   "metadata": {},
   "outputs": [
    {
     "name": "stdout",
     "output_type": "stream",
     "text": [
      "enter a number : 6\n"
     ]
    }
   ],
   "source": [
    "num1 = input(\"enter a number : \")#by default input takes any value in string we want to convert into interger.\n"
   ]
  },
  {
   "cell_type": "markdown",
   "id": "eea9083c",
   "metadata": {},
   "source": [
    "# Type casting\n"
   ]
  },
  {
   "cell_type": "markdown",
   "id": "34f6637c",
   "metadata": {},
   "source": [
    "* user casts data explicity from one to another"
   ]
  },
  {
   "cell_type": "code",
   "execution_count": 3,
   "id": "28282cd2",
   "metadata": {},
   "outputs": [
    {
     "name": "stdout",
     "output_type": "stream",
     "text": [
      "enter first number: 67\n"
     ]
    }
   ],
   "source": [
    "num1 = int (input(\"enter first number: \"))\n"
   ]
  },
  {
   "cell_type": "code",
   "execution_count": 4,
   "id": "488e7296",
   "metadata": {},
   "outputs": [
    {
     "data": {
      "text/plain": [
       "int"
      ]
     },
     "execution_count": 4,
     "metadata": {},
     "output_type": "execute_result"
    }
   ],
   "source": [
    "type(num1)"
   ]
  },
  {
   "cell_type": "code",
   "execution_count": 6,
   "id": "69062df0",
   "metadata": {},
   "outputs": [
    {
     "name": "stdout",
     "output_type": "stream",
     "text": [
      "enter a number : 6689868\n",
      "enter a second number : 8686\n",
      "the total sum is 6698554\n"
     ]
    }
   ],
   "source": [
    "num1 = int(input(\"enter a number : \"))\n",
    "num2 = int(input(\"enter a second number : \"))\n",
    "total = num1 + num2\n",
    "print (f\"the total sum is {total}\")"
   ]
  },
  {
   "cell_type": "code",
   "execution_count": null,
   "id": "99ae839d",
   "metadata": {},
   "outputs": [],
   "source": []
  }
 ],
 "metadata": {
  "kernelspec": {
   "display_name": "Python 3 (ipykernel)",
   "language": "python",
   "name": "python3"
  },
  "language_info": {
   "codemirror_mode": {
    "name": "ipython",
    "version": 3
   },
   "file_extension": ".py",
   "mimetype": "text/x-python",
   "name": "python",
   "nbconvert_exporter": "python",
   "pygments_lexer": "ipython3",
   "version": "3.11.3"
  }
 },
 "nbformat": 4,
 "nbformat_minor": 5
}
