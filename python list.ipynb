{
 "cells": [
  {
   "cell_type": "markdown",
   "id": "32e398b9",
   "metadata": {},
   "source": [
    "# List\n",
    "* collection of items under one variable name\n",
    "* order and indexed\n",
    "* allows duplicate  values\n",
    "* mutable data type\n",
    "* one of 4-builitin data type in python\n"
   ]
  },
  {
   "cell_type": "code",
   "execution_count": 2,
   "id": "168b1d98",
   "metadata": {},
   "outputs": [
    {
     "data": {
      "text/plain": [
       "list"
      ]
     },
     "execution_count": 2,
     "metadata": {},
     "output_type": "execute_result"
    }
   ],
   "source": [
    "list1=[ ]\n",
    "type(list1)"
   ]
  },
  {
   "cell_type": "code",
   "execution_count": 3,
   "id": "c0912ca9",
   "metadata": {},
   "outputs": [
    {
     "data": {
      "text/plain": [
       "list"
      ]
     },
     "execution_count": 3,
     "metadata": {},
     "output_type": "execute_result"
    }
   ],
   "source": [
    "list2= list( )#using list constructor\n",
    "type(list2)"
   ]
  },
  {
   "cell_type": "markdown",
   "id": "9d4d301c",
   "metadata": {},
   "source": [
    "# creating your own list"
   ]
  },
  {
   "cell_type": "code",
   "execution_count": 4,
   "id": "3d744d76",
   "metadata": {},
   "outputs": [],
   "source": [
    "gift=('watch','shoes','shoes','pagini')"
   ]
  },
  {
   "cell_type": "code",
   "execution_count": 8,
   "id": "1afa95f7",
   "metadata": {},
   "outputs": [
    {
     "data": {
      "text/plain": [
       "('watch', 'shoes', 'shoes', 'pagani')"
      ]
     },
     "execution_count": 8,
     "metadata": {},
     "output_type": "execute_result"
    }
   ],
   "source": [
    "gift\n"
   ]
  },
  {
   "cell_type": "code",
   "execution_count": 9,
   "id": "42beef22",
   "metadata": {},
   "outputs": [
    {
     "data": {
      "text/plain": [
       "'watch'"
      ]
     },
     "execution_count": 9,
     "metadata": {},
     "output_type": "execute_result"
    }
   ],
   "source": [
    "gift[0]"
   ]
  },
  {
   "cell_type": "code",
   "execution_count": 7,
   "id": "11a34a9f",
   "metadata": {},
   "outputs": [
    {
     "data": {
      "text/plain": [
       "'pagani'"
      ]
     },
     "execution_count": 7,
     "metadata": {},
     "output_type": "execute_result"
    }
   ],
   "source": [
    "gift[3]"
   ]
  },
  {
   "cell_type": "code",
   "execution_count": 22,
   "id": "ef507315",
   "metadata": {},
   "outputs": [
    {
     "data": {
      "text/plain": [
       "('shoes', 'shoes')"
      ]
     },
     "execution_count": 22,
     "metadata": {},
     "output_type": "execute_result"
    }
   ],
   "source": [
    "gift[1:3]"
   ]
  },
  {
   "cell_type": "code",
   "execution_count": 11,
   "id": "d9f13864",
   "metadata": {},
   "outputs": [],
   "source": [
    "present =('bike','shoes','bag','jet','books','airpods','macbook')"
   ]
  },
  {
   "cell_type": "code",
   "execution_count": 16,
   "id": "ccad9ac5",
   "metadata": {},
   "outputs": [
    {
     "data": {
      "text/plain": [
       "('bag', 'jet')"
      ]
     },
     "execution_count": 16,
     "metadata": {},
     "output_type": "execute_result"
    }
   ],
   "source": [
    "present[2:4]"
   ]
  },
  {
   "cell_type": "code",
   "execution_count": 17,
   "id": "6635be69",
   "metadata": {},
   "outputs": [
    {
     "data": {
      "text/plain": [
       "'macbook'"
      ]
     },
     "execution_count": 17,
     "metadata": {},
     "output_type": "execute_result"
    }
   ],
   "source": [
    "present[-1]"
   ]
  },
  {
   "cell_type": "code",
   "execution_count": 18,
   "id": "ab084807",
   "metadata": {},
   "outputs": [
    {
     "data": {
      "text/plain": [
       "'airpods'"
      ]
     },
     "execution_count": 18,
     "metadata": {},
     "output_type": "execute_result"
    }
   ],
   "source": [
    "present[-2]"
   ]
  },
  {
   "cell_type": "code",
   "execution_count": 19,
   "id": "96a4dfbf",
   "metadata": {},
   "outputs": [
    {
     "data": {
      "text/plain": [
       "('bag',)"
      ]
     },
     "execution_count": 19,
     "metadata": {},
     "output_type": "execute_result"
    }
   ],
   "source": [
    "present[2:4:6]"
   ]
  },
  {
   "cell_type": "code",
   "execution_count": 23,
   "id": "4e798efd",
   "metadata": {},
   "outputs": [
    {
     "data": {
      "text/plain": [
       "('airpods', 'macbook')"
      ]
     },
     "execution_count": 23,
     "metadata": {},
     "output_type": "execute_result"
    }
   ],
   "source": [
    "present[-2:]# end default len(present)"
   ]
  },
  {
   "cell_type": "code",
   "execution_count": 24,
   "id": "0d512e8d",
   "metadata": {},
   "outputs": [
    {
     "data": {
      "text/plain": [
       "('bike', 'shoes')"
      ]
     },
     "execution_count": 24,
     "metadata": {},
     "output_type": "execute_result"
    }
   ],
   "source": [
    "present[:2]#start default 0"
   ]
  },
  {
   "cell_type": "markdown",
   "id": "c81e6f0f",
   "metadata": {},
   "source": [
    "# Find mean of given list using for loop\n"
   ]
  },
  {
   "cell_type": "code",
   "execution_count": 29,
   "id": "824898a6",
   "metadata": {},
   "outputs": [],
   "source": [
    "num =[9,2,45,0,11]"
   ]
  },
  {
   "cell_type": "code",
   "execution_count": 31,
   "id": "36551ec9",
   "metadata": {},
   "outputs": [
    {
     "data": {
      "text/plain": [
       "13.4"
      ]
     },
     "execution_count": 31,
     "metadata": {},
     "output_type": "execute_result"
    }
   ],
   "source": [
    "x = num[0]+num[1]+num[2]+num[3]+num[4]\n",
    "mean = x/5\n",
    "mean\n"
   ]
  },
  {
   "cell_type": "code",
   "execution_count": 39,
   "id": "3d94b945",
   "metadata": {},
   "outputs": [
    {
     "name": "stdout",
     "output_type": "stream",
     "text": [
      "67\n",
      "13.4\n"
     ]
    }
   ],
   "source": [
    "total = 0\n",
    "for i in nums:\n",
    "    total = total + i\n",
    "print(total)\n",
    "x=total/5\n",
    "print(x)"
   ]
  },
  {
   "cell_type": "code",
   "execution_count": null,
   "id": "a5b30794",
   "metadata": {},
   "outputs": [],
   "source": []
  }
 ],
 "metadata": {
  "kernelspec": {
   "display_name": "Python 3 (ipykernel)",
   "language": "python",
   "name": "python3"
  },
  "language_info": {
   "codemirror_mode": {
    "name": "ipython",
    "version": 3
   },
   "file_extension": ".py",
   "mimetype": "text/x-python",
   "name": "python",
   "nbconvert_exporter": "python",
   "pygments_lexer": "ipython3",
   "version": "3.11.3"
  }
 },
 "nbformat": 4,
 "nbformat_minor": 5
}
