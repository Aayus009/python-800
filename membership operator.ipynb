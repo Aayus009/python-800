{
 "cells": [
  {
   "cell_type": "code",
   "execution_count": 1,
   "id": "04260b18",
   "metadata": {},
   "outputs": [],
   "source": [
    "cities=['kathmandu','bhaktapur','lalitpur','dharana','pokhara','bharatpur']"
   ]
  },
  {
   "cell_type": "code",
   "execution_count": 3,
   "id": "28c850ee",
   "metadata": {},
   "outputs": [
    {
     "data": {
      "text/plain": [
       "True"
      ]
     },
     "execution_count": 3,
     "metadata": {},
     "output_type": "execute_result"
    }
   ],
   "source": [
    "'pokhara' in cities"
   ]
  },
  {
   "cell_type": "code",
   "execution_count": 4,
   "id": "fb090d4a",
   "metadata": {},
   "outputs": [
    {
     "data": {
      "text/plain": [
       "False"
      ]
     },
     "execution_count": 4,
     "metadata": {},
     "output_type": "execute_result"
    }
   ],
   "source": [
    "'kavre' in cities"
   ]
  },
  {
   "cell_type": "code",
   "execution_count": 5,
   "id": "eabe5379",
   "metadata": {},
   "outputs": [
    {
     "data": {
      "text/plain": [
       "True"
      ]
     },
     "execution_count": 5,
     "metadata": {},
     "output_type": "execute_result"
    }
   ],
   "source": [
    "'kavre' not in cities #in and not in are membership operator"
   ]
  },
  {
   "cell_type": "code",
   "execution_count": 6,
   "id": "624e3b35",
   "metadata": {},
   "outputs": [],
   "source": [
    "city='kathmandu'"
   ]
  },
  {
   "cell_type": "code",
   "execution_count": 7,
   "id": "75a1ea61",
   "metadata": {},
   "outputs": [
    {
     "data": {
      "text/plain": [
       "False"
      ]
     },
     "execution_count": 7,
     "metadata": {},
     "output_type": "execute_result"
    }
   ],
   "source": [
    "'mandu' in city"
   ]
  },
  {
   "cell_type": "code",
   "execution_count": 8,
   "id": "4aa2c390",
   "metadata": {},
   "outputs": [
    {
     "data": {
      "text/plain": [
       "False"
      ]
     },
     "execution_count": 8,
     "metadata": {},
     "output_type": "execute_result"
    }
   ],
   "source": [
    "'ran'in city"
   ]
  },
  {
   "cell_type": "code",
   "execution_count": null,
   "id": "0df298e3",
   "metadata": {},
   "outputs": [],
   "source": []
  }
 ],
 "metadata": {
  "kernelspec": {
   "display_name": "Python 3 (ipykernel)",
   "language": "python",
   "name": "python3"
  },
  "language_info": {
   "codemirror_mode": {
    "name": "ipython",
    "version": 3
   },
   "file_extension": ".py",
   "mimetype": "text/x-python",
   "name": "python",
   "nbconvert_exporter": "python",
   "pygments_lexer": "ipython3",
   "version": "3.11.3"
  }
 },
 "nbformat": 4,
 "nbformat_minor": 5
}
