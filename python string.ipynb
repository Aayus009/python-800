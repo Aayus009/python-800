{
 "cells": [
  {
   "cell_type": "code",
   "execution_count": 2,
   "id": "e1a56a55",
   "metadata": {},
   "outputs": [],
   "source": [
    "msg1 = 'hello'\n",
    "msg2 = \"Hello\""
   ]
  },
  {
   "cell_type": "code",
   "execution_count": 7,
   "id": "671fb048",
   "metadata": {},
   "outputs": [
    {
     "data": {
      "text/plain": [
       "True"
      ]
     },
     "execution_count": 7,
     "metadata": {},
     "output_type": "execute_result"
    }
   ],
   "source": [
    "msg1 == msg2"
   ]
  },
  {
   "cell_type": "code",
   "execution_count": 9,
   "id": "1b43510a",
   "metadata": {},
   "outputs": [],
   "source": [
    "assert msg1 == msg2# assert can be used in Dububgging."
   ]
  },
  {
   "cell_type": "markdown",
   "id": "73d03b09",
   "metadata": {},
   "source": [
    "# single line string and multiline string"
   ]
  },
  {
   "cell_type": "code",
   "execution_count": 12,
   "id": "13caae09",
   "metadata": {},
   "outputs": [],
   "source": [
    "#string line\n",
    "speech = 'My name is Atomaic.'"
   ]
  },
  {
   "cell_type": "code",
   "execution_count": 13,
   "id": "85afb8a9",
   "metadata": {},
   "outputs": [
    {
     "data": {
      "text/plain": [
       "'My name is Atomaic.'"
      ]
     },
     "execution_count": 13,
     "metadata": {},
     "output_type": "execute_result"
    }
   ],
   "source": [
    "speech\n"
   ]
  },
  {
   "cell_type": "code",
   "execution_count": 14,
   "id": "ff235ac6",
   "metadata": {},
   "outputs": [
    {
     "ename": "SyntaxError",
     "evalue": "unterminated string literal (detected at line 2) (3230146313.py, line 2)",
     "output_type": "error",
     "traceback": [
      "\u001b[1;36m  Cell \u001b[1;32mIn[14], line 2\u001b[1;36m\u001b[0m\n\u001b[1;33m    Speech = \" Maya meri timi narunu hai\u001b[0m\n\u001b[1;37m             ^\u001b[0m\n\u001b[1;31mSyntaxError\u001b[0m\u001b[1;31m:\u001b[0m unterminated string literal (detected at line 2)\n"
     ]
    }
   ],
   "source": [
    "# you cannot use one quote to write multiple string \n",
    "Speech = \" Maya meri timi narunu hai\n",
    "Aaunechhu ma ali parkhanu hai\n",
    "Jindagi ma mero timi bayek\n",
    "Koi chhaina chitta nadukhaunu hai\""
   ]
  },
  {
   "cell_type": "code",
   "execution_count": 16,
   "id": "4ce3da41",
   "metadata": {},
   "outputs": [],
   "source": [
    " # use multi line quote \n",
    "geet = \"\"\"Maya meri timi narunu hai\n",
    "Aaunechhu ma ali parkhanu hai\n",
    "Jindagi ma mero timi bayek\n",
    "Koi chhaina chitta nadukhaunu hai\"\"\""
   ]
  },
  {
   "cell_type": "code",
   "execution_count": 19,
   "id": "e108fe25",
   "metadata": {},
   "outputs": [
    {
     "name": "stdout",
     "output_type": "stream",
     "text": [
      "Maya meri timi narunu hai\n",
      "Aaunechhu ma ali parkhanu hai\n",
      "Jindagi ma mero timi bayek\n",
      "Koi chhaina chitta nadukhaunu hai\n"
     ]
    }
   ],
   "source": [
    "print(geet)\n"
   ]
  },
  {
   "cell_type": "code",
   "execution_count": 20,
   "id": "62577a67",
   "metadata": {},
   "outputs": [
    {
     "data": {
      "text/plain": [
       "\"That's\""
      ]
     },
     "execution_count": 20,
     "metadata": {},
     "output_type": "execute_result"
    }
   ],
   "source": [
    "\"That's\""
   ]
  },
  {
   "cell_type": "code",
   "execution_count": 21,
   "id": "d41ef03c",
   "metadata": {},
   "outputs": [],
   "source": [
    "#can write single quote inside double and single quote inside double"
   ]
  },
  {
   "cell_type": "code",
   "execution_count": 22,
   "id": "6b1ca416",
   "metadata": {},
   "outputs": [
    {
     "data": {
      "text/plain": [
       "\"that's\""
      ]
     },
     "execution_count": 22,
     "metadata": {},
     "output_type": "execute_result"
    }
   ],
   "source": [
    "'that\\'s'"
   ]
  },
  {
   "cell_type": "markdown",
   "id": "ed0bbaf1",
   "metadata": {},
   "source": [
    "# EXMAPLE"
   ]
  },
  {
   "cell_type": "code",
   "execution_count": 23,
   "id": "32f1c56c",
   "metadata": {},
   "outputs": [],
   "source": [
    "S = 'HELLO WORLD'"
   ]
  },
  {
   "cell_type": "code",
   "execution_count": 24,
   "id": "b4e172e8",
   "metadata": {},
   "outputs": [
    {
     "data": {
      "text/plain": [
       "'E'"
      ]
     },
     "execution_count": 24,
     "metadata": {},
     "output_type": "execute_result"
    }
   ],
   "source": [
    "S[1]"
   ]
  },
  {
   "cell_type": "code",
   "execution_count": 25,
   "id": "e7b4f58b",
   "metadata": {},
   "outputs": [
    {
     "data": {
      "text/plain": [
       "'H'"
      ]
     },
     "execution_count": 25,
     "metadata": {},
     "output_type": "execute_result"
    }
   ],
   "source": [
    "S[0]"
   ]
  },
  {
   "cell_type": "code",
   "execution_count": 27,
   "id": "58fd4283",
   "metadata": {},
   "outputs": [
    {
     "data": {
      "text/plain": [
       "'L'"
      ]
     },
     "execution_count": 27,
     "metadata": {},
     "output_type": "execute_result"
    }
   ],
   "source": [
    "S[2]"
   ]
  },
  {
   "cell_type": "code",
   "execution_count": 28,
   "id": "dfe4f4ad",
   "metadata": {},
   "outputs": [
    {
     "data": {
      "text/plain": [
       "'L'"
      ]
     },
     "execution_count": 28,
     "metadata": {},
     "output_type": "execute_result"
    }
   ],
   "source": [
    "S[3]"
   ]
  },
  {
   "cell_type": "code",
   "execution_count": 29,
   "id": "8958e90b",
   "metadata": {},
   "outputs": [
    {
     "data": {
      "text/plain": [
       "'O'"
      ]
     },
     "execution_count": 29,
     "metadata": {},
     "output_type": "execute_result"
    }
   ],
   "source": [
    "S[4]"
   ]
  },
  {
   "cell_type": "code",
   "execution_count": 30,
   "id": "ca421154",
   "metadata": {},
   "outputs": [
    {
     "data": {
      "text/plain": [
       "' '"
      ]
     },
     "execution_count": 30,
     "metadata": {},
     "output_type": "execute_result"
    }
   ],
   "source": [
    "S[5]"
   ]
  },
  {
   "cell_type": "code",
   "execution_count": 31,
   "id": "7663e798",
   "metadata": {},
   "outputs": [
    {
     "data": {
      "text/plain": [
       "'D'"
      ]
     },
     "execution_count": 31,
     "metadata": {},
     "output_type": "execute_result"
    }
   ],
   "source": [
    "S[10]"
   ]
  },
  {
   "cell_type": "code",
   "execution_count": 36,
   "id": "a4dce0b3",
   "metadata": {},
   "outputs": [
    {
     "ename": "IndexError",
     "evalue": "string index out of range",
     "output_type": "error",
     "traceback": [
      "\u001b[1;31m---------------------------------------------------------------------------\u001b[0m",
      "\u001b[1;31mIndexError\u001b[0m                                Traceback (most recent call last)",
      "Cell \u001b[1;32mIn[36], line 1\u001b[0m\n\u001b[1;32m----> 1\u001b[0m \u001b[43mS\u001b[49m\u001b[43m[\u001b[49m\u001b[38;5;241;43m11\u001b[39;49m\u001b[43m]\u001b[49m\n",
      "\u001b[1;31mIndexError\u001b[0m: string index out of range"
     ]
    }
   ],
   "source": [
    "S[11]\n"
   ]
  },
  {
   "cell_type": "code",
   "execution_count": 41,
   "id": "b0e3dbfc",
   "metadata": {},
   "outputs": [
    {
     "data": {
      "text/plain": [
       "11"
      ]
     },
     "execution_count": 41,
     "metadata": {},
     "output_type": "execute_result"
    }
   ],
   "source": [
    "len(S)"
   ]
  },
  {
   "cell_type": "code",
   "execution_count": 42,
   "id": "3ba8f59a",
   "metadata": {},
   "outputs": [
    {
     "data": {
      "text/plain": [
       "'OR'"
      ]
     },
     "execution_count": 42,
     "metadata": {},
     "output_type": "execute_result"
    }
   ],
   "source": [
    "S[7:9]#slicing"
   ]
  },
  {
   "cell_type": "code",
   "execution_count": 43,
   "id": "eecfe979",
   "metadata": {},
   "outputs": [
    {
     "data": {
      "text/plain": [
       "'ELLO'"
      ]
     },
     "execution_count": 43,
     "metadata": {},
     "output_type": "execute_result"
    }
   ],
   "source": [
    "S[1:5]#slicing"
   ]
  },
  {
   "cell_type": "markdown",
   "id": "079995bf",
   "metadata": {},
   "source": [
    "# INDEXING ALWAYS STARTS FROM ZERO"
   ]
  },
  {
   "cell_type": "code",
   "execution_count": 44,
   "id": "26620cbd",
   "metadata": {},
   "outputs": [],
   "source": [
    "s =\"hello world\""
   ]
  },
  {
   "cell_type": "code",
   "execution_count": 45,
   "id": "8e513e5b",
   "metadata": {},
   "outputs": [
    {
     "data": {
      "text/plain": [
       "[0, 1, 2, 3, 4, 5, 6, 7, 8, 9, 10]"
      ]
     },
     "execution_count": 45,
     "metadata": {},
     "output_type": "execute_result"
    }
   ],
   "source": [
    "list(range(0, len(s), 1))"
   ]
  },
  {
   "cell_type": "code",
   "execution_count": 48,
   "id": "fdd7073f",
   "metadata": {},
   "outputs": [
    {
     "name": "stdout",
     "output_type": "stream",
     "text": [
      "0\n",
      "1\n",
      "2\n",
      "3\n",
      "4\n",
      "5\n",
      "6\n",
      "7\n",
      "8\n",
      "9\n",
      "10\n"
     ]
    }
   ],
   "source": [
    "for index in range(0,len(s), 1):\n",
    "    print(index)"
   ]
  },
  {
   "cell_type": "code",
   "execution_count": 50,
   "id": "16d15b86",
   "metadata": {},
   "outputs": [
    {
     "name": "stdout",
     "output_type": "stream",
     "text": [
      "0\n",
      "2\n",
      "4\n",
      "6\n",
      "8\n",
      "10\n"
     ]
    }
   ],
   "source": [
    "for index in range(0, len(s), 2):\n",
    "    print(index)"
   ]
  },
  {
   "cell_type": "code",
   "execution_count": 57,
   "id": "eed6d7c9",
   "metadata": {},
   "outputs": [
    {
     "name": "stdout",
     "output_type": "stream",
     "text": [
      "h\n",
      "e\n",
      "l\n",
      "l\n",
      "o\n",
      " \n",
      "w\n",
      "o\n",
      "r\n",
      "l\n",
      "d\n"
     ]
    }
   ],
   "source": [
    "for index in range(0, len(s), 1):\n",
    "    print(s[index])"
   ]
  },
  {
   "cell_type": "code",
   "execution_count": 60,
   "id": "4d5b303a",
   "metadata": {},
   "outputs": [
    {
     "name": "stdout",
     "output_type": "stream",
     "text": [
      "0 h\n",
      "1 e\n",
      "2 l\n",
      "3 l\n",
      "4 o\n",
      "5  \n",
      "6 w\n",
      "7 o\n",
      "8 r\n",
      "9 l\n",
      "10 d\n"
     ]
    }
   ],
   "source": [
    "for index in range(0, len(s), 1):\n",
    "    print(index, s[index])"
   ]
  },
  {
   "cell_type": "code",
   "execution_count": 9,
   "id": "1458f396",
   "metadata": {},
   "outputs": [],
   "source": [
    "s = \"hello world\"\n",
    "    "
   ]
  },
  {
   "cell_type": "code",
   "execution_count": 10,
   "id": "5cf2253c",
   "metadata": {},
   "outputs": [],
   "source": [
    "start = len(s)-1\n",
    "step = -1\n",
    "end = -1"
   ]
  },
  {
   "cell_type": "code",
   "execution_count": 11,
   "id": "6116e9c8",
   "metadata": {},
   "outputs": [
    {
     "name": "stdout",
     "output_type": "stream",
     "text": [
      "10 d\n",
      "9 l\n",
      "8 r\n",
      "7 o\n",
      "6 w\n",
      "5  \n",
      "4 o\n",
      "3 l\n",
      "2 l\n",
      "1 e\n",
      "0 h\n"
     ]
    }
   ],
   "source": [
    "for index in range(start,end,step):\n",
    "    print(index,s[index])"
   ]
  },
  {
   "cell_type": "code",
   "execution_count": 7,
   "id": "4ee861d3",
   "metadata": {},
   "outputs": [],
   "source": [
    "s = \"hello world\""
   ]
  },
  {
   "cell_type": "code",
   "execution_count": 8,
   "id": "4c94dc1e",
   "metadata": {},
   "outputs": [
    {
     "name": "stdout",
     "output_type": "stream",
     "text": [
      "h\n",
      "e\n",
      "l\n",
      "l\n",
      "o\n",
      " \n",
      "w\n",
      "o\n",
      "r\n",
      "l\n",
      "d\n"
     ]
    }
   ],
   "source": [
    "for item in s:\n",
    "    print(item)"
   ]
  },
  {
   "cell_type": "code",
   "execution_count": 9,
   "id": "4d0e255c",
   "metadata": {},
   "outputs": [
    {
     "name": "stdout",
     "output_type": "stream",
     "text": [
      "0 h\n",
      "1 e\n",
      "2 l\n",
      "3 l\n",
      "4 o\n",
      "5  \n",
      "6 w\n",
      "7 o\n",
      "8 r\n",
      "9 l\n",
      "10 d\n"
     ]
    }
   ],
   "source": [
    "s = \"hello world\"\n",
    "for index, letter in enumerate(s):\n",
    "    print(index, letter)"
   ]
  },
  {
   "cell_type": "markdown",
   "id": "fd76fcba",
   "metadata": {},
   "source": [
    "# Check vowel and conconant"
   ]
  },
  {
   "cell_type": "code",
   "execution_count": 12,
   "id": "99bf83e8",
   "metadata": {},
   "outputs": [],
   "source": [
    "s =\"me timro hari bahadur\""
   ]
  },
  {
   "cell_type": "code",
   "execution_count": 15,
   "id": "40316d15",
   "metadata": {},
   "outputs": [
    {
     "name": "stdout",
     "output_type": "stream",
     "text": [
      "the letter m is consonant\n",
      "the letter eis vowel\n",
      "the letter   is consonant\n",
      "the letter t is consonant\n",
      "the letter iis vowel\n",
      "the letter m is consonant\n",
      "the letter r is consonant\n",
      "the letter ois vowel\n",
      "the letter   is consonant\n",
      "the letter h is consonant\n",
      "the letter ais vowel\n",
      "the letter r is consonant\n",
      "the letter iis vowel\n",
      "the letter   is consonant\n",
      "the letter b is consonant\n",
      "the letter ais vowel\n",
      "the letter h is consonant\n",
      "the letter ais vowel\n",
      "the letter d is consonant\n",
      "the letter uis vowel\n",
      "the letter r is consonant\n"
     ]
    }
   ],
   "source": [
    "for letter in s:\n",
    "    if letter == 'a' or letter =='e' or letter =='i' or letter =='o' or letter =='u':\n",
    "        print(f\"the letter {letter}is vowel\")\n",
    "    else:\n",
    "        print(f\"the letter {letter} is consonant\")"
   ]
  },
  {
   "cell_type": "markdown",
   "id": "70c07945",
   "metadata": {},
   "source": [
    "# Break and continue sstatement"
   ]
  },
  {
   "cell_type": "code",
   "execution_count": 5,
   "id": "73efcea2",
   "metadata": {},
   "outputs": [
    {
     "name": "stdout",
     "output_type": "stream",
     "text": [
      "the letter m is consonant\n",
      "the letter e is vowel\n",
      "the letter t is consonant\n",
      "the letter i is vowel\n",
      "the letter m is consonant\n",
      "the letter r is consonant\n",
      "the letter o is vowel\n",
      "the letter h is consonant\n",
      "the letter a is vowel\n",
      "the letter r is consonant\n",
      "the letter i is vowel\n",
      "the letter b is consonant\n",
      "the letter a is vowel\n",
      "the letter h is consonant\n",
      "the letter a is vowel\n",
      "the letter d is consonant\n",
      "the letter u is vowel\n",
      "the letter r is consonant\n"
     ]
    }
   ],
   "source": [
    "s =\"me timro hari bahadur\"\n",
    "for letter in s:\n",
    "    if letter == 'a' or letter =='e' or letter =='i' or letter =='o' or letter =='u':\n",
    "        print(f\"the letter {letter} is vowel\")\n",
    "        \n",
    "    elif letter == \" \":\n",
    "        continue\n",
    "        print(\"yo print statement run hudaina\")\n",
    "            \n",
    "    else:\n",
    "        print(f\"the letter {letter} is consonant\")"
   ]
  },
  {
   "cell_type": "code",
   "execution_count": 2,
   "id": "1181ab9c",
   "metadata": {},
   "outputs": [
    {
     "ename": "NameError",
     "evalue": "name 's' is not defined",
     "output_type": "error",
     "traceback": [
      "\u001b[1;31m---------------------------------------------------------------------------\u001b[0m",
      "\u001b[1;31mNameError\u001b[0m                                 Traceback (most recent call last)",
      "Cell \u001b[1;32mIn[2], line 1\u001b[0m\n\u001b[1;32m----> 1\u001b[0m \u001b[38;5;28;01mfor\u001b[39;00m i \u001b[38;5;129;01min\u001b[39;00m \u001b[38;5;28mrange\u001b[39m(\u001b[43ms\u001b[49m):\n\u001b[0;32m      2\u001b[0m   \u001b[38;5;28;01mif\u001b[39;00m i \u001b[38;5;241m==\u001b[39m \u001b[38;5;241m2\u001b[39m:\n\u001b[0;32m      3\u001b[0m     \u001b[38;5;28;01mcontinue\u001b[39;00m \n",
      "\u001b[1;31mNameError\u001b[0m: name 's' is not defined"
     ]
    }
   ],
   "source": [
    "for index in range():\n",
    "  if i == 2:\n",
    "    continue \n",
    "    print(i)"
   ]
  },
  {
   "cell_type": "code",
   "execution_count": 22,
   "id": "3105da79",
   "metadata": {},
   "outputs": [],
   "source": [
    "for i in range(5):\n",
    "    if i ==2:\n",
    "        break\n",
    "        print(i)\n",
    "        print(\"loop break bhayara for bhaera aaayo\")"
   ]
  },
  {
   "cell_type": "code",
   "execution_count": 23,
   "id": "3c67b3d7",
   "metadata": {},
   "outputs": [
    {
     "data": {
      "text/plain": [
       "'sitaram'"
      ]
     },
     "execution_count": 23,
     "metadata": {},
     "output_type": "execute_result"
    }
   ],
   "source": [
    "\"sita\" + \"ram\""
   ]
  },
  {
   "cell_type": "code",
   "execution_count": 24,
   "id": "f1ae50c5",
   "metadata": {},
   "outputs": [
    {
     "data": {
      "text/plain": [
       "'sitasitasita'"
      ]
     },
     "execution_count": 24,
     "metadata": {},
     "output_type": "execute_result"
    }
   ],
   "source": [
    "\"sita\" * 3"
   ]
  },
  {
   "cell_type": "code",
   "execution_count": null,
   "id": "ef91a239",
   "metadata": {},
   "outputs": [],
   "source": []
  }
 ],
 "metadata": {
  "kernelspec": {
   "display_name": "Python 3 (ipykernel)",
   "language": "python",
   "name": "python3"
  },
  "language_info": {
   "codemirror_mode": {
    "name": "ipython",
    "version": 3
   },
   "file_extension": ".py",
   "mimetype": "text/x-python",
   "name": "python",
   "nbconvert_exporter": "python",
   "pygments_lexer": "ipython3",
   "version": "3.11.3"
  }
 },
 "nbformat": 4,
 "nbformat_minor": 5
}
