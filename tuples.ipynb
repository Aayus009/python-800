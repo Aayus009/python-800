{
 "cells": [
  {
   "cell_type": "markdown",
   "id": "a024580c",
   "metadata": {},
   "source": [
    "# tuples"
   ]
  },
  {
   "cell_type": "markdown",
   "id": "8623a4ee",
   "metadata": {},
   "source": [
    "* collection of item under one variable name\n",
    "* items are placed inside round bracket() seperated by coma\n",
    "* allows duplicate\n",
    "* immutable"
   ]
  },
  {
   "cell_type": "code",
   "execution_count": 3,
   "id": "491ae8bb",
   "metadata": {},
   "outputs": [
    {
     "data": {
      "text/plain": [
       "tuple"
      ]
     },
     "execution_count": 3,
     "metadata": {},
     "output_type": "execute_result"
    }
   ],
   "source": [
    "# empty tuple\n",
    "fruits= tuple()\n",
    "type(fruits)"
   ]
  },
  {
   "cell_type": "code",
   "execution_count": 4,
   "id": "75facf26",
   "metadata": {},
   "outputs": [
    {
     "data": {
      "text/plain": [
       "tuple"
      ]
     },
     "execution_count": 4,
     "metadata": {},
     "output_type": "execute_result"
    }
   ],
   "source": [
    "# empty tuple\n",
    "friends=()\n",
    "type(friends)"
   ]
  },
  {
   "cell_type": "markdown",
   "id": "5e7dea8b",
   "metadata": {},
   "source": [
    "# create a tuple of cities in nepal"
   ]
  },
  {
   "cell_type": "code",
   "execution_count": 5,
   "id": "9ac7be76",
   "metadata": {},
   "outputs": [
    {
     "data": {
      "text/plain": [
       "tuple"
      ]
     },
     "execution_count": 5,
     "metadata": {},
     "output_type": "execute_result"
    }
   ],
   "source": [
    "city = ('kathmandu','bhakatapur','lalitpur','dharan','bharatpur')\n",
    "type(city)\n"
   ]
  },
  {
   "cell_type": "markdown",
   "id": "a76fd746",
   "metadata": {},
   "source": [
    "# indexing"
   ]
  },
  {
   "cell_type": "code",
   "execution_count": 6,
   "id": "2306715c",
   "metadata": {},
   "outputs": [
    {
     "data": {
      "text/plain": [
       "'dharan'"
      ]
     },
     "execution_count": 6,
     "metadata": {},
     "output_type": "execute_result"
    }
   ],
   "source": [
    "city[3]"
   ]
  },
  {
   "cell_type": "code",
   "execution_count": 7,
   "id": "a5dc3e7c",
   "metadata": {},
   "outputs": [
    {
     "data": {
      "text/plain": [
       "'dharan'"
      ]
     },
     "execution_count": 7,
     "metadata": {},
     "output_type": "execute_result"
    }
   ],
   "source": [
    "city[-2]"
   ]
  },
  {
   "cell_type": "code",
   "execution_count": 8,
   "id": "5ea7c2c5",
   "metadata": {},
   "outputs": [
    {
     "data": {
      "text/plain": [
       "('lalitpur', 'dharan')"
      ]
     },
     "execution_count": 8,
     "metadata": {},
     "output_type": "execute_result"
    }
   ],
   "source": [
    "city[2:4]"
   ]
  },
  {
   "cell_type": "code",
   "execution_count": 9,
   "id": "fdd3d3f8",
   "metadata": {},
   "outputs": [
    {
     "data": {
      "text/plain": [
       "('dharan', 'bharatpur')"
      ]
     },
     "execution_count": 9,
     "metadata": {},
     "output_type": "execute_result"
    }
   ],
   "source": [
    "city[3:5]"
   ]
  },
  {
   "cell_type": "markdown",
   "id": "6c484e49",
   "metadata": {},
   "source": [
    "# calculate mean "
   ]
  },
  {
   "cell_type": "code",
   "execution_count": 10,
   "id": "092653e8",
   "metadata": {},
   "outputs": [],
   "source": [
    "data= (2,4,6,8,12)"
   ]
  },
  {
   "cell_type": "code",
   "execution_count": 14,
   "id": "45f9befd",
   "metadata": {},
   "outputs": [
    {
     "name": "stdout",
     "output_type": "stream",
     "text": [
      "0.5\n",
      "1.5\n",
      "3.0\n",
      "6.0\n"
     ]
    }
   ],
   "source": [
    "total=0\n",
    "for item in data:\n",
    "    total =total+item\n",
    "    mean = total/len(data)\n",
    "    print(mean)"
   ]
  },
  {
   "cell_type": "markdown",
   "id": "da30fd17",
   "metadata": {},
   "source": [
    "# tuple is immutable"
   ]
  },
  {
   "cell_type": "code",
   "execution_count": 24,
   "id": "99d174f3",
   "metadata": {},
   "outputs": [],
   "source": [
    "cars =('bmw','tesla','mercedes')"
   ]
  },
  {
   "cell_type": "code",
   "execution_count": 25,
   "id": "86030dbd",
   "metadata": {},
   "outputs": [
    {
     "data": {
      "text/plain": [
       "'tesla'"
      ]
     },
     "execution_count": 25,
     "metadata": {},
     "output_type": "execute_result"
    }
   ],
   "source": [
    "cars[1]\n"
   ]
  },
  {
   "cell_type": "code",
   "execution_count": 26,
   "id": "37ce77d4",
   "metadata": {},
   "outputs": [
    {
     "ename": "TypeError",
     "evalue": "'tuple' object does not support item assignment",
     "output_type": "error",
     "traceback": [
      "\u001b[1;31m---------------------------------------------------------------------------\u001b[0m",
      "\u001b[1;31mTypeError\u001b[0m                                 Traceback (most recent call last)",
      "Cell \u001b[1;32mIn[26], line 1\u001b[0m\n\u001b[1;32m----> 1\u001b[0m \u001b[43mcars\u001b[49m\u001b[43m[\u001b[49m\u001b[38;5;241;43m1\u001b[39;49m\u001b[43m]\u001b[49m \u001b[38;5;241m=\u001b[39m\u001b[38;5;124m'\u001b[39m\u001b[38;5;124mtata\u001b[39m\u001b[38;5;124m'\u001b[39m\n",
      "\u001b[1;31mTypeError\u001b[0m: 'tuple' object does not support item assignment"
     ]
    }
   ],
   "source": [
    "cars[1] ='tata'"
   ]
  },
  {
   "cell_type": "code",
   "execution_count": 30,
   "id": "dad583e1",
   "metadata": {},
   "outputs": [],
   "source": [
    "cars=['tesla','bmw','mercedes']# list are muutable"
   ]
  },
  {
   "cell_type": "code",
   "execution_count": 31,
   "id": "ad6f0eb1",
   "metadata": {},
   "outputs": [
    {
     "data": {
      "text/plain": [
       "'bmw'"
      ]
     },
     "execution_count": 31,
     "metadata": {},
     "output_type": "execute_result"
    }
   ],
   "source": [
    "cars[1]"
   ]
  },
  {
   "cell_type": "code",
   "execution_count": 33,
   "id": "5552e928",
   "metadata": {},
   "outputs": [],
   "source": [
    "cars[1] ='tata'"
   ]
  },
  {
   "cell_type": "code",
   "execution_count": 34,
   "id": "f6624a20",
   "metadata": {},
   "outputs": [
    {
     "data": {
      "text/plain": [
       "['tesla', 'tata', 'mercedes']"
      ]
     },
     "execution_count": 34,
     "metadata": {},
     "output_type": "execute_result"
    }
   ],
   "source": [
    "cars"
   ]
  },
  {
   "cell_type": "markdown",
   "id": "a3524669",
   "metadata": {},
   "source": [
    "# Type catsting"
   ]
  },
  {
   "cell_type": "code",
   "execution_count": 43,
   "id": "84ab2768",
   "metadata": {},
   "outputs": [
    {
     "data": {
      "text/plain": [
       "tuple"
      ]
     },
     "execution_count": 43,
     "metadata": {},
     "output_type": "execute_result"
    }
   ],
   "source": [
    "cars=('tesla','bmw','mercedes')\n",
    "type(cars)"
   ]
  },
  {
   "cell_type": "code",
   "execution_count": 44,
   "id": "dd059c65",
   "metadata": {},
   "outputs": [
    {
     "data": {
      "text/plain": [
       "list"
      ]
     },
     "execution_count": 44,
     "metadata": {},
     "output_type": "execute_result"
    }
   ],
   "source": [
    "cars =list(cars)\n",
    "type(cars)"
   ]
  },
  {
   "cell_type": "code",
   "execution_count": 45,
   "id": "4378d3ca",
   "metadata": {},
   "outputs": [],
   "source": [
    "cars.append(\"lamvo\")"
   ]
  },
  {
   "cell_type": "code",
   "execution_count": 39,
   "id": "2b2f8235",
   "metadata": {},
   "outputs": [
    {
     "data": {
      "text/plain": [
       "['tesla', 'bmw', 'mercedes', 'lamvo']"
      ]
     },
     "execution_count": 39,
     "metadata": {},
     "output_type": "execute_result"
    }
   ],
   "source": [
    "cars"
   ]
  },
  {
   "cell_type": "code",
   "execution_count": 40,
   "id": "4b9ceffd",
   "metadata": {},
   "outputs": [
    {
     "data": {
      "text/plain": [
       "['tesla', 'bmw', 'mercedes', 'lamvo']"
      ]
     },
     "execution_count": 40,
     "metadata": {},
     "output_type": "execute_result"
    }
   ],
   "source": [
    "cars"
   ]
  },
  {
   "cell_type": "code",
   "execution_count": 41,
   "id": "3a49149f",
   "metadata": {},
   "outputs": [],
   "source": [
    "cars= tuple(cars)"
   ]
  },
  {
   "cell_type": "code",
   "execution_count": 42,
   "id": "ddfaad19",
   "metadata": {},
   "outputs": [
    {
     "data": {
      "text/plain": [
       "('tesla', 'bmw', 'mercedes', 'lamvo')"
      ]
     },
     "execution_count": 42,
     "metadata": {},
     "output_type": "execute_result"
    }
   ],
   "source": [
    "cars"
   ]
  },
  {
   "cell_type": "markdown",
   "id": "d0f771ed",
   "metadata": {},
   "source": [
    "# tuple unpacking"
   ]
  },
  {
   "cell_type": "code",
   "execution_count": 46,
   "id": "134f939c",
   "metadata": {},
   "outputs": [
    {
     "data": {
      "text/plain": [
       "'hello'"
      ]
     },
     "execution_count": 46,
     "metadata": {},
     "output_type": "execute_result"
    }
   ],
   "source": [
    "a ,b=('hello','sakar')\n",
    "a"
   ]
  },
  {
   "cell_type": "code",
   "execution_count": 47,
   "id": "11a6cfb0",
   "metadata": {},
   "outputs": [
    {
     "data": {
      "text/plain": [
       "'sakar'"
      ]
     },
     "execution_count": 47,
     "metadata": {},
     "output_type": "execute_result"
    }
   ],
   "source": [
    "b"
   ]
  },
  {
   "cell_type": "code",
   "execution_count": 50,
   "id": "6dd21cad",
   "metadata": {},
   "outputs": [],
   "source": [
    "a, b, c =('hello','sakar','kalu don')"
   ]
  },
  {
   "cell_type": "code",
   "execution_count": 51,
   "id": "ff8f8321",
   "metadata": {},
   "outputs": [],
   "source": [
    "# list is a coollection wehich is ordered and changable. allows duplicate members."
   ]
  },
  {
   "cell_type": "code",
   "execution_count": 52,
   "id": "0060afb1",
   "metadata": {},
   "outputs": [],
   "source": [
    "l1 =[5,5.3,'aayus',(55,6)]"
   ]
  },
  {
   "cell_type": "code",
   "execution_count": 53,
   "id": "6371d991",
   "metadata": {},
   "outputs": [
    {
     "data": {
      "text/plain": [
       "(55, 6)"
      ]
     },
     "execution_count": 53,
     "metadata": {},
     "output_type": "execute_result"
    }
   ],
   "source": [
    "l1[3]"
   ]
  },
  {
   "cell_type": "code",
   "execution_count": 54,
   "id": "f9cf190b",
   "metadata": {},
   "outputs": [
    {
     "data": {
      "text/plain": [
       "6"
      ]
     },
     "execution_count": 54,
     "metadata": {},
     "output_type": "execute_result"
    }
   ],
   "source": [
    "l1[3][1]"
   ]
  },
  {
   "cell_type": "code",
   "execution_count": 55,
   "id": "b59f403b",
   "metadata": {},
   "outputs": [
    {
     "data": {
      "text/plain": [
       "(5, 5.3, 'aayus', (55, 6))"
      ]
     },
     "execution_count": 55,
     "metadata": {},
     "output_type": "execute_result"
    }
   ],
   "source": [
    "t1 =(5,5.3,'aayus',(55,6))\n",
    "t1"
   ]
  },
  {
   "cell_type": "code",
   "execution_count": null,
   "id": "ce244b2c",
   "metadata": {},
   "outputs": [],
   "source": []
  }
 ],
 "metadata": {
  "kernelspec": {
   "display_name": "Python 3 (ipykernel)",
   "language": "python",
   "name": "python3"
  },
  "language_info": {
   "codemirror_mode": {
    "name": "ipython",
    "version": 3
   },
   "file_extension": ".py",
   "mimetype": "text/x-python",
   "name": "python",
   "nbconvert_exporter": "python",
   "pygments_lexer": "ipython3",
   "version": "3.11.3"
  }
 },
 "nbformat": 4,
 "nbformat_minor": 5
}
