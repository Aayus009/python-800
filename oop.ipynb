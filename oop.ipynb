{
 "cells": [
  {
   "cell_type": "code",
   "execution_count": 1,
   "id": "11c618ca",
   "metadata": {},
   "outputs": [],
   "source": [
    "#oop(object oreinted programming language)"
   ]
  },
  {
   "cell_type": "markdown",
   "id": "65b75906",
   "metadata": {},
   "source": [
    " concepts of oop:\n",
    " <img src=https://static.javatpoint.com/images/java-oops.png>"
   ]
  },
  {
   "cell_type": "code",
   "execution_count": 2,
   "id": "0d053389",
   "metadata": {},
   "outputs": [],
   "source": [
    "s ='hello'\n",
    "print(type(s))"
   ]
  },
  {
   "cell_type": "markdown",
   "id": "9d971bd8",
   "metadata": {},
   "source": [
    "# Python class"
   ]
  },
  {
   "cell_type": "code",
   "execution_count": null,
   "id": "9f53dc16",
   "metadata": {},
   "outputs": [],
   "source": [
    "# creating empty class\n",
    "class Mammal:\n",
    "    pass"
   ]
  },
  {
   "cell_type": "code",
   "execution_count": null,
   "id": "e460b51b",
   "metadata": {},
   "outputs": [],
   "source": [
    "# creating empty class of person\n",
    "class Person:\n",
    "    pass"
   ]
  },
  {
   "cell_type": "markdown",
   "id": "d9f555af",
   "metadata": {},
   "source": [
    "# creating object from class"
   ]
  },
  {
   "cell_type": "code",
   "execution_count": null,
   "id": "fe1ca6ce",
   "metadata": {},
   "outputs": [
    {
     "name": "stdout",
     "output_type": "stream",
     "text": [
      "<class '__main__.Mammal'>\n"
     ]
    }
   ],
   "source": [
    "class Mammal:\n",
    "    pass\n",
    "human= Mammal()\n",
    "print(type(human))"
   ]
  },
  {
   "cell_type": "code",
   "execution_count": null,
   "id": "149ffc58",
   "metadata": {},
   "outputs": [
    {
     "name": "stdout",
     "output_type": "stream",
     "text": [
      "<class '__main__.Mammal'>\n"
     ]
    }
   ],
   "source": [
    "class Mammal:\n",
    "    pass \n",
    "\n",
    "if __name__ =='__main__': # entry point of python code\n",
    "    human = Mammal()\n",
    "    print(type(human))"
   ]
  },
  {
   "cell_type": "code",
   "execution_count": null,
   "id": "1b464840",
   "metadata": {},
   "outputs": [],
   "source": [
    "# Creating maultiple object from a class"
   ]
  },
  {
   "cell_type": "code",
   "execution_count": 8,
   "id": "835d1b90",
   "metadata": {},
   "outputs": [],
   "source": [
    "class Mammal:\n",
    "    pass\n",
    "human = Mammal() # human is one object of Mammal class\n",
    "cow = Mammal()# cow is another object of Mammal class\n",
    "dog = Mammal()# dog is another object of Mammal class\n"
   ]
  },
  {
   "cell_type": "markdown",
   "id": "4ff359ef",
   "metadata": {},
   "source": [
    "# class vs object\n",
    "* class is a blueprint to create an object\n",
    "* an object is a instance of a class"
   ]
  },
  {
   "cell_type": "markdown",
   "id": "29d78a01",
   "metadata": {},
   "source": [
    "# class attribute vs object attribute"
   ]
  },
  {
   "cell_type": "code",
   "execution_count": 9,
   "id": "e56e0645",
   "metadata": {},
   "outputs": [],
   "source": [
    "class Mammal:\n",
    "    has_hair = True  #class attribute\n",
    "    no_of_eyes = 2"
   ]
  },
  {
   "cell_type": "code",
   "execution_count": 10,
   "id": "1b538e13",
   "metadata": {},
   "outputs": [],
   "source": [
    "human =Mammal()"
   ]
  },
  {
   "cell_type": "code",
   "execution_count": 11,
   "id": "c83ada75",
   "metadata": {},
   "outputs": [
    {
     "data": {
      "text/plain": [
       "True"
      ]
     },
     "execution_count": 11,
     "metadata": {},
     "output_type": "execute_result"
    }
   ],
   "source": [
    "human.has_hair"
   ]
  },
  {
   "cell_type": "code",
   "execution_count": 12,
   "id": "fd319afa",
   "metadata": {},
   "outputs": [
    {
     "data": {
      "text/plain": [
       "True"
      ]
     },
     "execution_count": 12,
     "metadata": {},
     "output_type": "execute_result"
    }
   ],
   "source": [
    "cow =Mammal()\n",
    "cow.has_hair"
   ]
  },
  {
   "cell_type": "code",
   "execution_count": 13,
   "id": "8d314523",
   "metadata": {},
   "outputs": [
    {
     "data": {
      "text/plain": [
       "2"
      ]
     },
     "execution_count": 13,
     "metadata": {},
     "output_type": "execute_result"
    }
   ],
   "source": [
    "human.no_of_eyes"
   ]
  },
  {
   "cell_type": "code",
   "execution_count": 14,
   "id": "390eff7c",
   "metadata": {},
   "outputs": [],
   "source": [
    "# class atribute is same for all class"
   ]
  },
  {
   "cell_type": "markdown",
   "id": "cc2e9a90",
   "metadata": {},
   "source": [
    "# Initilizing object attribute"
   ]
  },
  {
   "cell_type": "code",
   "execution_count": 15,
   "id": "973ab09c",
   "metadata": {},
   "outputs": [],
   "source": [
    "class Mammal:\n",
    "    has_hair = True\n",
    "    \n",
    "    def __init__(self): # initilizes object attribute\n",
    "        pass"
   ]
  },
  {
   "cell_type": "markdown",
   "id": "89e51b47",
   "metadata": {},
   "source": [
    "# Initilize no_of_legs as object attribute"
   ]
  },
  {
   "cell_type": "code",
   "execution_count": 16,
   "id": "1d2d26e2",
   "metadata": {},
   "outputs": [],
   "source": [
    "class Mammal:\n",
    "    has_hair = True\n",
    "    \n",
    "    def __init__(self, no_of_legs):\n",
    "        self.no_of_legs = no_of_legs\n",
    "        "
   ]
  },
  {
   "cell_type": "code",
   "execution_count": 17,
   "id": "b2fe4e89",
   "metadata": {},
   "outputs": [
    {
     "ename": "TypeError",
     "evalue": "Mammal.__init__() missing 1 required positional argument: 'no_of_legs'",
     "output_type": "error",
     "traceback": [
      "\u001b[1;31m---------------------------------------------------------------------------\u001b[0m",
      "\u001b[1;31mTypeError\u001b[0m                                 Traceback (most recent call last)",
      "Cell \u001b[1;32mIn[17], line 1\u001b[0m\n\u001b[1;32m----> 1\u001b[0m human \u001b[38;5;241m=\u001b[39m \u001b[43mMammal\u001b[49m\u001b[43m(\u001b[49m\u001b[43m)\u001b[49m \u001b[38;5;66;03m#yo init ma lakhna paunna\u001b[39;00m\n",
      "\u001b[1;31mTypeError\u001b[0m: Mammal.__init__() missing 1 required positional argument: 'no_of_legs'"
     ]
    }
   ],
   "source": [
    "human = Mammal() #yo init ma lakhna paunna"
   ]
  },
  {
   "cell_type": "code",
   "execution_count": null,
   "id": "0c6bc641",
   "metadata": {},
   "outputs": [],
   "source": [
    "human = Mammal(no_of_legs = 2)"
   ]
  },
  {
   "cell_type": "code",
   "execution_count": null,
   "id": "77ef6505",
   "metadata": {},
   "outputs": [],
   "source": [
    "human.has_hair"
   ]
  },
  {
   "cell_type": "code",
   "execution_count": null,
   "id": "4bbe4198",
   "metadata": {},
   "outputs": [],
   "source": [
    "human.no_of_legs"
   ]
  },
  {
   "cell_type": "code",
   "execution_count": null,
   "id": "2c46f12a",
   "metadata": {},
   "outputs": [],
   "source": [
    "cow =Mammal(no_of_legs=4)\n",
    "cow.has_hair"
   ]
  },
  {
   "cell_type": "code",
   "execution_count": null,
   "id": "fbbaefa3",
   "metadata": {},
   "outputs": [],
   "source": [
    "cow.no_of_legs"
   ]
  },
  {
   "cell_type": "code",
   "execution_count": null,
   "id": "04e48753",
   "metadata": {},
   "outputs": [],
   "source": [
    "#what is self?"
   ]
  },
  {
   "cell_type": "code",
   "execution_count": null,
   "id": "6322cb92",
   "metadata": {},
   "outputs": [],
   "source": [
    "class Mammal:\n",
    "    def __init__(self):# __init__initilize abject attribute\n",
    "        print(type(self))# self is an object"
   ]
  },
  {
   "cell_type": "code",
   "execution_count": null,
   "id": "38ddf29c",
   "metadata": {},
   "outputs": [],
   "source": [
    "cow =Mammal()"
   ]
  },
  {
   "cell_type": "code",
   "execution_count": null,
   "id": "4183a45a",
   "metadata": {},
   "outputs": [],
   "source": [
    "print(type(cow))"
   ]
  },
  {
   "cell_type": "markdown",
   "id": "25673104",
   "metadata": {},
   "source": [
    " *   The self parameter is a reference to the current instance of the class, and is used to access variablse that\n",
    "    belongs to the class.\n",
    " * It doesnot have to be named self, you can call it qhatever you like , but it has to be the first parameter of any\n",
    "function in the class:\n",
    " *  All classes have a function called ` __init__()`,which is always executed when the class is being initiated.\n",
    "    *Use the`__init__()` function to assign values to object properties, or ther operations that are necessary to do when the object is being \n",
    "    created:"
   ]
  },
  {
   "cell_type": "code",
   "execution_count": null,
   "id": "18cd934e",
   "metadata": {},
   "outputs": [],
   "source": [
    "class Person:\n",
    "    def __init__(self,name,age):\n",
    "        self.name = name\n",
    "        self.age =age\n",
    "        \n",
    "p1 =Person('kshitiz', 24)\n",
    "print(p1.name)\n",
    "print(p1.age)"
   ]
  },
  {
   "cell_type": "markdown",
   "id": "81018d6c",
   "metadata": {},
   "source": [
    " # a constructor is a method which creates the object itself.in Python,this method is __new__()\n",
    "__new__(cls,*args,**kwargs)# kwargs-dict,args-tuple ma lagxa\n",
    "\n",
    "* __new__()and __init__() work together in constructing objects(__new__() to create it, and __init__() to customized it)."
   ]
  },
  {
   "cell_type": "markdown",
   "id": "f4cdbeca",
   "metadata": {},
   "source": [
    "# init() should return None"
   ]
  },
  {
   "cell_type": "code",
   "execution_count": null,
   "id": "b9ce093e",
   "metadata": {},
   "outputs": [],
   "source": [
    "class person:\n",
    "    def ___init__(self):\n",
    "        return 5"
   ]
  },
  {
   "cell_type": "code",
   "execution_count": null,
   "id": "bf4325a6",
   "metadata": {},
   "outputs": [],
   "source": [
    "Person()"
   ]
  },
  {
   "cell_type": "markdown",
   "id": "e54fabe7",
   "metadata": {},
   "source": [
    "# User defined function in class"
   ]
  },
  {
   "cell_type": "code",
   "execution_count": null,
   "id": "64811c84",
   "metadata": {},
   "outputs": [],
   "source": [
    "import math\n",
    "class Circle:\n",
    "    def __init__ (self, radius):\n",
    "        self.radius = radius\n",
    "        \n",
    "    def area(self):\n",
    "        return math.pi * self.radius **2"
   ]
  },
  {
   "cell_type": "code",
   "execution_count": null,
   "id": "80d5a6ab",
   "metadata": {},
   "outputs": [],
   "source": [
    "c1 =Circle(radius = 5)"
   ]
  },
  {
   "cell_type": "code",
   "execution_count": null,
   "id": "11ce9a9b",
   "metadata": {},
   "outputs": [],
   "source": [
    "c1.area()"
   ]
  },
  {
   "cell_type": "code",
   "execution_count": null,
   "id": "a1ae55bc",
   "metadata": {},
   "outputs": [],
   "source": [
    "c2 =Circle(radius = 9)\n",
    "c2.area()"
   ]
  },
  {
   "cell_type": "markdown",
   "id": "b6915ce5",
   "metadata": {},
   "source": [
    "# Calculate the peremiter and area"
   ]
  },
  {
   "cell_type": "code",
   "execution_count": 18,
   "id": "6707190b",
   "metadata": {},
   "outputs": [],
   "source": [
    "import math\n",
    "class rectangle:\n",
    "    def __init__ (self,length,breadth):\n",
    "        self.length = length\n",
    "        self.breadth = breadth\n",
    "    \n",
    "    \n",
    "    def area(self):\n",
    "        return 2*(self.length + self.breadth)\n",
    "    def perimeter(self):\n",
    "        return self.length * self.breadth"
   ]
  },
  {
   "cell_type": "code",
   "execution_count": 19,
   "id": "eaeee073",
   "metadata": {},
   "outputs": [],
   "source": [
    "p1 = rectangle(2,4)"
   ]
  },
  {
   "cell_type": "code",
   "execution_count": 20,
   "id": "ff4dd2ab",
   "metadata": {},
   "outputs": [
    {
     "data": {
      "text/plain": [
       "12"
      ]
     },
     "execution_count": 20,
     "metadata": {},
     "output_type": "execute_result"
    }
   ],
   "source": [
    "p1.area()"
   ]
  },
  {
   "cell_type": "code",
   "execution_count": 21,
   "id": "767f73a0",
   "metadata": {},
   "outputs": [
    {
     "data": {
      "text/plain": [
       "8"
      ]
     },
     "execution_count": 21,
     "metadata": {},
     "output_type": "execute_result"
    }
   ],
   "source": [
    "p1.perimeter()\n"
   ]
  },
  {
   "cell_type": "markdown",
   "id": "033239e8",
   "metadata": {},
   "source": [
    "# calculate the volume of a sphere"
   ]
  },
  {
   "cell_type": "code",
   "execution_count": 3,
   "id": "e7699898",
   "metadata": {},
   "outputs": [],
   "source": [
    "import math\n",
    "class sphere:\n",
    "    def __init__ (self,radius):\n",
    "        self.radius = radius\n",
    "        \n",
    "        \n",
    "    def volume(self):\n",
    "        return 4/3 * math.pi *(self.radius) **3\n",
    "    \n",
    "        \n",
    "        "
   ]
  },
  {
   "cell_type": "code",
   "execution_count": 6,
   "id": "7104704d",
   "metadata": {},
   "outputs": [
    {
     "data": {
      "text/plain": [
       "33.510321638291124"
      ]
     },
     "execution_count": 6,
     "metadata": {},
     "output_type": "execute_result"
    }
   ],
   "source": [
    "v1 = sphere(2)\n",
    "v1.volume()"
   ]
  },
  {
   "cell_type": "code",
   "execution_count": null,
   "id": "415836c4",
   "metadata": {},
   "outputs": [],
   "source": []
  },
  {
   "cell_type": "code",
   "execution_count": null,
   "id": "6d5e4d41",
   "metadata": {},
   "outputs": [],
   "source": []
  },
  {
   "cell_type": "code",
   "execution_count": null,
   "id": "71ce07d2",
   "metadata": {},
   "outputs": [],
   "source": []
  }
 ],
 "metadata": {
  "kernelspec": {
   "display_name": "Python 3 (ipykernel)",
   "language": "python",
   "name": "python3"
  },
  "language_info": {
   "codemirror_mode": {
    "name": "ipython",
    "version": 3
   },
   "file_extension": ".py",
   "mimetype": "text/x-python",
   "name": "python",
   "nbconvert_exporter": "python",
   "pygments_lexer": "ipython3",
   "version": "3.11.3"
  }
 },
 "nbformat": 4,
 "nbformat_minor": 5
}
