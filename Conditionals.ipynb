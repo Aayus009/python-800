{
 "cells": [
  {
   "cell_type": "code",
   "execution_count": 1,
   "id": "e3519975",
   "metadata": {},
   "outputs": [
    {
     "name": "stdout",
     "output_type": "stream",
     "text": [
      "enter any number: 3\n"
     ]
    },
    {
     "data": {
      "text/plain": [
       "1"
      ]
     },
     "execution_count": 1,
     "metadata": {},
     "output_type": "execute_result"
    }
   ],
   "source": [
    "number = int(input(\"enter any number: \"))\n",
    "rem = number % 2\n",
    "rem"
   ]
  },
  {
   "cell_type": "markdown",
   "id": "aca21618",
   "metadata": {},
   "source": [
    "# Comparison operator"
   ]
  },
  {
   "cell_type": "code",
   "execution_count": 2,
   "id": "f1c4a348",
   "metadata": {},
   "outputs": [
    {
     "data": {
      "text/plain": [
       "True"
      ]
     },
     "execution_count": 2,
     "metadata": {},
     "output_type": "execute_result"
    }
   ],
   "source": [
    "2 == 2 #equals to"
   ]
  },
  {
   "cell_type": "code",
   "execution_count": 3,
   "id": "40cb8cb3",
   "metadata": {},
   "outputs": [
    {
     "data": {
      "text/plain": [
       "False"
      ]
     },
     "execution_count": 3,
     "metadata": {},
     "output_type": "execute_result"
    }
   ],
   "source": [
    "2 < 1#less than \n"
   ]
  },
  {
   "cell_type": "code",
   "execution_count": 4,
   "id": "9fe6662d",
   "metadata": {},
   "outputs": [
    {
     "data": {
      "text/plain": [
       "True"
      ]
     },
     "execution_count": 4,
     "metadata": {},
     "output_type": "execute_result"
    }
   ],
   "source": [
    "2 > 1#greater than "
   ]
  },
  {
   "cell_type": "code",
   "execution_count": 5,
   "id": "8387971b",
   "metadata": {},
   "outputs": [
    {
     "data": {
      "text/plain": [
       "True"
      ]
     },
     "execution_count": 5,
     "metadata": {},
     "output_type": "execute_result"
    }
   ],
   "source": [
    "2 <= 6\n"
   ]
  },
  {
   "cell_type": "code",
   "execution_count": 6,
   "id": "06ef9bbf",
   "metadata": {},
   "outputs": [
    {
     "data": {
      "text/plain": [
       "False"
      ]
     },
     "execution_count": 6,
     "metadata": {},
     "output_type": "execute_result"
    }
   ],
   "source": [
    "5 >= 9"
   ]
  },
  {
   "cell_type": "code",
   "execution_count": 7,
   "id": "9e533ed0",
   "metadata": {},
   "outputs": [
    {
     "data": {
      "text/plain": [
       "True"
      ]
     },
     "execution_count": 7,
     "metadata": {},
     "output_type": "execute_result"
    }
   ],
   "source": [
    "5 != 9\n"
   ]
  },
  {
   "cell_type": "code",
   "execution_count": 8,
   "id": "5eb8505f",
   "metadata": {},
   "outputs": [
    {
     "name": "stdout",
     "output_type": "stream",
     "text": [
      "enter any number: 6\n",
      "The number is even\n"
     ]
    }
   ],
   "source": [
    "number = int(input(\"enter any number: \"))\n",
    "rem = number % 2\n",
    "if rem == 0:\n",
    "    print(\"The number is even\")\n",
    "else:\n",
    "    print(\"the number is odd\")\n",
    "    "
   ]
  },
  {
   "cell_type": "markdown",
   "id": "681d6837",
   "metadata": {},
   "source": [
    "<img src =\" https://i.ytimg.com/vi/kqajMt_wA4Y/maxresdefault.jpg\">"
   ]
  },
  {
   "cell_type": "code",
   "execution_count": 9,
   "id": "7d5e48e2",
   "metadata": {},
   "outputs": [
    {
     "name": "stdout",
     "output_type": "stream",
     "text": [
      "enter the number: 6\n",
      "the number is positive\n"
     ]
    }
   ],
   "source": [
    "#Wap to check whether the given number is positve or negative\n",
    "num_1 = int(input(\"enter the number: \"))\n",
    "if (num_1>=0):\n",
    "    print(\"the number is positive\")\n",
    "else :\n",
    "    print(\"the number is negative\")\n"
   ]
  },
  {
   "cell_type": "code",
   "execution_count": 1,
   "id": "f3ab5dfc",
   "metadata": {},
   "outputs": [
    {
     "name": "stdout",
     "output_type": "stream",
     "text": [
      "equal\n"
     ]
    }
   ],
   "source": [
    "if 10 == 10:\n",
    "    print(\"equal\")"
   ]
  },
  {
   "cell_type": "code",
   "execution_count": null,
   "id": "a3565fc9",
   "metadata": {},
   "outputs": [],
   "source": []
  }
 ],
 "metadata": {
  "kernelspec": {
   "display_name": "Python 3 (ipykernel)",
   "language": "python",
   "name": "python3"
  },
  "language_info": {
   "codemirror_mode": {
    "name": "ipython",
    "version": 3
   },
   "file_extension": ".py",
   "mimetype": "text/x-python",
   "name": "python",
   "nbconvert_exporter": "python",
   "pygments_lexer": "ipython3",
   "version": "3.11.3"
  }
 },
 "nbformat": 4,
 "nbformat_minor": 5
}
