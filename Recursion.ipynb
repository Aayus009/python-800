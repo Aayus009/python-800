{
 "cells": [
  {
   "cell_type": "markdown",
   "id": "2211df01",
   "metadata": {},
   "source": [
    "# Recursion - a function that calls itself"
   ]
  },
  {
   "cell_type": "code",
   "execution_count": null,
   "id": "c7637876",
   "metadata": {},
   "outputs": [],
   "source": [
    "def test():\n",
    "    test()"
   ]
  },
  {
   "cell_type": "code",
   "execution_count": null,
   "id": "2baf2f16",
   "metadata": {},
   "outputs": [],
   "source": [
    "test()"
   ]
  },
  {
   "cell_type": "code",
   "execution_count": 1,
   "id": "e4d93ce8",
   "metadata": {},
   "outputs": [],
   "source": [
    "def factorial(num):\n",
    "    if num < 0:\n",
    "        return 0\n",
    "    if num == 0 or num == 1:\n",
    "        return 1\n",
    "    else: \n",
    "        return num * factorial(num-1)"
   ]
  },
  {
   "cell_type": "code",
   "execution_count": 2,
   "id": "55c8a7d1",
   "metadata": {},
   "outputs": [
    {
     "data": {
      "text/plain": [
       "120"
      ]
     },
     "execution_count": 2,
     "metadata": {},
     "output_type": "execute_result"
    }
   ],
   "source": [
    "factorial(5)"
   ]
  },
  {
   "cell_type": "code",
   "execution_count": 5,
   "id": "94a02f84",
   "metadata": {},
   "outputs": [
    {
     "data": {
      "text/plain": [
       "815915283247897734345611269596115894272000000000"
      ]
     },
     "execution_count": 5,
     "metadata": {},
     "output_type": "execute_result"
    }
   ],
   "source": [
    "factorial(40)"
   ]
  },
  {
   "cell_type": "markdown",
   "id": "13930097",
   "metadata": {},
   "source": [
    " # Recursion Tree"
   ]
  },
  {
   "cell_type": "markdown",
   "id": "38c66550",
   "metadata": {},
   "source": [
    "<img src =\"https://copingwithcomputers.files.wordpress.com/2013/11/factorialrecursion-e1384837049546.png\">"
   ]
  },
  {
   "cell_type": "markdown",
   "id": "030d3602",
   "metadata": {},
   "source": []
  },
  {
   "cell_type": "markdown",
   "id": "45c03d4b",
   "metadata": {},
   "source": [
    "# advantages of recursion\n",
    "* recursion functions make the code look clean and elegant\n",
    "* A complex task cna be broken down into simpler sub - problem"
   ]
  },
  {
   "cell_type": "code",
   "execution_count": null,
   "id": "d6f78ae7",
   "metadata": {},
   "outputs": [],
   "source": []
  }
 ],
 "metadata": {
  "kernelspec": {
   "display_name": "Python 3 (ipykernel)",
   "language": "python",
   "name": "python3"
  },
  "language_info": {
   "codemirror_mode": {
    "name": "ipython",
    "version": 3
   },
   "file_extension": ".py",
   "mimetype": "text/x-python",
   "name": "python",
   "nbconvert_exporter": "python",
   "pygments_lexer": "ipython3",
   "version": "3.11.3"
  }
 },
 "nbformat": 4,
 "nbformat_minor": 5
}
